{
 "cells": [
  {
   "cell_type": "markdown",
   "metadata": {},
   "source": [
    "# Estimation\n",
    "\n",
    "## Linear Model\n",
    "\n",
    "Suppose a reponse $Y$ and three predictors $X_1, X_2, and X_3$ A general form of such model would be:\n",
    "\n",
    "\n",
    "<p>&nbsp;</p>\n",
    "\\begin{split}\n",
    "Y = f(x_1, X_2, X_3) + \\epsilon \n",
    "\\end{split}\n",
    "<p>&nbsp;</p>\n",
    "\n",
    "where $f$ is some unknown function and $\\epsilon$ is the error in this representation. If we assume a more restricted form for the function such as the linear, then:\n",
    "\n",
    "<p>&nbsp;</p>\n",
    "\\begin{split}\n",
    "Y = \\beta_0 + \\beta_1 x_1 + \\beta_2 X_2 + \\beta_3 X_3 + \\epsilon \n",
    "\\end{split}\n",
    "<p>&nbsp;</p>\n",
    "\n",
    "where $\\beta_i, i= 0,1,2,3$ are unknown parameters. $\\beta_0$ is the intercept. In linear model the *parameter enter linearly*, the predictors do not need to be linear themselves\n",
    "\n",
    "\n",
    "### Matrix representation\n",
    "\n",
    "Using the matricial notation, the linear equation can be written as:\n",
    "\n",
    "<p>&nbsp;</p>\n",
    "\\begin{split}\n",
    "Y = X\\beta_0 + \\epsilon \n",
    "\\end{split}\n",
    "<p>&nbsp;</p>\n",
    "\n",
    "where $y= (y_1, ..., y_n)^T)$, $\\beta= (\\beta_1, ..., \\beta_n)^T)$, and $\\epsilon= (\\epsilon_1, ..., \\epsilon_n)^T)$ and\n",
    "\n",
    "\n",
    "<p>&nbsp;</p>\n",
    "\\begin{align*}\n",
    "X &= \\left(\\begin{array}{cc} \n",
    "1 & x_{11} & x_{12} & x_{13}\\\\\n",
    "1 & x_{21} & x_{22} & x_{23}\\\\\n",
    "... & ... & ...\\\\\n",
    "1 & x_{n1} & x_{n2} & x_{n3}\n",
    "\\end{array}\\right)\n",
    "\\end{align*}\n",
    "<p>&nbsp;</p>\n",
    "\n",
    "\n",
    "The column of ones  incorporates the intercept term. The *null model* has no predictor and just a mean $y = \\mu + \\epsilon$\n",
    "\n",
    "\n",
    "\\begin{align*}\n",
    "\\left(\\begin{array}{ccc} \n",
    "y_1 \\\\\n",
    "... \\\\\n",
    "y_n\n",
    "\\end{array}\\right)\n",
    "\\: = \\:\n",
    "\\left(\\begin{array}{ccc} \n",
    "1\\\\ \n",
    "...\\\\ \n",
    "1\n",
    "\\end{array}\\right)\n",
    "\\mu +\n",
    "\\left(\\begin{array}{ccc} \n",
    "\\epsilon_1\\\\ \n",
    "...\\\\ \n",
    "\\epsilon_n\n",
    "\\end{array}\\right)\n",
    "\\end{align*}\n",
    "<p>&nbsp;</p>\n",
    "\n",
    "The goal is to find $ \\beta $ such as $ X \\beta $ is as close to $Y$ as possible:\n",
    "\n",
    "\\begin{split}\n",
    "\\hat Y = X \\hat \\beta_0  \n",
    "\\end{split}\n",
    "<p>&nbsp;</p>\n",
    "\n",
    "where the difference between actual response and predicted response is denoted as $\\hat \\epsilon$. Thus, the model will reduce y, which is in n-dimensional space, into $p$-dimensional space (parameters + 1) leaving the random variation in an $(n-p)$-dimensional space.\n",
    "\n",
    "### Least Squares Estimation\n",
    "\n",
    "We might consider the best estimate of $ \\beta $ the one that minimizes the sum of the squared errors. Thus, the *Least squares* estimate of $ \\beta $, called $\\hat \\beta $ minimizes:\n",
    "\n",
    "<p>&nbsp;</p>\n",
    "\\begin{split}\n",
    "\\sum \\epsilon_i^2 = \\epsilon^T \\epsilon = (y - X \\beta)^T (y - X \\beta)  \n",
    "\\end{split}\n",
    "<p>&nbsp;</p>\n",
    "\n",
    "If differentiated by $\\hat \\beta$ \n",
    "\n",
    "<p>&nbsp;</p>\n",
    "\\begin{split}\n",
    "X^T X \\hat \\beta= X^T y  \n",
    "\\end{split}\n",
    "<p>&nbsp;</p>\n",
    "\n",
    "#### Geometrical approach\n",
    "\n",
    "<p>&nbsp;</p>\n",
    "\\begin{split}\n",
    "\\hat \\beta = (X^T X)^{-1} X^T y \\\\\n",
    "X\\hat \\beta = X  (X^T X)^{-1} X^T y \\\\\n",
    "\\hat y = H y\n",
    "\\end{split}\n",
    "<p>&nbsp;</p>\n",
    "\n",
    "Where $X  (X^T X)^{-1} X^T$ is called hat-matrix and is the orthogonal projection of y onto the space spanned by $X$. The residuals are given by:\n",
    "\n",
    "<p>&nbsp;</p>\n",
    "\\begin{split}\n",
    "\\hat \\epsilon = y - X \\beta = y - \\hat y =  y - \\hat y = (1 - H)y  \n",
    "\\end{split}\n",
    "<p>&nbsp;</p>\n",
    "\n",
    "The least squares estimate is the best possible estimate off $\\beta$ when the errors $\\epsilon$ are uncorrelated and have equal variance.\n",
    "\n",
    "### Examples of Calculating $\\hat \\beta$\n",
    "\n",
    "\n",
    "The simplest way to calculate $\\hat \\beta$ is:\n",
    "\n",
    "<p>&nbsp;</p>\n",
    "\\begin{split}\n",
    "\\hat \\beta = (X^TX)^{-1} X^Ty   \n",
    "\\end{split}\n",
    "<p>&nbsp;</p>\n",
    "\n",
    "### Gauss-Markov Theorem\n",
    "\n",
    "There are three good reasons to use least squares:\n",
    "1. It results from an orthogonal projection onto the model space\n",
    "2. If the errors are independent and identically normally distributed, it is the maximum likelihood estimator.\n",
    "2. The Gauss-Markov theorem states that $\\hat \\beta$ is the best unbiased estimation (BLUE)\n",
    "\n",
    "Those three reasons recommend us to use the least square estimates unless there are strong reasons to do otherwise:\n",
    "\n",
    "1. When the errors are correlated or have unequal variance\n",
    "2. When the erros distribution is long-tailed\n",
    "3. When the predictors are highly correlated (collinear), then biased estimators such ridge regression might be preferable\n",
    "\n",
    "\n",
    "### Goodness of Fit\n",
    "\n",
    "\n",
    "It is useful to have a measure of how well the model fits the data. The common choice ir $R^2$, the co-called *coeffficient of determination or percentage of variance explained*\n",
    "\n",
    "<p>&nbsp;</p>\n",
    "\\begin{split}\n",
    "R^2 = 1- \\frac{\\sum(\\hat y_i - y_i)^2}{\\sum(y_i -  \\bar y_i)^2}   \n",
    "\\end{split}\n",
    "<p>&nbsp;</p>\n",
    "\n",
    "For simple regression $R²=r²$\n",
    "\n",
    "<p>&nbsp;</p>\n",
    "\\begin{split}\n",
    "R^2 = \\frac{\\sum(\\hat y_i - \\bar y_i)^2}{\\sum(y_i -  \\bar y_i)^2}   \n",
    "\\end{split}\n",
    "<p>&nbsp;</p>\n",
    "\n",
    "How much the predited values of y is departuring from the mean in comparison to the observed values.\n",
    "\n",
    "### Example\n",
    "\n",
    "Galapagos Island; 30 cases and seven variable in the dataset. The variables are:\n",
    "\n",
    "species = species of tortoise\n",
    "endemics = number of species that are endemic\n",
    "area = the area of the island (km2)\n",
    "Elevation = highest elevation of the island (m)\n",
    "Nearest = distance from the nearest island (km)\n",
    "scruz = distance from the Santa Cruz Island (km)\n",
    "Adjacent = the area of the adjacent island"
   ]
  },
  {
   "cell_type": "code",
   "execution_count": 1,
   "metadata": {},
   "outputs": [],
   "source": [
    "library(faraway)\n",
    "data(gala)\n",
    "options(digits=3)"
   ]
  },
  {
   "cell_type": "code",
   "execution_count": 3,
   "metadata": {},
   "outputs": [
    {
     "data": {
      "text/html": [
       "<table>\n",
       "<caption>A data.frame: 6 × 7</caption>\n",
       "<thead>\n",
       "\t<tr><th></th><th scope=col>Species</th><th scope=col>Endemics</th><th scope=col>Area</th><th scope=col>Elevation</th><th scope=col>Nearest</th><th scope=col>Scruz</th><th scope=col>Adjacent</th></tr>\n",
       "\t<tr><th></th><th scope=col>&lt;dbl&gt;</th><th scope=col>&lt;dbl&gt;</th><th scope=col>&lt;dbl&gt;</th><th scope=col>&lt;dbl&gt;</th><th scope=col>&lt;dbl&gt;</th><th scope=col>&lt;dbl&gt;</th><th scope=col>&lt;dbl&gt;</th></tr>\n",
       "</thead>\n",
       "<tbody>\n",
       "\t<tr><th scope=row>Baltra</th><td>58</td><td>23</td><td>25.09</td><td>346</td><td>0.6</td><td> 0.6</td><td>  1.84</td></tr>\n",
       "\t<tr><th scope=row>Bartolome</th><td>31</td><td>21</td><td> 1.24</td><td>109</td><td>0.6</td><td>26.3</td><td>572.33</td></tr>\n",
       "\t<tr><th scope=row>Caldwell</th><td> 3</td><td> 3</td><td> 0.21</td><td>114</td><td>2.8</td><td>58.7</td><td>  0.78</td></tr>\n",
       "\t<tr><th scope=row>Champion</th><td>25</td><td> 9</td><td> 0.10</td><td> 46</td><td>1.9</td><td>47.4</td><td>  0.18</td></tr>\n",
       "\t<tr><th scope=row>Coamano</th><td> 2</td><td> 1</td><td> 0.05</td><td> 77</td><td>1.9</td><td> 1.9</td><td>903.82</td></tr>\n",
       "\t<tr><th scope=row>Daphne.Major</th><td>18</td><td>11</td><td> 0.34</td><td>119</td><td>8.0</td><td> 8.0</td><td>  1.84</td></tr>\n",
       "</tbody>\n",
       "</table>\n"
      ],
      "text/latex": [
       "A data.frame: 6 × 7\n",
       "\\begin{tabular}{r|lllllll}\n",
       "  & Species & Endemics & Area & Elevation & Nearest & Scruz & Adjacent\\\\\n",
       "  & <dbl> & <dbl> & <dbl> & <dbl> & <dbl> & <dbl> & <dbl>\\\\\n",
       "\\hline\n",
       "\tBaltra & 58 & 23 & 25.09 & 346 & 0.6 &  0.6 &   1.84\\\\\n",
       "\tBartolome & 31 & 21 &  1.24 & 109 & 0.6 & 26.3 & 572.33\\\\\n",
       "\tCaldwell &  3 &  3 &  0.21 & 114 & 2.8 & 58.7 &   0.78\\\\\n",
       "\tChampion & 25 &  9 &  0.10 &  46 & 1.9 & 47.4 &   0.18\\\\\n",
       "\tCoamano &  2 &  1 &  0.05 &  77 & 1.9 &  1.9 & 903.82\\\\\n",
       "\tDaphne.Major & 18 & 11 &  0.34 & 119 & 8.0 &  8.0 &   1.84\\\\\n",
       "\\end{tabular}\n"
      ],
      "text/markdown": [
       "\n",
       "A data.frame: 6 × 7\n",
       "\n",
       "| <!--/--> | Species &lt;dbl&gt; | Endemics &lt;dbl&gt; | Area &lt;dbl&gt; | Elevation &lt;dbl&gt; | Nearest &lt;dbl&gt; | Scruz &lt;dbl&gt; | Adjacent &lt;dbl&gt; |\n",
       "|---|---|---|---|---|---|---|---|\n",
       "| Baltra | 58 | 23 | 25.09 | 346 | 0.6 |  0.6 |   1.84 |\n",
       "| Bartolome | 31 | 21 |  1.24 | 109 | 0.6 | 26.3 | 572.33 |\n",
       "| Caldwell |  3 |  3 |  0.21 | 114 | 2.8 | 58.7 |   0.78 |\n",
       "| Champion | 25 |  9 |  0.10 |  46 | 1.9 | 47.4 |   0.18 |\n",
       "| Coamano |  2 |  1 |  0.05 |  77 | 1.9 |  1.9 | 903.82 |\n",
       "| Daphne.Major | 18 | 11 |  0.34 | 119 | 8.0 |  8.0 |   1.84 |\n",
       "\n"
      ],
      "text/plain": [
       "             Species Endemics Area  Elevation Nearest Scruz Adjacent\n",
       "Baltra       58      23       25.09 346       0.6      0.6    1.84  \n",
       "Bartolome    31      21        1.24 109       0.6     26.3  572.33  \n",
       "Caldwell      3       3        0.21 114       2.8     58.7    0.78  \n",
       "Champion     25       9        0.10  46       1.9     47.4    0.18  \n",
       "Coamano       2       1        0.05  77       1.9      1.9  903.82  \n",
       "Daphne.Major 18      11        0.34 119       8.0      8.0    1.84  "
      ]
     },
     "metadata": {},
     "output_type": "display_data"
    }
   ],
   "source": [
    "head(gala)"
   ]
  },
  {
   "cell_type": "code",
   "execution_count": 5,
   "metadata": {},
   "outputs": [
    {
     "data": {
      "text/plain": [
       "\n",
       "Call:\n",
       "lm(formula = Species ~ Area + Elevation + Nearest + Scruz + Adjacent, \n",
       "    data = gala)\n",
       "\n",
       "Residuals:\n",
       "     Min       1Q   Median       3Q      Max \n",
       "-111.679  -34.898   -7.862   33.460  182.584 \n",
       "\n",
       "Coefficients:\n",
       "             Estimate Std. Error t value Pr(>|t|)    \n",
       "(Intercept)  7.068221  19.154198   0.369 0.715351    \n",
       "Area        -0.023938   0.022422  -1.068 0.296318    \n",
       "Elevation    0.319465   0.053663   5.953 3.82e-06 ***\n",
       "Nearest      0.009144   1.054136   0.009 0.993151    \n",
       "Scruz       -0.240524   0.215402  -1.117 0.275208    \n",
       "Adjacent    -0.074805   0.017700  -4.226 0.000297 ***\n",
       "---\n",
       "Signif. codes:  0 ‘***’ 0.001 ‘**’ 0.01 ‘*’ 0.05 ‘.’ 0.1 ‘ ’ 1\n",
       "\n",
       "Residual standard error: 60.98 on 24 degrees of freedom\n",
       "Multiple R-squared:  0.7658,\tAdjusted R-squared:  0.7171 \n",
       "F-statistic:  15.7 on 5 and 24 DF,  p-value: 6.838e-07\n"
      ]
     },
     "metadata": {},
     "output_type": "display_data"
    }
   ],
   "source": [
    "# fitting the linear model\n",
    "mdl = lm(Species ~ Area + Elevation + Nearest + Scruz + Adjacent, data = gala)\n",
    "summary(mdl)"
   ]
  },
  {
   "cell_type": "markdown",
   "metadata": {},
   "source": [
    "### Calculating it manually"
   ]
  },
  {
   "cell_type": "code",
   "execution_count": 6,
   "metadata": {},
   "outputs": [],
   "source": [
    "x = model.matrix( ~ Area + Elevation + Nearest + Scruz + Adjacent, data = gala)\n",
    "y = gala$Species"
   ]
  },
  {
   "cell_type": "markdown",
   "metadata": {},
   "source": [
    "* $ (X^TX)^{-1}$"
   ]
  },
  {
   "cell_type": "code",
   "execution_count": 7,
   "metadata": {},
   "outputs": [],
   "source": [
    "xtxi = solve(t(x) %*% x)"
   ]
  },
  {
   "cell_type": "markdown",
   "metadata": {},
   "source": [
    "* $ \\hat \\beta =(X^TX)^{-1}X^Ty $"
   ]
  },
  {
   "cell_type": "code",
   "execution_count": 9,
   "metadata": {},
   "outputs": [
    {
     "data": {
      "text/html": [
       "<table>\n",
       "<caption>A matrix: 6 × 1 of type dbl</caption>\n",
       "<tbody>\n",
       "\t<tr><th scope=row>(Intercept)</th><td> 7.068220709</td></tr>\n",
       "\t<tr><th scope=row>Area</th><td>-0.023938338</td></tr>\n",
       "\t<tr><th scope=row>Elevation</th><td> 0.319464761</td></tr>\n",
       "\t<tr><th scope=row>Nearest</th><td> 0.009143961</td></tr>\n",
       "\t<tr><th scope=row>Scruz</th><td>-0.240524230</td></tr>\n",
       "\t<tr><th scope=row>Adjacent</th><td>-0.074804832</td></tr>\n",
       "</tbody>\n",
       "</table>\n"
      ],
      "text/latex": [
       "A matrix: 6 × 1 of type dbl\n",
       "\\begin{tabular}{r|l}\n",
       "\t(Intercept) &  7.068220709\\\\\n",
       "\tArea & -0.023938338\\\\\n",
       "\tElevation &  0.319464761\\\\\n",
       "\tNearest &  0.009143961\\\\\n",
       "\tScruz & -0.240524230\\\\\n",
       "\tAdjacent & -0.074804832\\\\\n",
       "\\end{tabular}\n"
      ],
      "text/markdown": [
       "\n",
       "A matrix: 6 × 1 of type dbl\n",
       "\n",
       "| (Intercept) |  7.068220709 |\n",
       "| Area | -0.023938338 |\n",
       "| Elevation |  0.319464761 |\n",
       "| Nearest |  0.009143961 |\n",
       "| Scruz | -0.240524230 |\n",
       "| Adjacent | -0.074804832 |\n",
       "\n"
      ],
      "text/plain": [
       "            [,1]        \n",
       "(Intercept)  7.068220709\n",
       "Area        -0.023938338\n",
       "Elevation    0.319464761\n",
       "Nearest      0.009143961\n",
       "Scruz       -0.240524230\n",
       "Adjacent    -0.074804832"
      ]
     },
     "metadata": {},
     "output_type": "display_data"
    }
   ],
   "source": [
    "xtxi %*% t(x) %*% y"
   ]
  },
  {
   "cell_type": "markdown",
   "metadata": {},
   "source": [
    "* That is a bad way to calculate beta. It can be ineffficient and inaccurate when predictors are correlated. A better way to solve is:"
   ]
  },
  {
   "cell_type": "code",
   "execution_count": 11,
   "metadata": {},
   "outputs": [
    {
     "data": {
      "text/html": [
       "<table>\n",
       "<caption>A matrix: 6 × 1 of type dbl</caption>\n",
       "<tbody>\n",
       "\t<tr><th scope=row>(Intercept)</th><td> 7.068220709</td></tr>\n",
       "\t<tr><th scope=row>Area</th><td>-0.023938338</td></tr>\n",
       "\t<tr><th scope=row>Elevation</th><td> 0.319464761</td></tr>\n",
       "\t<tr><th scope=row>Nearest</th><td> 0.009143961</td></tr>\n",
       "\t<tr><th scope=row>Scruz</th><td>-0.240524230</td></tr>\n",
       "\t<tr><th scope=row>Adjacent</th><td>-0.074804832</td></tr>\n",
       "</tbody>\n",
       "</table>\n"
      ],
      "text/latex": [
       "A matrix: 6 × 1 of type dbl\n",
       "\\begin{tabular}{r|l}\n",
       "\t(Intercept) &  7.068220709\\\\\n",
       "\tArea & -0.023938338\\\\\n",
       "\tElevation &  0.319464761\\\\\n",
       "\tNearest &  0.009143961\\\\\n",
       "\tScruz & -0.240524230\\\\\n",
       "\tAdjacent & -0.074804832\\\\\n",
       "\\end{tabular}\n"
      ],
      "text/markdown": [
       "\n",
       "A matrix: 6 × 1 of type dbl\n",
       "\n",
       "| (Intercept) |  7.068220709 |\n",
       "| Area | -0.023938338 |\n",
       "| Elevation |  0.319464761 |\n",
       "| Nearest |  0.009143961 |\n",
       "| Scruz | -0.240524230 |\n",
       "| Adjacent | -0.074804832 |\n",
       "\n"
      ],
      "text/plain": [
       "            [,1]        \n",
       "(Intercept)  7.068220709\n",
       "Area        -0.023938338\n",
       "Elevation    0.319464761\n",
       "Nearest      0.009143961\n",
       "Scruz       -0.240524230\n",
       "Adjacent    -0.074804832"
      ]
     },
     "metadata": {},
     "output_type": "display_data"
    }
   ],
   "source": [
    "solve(crossprod(x, x), crossprod(x,y))"
   ]
  },
  {
   "cell_type": "code",
   "execution_count": 16,
   "metadata": {},
   "outputs": [
    {
     "data": {
      "text/html": [
       "<style>\n",
       ".list-inline {list-style: none; margin:0; padding: 0}\n",
       ".list-inline>li {display: inline-block}\n",
       ".list-inline>li:not(:last-child)::after {content: \"\\00b7\"; padding: 0 .5ex}\n",
       "</style>\n",
       "<ol class=list-inline><li>'coefficients'</li><li>'residuals'</li><li>'effects'</li><li>'rank'</li><li>'fitted.values'</li><li>'assign'</li><li>'qr'</li><li>'df.residual'</li><li>'xlevels'</li><li>'call'</li><li>'terms'</li><li>'model'</li></ol>\n"
      ],
      "text/latex": [
       "\\begin{enumerate*}\n",
       "\\item 'coefficients'\n",
       "\\item 'residuals'\n",
       "\\item 'effects'\n",
       "\\item 'rank'\n",
       "\\item 'fitted.values'\n",
       "\\item 'assign'\n",
       "\\item 'qr'\n",
       "\\item 'df.residual'\n",
       "\\item 'xlevels'\n",
       "\\item 'call'\n",
       "\\item 'terms'\n",
       "\\item 'model'\n",
       "\\end{enumerate*}\n"
      ],
      "text/markdown": [
       "1. 'coefficients'\n",
       "2. 'residuals'\n",
       "3. 'effects'\n",
       "4. 'rank'\n",
       "5. 'fitted.values'\n",
       "6. 'assign'\n",
       "7. 'qr'\n",
       "8. 'df.residual'\n",
       "9. 'xlevels'\n",
       "10. 'call'\n",
       "11. 'terms'\n",
       "12. 'model'\n",
       "\n",
       "\n"
      ],
      "text/plain": [
       " [1] \"coefficients\"  \"residuals\"     \"effects\"       \"rank\"         \n",
       " [5] \"fitted.values\" \"assign\"        \"qr\"            \"df.residual\"  \n",
       " [9] \"xlevels\"       \"call\"          \"terms\"         \"model\"        "
      ]
     },
     "metadata": {},
     "output_type": "display_data"
    },
    {
     "data": {
      "text/html": [
       "<style>\n",
       ".list-inline {list-style: none; margin:0; padding: 0}\n",
       ".list-inline>li {display: inline-block}\n",
       ".list-inline>li:not(:last-child)::after {content: \"\\00b7\"; padding: 0 .5ex}\n",
       "</style>\n",
       "<ol class=list-inline><li>'call'</li><li>'terms'</li><li>'residuals'</li><li>'coefficients'</li><li>'aliased'</li><li>'sigma'</li><li>'df'</li><li>'r.squared'</li><li>'adj.r.squared'</li><li>'fstatistic'</li><li>'cov.unscaled'</li></ol>\n"
      ],
      "text/latex": [
       "\\begin{enumerate*}\n",
       "\\item 'call'\n",
       "\\item 'terms'\n",
       "\\item 'residuals'\n",
       "\\item 'coefficients'\n",
       "\\item 'aliased'\n",
       "\\item 'sigma'\n",
       "\\item 'df'\n",
       "\\item 'r.squared'\n",
       "\\item 'adj.r.squared'\n",
       "\\item 'fstatistic'\n",
       "\\item 'cov.unscaled'\n",
       "\\end{enumerate*}\n"
      ],
      "text/markdown": [
       "1. 'call'\n",
       "2. 'terms'\n",
       "3. 'residuals'\n",
       "4. 'coefficients'\n",
       "5. 'aliased'\n",
       "6. 'sigma'\n",
       "7. 'df'\n",
       "8. 'r.squared'\n",
       "9. 'adj.r.squared'\n",
       "10. 'fstatistic'\n",
       "11. 'cov.unscaled'\n",
       "\n",
       "\n"
      ],
      "text/plain": [
       " [1] \"call\"          \"terms\"         \"residuals\"     \"coefficients\" \n",
       " [5] \"aliased\"       \"sigma\"         \"df\"            \"r.squared\"    \n",
       " [9] \"adj.r.squared\" \"fstatistic\"    \"cov.unscaled\" "
      ]
     },
     "metadata": {},
     "output_type": "display_data"
    }
   ],
   "source": [
    "names(mdl)\n",
    "mdls = summary(mdl)\n",
    "names(mdls)"
   ]
  },
  {
   "cell_type": "code",
   "execution_count": 32,
   "metadata": {},
   "outputs": [
    {
     "data": {
      "text/html": [
       "60.975"
      ],
      "text/latex": [
       "60.975"
      ],
      "text/markdown": [
       "60.975"
      ],
      "text/plain": [
       "[1] 60.975"
      ]
     },
     "metadata": {},
     "output_type": "display_data"
    },
    {
     "data": {
      "text/html": [
       "60.975"
      ],
      "text/latex": [
       "60.975"
      ],
      "text/markdown": [
       "60.975"
      ],
      "text/plain": [
       "[1] 60.975"
      ]
     },
     "metadata": {},
     "output_type": "display_data"
    }
   ],
   "source": [
    "round(sqrt(deviance(mdl)/df.residual(mdl)), 3)\n",
    "round(mdls$sigma, 3)"
   ]
  },
  {
   "cell_type": "markdown",
   "metadata": {},
   "source": [
    "* $(X^TX)^{-1}$ and use it to compute standard errors"
   ]
  },
  {
   "cell_type": "code",
   "execution_count": 21,
   "metadata": {},
   "outputs": [
    {
     "data": {
      "text/html": [
       "<style>\n",
       ".dl-inline {width: auto; margin:0; padding: 0}\n",
       ".dl-inline>dt, .dl-inline>dd {float: none; width: auto; display: inline-block}\n",
       ".dl-inline>dt::after {content: \":\\0020\"; padding-right: .5ex}\n",
       ".dl-inline>dt:not(:first-of-type) {padding-left: .5ex}\n",
       "</style><dl class=dl-inline><dt>(Intercept)</dt><dd>19.154</dd><dt>Area</dt><dd>0.022</dd><dt>Elevation</dt><dd>0.054</dd><dt>Nearest</dt><dd>1.054</dd><dt>Scruz</dt><dd>0.215</dd><dt>Adjacent</dt><dd>0.018</dd></dl>\n"
      ],
      "text/latex": [
       "\\begin{description*}\n",
       "\\item[(Intercept)] 19.154\n",
       "\\item[Area] 0.022\n",
       "\\item[Elevation] 0.054\n",
       "\\item[Nearest] 1.054\n",
       "\\item[Scruz] 0.215\n",
       "\\item[Adjacent] 0.018\n",
       "\\end{description*}\n"
      ],
      "text/markdown": [
       "(Intercept)\n",
       ":   19.154Area\n",
       ":   0.022Elevation\n",
       ":   0.054Nearest\n",
       ":   1.054Scruz\n",
       ":   0.215Adjacent\n",
       ":   0.018\n",
       "\n"
      ],
      "text/plain": [
       "(Intercept)        Area   Elevation     Nearest       Scruz    Adjacent \n",
       "     19.154       0.022       0.054       1.054       0.215       0.018 "
      ]
     },
     "metadata": {},
     "output_type": "display_data"
    }
   ],
   "source": [
    "xtxi = mdls$cov.unscaled\n",
    "round(sqrt(diag(xtxi))* 60.975, 3)"
   ]
  },
  {
   "cell_type": "code",
   "execution_count": 23,
   "metadata": {},
   "outputs": [
    {
     "data": {
      "text/html": [
       "<style>\n",
       ".dl-inline {width: auto; margin:0; padding: 0}\n",
       ".dl-inline>dt, .dl-inline>dd {float: none; width: auto; display: inline-block}\n",
       ".dl-inline>dt::after {content: \":\\0020\"; padding-right: .5ex}\n",
       ".dl-inline>dt:not(:first-of-type) {padding-left: .5ex}\n",
       "</style><dl class=dl-inline><dt>(Intercept)</dt><dd>19.154</dd><dt>Area</dt><dd>0.022</dd><dt>Elevation</dt><dd>0.054</dd><dt>Nearest</dt><dd>1.054</dd><dt>Scruz</dt><dd>0.215</dd><dt>Adjacent</dt><dd>0.018</dd></dl>\n"
      ],
      "text/latex": [
       "\\begin{description*}\n",
       "\\item[(Intercept)] 19.154\n",
       "\\item[Area] 0.022\n",
       "\\item[Elevation] 0.054\n",
       "\\item[Nearest] 1.054\n",
       "\\item[Scruz] 0.215\n",
       "\\item[Adjacent] 0.018\n",
       "\\end{description*}\n"
      ],
      "text/markdown": [
       "(Intercept)\n",
       ":   19.154Area\n",
       ":   0.022Elevation\n",
       ":   0.054Nearest\n",
       ":   1.054Scruz\n",
       ":   0.215Adjacent\n",
       ":   0.018\n",
       "\n"
      ],
      "text/plain": [
       "(Intercept)        Area   Elevation     Nearest       Scruz    Adjacent \n",
       "     19.154       0.022       0.054       1.054       0.215       0.018 "
      ]
     },
     "metadata": {},
     "output_type": "display_data"
    }
   ],
   "source": [
    "round(mdls$coef[,2], 3)"
   ]
  },
  {
   "cell_type": "markdown",
   "metadata": {},
   "source": [
    "* Calculate and extracting $R^2$"
   ]
  },
  {
   "cell_type": "code",
   "execution_count": 26,
   "metadata": {},
   "outputs": [
    {
     "data": {
      "text/html": [
       "0.766"
      ],
      "text/latex": [
       "0.766"
      ],
      "text/markdown": [
       "0.766"
      ],
      "text/plain": [
       "[1] 0.766"
      ]
     },
     "metadata": {},
     "output_type": "display_data"
    }
   ],
   "source": [
    "round(1 - deviance(mdl)/sum((y-mean(y))^2), 3)"
   ]
  },
  {
   "cell_type": "code",
   "execution_count": 2,
   "metadata": {},
   "outputs": [
    {
     "ename": "ERROR",
     "evalue": "Error in eval(expr, envir, enclos): object 'mdls' not found\n",
     "output_type": "error",
     "traceback": [
      "Error in eval(expr, envir, enclos): object 'mdls' not found\nTraceback:\n"
     ]
    }
   ],
   "source": [
    "round(mdls$r.squared, 3)"
   ]
  },
  {
   "cell_type": "markdown",
   "metadata": {},
   "source": [
    "### Identifiability\n",
    "\n",
    "The least square estimate is the solution to the normal equations\n",
    "<p>&nbsp;</p>\n",
    "\\begin{split}\n",
    "X^T X \\hat \\beta= X^T y  \n",
    "\\end{split}\n",
    "<p>&nbsp;</p>\n",
    "\n",
    "where X is an $nxp$ matrix. However, if $(X^TX)$ is invertable, then there will be infinitely many solutions and $\\hat \\beta$ is undefined. That will happen when X is not of full rank (i.e., when columns are linealy dependent).\n",
    "ex:\n",
    "1. Measures of a person's weight in both pounds and kilos are used in the model\n",
    "2. number of years preuniveristy education, number of years of university education, and the total number of years of education and then use the three variables in the model\n",
    "3. More variables than cases (i.e., $p > n$). When $p=n$, we can estimate all parameters, but with no degree of freedom  left to estimate SE or do any testing. Such model are called **saturated**. When p>n,then the model is called **supersaturated**. \n",
    "\n",
    "\n",
    "Consider we have a two-sample experiment (treatment: $y_1 ... y_n$ and control: $Y_{n+1} ... y_{m+n}$ and want to model the y response by using the overall mean $\\mu$ and the group effects $\\alpha_1$ and $\\alpha_2$\n",
    "\n",
    "<p>&nbsp;</p>\n",
    "\n",
    "$ y_j = \\mu + \\alpha_i + \\epsilon_j$ \n",
    "\n",
    "<p>&nbsp;</p>\n",
    "\\begin{align*}\n",
    "\\left(\\begin{array}{ccc} \n",
    "y_1 \\\\\n",
    "... \\\\\n",
    "y_n  \\\\\n",
    "y_{n+1} \\\\\n",
    "... \\\\\n",
    "y_{m+n} \\\\\n",
    "\\end{array}\\right)\n",
    "\\: = \\:\n",
    "\\left(\\begin{array}{ccc} \n",
    "1&1&0\\\\ \n",
    "&...&\\\\ \n",
    "1&1&0\\\\\n",
    "1&0&1\\\\\n",
    "&...&\\\\\n",
    "1&0&1\n",
    "\\end{array}\\right)\n",
    "\\left(\\begin{array}{ccc} \n",
    "\\mu\\\\ \n",
    "\\alpha_1\\\\\n",
    "\\alpha_2\n",
    "\\end{array}\\right)\n",
    "\\left(\\begin{array}{ccc} \n",
    "\\epsilon_1 \\\\\n",
    "... \\\\\n",
    "...  \\\\\n",
    "... \\\\\n",
    "... \\\\\n",
    "\\epsilon_{m+n} \\\\\n",
    "\\end{array}\\right)\n",
    "\\end{align*}\n",
    "<p>&nbsp;</p>\n",
    "\n",
    "In this case, $X$ has only rank 2 $\\alpha_1$ and $\\alpha_2$ are not independent. Thus the equation has infinitely many solution. We can impose a solution using $\\mu = 0$ or $\\alpha_1 + \\alpha_2 = 0$"
   ]
  },
  {
   "cell_type": "code",
   "execution_count": 31,
   "metadata": {},
   "outputs": [
    {
     "data": {
      "text/plain": [
       "\n",
       "Call:\n",
       "lm(formula = Species ~ Area + Elevation + Nearest + Scruz + Adjacent + \n",
       "    Adiff, data = gala)\n",
       "\n",
       "Residuals:\n",
       "     Min       1Q   Median       3Q      Max \n",
       "-111.679  -34.898   -7.862   33.460  182.584 \n",
       "\n",
       "Coefficients: (1 not defined because of singularities)\n",
       "             Estimate Std. Error t value Pr(>|t|)    \n",
       "(Intercept)  7.068221  19.154198   0.369 0.715351    \n",
       "Area        -0.023938   0.022422  -1.068 0.296318    \n",
       "Elevation    0.319465   0.053663   5.953 3.82e-06 ***\n",
       "Nearest      0.009144   1.054136   0.009 0.993151    \n",
       "Scruz       -0.240524   0.215402  -1.117 0.275208    \n",
       "Adjacent    -0.074805   0.017700  -4.226 0.000297 ***\n",
       "Adiff              NA         NA      NA       NA    \n",
       "---\n",
       "Signif. codes:  0 ‘***’ 0.001 ‘**’ 0.01 ‘*’ 0.05 ‘.’ 0.1 ‘ ’ 1\n",
       "\n",
       "Residual standard error: 60.98 on 24 degrees of freedom\n",
       "Multiple R-squared:  0.7658,\tAdjusted R-squared:  0.7171 \n",
       "F-statistic:  15.7 on 5 and 24 DF,  p-value: 6.838e-07\n"
      ]
     },
     "metadata": {},
     "output_type": "display_data"
    }
   ],
   "source": [
    "# let create a non independent variable \n",
    "gala$Adiff = gala$Area - gala$Adjacent\n",
    "g = lm(Species ~ Area + Elevation + Nearest + Scruz + Adjacent + Adiff, gala)\n",
    "summary(g)"
   ]
  },
  {
   "cell_type": "markdown",
   "metadata": {},
   "source": [
    "* We got the mensage: Coefficients: (1 not defined because of singularities) because the rank off the design matrix $X$ is six (less than 7 columns)\n",
    "* The indentifiability is easely spotted by the program. The bigger problem arise whem thre is small pertubations the one of non independent variables"
   ]
  },
  {
   "cell_type": "code",
   "execution_count": 34,
   "metadata": {},
   "outputs": [],
   "source": [
    "# Add some random noise into the collinear new variable\n",
    "Adiffe = gala$Adiff + 0.001*(runif(30) - 0.5)"
   ]
  },
  {
   "cell_type": "code",
   "execution_count": 35,
   "metadata": {
    "scrolled": true
   },
   "outputs": [
    {
     "data": {
      "text/plain": [
       "\n",
       "Call:\n",
       "lm(formula = Species ~ Area + Elevation + Nearest + Scruz + Adjacent + \n",
       "    Adiffe, data = gala)\n",
       "\n",
       "Residuals:\n",
       "   Min     1Q Median     3Q    Max \n",
       "-80.81 -29.78 -10.90  26.96 141.78 \n",
       "\n",
       "Coefficients:\n",
       "              Estimate Std. Error t value Pr(>|t|)    \n",
       "(Intercept) -3.221e+00  1.823e+01  -0.177   0.8613    \n",
       "Area        -8.700e+04  3.806e+04  -2.286   0.0318 *  \n",
       "Elevation    3.244e-01  4.953e-02   6.550  1.1e-06 ***\n",
       "Nearest     -2.123e-01  9.769e-01  -0.217   0.8299    \n",
       "Scruz       -1.427e-01  2.032e-01  -0.702   0.4895    \n",
       "Adjacent     8.700e+04  3.806e+04   2.286   0.0318 *  \n",
       "Adiffe       8.700e+04  3.806e+04   2.286   0.0318 *  \n",
       "---\n",
       "Signif. codes:  0 ‘***’ 0.001 ‘**’ 0.01 ‘*’ 0.05 ‘.’ 0.1 ‘ ’ 1\n",
       "\n",
       "Residual standard error: 56.23 on 23 degrees of freedom\n",
       "Multiple R-squared:  0.8092,\tAdjusted R-squared:  0.7594 \n",
       "F-statistic: 16.26 on 6 and 23 DF,  p-value: 3.059e-07\n"
      ]
     },
     "metadata": {},
     "output_type": "display_data"
    }
   ],
   "source": [
    "g = lm(Species ~ Area + Elevation + Nearest + Scruz + Adjacent + Adiffe, data = gala)\n",
    "summary(g)"
   ]
  },
  {
   "cell_type": "markdown",
   "metadata": {},
   "source": [
    "* Now all parameters were estimated, but the standard errors are very large because we cannot estimate them in a stable way"
   ]
  }
 ],
 "metadata": {
  "kernelspec": {
   "display_name": "R 4.0",
   "language": "R",
   "name": "ir40"
  },
  "language_info": {
   "codemirror_mode": "r",
   "file_extension": ".r",
   "mimetype": "text/x-r-source",
   "name": "R",
   "pygments_lexer": "r",
   "version": "4.0.2"
  }
 },
 "nbformat": 4,
 "nbformat_minor": 4
}
