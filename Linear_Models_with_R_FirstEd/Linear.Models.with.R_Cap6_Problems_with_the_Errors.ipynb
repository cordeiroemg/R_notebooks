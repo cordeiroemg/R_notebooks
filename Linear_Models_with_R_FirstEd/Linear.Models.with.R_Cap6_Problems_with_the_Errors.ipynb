{
 "cells": [
  {
   "cell_type": "markdown",
   "metadata": {},
   "source": [
    "# Problems with the Error\n",
    "\n",
    "* The assumption about the error term $\\epsilon$ is that it is independent and indentically distributed (i.i.d)\n",
    "* That means that $var \\: \\epsilon= \\sigma^2I$\n",
    "* We also assume that the errors are normally distributed\n",
    "* When those assumptions are violated (i.e., not i.i.d.), we should considered **generalized least squares (GLS)** \n",
    "* When the errors are identically distributed, but are not independent, we use **weighted least squares (WLS)**, which is a special case of *GLS*\n",
    "* We can test is the observed error is much larger than our expectation as evidence off *lack of fit* \n",
    "* When errors are not normally distributed, we can use *robust regression*\n",
    "\n",
    "## Generalized Least Squares\n",
    "\n",
    "Sometimes errors have nonconstant variance or errors that are correlated and therefore do not assume the form $var \\: \\epsilon= \\sigma^2I$. Suppose $var \\: \\epsilon= \\sigma^2 \\Sigma$, where $\\sigma^2$ is unknown but that $\\Sigma$ is known.\n",
    "\n",
    "Consider that $\\Sigma = SS^T$, where $S$ is a trianglular matrix using Choleski decomposition\n",
    "\n",
    "<p>&nbsp;</p>\n",
    "\\begin{split}\n",
    "y = X \\beta + \\epsilon \\\\\n",
    "S^{-1}y = S^{-1} X \\beta + S^{-1} \\epsilon \\\\\n",
    "y' = X' \\beta + \\epsilon'\n",
    "\\end{split}\n",
    "<p>&nbsp;</p>\n",
    "\n",
    "After  transforming, the variance in $\\epsilon'$  is:\n",
    "\n",
    "<p>&nbsp;</p>\n",
    "\\begin{split}\n",
    "var \\: \\epsilon' = var(S^{-1}\\epsilon) = S^{-1}(var \\: \\epsilon)S^{-T}= S^{-1}\\sigma^2SS^TS^{-T} = \\sigma^2I\n",
    "\\end{split}\n",
    "<p>&nbsp;</p>\n",
    "\n",
    "We can reduce GLS to OLS by transforming $y$ and $x$ with $y'=S^{-1}$ and $S^{-1}X$ respectivelly, where error $\\epsilon'$ is i.i.d. By reducing the problem, we can calculate $\\hat \\beta$:\n",
    "\n",
    "<p>&nbsp;</p>\n",
    "\\begin{split}\n",
    "\\hat \\beta = (X^T \\Sigma^{-1} X)^{-1} X^T \\Sigma^{-1}y \n",
    "\\end{split}\n",
    "<p>&nbsp;</p>\n",
    "\n",
    "and the variance on $\\hat \\beta$:\n",
    "\n",
    "<p>&nbsp;</p>\n",
    "\\begin{split}\n",
    "var \\hat \\beta = (X^T \\Sigma^{-1} X)^T \\sigma^2 \n",
    "\\end{split}\n",
    "<p>&nbsp;</p>\n",
    "\n",
    "The main probem in applying GLS in practice is that $\\Sigma$ may not be known and we have to estimate it.\n",
    "\n",
    "#### Example\n",
    "\n",
    "* Response variable is the number of people employed (1947-1962)\n",
    "* The predictors are: gross national product (GNP), population 14 years of age and more\n"
   ]
  },
  {
   "cell_type": "code",
   "execution_count": 1,
   "metadata": {},
   "outputs": [],
   "source": [
    "library(faraway)\n",
    "data(longley)"
   ]
  },
  {
   "cell_type": "code",
   "execution_count": 4,
   "metadata": {},
   "outputs": [
    {
     "data": {
      "text/plain": [
       "\n",
       "Call:\n",
       "lm(formula = Employed ~ GNP + Population, data = longley)\n",
       "\n",
       "Residuals:\n",
       "     Min       1Q   Median       3Q      Max \n",
       "-0.80899 -0.33282 -0.02329  0.25895  1.08800 \n",
       "\n",
       "Coefficients:\n",
       "            Estimate Std. Error t value Pr(>|t|)    \n",
       "(Intercept) 88.93880   13.78503   6.452 2.16e-05 ***\n",
       "GNP          0.06317    0.01065   5.933 4.96e-05 ***\n",
       "Population  -0.40974    0.15214  -2.693   0.0184 *  \n",
       "---\n",
       "Signif. codes:  0 ‘***’ 0.001 ‘**’ 0.01 ‘*’ 0.05 ‘.’ 0.1 ‘ ’ 1\n",
       "\n",
       "Residual standard error: 0.5459 on 13 degrees of freedom\n",
       "Multiple R-squared:  0.9791,\tAdjusted R-squared:  0.9758 \n",
       "F-statistic: 303.9 on 2 and 13 DF,  p-value: 1.221e-11\n",
       "\n",
       "Correlation of Coefficients:\n",
       "           (Intercept) GNP  \n",
       "GNP         0.98            \n",
       "Population -1.00       -0.99\n"
      ]
     },
     "metadata": {},
     "output_type": "display_data"
    }
   ],
   "source": [
    "g = lm(Employed ~ GNP + Population, data = longley)\n",
    "summary(g, cor = T)"
   ]
  },
  {
   "cell_type": "code",
   "execution_count": 7,
   "metadata": {},
   "outputs": [
    {
     "data": {
      "text/html": [
       "0.991"
      ],
      "text/latex": [
       "0.991"
      ],
      "text/markdown": [
       "0.991"
      ],
      "text/plain": [
       "[1] 0.991"
      ]
     },
     "metadata": {},
     "output_type": "display_data"
    }
   ],
   "source": [
    "round(cor(longley$GNP, longley$Pop), 3)"
   ]
  },
  {
   "cell_type": "markdown",
   "metadata": {},
   "source": [
    "* Parameter beta is highly negatively correlated, while the variables are positively correlated\n",
    "* Data collected over the tima, successive errors could be correlated. \n",
    "\n",
    "The simplest way to deal with such models is the autoregressive form\n",
    "\n",
    "<p>&nbsp;</p>\n",
    "\\begin{split}\n",
    "\\epsilon_{i+1} = \\varrho_i + \\sigma_i \n",
    "\\end{split}\n",
    "<p>&nbsp;</p>\n",
    "\n",
    "where $\\sigma_i \\sim N(0,\\tau^2)$"
   ]
  },
  {
   "cell_type": "code",
   "execution_count": 9,
   "metadata": {},
   "outputs": [
    {
     "data": {
      "text/html": [
       "0.31041"
      ],
      "text/latex": [
       "0.31041"
      ],
      "text/markdown": [
       "0.31041"
      ],
      "text/plain": [
       "[1] 0.31041"
      ]
     },
     "metadata": {},
     "output_type": "display_data"
    }
   ],
   "source": [
    "round( cor(residuals(g)[-1], residuals(g)[-16]), 5)"
   ]
  },
  {
   "cell_type": "markdown",
   "metadata": {},
   "source": [
    "* Assuming $\\Sigma_{ik} = \\varrho^{i-j}$, where $\\varrho = 0.31041$\n",
    "* We can now construct our $\\Sigma$ matrix to compute GLS estimates of $\\beta$ along the SEs"
   ]
  },
  {
   "cell_type": "code",
   "execution_count": 12,
   "metadata": {},
   "outputs": [],
   "source": [
    "x = model.matrix(g)\n",
    "\n",
    "# Sigma matrix\n",
    "Sigma = diag(16)\n",
    "Sigma = 0.31041 ^abs(row(Sigma) - col(Sigma))\n",
    "Sigma.inv = solve(Sigma)\n",
    "\n",
    "xtxi = solve (t(x) %*% Sigma.inv %*% x)"
   ]
  },
  {
   "cell_type": "markdown",
   "metadata": {},
   "source": [
    "* $\\hat \\beta = (X^T \\Sigma^{-1} X)^{-1} X^T \\Sigma^{-1}y$ "
   ]
  },
  {
   "cell_type": "code",
   "execution_count": 14,
   "metadata": {},
   "outputs": [
    {
     "data": {
      "text/html": [
       "<table>\n",
       "<caption>A matrix: 3 × 1 of type dbl</caption>\n",
       "<tbody>\n",
       "\t<tr><th scope=row>(Intercept)</th><td>94.8988949</td></tr>\n",
       "\t<tr><th scope=row>GNP</th><td> 0.0673895</td></tr>\n",
       "\t<tr><th scope=row>Population</th><td>-0.4742741</td></tr>\n",
       "</tbody>\n",
       "</table>\n"
      ],
      "text/latex": [
       "A matrix: 3 × 1 of type dbl\n",
       "\\begin{tabular}{r|l}\n",
       "\t(Intercept) & 94.8988949\\\\\n",
       "\tGNP &  0.0673895\\\\\n",
       "\tPopulation & -0.4742741\\\\\n",
       "\\end{tabular}\n"
      ],
      "text/markdown": [
       "\n",
       "A matrix: 3 × 1 of type dbl\n",
       "\n",
       "| (Intercept) | 94.8988949 |\n",
       "| GNP |  0.0673895 |\n",
       "| Population | -0.4742741 |\n",
       "\n"
      ],
      "text/plain": [
       "            [,1]      \n",
       "(Intercept) 94.8988949\n",
       "GNP          0.0673895\n",
       "Population  -0.4742741"
      ]
     },
     "metadata": {},
     "output_type": "display_data"
    }
   ],
   "source": [
    "# Calculating beta\n",
    "(beta = solve(t(x) %*% Sigma.inv %*% x) %*% t(x) %*% Sigma.inv %*% longley$Empl)"
   ]
  },
  {
   "cell_type": "code",
   "execution_count": 15,
   "metadata": {},
   "outputs": [],
   "source": [
    "res = longley$Empl - x %*% beta"
   ]
  },
  {
   "cell_type": "code",
   "execution_count": 19,
   "metadata": {},
   "outputs": [
    {
     "data": {
      "text/html": [
       "<table>\n",
       "<caption>A matrix: 1 × 1 of type dbl</caption>\n",
       "<tbody>\n",
       "\t<tr><td>0.5424432</td></tr>\n",
       "</tbody>\n",
       "</table>\n"
      ],
      "text/latex": [
       "A matrix: 1 × 1 of type dbl\n",
       "\\begin{tabular}{l}\n",
       "\t 0.5424432\\\\\n",
       "\\end{tabular}\n"
      ],
      "text/markdown": [
       "\n",
       "A matrix: 1 × 1 of type dbl\n",
       "\n",
       "| 0.5424432 |\n",
       "\n"
      ],
      "text/plain": [
       "     [,1]     \n",
       "[1,] 0.5424432"
      ]
     },
     "metadata": {},
     "output_type": "display_data"
    }
   ],
   "source": [
    "(sig = sqrt((t(res) %*% Sigma.inv %*% res)/g$df))"
   ]
  },
  {
   "cell_type": "code",
   "execution_count": 20,
   "metadata": {},
   "outputs": [
    {
     "name": "stderr",
     "output_type": "stream",
     "text": [
      "Warning message in sqrt(diag(xtxi)) * sig:\n",
      "“Recycling array of length 1 in vector-array arithmetic is deprecated.\n",
      "  Use c() or as.vector() instead.\n",
      "”\n"
     ]
    },
    {
     "data": {
      "text/html": [
       "<style>\n",
       ".dl-inline {width: auto; margin:0; padding: 0}\n",
       ".dl-inline>dt, .dl-inline>dd {float: none; width: auto; display: inline-block}\n",
       ".dl-inline>dt::after {content: \":\\0020\"; padding-right: .5ex}\n",
       ".dl-inline>dt:not(:first-of-type) {padding-left: .5ex}\n",
       "</style><dl class=dl-inline><dt>(Intercept)</dt><dd>13.9448</dd><dt>GNP</dt><dd>0.0107</dd><dt>Population</dt><dd>0.1534</dd></dl>\n"
      ],
      "text/latex": [
       "\\begin{description*}\n",
       "\\item[(Intercept)] 13.9448\n",
       "\\item[GNP] 0.0107\n",
       "\\item[Population] 0.1534\n",
       "\\end{description*}\n"
      ],
      "text/markdown": [
       "(Intercept)\n",
       ":   13.9448GNP\n",
       ":   0.0107Population\n",
       ":   0.1534\n",
       "\n"
      ],
      "text/plain": [
       "(Intercept)         GNP  Population \n",
       "    13.9448      0.0107      0.1534 "
      ]
     },
     "metadata": {},
     "output_type": "display_data"
    }
   ],
   "source": [
    "round(sqrt(diag(xtxi)) * sig, 4)"
   ]
  },
  {
   "cell_type": "markdown",
   "metadata": {},
   "source": [
    "* An alternative way, is to regress $S^-1y$ on $S^-1x$"
   ]
  },
  {
   "cell_type": "code",
   "execution_count": 21,
   "metadata": {},
   "outputs": [],
   "source": [
    "sm = chol(Sigma)\n",
    "smi = solve(t(sm))\n",
    "sx = smi %*% x\n",
    "sy = smi %*% longley$Empl"
   ]
  },
  {
   "cell_type": "code",
   "execution_count": 23,
   "metadata": {},
   "outputs": [
    {
     "data": {
      "text/plain": [
       "\n",
       "Call:\n",
       "lm(formula = sy ~ sx - 1)\n",
       "\n",
       "Residuals:\n",
       "     Min       1Q   Median       3Q      Max \n",
       "-0.74460 -0.34013 -0.02145  0.27667  1.07243 \n",
       "\n",
       "Coefficients:\n",
       "              Estimate Std. Error t value Pr(>|t|)    \n",
       "sx(Intercept) 94.89889   13.94477   6.805 1.25e-05 ***\n",
       "sxGNP          0.06739    0.01070   6.296 2.76e-05 ***\n",
       "sxPopulation  -0.47427    0.15339  -3.092  0.00858 ** \n",
       "---\n",
       "Signif. codes:  0 ‘***’ 0.001 ‘**’ 0.01 ‘*’ 0.05 ‘.’ 0.1 ‘ ’ 1\n",
       "\n",
       "Residual standard error: 0.5424 on 13 degrees of freedom\n",
       "Multiple R-squared:  0.9999,\tAdjusted R-squared:  0.9999 \n",
       "F-statistic: 4.312e+04 on 3 and 13 DF,  p-value: < 2.2e-16\n"
      ]
     },
     "metadata": {},
     "output_type": "display_data"
    }
   ],
   "source": [
    "summary(lm(sy ~ sx - 1))"
   ]
  },
  {
   "cell_type": "markdown",
   "metadata": {},
   "source": [
    "* Our initial guess was that $\\varrho = 0.31041$, but once once we fit out GLS model, we can reestimate it and then compute the model again with the new value until convergence"
   ]
  },
  {
   "cell_type": "code",
   "execution_count": 24,
   "metadata": {},
   "outputs": [
    {
     "data": {
      "text/html": [
       "0.356416247986366"
      ],
      "text/latex": [
       "0.356416247986366"
      ],
      "text/markdown": [
       "0.356416247986366"
      ],
      "text/plain": [
       "[1] 0.3564162"
      ]
     },
     "metadata": {},
     "output_type": "display_data"
    }
   ],
   "source": [
    "cor(res[-1], res[-16])"
   ]
  },
  {
   "cell_type": "code",
   "execution_count": 25,
   "metadata": {},
   "outputs": [],
   "source": [
    "library(nlme)"
   ]
  },
  {
   "cell_type": "code",
   "execution_count": 27,
   "metadata": {},
   "outputs": [
    {
     "data": {
      "text/plain": [
       "Generalized least squares fit by REML\n",
       "  Model: Employed ~ GNP + Population \n",
       "  Data: longley \n",
       "       AIC      BIC    logLik\n",
       "  44.66377 47.48852 -17.33188\n",
       "\n",
       "Correlation Structure: AR(1)\n",
       " Formula: ~Year \n",
       " Parameter estimate(s):\n",
       "      Phi \n",
       "0.6441692 \n",
       "\n",
       "Coefficients:\n",
       "                Value Std.Error   t-value p-value\n",
       "(Intercept) 101.85813 14.198932  7.173647  0.0000\n",
       "GNP           0.07207  0.010606  6.795485  0.0000\n",
       "Population   -0.54851  0.154130 -3.558778  0.0035\n",
       "\n",
       " Correlation: \n",
       "           (Intr) GNP   \n",
       "GNP         0.943       \n",
       "Population -0.997 -0.966\n",
       "\n",
       "Standardized residuals:\n",
       "       Min         Q1        Med         Q3        Max \n",
       "-1.5924564 -0.5447822 -0.1055401  0.3639202  1.3281898 \n",
       "\n",
       "Residual standard error: 0.689207 \n",
       "Degrees of freedom: 16 total; 13 residual"
      ]
     },
     "metadata": {},
     "output_type": "display_data"
    }
   ],
   "source": [
    "g = gls(Employed ~ GNP + Population, correlation = corAR1 (form = ~Year), data = longley)\n",
    "summary(g)"
   ]
  },
  {
   "cell_type": "markdown",
   "metadata": {},
   "source": [
    "* Here $\\varrho = 0.64$, let's check the CI"
   ]
  },
  {
   "cell_type": "code",
   "execution_count": 28,
   "metadata": {},
   "outputs": [
    {
     "data": {
      "text/plain": [
       "Approximate 95% confidence intervals\n",
       "\n",
       " Coefficients:\n",
       "                  lower         est.       upper\n",
       "(Intercept) 71.18320461 101.85813306 132.5330615\n",
       "GNP          0.04915865   0.07207088   0.0949831\n",
       "Population  -0.88149053  -0.54851350  -0.2155365\n",
       "attr(,\"label\")\n",
       "[1] \"Coefficients:\"\n",
       "\n",
       " Correlation structure:\n",
       "         lower      est.     upper\n",
       "Phi -0.4420749 0.6441692 0.9644031\n",
       "attr(,\"label\")\n",
       "[1] \"Correlation structure:\"\n",
       "\n",
       " Residual standard error:\n",
       "    lower      est.     upper \n",
       "0.2480039 0.6892070 1.9153178 "
      ]
     },
     "metadata": {},
     "output_type": "display_data"
    }
   ],
   "source": [
    "intervals(g)"
   ]
  },
  {
   "cell_type": "markdown",
   "metadata": {},
   "source": [
    "* not significant indicating no strong evidence of serial correlation"
   ]
  },
  {
   "cell_type": "markdown",
   "metadata": {},
   "source": [
    "### Weighted Least Squares\n",
    "\n",
    "* Sometimes the errors are uncorrelated, but have unequal variance where the form of the inequality is known. \n",
    "* When $\\Sigma$ is diagnomal, the errors are uncorrelated but do not necessarily have equal variance\n",
    "* We can adjust errors by $\\Sigma = diag(1/w_1, ..., 1/w_n$ where $w_i$ is the weight so $S= diag(\\sqrt{1/w_1},  ..., \\sqrt{1/w_n})$\n",
    "\n",
    "Thus we can regress $\\sqrt{w_iy_i}$ by $\\sqrt{w_ix_i}$ where the first column of the $X-matrix$ can be substituted by the constant $\\sqrt{w_i}$\n",
    "\n",
    "* When weights are used, residuals must be modified using $\\sqrt{w_i \\hat \\epsilon_i}$ for diagnostics\n",
    "\n",
    "#### Example\n",
    "French presidency elections occurs in two terms. In 1981, there were 10 candidates in the first term and 2 in the second. How did the votes were transfered from the first to the second term?\n",
    "\n",
    "* Columns are the candidates\n",
    "* Row are the french regions\n",
    "* EI is the registered voters\n",
    "* A1, B1, and A2, and B2 are the values for the first and second terms"
   ]
  },
  {
   "cell_type": "code",
   "execution_count": 29,
   "metadata": {},
   "outputs": [
    {
     "data": {
      "text/html": [
       "<table>\n",
       "<caption>A data.frame: 6 × 14</caption>\n",
       "<thead>\n",
       "\t<tr><th></th><th scope=col>EI</th><th scope=col>A</th><th scope=col>B</th><th scope=col>C</th><th scope=col>D</th><th scope=col>E</th><th scope=col>F</th><th scope=col>G</th><th scope=col>H</th><th scope=col>J</th><th scope=col>K</th><th scope=col>A2</th><th scope=col>B2</th><th scope=col>N</th></tr>\n",
       "\t<tr><th></th><th scope=col>&lt;int&gt;</th><th scope=col>&lt;int&gt;</th><th scope=col>&lt;int&gt;</th><th scope=col>&lt;int&gt;</th><th scope=col>&lt;int&gt;</th><th scope=col>&lt;int&gt;</th><th scope=col>&lt;int&gt;</th><th scope=col>&lt;int&gt;</th><th scope=col>&lt;int&gt;</th><th scope=col>&lt;int&gt;</th><th scope=col>&lt;int&gt;</th><th scope=col>&lt;int&gt;</th><th scope=col>&lt;int&gt;</th><th scope=col>&lt;int&gt;</th></tr>\n",
       "</thead>\n",
       "<tbody>\n",
       "\t<tr><th scope=row>Ain</th><td> 260</td><td> 51</td><td> 64</td><td> 36</td><td> 23</td><td> 9</td><td> 5</td><td> 4</td><td> 4</td><td> 3</td><td>3</td><td>105</td><td>114</td><td>17</td></tr>\n",
       "\t<tr><th scope=row>Alpes</th><td>  75</td><td> 14</td><td> 17</td><td>  9</td><td>  9</td><td> 3</td><td> 1</td><td> 2</td><td> 1</td><td> 1</td><td>1</td><td> 32</td><td> 31</td><td> 5</td></tr>\n",
       "\t<tr><th scope=row>Ariege</th><td> 107</td><td> 27</td><td> 18</td><td> 13</td><td> 17</td><td> 2</td><td> 2</td><td> 2</td><td> 1</td><td> 1</td><td>1</td><td> 57</td><td> 33</td><td> 6</td></tr>\n",
       "\t<tr><th scope=row>Bouches.du.Rhone</th><td>1036</td><td>191</td><td>204</td><td>119</td><td>205</td><td>29</td><td>13</td><td>13</td><td>10</td><td>10</td><td>6</td><td>466</td><td>364</td><td>30</td></tr>\n",
       "\t<tr><th scope=row>Charente.Maritime</th><td> 367</td><td> 71</td><td> 76</td><td> 47</td><td> 37</td><td> 8</td><td>34</td><td> 5</td><td> 4</td><td> 4</td><td>2</td><td>163</td><td>142</td><td>17</td></tr>\n",
       "\t<tr><th scope=row>Cotes.du.Nord</th><td> 396</td><td> 93</td><td> 90</td><td> 57</td><td> 54</td><td>13</td><td> 5</td><td> 9</td><td> 4</td><td> 3</td><td>5</td><td>193</td><td>155</td><td>15</td></tr>\n",
       "</tbody>\n",
       "</table>\n"
      ],
      "text/latex": [
       "A data.frame: 6 × 14\n",
       "\\begin{tabular}{r|llllllllllllll}\n",
       "  & EI & A & B & C & D & E & F & G & H & J & K & A2 & B2 & N\\\\\n",
       "  & <int> & <int> & <int> & <int> & <int> & <int> & <int> & <int> & <int> & <int> & <int> & <int> & <int> & <int>\\\\\n",
       "\\hline\n",
       "\tAin &  260 &  51 &  64 &  36 &  23 &  9 &  5 &  4 &  4 &  3 & 3 & 105 & 114 & 17\\\\\n",
       "\tAlpes &   75 &  14 &  17 &   9 &   9 &  3 &  1 &  2 &  1 &  1 & 1 &  32 &  31 &  5\\\\\n",
       "\tAriege &  107 &  27 &  18 &  13 &  17 &  2 &  2 &  2 &  1 &  1 & 1 &  57 &  33 &  6\\\\\n",
       "\tBouches.du.Rhone & 1036 & 191 & 204 & 119 & 205 & 29 & 13 & 13 & 10 & 10 & 6 & 466 & 364 & 30\\\\\n",
       "\tCharente.Maritime &  367 &  71 &  76 &  47 &  37 &  8 & 34 &  5 &  4 &  4 & 2 & 163 & 142 & 17\\\\\n",
       "\tCotes.du.Nord &  396 &  93 &  90 &  57 &  54 & 13 &  5 &  9 &  4 &  3 & 5 & 193 & 155 & 15\\\\\n",
       "\\end{tabular}\n"
      ],
      "text/markdown": [
       "\n",
       "A data.frame: 6 × 14\n",
       "\n",
       "| <!--/--> | EI &lt;int&gt; | A &lt;int&gt; | B &lt;int&gt; | C &lt;int&gt; | D &lt;int&gt; | E &lt;int&gt; | F &lt;int&gt; | G &lt;int&gt; | H &lt;int&gt; | J &lt;int&gt; | K &lt;int&gt; | A2 &lt;int&gt; | B2 &lt;int&gt; | N &lt;int&gt; |\n",
       "|---|---|---|---|---|---|---|---|---|---|---|---|---|---|---|\n",
       "| Ain |  260 |  51 |  64 |  36 |  23 |  9 |  5 |  4 |  4 |  3 | 3 | 105 | 114 | 17 |\n",
       "| Alpes |   75 |  14 |  17 |   9 |   9 |  3 |  1 |  2 |  1 |  1 | 1 |  32 |  31 |  5 |\n",
       "| Ariege |  107 |  27 |  18 |  13 |  17 |  2 |  2 |  2 |  1 |  1 | 1 |  57 |  33 |  6 |\n",
       "| Bouches.du.Rhone | 1036 | 191 | 204 | 119 | 205 | 29 | 13 | 13 | 10 | 10 | 6 | 466 | 364 | 30 |\n",
       "| Charente.Maritime |  367 |  71 |  76 |  47 |  37 |  8 | 34 |  5 |  4 |  4 | 2 | 163 | 142 | 17 |\n",
       "| Cotes.du.Nord |  396 |  93 |  90 |  57 |  54 | 13 |  5 |  9 |  4 |  3 | 5 | 193 | 155 | 15 |\n",
       "\n"
      ],
      "text/plain": [
       "                  EI   A   B   C   D   E  F  G  H  J  K A2  B2  N \n",
       "Ain                260  51  64  36  23  9  5  4  4  3 3 105 114 17\n",
       "Alpes               75  14  17   9   9  3  1  2  1  1 1  32  31  5\n",
       "Ariege             107  27  18  13  17  2  2  2  1  1 1  57  33  6\n",
       "Bouches.du.Rhone  1036 191 204 119 205 29 13 13 10 10 6 466 364 30\n",
       "Charente.Maritime  367  71  76  47  37  8 34  5  4  4 2 163 142 17\n",
       "Cotes.du.Nord      396  93  90  57  54 13  5  9  4  3 5 193 155 15"
      ]
     },
     "metadata": {},
     "output_type": "display_data"
    }
   ],
   "source": [
    "data(fpe)\n",
    "head(fpe)"
   ]
  },
  {
   "cell_type": "markdown",
   "metadata": {},
   "source": [
    "* We can mode the porcentage of votes transfered to the second term candidates (A1 and B2) using a regression\n",
    "\n",
    "<p>&nbsp;</p>\n",
    "\\begin{split}\n",
    "A_2 = \\beta_AA + \\beta_BB + \\beta_CC + \\beta_DD + \\beta_EE + \\beta_FF + \\beta_GG + \\beta_HH +  \\beta_JJ + \\beta_KK + \\beta_NN\n",
    "\\end{split}\n",
    "<p>&nbsp;</p>\n",
    "\n",
    "The proportions will likely change from region to region. Thus the error will have variance in proportion to the number of voters (i.e., variance of the sum not the mean). So we can set the weights as $1/EI$"
   ]
  },
  {
   "cell_type": "code",
   "execution_count": 32,
   "metadata": {},
   "outputs": [
    {
     "data": {
      "text/html": [
       "<style>\n",
       ".dl-inline {width: auto; margin:0; padding: 0}\n",
       ".dl-inline>dt, .dl-inline>dd {float: none; width: auto; display: inline-block}\n",
       ".dl-inline>dt::after {content: \":\\0020\"; padding-right: .5ex}\n",
       ".dl-inline>dt:not(:first-of-type) {padding-left: .5ex}\n",
       "</style><dl class=dl-inline><dt>A</dt><dd>1.067</dd><dt>B</dt><dd>-0.105</dd><dt>C</dt><dd>0.246</dd><dt>D</dt><dd>0.926</dd><dt>E</dt><dd>0.249</dd><dt>F</dt><dd>0.755</dd><dt>G</dt><dd>1.972</dd><dt>H</dt><dd>-0.566</dd><dt>J</dt><dd>0.612</dd><dt>K</dt><dd>1.211</dd><dt>N</dt><dd>0.529</dd></dl>\n"
      ],
      "text/latex": [
       "\\begin{description*}\n",
       "\\item[A] 1.067\n",
       "\\item[B] -0.105\n",
       "\\item[C] 0.246\n",
       "\\item[D] 0.926\n",
       "\\item[E] 0.249\n",
       "\\item[F] 0.755\n",
       "\\item[G] 1.972\n",
       "\\item[H] -0.566\n",
       "\\item[J] 0.612\n",
       "\\item[K] 1.211\n",
       "\\item[N] 0.529\n",
       "\\end{description*}\n"
      ],
      "text/markdown": [
       "A\n",
       ":   1.067B\n",
       ":   -0.105C\n",
       ":   0.246D\n",
       ":   0.926E\n",
       ":   0.249F\n",
       ":   0.755G\n",
       ":   1.972H\n",
       ":   -0.566J\n",
       ":   0.612K\n",
       ":   1.211N\n",
       ":   0.529\n",
       "\n"
      ],
      "text/plain": [
       "     A      B      C      D      E      F      G      H      J      K      N \n",
       " 1.067 -0.105  0.246  0.926  0.249  0.755  1.972 -0.566  0.612  1.211  0.529 "
      ]
     },
     "metadata": {},
     "output_type": "display_data"
    }
   ],
   "source": [
    "# not using intercept\n",
    "g = lm(A2 ~ A+B+C+D+E+F+G+H+J+K+N-1, data = fpe, weights = 1/EI)\n",
    "round(coef(g), 3)"
   ]
  },
  {
   "cell_type": "code",
   "execution_count": 34,
   "metadata": {},
   "outputs": [
    {
     "data": {
      "text/html": [
       "<style>\n",
       ".dl-inline {width: auto; margin:0; padding: 0}\n",
       ".dl-inline>dt, .dl-inline>dd {float: none; width: auto; display: inline-block}\n",
       ".dl-inline>dt::after {content: \":\\0020\"; padding-right: .5ex}\n",
       ".dl-inline>dt:not(:first-of-type) {padding-left: .5ex}\n",
       "</style><dl class=dl-inline><dt>A</dt><dd>1.075</dd><dt>B</dt><dd>-0.125</dd><dt>C</dt><dd>0.257</dd><dt>D</dt><dd>0.905</dd><dt>E</dt><dd>0.671</dd><dt>F</dt><dd>0.783</dd><dt>G</dt><dd>2.166</dd><dt>H</dt><dd>-0.854</dd><dt>J</dt><dd>0.144</dd><dt>K</dt><dd>0.518</dd><dt>N</dt><dd>0.558</dd></dl>\n"
      ],
      "text/latex": [
       "\\begin{description*}\n",
       "\\item[A] 1.075\n",
       "\\item[B] -0.125\n",
       "\\item[C] 0.257\n",
       "\\item[D] 0.905\n",
       "\\item[E] 0.671\n",
       "\\item[F] 0.783\n",
       "\\item[G] 2.166\n",
       "\\item[H] -0.854\n",
       "\\item[J] 0.144\n",
       "\\item[K] 0.518\n",
       "\\item[N] 0.558\n",
       "\\end{description*}\n"
      ],
      "text/markdown": [
       "A\n",
       ":   1.075B\n",
       ":   -0.125C\n",
       ":   0.257D\n",
       ":   0.905E\n",
       ":   0.671F\n",
       ":   0.783G\n",
       ":   2.166H\n",
       ":   -0.854J\n",
       ":   0.144K\n",
       ":   0.518N\n",
       ":   0.558\n",
       "\n"
      ],
      "text/plain": [
       "     A      B      C      D      E      F      G      H      J      K      N \n",
       " 1.075 -0.125  0.257  0.905  0.671  0.783  2.166 -0.854  0.144  0.518  0.558 "
      ]
     },
     "metadata": {},
     "output_type": "display_data"
    }
   ],
   "source": [
    "# without the weights\n",
    "round(lm(A2 ~ A+B+C+D+E+F+G+H+J+K+N-1, data = fpe)$coef, 3)"
   ]
  },
  {
   "cell_type": "markdown",
   "metadata": {},
   "source": [
    "* We can truncate the coeficients that violates the maximum or minimum values for proportions (A, B, G, H, and K)\n",
    "\n",
    "\n",
    "    1) A,G,k will be set to 1\n",
    "    2) B and H will  be set to zero"
   ]
  },
  {
   "cell_type": "code",
   "execution_count": 37,
   "metadata": {},
   "outputs": [
    {
     "data": {
      "text/html": [
       "<style>\n",
       ".dl-inline {width: auto; margin:0; padding: 0}\n",
       ".dl-inline>dt, .dl-inline>dd {float: none; width: auto; display: inline-block}\n",
       ".dl-inline>dt::after {content: \":\\0020\"; padding-right: .5ex}\n",
       ".dl-inline>dt:not(:first-of-type) {padding-left: .5ex}\n",
       "</style><dl class=dl-inline><dt>C</dt><dd>0.208</dd><dt>D</dt><dd>0.938</dd><dt>E</dt><dd>0.571</dd><dt>F</dt><dd>0.785</dd><dt>N</dt><dd>0.589</dd></dl>\n"
      ],
      "text/latex": [
       "\\begin{description*}\n",
       "\\item[C] 0.208\n",
       "\\item[D] 0.938\n",
       "\\item[E] 0.571\n",
       "\\item[F] 0.785\n",
       "\\item[N] 0.589\n",
       "\\end{description*}\n"
      ],
      "text/markdown": [
       "C\n",
       ":   0.208D\n",
       ":   0.938E\n",
       ":   0.571F\n",
       ":   0.785N\n",
       ":   0.589\n",
       "\n"
      ],
      "text/plain": [
       "    C     D     E     F     N \n",
       "0.208 0.938 0.571 0.785 0.589 "
      ]
     },
     "metadata": {},
     "output_type": "display_data"
    }
   ],
   "source": [
    "round(lm(A2 ~ offset(A+G+K)+ C+D+E+F+N-1, data = fpe)$coef, 3)"
   ]
  },
  {
   "cell_type": "markdown",
   "metadata": {},
   "source": [
    "#### Testing for Lack of fit\n",
    "\n",
    "* How can we test whether a model fits the data?\n",
    "* If the model is correct then $\\hat \\sigma^2$ shold be an unbiased estimator of $\\sigma^2$\n",
    "* However, if we have an incomplete model (or a wrong form), then $\\hat \\sigma^2$ will overestimate $\\sigma^2$. On the other hand, if the model is too complex and overfit the data, then $\\hat \\sigma^2$ will be underestimated\n",
    "\n",
    "With that idea in mind, we can compare $\\hat \\sigma^2$ to $\\sigma^2$. The problem is that we do not know $\\sigma^2$ in most cases.\n",
    "\n",
    "One way to estimate $\\sigma^2$ by measure the repeated meareurements without any model. The 'pure error' will then be $SS_{pe}/df_{pe}$\n",
    "\n",
    "\n",
    "<p>&nbsp;</p>\n",
    "\\begin{split}\n",
    "SS_{pe} = \\sum_j \\sum_i (y_{ij} - \\bar y_j)^2\n",
    "\\end{split}\n",
    "<p>&nbsp;</p>\n",
    "\n",
    "and\n",
    "\n",
    "<p>&nbsp;</p>\n",
    "\\begin{split}\n",
    "df_{pe} = \\sum_j (Number\\:of\\:replicates -1) = n - number \\:of\\:groups\n",
    "\\end{split}\n",
    "<p>&nbsp;</p>\n",
    "\n",
    "* This model is just a one-way analyis of variance (ANOVA) model\n",
    "\n",
    "#### Example\n",
    "\n",
    "13 specimens 90/10 Cu-Ni alloys with varying percentages of iron content. Specimens were submerged in water for 60 days and weight loss due to corrosion recorded "
   ]
  },
  {
   "cell_type": "code",
   "execution_count": 38,
   "metadata": {},
   "outputs": [
    {
     "data": {
      "image/png": "[encoded data removed]",
      "text/plain": [
       "plot without title"
      ]
     },
     "metadata": {
      "image/png": {
       "height": 420,
       "width": 420
      }
     },
     "output_type": "display_data"
    }
   ],
   "source": [
    "data(corrosion)\n",
    "plot(loss ~ Fe, data = corrosion, xlab = \"Iron content\", ylab = \"Weight loss\")"
   ]
  },
  {
   "cell_type": "code",
   "execution_count": 39,
   "metadata": {},
   "outputs": [
    {
     "data": {
      "text/plain": [
       "\n",
       "Call:\n",
       "lm(formula = loss ~ Fe, data = corrosion)\n",
       "\n",
       "Residuals:\n",
       "    Min      1Q  Median      3Q     Max \n",
       "-3.7980 -1.9464  0.2971  0.9924  5.7429 \n",
       "\n",
       "Coefficients:\n",
       "            Estimate Std. Error t value Pr(>|t|)    \n",
       "(Intercept)  129.787      1.403   92.52  < 2e-16 ***\n",
       "Fe           -24.020      1.280  -18.77 1.06e-09 ***\n",
       "---\n",
       "Signif. codes:  0 ‘***’ 0.001 ‘**’ 0.01 ‘*’ 0.05 ‘.’ 0.1 ‘ ’ 1\n",
       "\n",
       "Residual standard error: 3.058 on 11 degrees of freedom\n",
       "Multiple R-squared:  0.9697,\tAdjusted R-squared:  0.967 \n",
       "F-statistic: 352.3 on 1 and 11 DF,  p-value: 1.055e-09\n"
      ]
     },
     "metadata": {},
     "output_type": "display_data"
    }
   ],
   "source": [
    "# fitting a strainght line model\n",
    "g = lm(loss ~ Fe, data = corrosion)\n",
    "summary(g)"
   ]
  },
  {
   "cell_type": "code",
   "execution_count": 40,
   "metadata": {},
   "outputs": [
    {
     "data": {
      "image/png": "[encoded data removed]",
      "text/plain": [
       "plot without title"
      ]
     },
     "metadata": {
      "image/png": {
       "height": 420,
       "width": 420
      }
     },
     "output_type": "display_data"
    }
   ],
   "source": [
    "plot(loss ~ Fe, data = corrosion, xlab = \"Iron content\", ylab = \"Weight loss\")\n",
    "abline(coef(g))\n"
   ]
  },
  {
   "cell_type": "markdown",
   "metadata": {},
   "source": [
    "* Now let's fit a model that reserves a parameter for ach group of data with the same value o x"
   ]
  },
  {
   "cell_type": "code",
   "execution_count": 46,
   "metadata": {},
   "outputs": [
    {
     "data": {
      "text/plain": [
       "\n",
       "Call:\n",
       "lm(formula = loss ~ factor(Fe), data = corrosion)\n",
       "\n",
       "Residuals:\n",
       "    Min      1Q  Median      3Q     Max \n",
       "-1.2500 -0.9667  0.0000  1.0000  1.5333 \n",
       "\n",
       "Coefficients:\n",
       "               Estimate Std. Error t value Pr(>|t|)    \n",
       "(Intercept)     128.567      0.809 158.914 4.19e-12 ***\n",
       "factor(Fe)0.48   -5.567      1.279  -4.352  0.00481 ** \n",
       "factor(Fe)0.71  -16.617      1.279 -12.990 1.28e-05 ***\n",
       "factor(Fe)0.95  -24.667      1.618 -15.245 5.03e-06 ***\n",
       "factor(Fe)1.19  -27.067      1.618 -16.728 2.91e-06 ***\n",
       "factor(Fe)1.44  -36.717      1.279 -28.703 1.18e-07 ***\n",
       "factor(Fe)1.96  -43.617      1.279 -34.097 4.24e-08 ***\n",
       "---\n",
       "Signif. codes:  0 ‘***’ 0.001 ‘**’ 0.01 ‘*’ 0.05 ‘.’ 0.1 ‘ ’ 1\n",
       "\n",
       "Residual standard error: 1.401 on 6 degrees of freedom\n",
       "Multiple R-squared:  0.9965,\tAdjusted R-squared:  0.9931 \n",
       "F-statistic: 287.3 on 6 and 6 DF,  p-value: 4.152e-07\n"
      ]
     },
     "metadata": {},
     "output_type": "display_data"
    }
   ],
   "source": [
    "ga = lm(loss ~ factor(Fe), data = corrosion)\n",
    "summary(ga)"
   ]
  },
  {
   "cell_type": "code",
   "execution_count": 44,
   "metadata": {},
   "outputs": [
    {
     "data": {
      "image/png": "[encoded data removed]",
      "text/plain": [
       "plot without title"
      ]
     },
     "metadata": {
      "image/png": {
       "height": 420,
       "width": 420
      }
     },
     "output_type": "display_data"
    }
   ],
   "source": [
    "plot(loss ~ Fe, data = corrosion, xlab = \"Iron content\", ylab = \"Weight loss\")\n",
    "abline(coef(g))\n",
    "points(corrosion$Fe, fitted(ga), pch = 18)"
   ]
  },
  {
   "cell_type": "code",
   "execution_count": 45,
   "metadata": {},
   "outputs": [
    {
     "data": {
      "text/html": [
       "<table>\n",
       "<caption>A anova: 2 × 6</caption>\n",
       "<thead>\n",
       "\t<tr><th></th><th scope=col>Res.Df</th><th scope=col>RSS</th><th scope=col>Df</th><th scope=col>Sum of Sq</th><th scope=col>F</th><th scope=col>Pr(&gt;F)</th></tr>\n",
       "\t<tr><th></th><th scope=col>&lt;dbl&gt;</th><th scope=col>&lt;dbl&gt;</th><th scope=col>&lt;dbl&gt;</th><th scope=col>&lt;dbl&gt;</th><th scope=col>&lt;dbl&gt;</th><th scope=col>&lt;dbl&gt;</th></tr>\n",
       "</thead>\n",
       "<tbody>\n",
       "\t<tr><th scope=row>1</th><td>11</td><td>102.85023</td><td>NA</td><td>      NA</td><td>      NA</td><td>         NA</td></tr>\n",
       "\t<tr><th scope=row>2</th><td> 6</td><td> 11.78167</td><td> 5</td><td>91.06857</td><td>9.275621</td><td>0.008622834</td></tr>\n",
       "</tbody>\n",
       "</table>\n"
      ],
      "text/latex": [
       "A anova: 2 × 6\n",
       "\\begin{tabular}{r|llllll}\n",
       "  & Res.Df & RSS & Df & Sum of Sq & F & Pr(>F)\\\\\n",
       "  & <dbl> & <dbl> & <dbl> & <dbl> & <dbl> & <dbl>\\\\\n",
       "\\hline\n",
       "\t1 & 11 & 102.85023 & NA &       NA &       NA &          NA\\\\\n",
       "\t2 &  6 &  11.78167 &  5 & 91.06857 & 9.275621 & 0.008622834\\\\\n",
       "\\end{tabular}\n"
      ],
      "text/markdown": [
       "\n",
       "A anova: 2 × 6\n",
       "\n",
       "| <!--/--> | Res.Df &lt;dbl&gt; | RSS &lt;dbl&gt; | Df &lt;dbl&gt; | Sum of Sq &lt;dbl&gt; | F &lt;dbl&gt; | Pr(&gt;F) &lt;dbl&gt; |\n",
       "|---|---|---|---|---|---|---|\n",
       "| 1 | 11 | 102.85023 | NA |       NA |       NA |          NA |\n",
       "| 2 |  6 |  11.78167 |  5 | 91.06857 | 9.275621 | 0.008622834 |\n",
       "\n"
      ],
      "text/plain": [
       "  Res.Df RSS       Df Sum of Sq F        Pr(>F)     \n",
       "1 11     102.85023 NA       NA        NA          NA\n",
       "2  6      11.78167  5 91.06857  9.275621 0.008622834"
      ]
     },
     "metadata": {},
     "output_type": "display_data"
    }
   ],
   "source": [
    "# comparing the two models\n",
    "anova(g, ga)"
   ]
  },
  {
   "cell_type": "markdown",
   "metadata": {},
   "source": [
    "* P-values indicates that there is a lack of fit. The reason is that $SD \\sqrt{11.8/6}=1.4$ is substancially less than the regression standar error of 3.06"
   ]
  },
  {
   "cell_type": "markdown",
   "metadata": {},
   "source": [
    "* Two hypotheses can explain the low pure error SD:\n",
    "    \n",
    "    \n",
    " 1) Replicates are not genuine and the low pure error SD can be explained by some correlation in the\n",
    " \n",
    " 2) There are a third variable lurking in that is causing the lack of fit\n",
    " \n",
    "### How good a fit do we really want?\n",
    "\n",
    "* Increasing the fit by increasing the number of parameter will also increase variance in any prediction"
   ]
  },
  {
   "cell_type": "code",
   "execution_count": 47,
   "metadata": {},
   "outputs": [],
   "source": [
    "gp = lm(loss ~ Fe + I(Fe^2) + I(Fe^3) + I(Fe^4) + I(Fe^5) + I(Fe^6), data = corrosion)"
   ]
  },
  {
   "cell_type": "code",
   "execution_count": 50,
   "metadata": {},
   "outputs": [
    {
     "data": {
      "image/png": "[encoded data removed]",
      "text/plain": [
       "plot without title"
      ]
     },
     "metadata": {
      "image/png": {
       "height": 420,
       "width": 420
      }
     },
     "output_type": "display_data"
    }
   ],
   "source": [
    "plot(loss ~Fe, data = corrosion, ylim = c(60, 130))\n",
    "points(corrosion$Fe, fitted(ga), pch  =18)\n",
    "grid  =  seq(0,2, len = 50)\n",
    "lines(grid, predict(gp, data.frame(Fe=grid)))"
   ]
  },
  {
   "cell_type": "code",
   "execution_count": 54,
   "metadata": {},
   "outputs": [
    {
     "data": {
      "text/html": [
       "0.997"
      ],
      "text/latex": [
       "0.997"
      ],
      "text/markdown": [
       "0.997"
      ],
      "text/plain": [
       "[1] 0.997"
      ]
     },
     "metadata": {},
     "output_type": "display_data"
    }
   ],
   "source": [
    "round(summary(gp)$r.squared, 3)"
   ]
  },
  {
   "cell_type": "markdown",
   "metadata": {},
   "source": [
    "* This model is obviously overfitted\n",
    "* We should not focus too much on measures of fit such as $R^2$\n",
    "* Fit should reflet knowledge and simplicity"
   ]
  },
  {
   "cell_type": "markdown",
   "metadata": {},
   "source": [
    "### Robust Regression\n",
    "\n",
    "* When the errors are normal, OLS regression is clearly best, but when they are not, then we should consider different approaches\n",
    "* Of particular concern are the long-tailed error distributions\n",
    "    - One solution might be remove the largest residual values (outliers)...  but that often has limited impact because of our limited capacity of evaluate multiple outliers\n",
    "\n",
    "* One possible solution is the robust regression, which as several methods, but two will be shown\n",
    "\n",
    "#### M-Estimation\n",
    "\n",
    "We can estimate $\\beta$ such as \n",
    "\n",
    "<p>&nbsp;</p>\n",
    "\\begin{split}\n",
    "\\sum_{i=1}^n \\rho(y_i - x_i^T\\beta)\n",
    "\\end{split}\n",
    "<p>&nbsp;</p>\n",
    "\n",
    "where\n",
    "\\begin{split}\n",
    "\\rho(x) =\n",
    "\\begin{cases}\n",
    " \\frac{x^2}{2} \\text{ if $x \\leq c$} \\\\      \n",
    "  cx - \\frac{c^2}{2} \\text{ otherwise}\n",
    "\\end{cases}\n",
    "\\end{split}\n",
    "\n",
    "c should be a robust estimate of $\\rho$. A value proportional to the median of $\\hat \\epsilon$ is suitable\n",
    "\n",
    "with weights\n",
    "<p>&nbsp;</p>\n",
    "\\begin{split}\n",
    "\\sum_{i=1}^n w_ix_{ij}(y_i - \\sum_{i=1}^p x_{ij} \\beta_j)=0, \\:\\: j=1, ...p\n",
    "\\end{split}\n",
    "<p>&nbsp;</p>\n",
    "\n",
    "Differentiating in respect to $\\beta_j$ and setting everything to zero, we get\n",
    "\n",
    "with weights\n",
    "\n",
    "<p>&nbsp;</p>\n",
    "\\begin{split}\n",
    "\\sum_{i=1}^n p'(y_i - \\sum_{i=1}^p x_{ij} \\beta_j) x_{ij} =0 \\:\\: j=1, ...p\n",
    "\\end{split}\n",
    "<p>&nbsp;</p>\n",
    "\n",
    "Huber:\n",
    "\\begin{split}\n",
    "w(u)=\n",
    "\\begin{cases}\n",
    " \\frac{x^2}{2} \\text{ if $x \\leq c$} \\\\      \n",
    "  cx - \\frac{c^2}{2} \\text{ otherwise}\n",
    "\\end{cases}\n",
    "\\end{split}\n"
   ]
  },
  {
   "cell_type": "code",
   "execution_count": 3,
   "metadata": {},
   "outputs": [
    {
     "data": {
      "text/plain": [
       "\n",
       "Call:\n",
       "lm(formula = Species ~ Area + Elevation + Nearest + Scruz + Adjacent, \n",
       "    data = gala)\n",
       "\n",
       "Residuals:\n",
       "     Min       1Q   Median       3Q      Max \n",
       "-111.679  -34.898   -7.862   33.460  182.584 \n",
       "\n",
       "Coefficients:\n",
       "             Estimate Std. Error t value Pr(>|t|)    \n",
       "(Intercept)  7.068221  19.154198   0.369 0.715351    \n",
       "Area        -0.023938   0.022422  -1.068 0.296318    \n",
       "Elevation    0.319465   0.053663   5.953 3.82e-06 ***\n",
       "Nearest      0.009144   1.054136   0.009 0.993151    \n",
       "Scruz       -0.240524   0.215402  -1.117 0.275208    \n",
       "Adjacent    -0.074805   0.017700  -4.226 0.000297 ***\n",
       "---\n",
       "Signif. codes:  0 ‘***’ 0.001 ‘**’ 0.01 ‘*’ 0.05 ‘.’ 0.1 ‘ ’ 1\n",
       "\n",
       "Residual standard error: 60.98 on 24 degrees of freedom\n",
       "Multiple R-squared:  0.7658,\tAdjusted R-squared:  0.7171 \n",
       "F-statistic:  15.7 on 5 and 24 DF,  p-value: 6.838e-07\n"
      ]
     },
     "metadata": {},
     "output_type": "display_data"
    }
   ],
   "source": [
    "data(gala)\n",
    "gl = lm(Species ~ Area + Elevation + Nearest + Scruz + Adjacent, data = gala)\n",
    "summary(gl)"
   ]
  },
  {
   "cell_type": "code",
   "execution_count": 5,
   "metadata": {},
   "outputs": [
    {
     "data": {
      "text/plain": [
       "\n",
       "Call: rlm(formula = Species ~ Area + Elevation + Nearest + Scruz + \n",
       "    Adjacent, data = gala)\n",
       "Residuals:\n",
       "    Min      1Q  Median      3Q     Max \n",
       "-74.389 -18.353  -6.364  21.187 229.082 \n",
       "\n",
       "Coefficients:\n",
       "            Value   Std. Error t value\n",
       "(Intercept)  6.3611 12.3897     0.5134\n",
       "Area        -0.0061  0.0145    -0.4214\n",
       "Elevation    0.2476  0.0347     7.1320\n",
       "Nearest      0.3592  0.6819     0.5267\n",
       "Scruz       -0.1952  0.1393    -1.4013\n",
       "Adjacent    -0.0546  0.0114    -4.7648\n",
       "\n",
       "Residual standard error: 29.73 on 24 degrees of freedom"
      ]
     },
     "metadata": {},
     "output_type": "display_data"
    }
   ],
   "source": [
    "#let's perform robust regression using rlm function from MASS\n",
    "library(MASS)\n",
    "gr = rlm(Species ~ Area + Elevation + Nearest + Scruz + Adjacent, data = gala)\n",
    "summary(gr)"
   ]
  },
  {
   "cell_type": "markdown",
   "metadata": {},
   "source": [
    "* Because p-values are not given, we can use asymptotic normality of the estimator to make approximate inferences using the t-values. "
   ]
  },
  {
   "cell_type": "code",
   "execution_count": 6,
   "metadata": {},
   "outputs": [
    {
     "name": "stderr",
     "output_type": "stream",
     "text": [
      "Loading required package: SparseM\n",
      "\n",
      "\n",
      "Attaching package: ‘SparseM’\n",
      "\n",
      "\n",
      "The following object is masked from ‘package:base’:\n",
      "\n",
      "    backsolve\n",
      "\n",
      "\n"
     ]
    }
   ],
   "source": [
    "# LAD regression using quantreg package\n",
    "library(quantreg)"
   ]
  },
  {
   "cell_type": "code",
   "execution_count": 7,
   "metadata": {},
   "outputs": [
    {
     "data": {
      "text/plain": [
       "\n",
       "Call: rq(formula = Species ~ Area + Elevation + Nearest + Scruz + Adjacent)\n",
       "\n",
       "tau: [1] 0.5\n",
       "\n",
       "Coefficients:\n",
       "            coefficients lower bd  upper bd \n",
       "(Intercept)   1.31445    -19.87777  24.37411\n",
       "Area         -0.00306     -0.03185   0.52800\n",
       "Elevation     0.23211      0.12453   0.50196\n",
       "Nearest       0.16366     -3.16339   2.98896\n",
       "Scruz        -0.12314     -0.47987   0.13476\n",
       "Adjacent     -0.05185     -0.10458   0.01739"
      ]
     },
     "metadata": {},
     "output_type": "display_data"
    }
   ],
   "source": [
    "attach(gala)\n",
    "gq = rq(Species ~ Area + Elevation + Nearest + Scruz + Adjacent)\n",
    "summary(gq)\n",
    "detach(gala)"
   ]
  },
  {
   "cell_type": "markdown",
   "metadata": {},
   "source": [
    "#### Least Trimmed Squares\n",
    "\n",
    "Another popular method is least trimmed squares (LTS)\n",
    "* This method has high breakdown point beacuse it can tolerate a large number of outliers depending on how q is chosen\n",
    "* LTS is an example of *resistance* regression method"
   ]
  },
  {
   "cell_type": "code",
   "execution_count": 13,
   "metadata": {},
   "outputs": [
    {
     "ename": "ERROR",
     "evalue": "Error in library(lqs): there is no package called ‘lqs’\n",
     "output_type": "error",
     "traceback": [
      "Error in library(lqs): there is no package called ‘lqs’\nTraceback:\n",
      "1. library(lqs)"
     ]
    }
   ],
   "source": [
    "library(lqs)"
   ]
  },
  {
   "cell_type": "code",
   "execution_count": null,
   "metadata": {},
   "outputs": [],
   "source": []
  }
 ],
 "metadata": {
  "kernelspec": {
   "display_name": "R 4.0",
   "language": "R",
   "name": "ir40"
  },
  "language_info": {
   "codemirror_mode": "r",
   "file_extension": ".r",
   "mimetype": "text/x-r-source",
   "name": "R",
   "pygments_lexer": "r",
   "version": "4.0.3"
  }
 },
 "nbformat": 4,
 "nbformat_minor": 4
}
