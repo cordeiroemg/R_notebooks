{
 "cells": [
  {
   "cell_type": "markdown",
   "metadata": {},
   "source": [
    "# Problems with the Predictors\n",
    "\n",
    "## Errors in the Predictors\n",
    "\n",
    "* The typical regression model $Y=X\\beta+\\epsilon$ allows for y being measured with error by having the $\\epsilon$ term, but what if $X$ is measured with error?\n",
    "* For observational data, $X$ can be considered a random variable, but the regression inference proceeds conditional on a fixed value of $X$. So, the observerd $Y$ is conditional to fixed values of $X$.\n",
    "\n",
    "Suppose that observed ($x_i^{obs}, y_i^{obs}$) have the following relationship with the true values ($x_i^{true}, y_i^{true}$)\n",
    "\n",
    "\n",
    "<p>&nbsp;</p>\n",
    "\\begin{split}\n",
    "y_i^{obs} = y_i^{true}+ \\epsilon_i \\\\\n",
    "x_i^{obs} = x_i^{true}+ \\delta_i\n",
    "\\end{split}\n",
    "<p>&nbsp;</p>\n",
    "\n",
    "Thus, the $y_i^{true} = \\beta_0 + \\beta_1 x_i^{true}$ will be given by:\n",
    "\n",
    "<p>&nbsp;</p>\n",
    "\\begin{split}\n",
    "y_i^{obs} = \\beta_0 + \\beta_1 x_i^{obs} + (\\epsilon_1- \\beta_i \\delta_i)\n",
    "\\end{split}\n",
    "<p>&nbsp;</p>\n",
    "\n",
    "And the variance for the observational data $\\sigma_x^2$:\n",
    "\n",
    "<p>&nbsp;</p>\n",
    "\\begin{split}\n",
    "\\sigma_x^2  \\sum(x_i^{true} - \\bar x^{true} /n\n",
    "\\end{split}\n",
    "<p>&nbsp;</p>\n",
    "\n",
    "where $\\sigma_x^2$ is the sample variance of $X^{true}$ while for a controlled experiment we can view it as just a numerical measure of the spread of the design. Similarly;\n",
    "\n",
    "<p>&nbsp;</p>\n",
    "\\begin{split}\n",
    "E \\hat \\beta_1 = \\beta_1 \\frac{1}{1+ \\sigma_{\\delta}^2/ \\sigma_x^2}\n",
    "\\end{split}\n",
    "<p>&nbsp;</p>\n",
    "\n",
    "1. **Observational data**: If $\\sigma_{\\delta}$ is much smaller than $\\sigma_x^2$, then the problem can be ignored. That means that, if the scale of variation is small in relation to the range of $X$, then we should not be too concerned.\n",
    "\n",
    "2. **controlled experiments**: Two ways errors in $X$ may arise. (1) measuring imprecision; if we repeat many times, we will get different $x^{obs}$ but the same $x^{true}$. (2) estimate imprecision; if we repeat many times, we will get the same $x^{obs}$ but different $x^{true}$.\n",
    "\n",
    "If the error cannot be ignored, then we must find a new method to estimate $\\hat \\beta_1$.\n",
    "\n",
    "<p>&nbsp;</p>\n",
    "\\begin{split}\n",
    "\\frac{y - \\bar y}{SD_y} = r \\frac{(x - \\bar x)}{SD_x} \\\\\n",
    "\\end{split}\n",
    "<p>&nbsp;</p>\n",
    " so:\n",
    " \n",
    " <p>&nbsp;</p>\n",
    "\\begin{split}\n",
    "\\hat \\beta_1 = r \\frac{SD_y}{SD_x}\n",
    "\\end{split}\n",
    "<p>&nbsp;</p>"
   ]
  },
  {
   "cell_type": "code",
   "execution_count": null,
   "metadata": {},
   "outputs": [],
   "source": [
    "library(faraway)"
   ]
  },
  {
   "cell_type": "code",
   "execution_count": 3,
   "metadata": {},
   "outputs": [
    {
     "data": {
      "text/plain": [
       "\n",
       "Call:\n",
       "lm(formula = dist ~ speed, data = cars)\n",
       "\n",
       "Residuals:\n",
       "    Min      1Q  Median      3Q     Max \n",
       "-29.069  -9.525  -2.272   9.215  43.201 \n",
       "\n",
       "Coefficients:\n",
       "            Estimate Std. Error t value Pr(>|t|)    \n",
       "(Intercept) -17.5791     6.7584  -2.601   0.0123 *  \n",
       "speed         3.9324     0.4155   9.464 1.49e-12 ***\n",
       "---\n",
       "Signif. codes:  0 ‘***’ 0.001 ‘**’ 0.01 ‘*’ 0.05 ‘.’ 0.1 ‘ ’ 1\n",
       "\n",
       "Residual standard error: 15.38 on 48 degrees of freedom\n",
       "Multiple R-squared:  0.6511,\tAdjusted R-squared:  0.6438 \n",
       "F-statistic: 89.57 on 1 and 48 DF,  p-value: 1.49e-12\n"
      ]
     },
     "metadata": {},
     "output_type": "display_data"
    },
    {
     "data": {
      "image/png": "[encoded data removed]",
      "text/plain": [
       "plot without title"
      ]
     },
     "metadata": {
      "image/png": {
       "height": 420,
       "width": 420
      }
     },
     "output_type": "display_data"
    }
   ],
   "source": [
    "data(cars)\n",
    "plot(dist ~ speed, data = cars, ylab = \"distance\")\n",
    "g = lm(dist ~ speed, data = cars)\n",
    "summary(g)"
   ]
  },
  {
   "cell_type": "markdown",
   "metadata": {},
   "source": [
    "* Let's add a measurement error issuer to the predictor"
   ]
  },
  {
   "cell_type": "code",
   "execution_count": 5,
   "metadata": {},
   "outputs": [
    {
     "data": {
      "text/html": [
       "<style>\n",
       ".dl-inline {width: auto; margin:0; padding: 0}\n",
       ".dl-inline>dt, .dl-inline>dd {float: none; width: auto; display: inline-block}\n",
       ".dl-inline>dt::after {content: \":\\0020\"; padding-right: .5ex}\n",
       ".dl-inline>dt:not(:first-of-type) {padding-left: .5ex}\n",
       "</style><dl class=dl-inline><dt>(Intercept)</dt><dd>-15.8538</dd><dt>I(speed + rnorm(50))</dt><dd>3.8387</dd></dl>\n"
      ],
      "text/latex": [
       "\\begin{description*}\n",
       "\\item[(Intercept)] -15.8538\n",
       "\\item[I(speed + rnorm(50))] 3.8387\n",
       "\\end{description*}\n"
      ],
      "text/markdown": [
       "(Intercept)\n",
       ":   -15.8538I(speed + rnorm(50))\n",
       ":   3.8387\n",
       "\n"
      ],
      "text/plain": [
       "         (Intercept) I(speed + rnorm(50)) \n",
       "            -15.8538               3.8387 "
      ]
     },
     "metadata": {},
     "output_type": "display_data"
    }
   ],
   "source": [
    "ge1 = lm(dist ~I(speed+rnorm(50)), data = cars)\n",
    "round(coef(ge1), 4)"
   ]
  },
  {
   "cell_type": "code",
   "execution_count": 6,
   "metadata": {},
   "outputs": [
    {
     "data": {
      "text/html": [
       "<style>\n",
       ".dl-inline {width: auto; margin:0; padding: 0}\n",
       ".dl-inline>dt, .dl-inline>dd {float: none; width: auto; display: inline-block}\n",
       ".dl-inline>dt::after {content: \":\\0020\"; padding-right: .5ex}\n",
       ".dl-inline>dt:not(:first-of-type) {padding-left: .5ex}\n",
       "</style><dl class=dl-inline><dt>(Intercept)</dt><dd>-10.4224</dd><dt>I(speed + 2 * rnorm(50))</dt><dd>3.5124</dd></dl>\n"
      ],
      "text/latex": [
       "\\begin{description*}\n",
       "\\item[(Intercept)] -10.4224\n",
       "\\item[I(speed + 2 * rnorm(50))] 3.5124\n",
       "\\end{description*}\n"
      ],
      "text/markdown": [
       "(Intercept)\n",
       ":   -10.4224I(speed + 2 * rnorm(50))\n",
       ":   3.5124\n",
       "\n"
      ],
      "text/plain": [
       "             (Intercept) I(speed + 2 * rnorm(50)) \n",
       "                -10.4224                   3.5124 "
      ]
     },
     "metadata": {},
     "output_type": "display_data"
    }
   ],
   "source": [
    "ge2 = lm(dist ~I(speed+ 2 * rnorm(50)), data = cars)\n",
    "round(coef(ge2), 4)"
   ]
  },
  {
   "cell_type": "code",
   "execution_count": 9,
   "metadata": {},
   "outputs": [
    {
     "data": {
      "text/html": [
       "<style>\n",
       ".dl-inline {width: auto; margin:0; padding: 0}\n",
       ".dl-inline>dt, .dl-inline>dd {float: none; width: auto; display: inline-block}\n",
       ".dl-inline>dt::after {content: \":\\0020\"; padding-right: .5ex}\n",
       ".dl-inline>dt:not(:first-of-type) {padding-left: .5ex}\n",
       "</style><dl class=dl-inline><dt>(Intercept)</dt><dd>16.2947</dd><dt>I(speed + 5 * rnorm(50))</dt><dd>1.9292</dd></dl>\n"
      ],
      "text/latex": [
       "\\begin{description*}\n",
       "\\item[(Intercept)] 16.2947\n",
       "\\item[I(speed + 5 * rnorm(50))] 1.9292\n",
       "\\end{description*}\n"
      ],
      "text/markdown": [
       "(Intercept)\n",
       ":   16.2947I(speed + 5 * rnorm(50))\n",
       ":   1.9292\n",
       "\n"
      ],
      "text/plain": [
       "             (Intercept) I(speed + 5 * rnorm(50)) \n",
       "                 16.2947                   1.9292 "
      ]
     },
     "metadata": {},
     "output_type": "display_data"
    }
   ],
   "source": [
    "ge3 = lm(dist ~I(speed+ 5 * rnorm(50)), data = cars)\n",
    "round(coef(ge3), 4)"
   ]
  },
  {
   "cell_type": "code",
   "execution_count": 10,
   "metadata": {},
   "outputs": [
    {
     "data": {
      "image/png": "[encoded data removed]",
      "text/plain": [
       "plot without title"
      ]
     },
     "metadata": {
      "image/png": {
       "height": 420,
       "width": 420
      }
     },
     "output_type": "display_data"
    }
   ],
   "source": [
    "plot(dist ~ speed, data = cars, ylab = \"distance\")\n",
    "abline(ge1, lty = 2)\n",
    "abline(ge2, lty = 3)\n",
    "abline(ge3, lty = 4)"
   ]
  },
  {
   "cell_type": "markdown",
   "metadata": {},
   "source": [
    "* The slope becomes shallower as the amount of noise increases\n",
    "\n",
    "#### Changes of Scale\n",
    "\n",
    "* $\\hat \\beta =3.51$ it is easier to parse than $\\hat \\beta =0.000000351$\n",
    "* Change of unit might aid interpretability\n",
    "* Rescaling $x_i$ leaves the $t-test$ and $F-test$ unchanged\n",
    "* Rescaling also does affect $\\hat \\sigma^2$ and $R^2$ estimations that will  be rescaled"
   ]
  },
  {
   "cell_type": "code",
   "execution_count": 2,
   "metadata": {},
   "outputs": [
    {
     "data": {
      "text/plain": [
       "\n",
       "Call:\n",
       "lm(formula = sr ~ pop15 + pop75 + dpi + ddpi, data = savings)\n",
       "\n",
       "Residuals:\n",
       "    Min      1Q  Median      3Q     Max \n",
       "-8.2422 -2.6857 -0.2488  2.4280  9.7509 \n",
       "\n",
       "Coefficients:\n",
       "              Estimate Std. Error t value Pr(>|t|)    \n",
       "(Intercept) 28.5660865  7.3545161   3.884 0.000334 ***\n",
       "pop15       -0.4611931  0.1446422  -3.189 0.002603 ** \n",
       "pop75       -1.6914977  1.0835989  -1.561 0.125530    \n",
       "dpi         -0.0003369  0.0009311  -0.362 0.719173    \n",
       "ddpi         0.4096949  0.1961971   2.088 0.042471 *  \n",
       "---\n",
       "Signif. codes:  0 ‘***’ 0.001 ‘**’ 0.01 ‘*’ 0.05 ‘.’ 0.1 ‘ ’ 1\n",
       "\n",
       "Residual standard error: 3.803 on 45 degrees of freedom\n",
       "Multiple R-squared:  0.3385,\tAdjusted R-squared:  0.2797 \n",
       "F-statistic: 5.756 on 4 and 45 DF,  p-value: 0.0007904\n"
      ]
     },
     "metadata": {},
     "output_type": "display_data"
    }
   ],
   "source": [
    "data(savings)\n",
    "g = lm(sr ~ pop15 + pop75 + dpi + ddpi, data = savings)\n",
    "summary(g)"
   ]
  },
  {
   "cell_type": "code",
   "execution_count": 3,
   "metadata": {},
   "outputs": [
    {
     "data": {
      "text/plain": [
       "\n",
       "Call:\n",
       "lm(formula = sr ~ pop15 + pop75 + I(dpi/1000) + ddpi, data = savings)\n",
       "\n",
       "Residuals:\n",
       "    Min      1Q  Median      3Q     Max \n",
       "-8.2422 -2.6857 -0.2488  2.4280  9.7509 \n",
       "\n",
       "Coefficients:\n",
       "            Estimate Std. Error t value Pr(>|t|)    \n",
       "(Intercept)  28.5661     7.3545   3.884 0.000334 ***\n",
       "pop15        -0.4612     0.1446  -3.189 0.002603 ** \n",
       "pop75        -1.6915     1.0836  -1.561 0.125530    \n",
       "I(dpi/1000)  -0.3369     0.9311  -0.362 0.719173    \n",
       "ddpi          0.4097     0.1962   2.088 0.042471 *  \n",
       "---\n",
       "Signif. codes:  0 ‘***’ 0.001 ‘**’ 0.01 ‘*’ 0.05 ‘.’ 0.1 ‘ ’ 1\n",
       "\n",
       "Residual standard error: 3.803 on 45 degrees of freedom\n",
       "Multiple R-squared:  0.3385,\tAdjusted R-squared:  0.2797 \n",
       "F-statistic: 5.756 on 4 and 45 DF,  p-value: 0.0007904\n"
      ]
     },
     "metadata": {},
     "output_type": "display_data"
    }
   ],
   "source": [
    "g = lm(sr ~ pop15 + pop75 + I(dpi/1000) + ddpi, data = savings)\n",
    "summary(g)"
   ]
  },
  {
   "cell_type": "code",
   "execution_count": 11,
   "metadata": {},
   "outputs": [
    {
     "data": {
      "text/plain": [
       "\n",
       "Call:\n",
       "lm(formula = sr ~ ., data = scsav)\n",
       "\n",
       "Residuals:\n",
       "     Min       1Q   Median       3Q      Max \n",
       "-1.83962 -0.59944 -0.05553  0.54191  2.17635 \n",
       "\n",
       "Coefficients:\n",
       "              Estimate Std. Error t value Pr(>|t|)   \n",
       "(Intercept)  4.291e-16  1.200e-01   0.000   1.0000   \n",
       "pop15       -9.420e-01  2.954e-01  -3.189   0.0026 **\n",
       "pop75       -4.873e-01  3.122e-01  -1.561   0.1255   \n",
       "dpi         -7.451e-02  2.059e-01  -0.362   0.7192   \n",
       "ddpi         2.624e-01  1.257e-01   2.088   0.0425 * \n",
       "---\n",
       "Signif. codes:  0 ‘***’ 0.001 ‘**’ 0.01 ‘*’ 0.05 ‘.’ 0.1 ‘ ’ 1\n",
       "\n",
       "Residual standard error: 0.8487 on 45 degrees of freedom\n",
       "Multiple R-squared:  0.3385,\tAdjusted R-squared:  0.2797 \n",
       "F-statistic: 5.756 on 4 and 45 DF,  p-value: 0.0007904\n"
      ]
     },
     "metadata": {},
     "output_type": "display_data"
    }
   ],
   "source": [
    "# rescaling using mean=0 and SD=1\n",
    "scsav = data.frame(scale(savings))\n",
    "g = lm(sr ~ ., data = scsav)\n",
    "summary(g)"
   ]
  },
  {
   "cell_type": "markdown",
   "metadata": {},
   "source": [
    "#### Collinearity\n",
    "\n",
    "* when some predictors are linear combination of others, the $ X^TX$ is singular, and we have exaxt collinearity\n",
    "* if $ X^TX$ is not singular, then we have multicollinearity\n",
    "* Multicollinearity can cause multiple problems with parameter estimates \n",
    "\n",
    "How to detect it?\n",
    "1. Examination of the correlation matrix of the predictors\n",
    "2. A regression of $x_i$ on all other predictors gives $R_i^2$. $R_i^2$ close to 1 indicates a problem\n",
    "3. Examine the eigenvalue of $ X^TX$, where $\\lambda_1$ is the largest eigenvalue with the others in decreasing orther\n",
    "\n",
    "\n",
    "<p>&nbsp;</p>\n",
    "\\begin{split}\n",
    "\\kappa = \\sqrt{ \\frac{\\lambda_1}{\\lambda_p}}\n",
    "\\end{split}\n",
    "<p>&nbsp;</p>\n",
    "\n",
    "where $\\kappa \\geq 30 $ is consider large\n",
    "\n",
    "* Alternative calculations involve standartizing the predictors and/or excluding the intercept term\n",
    "\n",
    "<p>&nbsp;</p>\n",
    "\\begin{split}\n",
    "S_{x_j, x_j} = \\sum_i (x_{ij} - \\bar x_{ij})^2\n",
    "\\end{split}\n",
    "<p>&nbsp;</p>\n",
    "\n",
    "Then\n",
    "\n",
    "<p>&nbsp;</p>\n",
    "\\begin{split}\n",
    "var \\hat \\beta_j = \\sigma^2  \\left( \\frac{1}{1-R_j^2} \\right) \\frac{1}{S_{x_j, x_j}}\n",
    "\\end{split}\n",
    "<p>&nbsp;</p>\n",
    "\n",
    "If $R_j^2$ is close to one, then the variance inflation factor $\\left( \\frac{1}{1-R_j^2} \\right)$ will be large."
   ]
  },
  {
   "cell_type": "code",
   "execution_count": 4,
   "metadata": {},
   "outputs": [
    {
     "data": {
      "text/plain": [
       "\n",
       "Call:\n",
       "lm(formula = hipcenter ~ ., data = seatpos)\n",
       "\n",
       "Residuals:\n",
       "    Min      1Q  Median      3Q     Max \n",
       "-73.827 -22.833  -3.678  25.017  62.337 \n",
       "\n",
       "Coefficients:\n",
       "             Estimate Std. Error t value Pr(>|t|)  \n",
       "(Intercept) 436.43213  166.57162   2.620   0.0138 *\n",
       "Age           0.77572    0.57033   1.360   0.1843  \n",
       "Weight        0.02631    0.33097   0.080   0.9372  \n",
       "HtShoes      -2.69241    9.75304  -0.276   0.7845  \n",
       "Ht            0.60134   10.12987   0.059   0.9531  \n",
       "Seated        0.53375    3.76189   0.142   0.8882  \n",
       "Arm          -1.32807    3.90020  -0.341   0.7359  \n",
       "Thigh        -1.14312    2.66002  -0.430   0.6706  \n",
       "Leg          -6.43905    4.71386  -1.366   0.1824  \n",
       "---\n",
       "Signif. codes:  0 ‘***’ 0.001 ‘**’ 0.01 ‘*’ 0.05 ‘.’ 0.1 ‘ ’ 1\n",
       "\n",
       "Residual standard error: 37.72 on 29 degrees of freedom\n",
       "Multiple R-squared:  0.6866,\tAdjusted R-squared:  0.6001 \n",
       "F-statistic:  7.94 on 8 and 29 DF,  p-value: 1.306e-05\n"
      ]
     },
     "metadata": {},
     "output_type": "display_data"
    }
   ],
   "source": [
    "data(seatpos)\n",
    "g =  lm(hipcenter ~ ., data = seatpos)\n",
    "summary(g)"
   ]
  },
  {
   "cell_type": "markdown",
   "metadata": {},
   "source": [
    "* The model  already shows signs of multicollinearity. None of the individual p-values were significant, but F-statistics is very significant "
   ]
  },
  {
   "cell_type": "code",
   "execution_count": 5,
   "metadata": {},
   "outputs": [
    {
     "data": {
      "text/html": [
       "<table>\n",
       "<caption>A matrix: 9 × 9 of type dbl</caption>\n",
       "<thead>\n",
       "\t<tr><th></th><th scope=col>Age</th><th scope=col>Weight</th><th scope=col>HtShoes</th><th scope=col>Ht</th><th scope=col>Seated</th><th scope=col>Arm</th><th scope=col>Thigh</th><th scope=col>Leg</th><th scope=col>hipcenter</th></tr>\n",
       "</thead>\n",
       "<tbody>\n",
       "\t<tr><th scope=row>Age</th><td> 1.000</td><td> 0.081</td><td>-0.079</td><td>-0.090</td><td>-0.170</td><td> 0.360</td><td> 0.091</td><td>-0.042</td><td> 0.205</td></tr>\n",
       "\t<tr><th scope=row>Weight</th><td> 0.081</td><td> 1.000</td><td> 0.828</td><td> 0.829</td><td> 0.776</td><td> 0.698</td><td> 0.573</td><td> 0.784</td><td>-0.640</td></tr>\n",
       "\t<tr><th scope=row>HtShoes</th><td>-0.079</td><td> 0.828</td><td> 1.000</td><td> 0.998</td><td> 0.930</td><td> 0.752</td><td> 0.725</td><td> 0.908</td><td>-0.797</td></tr>\n",
       "\t<tr><th scope=row>Ht</th><td>-0.090</td><td> 0.829</td><td> 0.998</td><td> 1.000</td><td> 0.928</td><td> 0.752</td><td> 0.735</td><td> 0.910</td><td>-0.799</td></tr>\n",
       "\t<tr><th scope=row>Seated</th><td>-0.170</td><td> 0.776</td><td> 0.930</td><td> 0.928</td><td> 1.000</td><td> 0.625</td><td> 0.607</td><td> 0.812</td><td>-0.731</td></tr>\n",
       "\t<tr><th scope=row>Arm</th><td> 0.360</td><td> 0.698</td><td> 0.752</td><td> 0.752</td><td> 0.625</td><td> 1.000</td><td> 0.671</td><td> 0.754</td><td>-0.585</td></tr>\n",
       "\t<tr><th scope=row>Thigh</th><td> 0.091</td><td> 0.573</td><td> 0.725</td><td> 0.735</td><td> 0.607</td><td> 0.671</td><td> 1.000</td><td> 0.650</td><td>-0.591</td></tr>\n",
       "\t<tr><th scope=row>Leg</th><td>-0.042</td><td> 0.784</td><td> 0.908</td><td> 0.910</td><td> 0.812</td><td> 0.754</td><td> 0.650</td><td> 1.000</td><td>-0.787</td></tr>\n",
       "\t<tr><th scope=row>hipcenter</th><td> 0.205</td><td>-0.640</td><td>-0.797</td><td>-0.799</td><td>-0.731</td><td>-0.585</td><td>-0.591</td><td>-0.787</td><td> 1.000</td></tr>\n",
       "</tbody>\n",
       "</table>\n"
      ],
      "text/latex": [
       "A matrix: 9 × 9 of type dbl\n",
       "\\begin{tabular}{r|lllllllll}\n",
       "  & Age & Weight & HtShoes & Ht & Seated & Arm & Thigh & Leg & hipcenter\\\\\n",
       "\\hline\n",
       "\tAge &  1.000 &  0.081 & -0.079 & -0.090 & -0.170 &  0.360 &  0.091 & -0.042 &  0.205\\\\\n",
       "\tWeight &  0.081 &  1.000 &  0.828 &  0.829 &  0.776 &  0.698 &  0.573 &  0.784 & -0.640\\\\\n",
       "\tHtShoes & -0.079 &  0.828 &  1.000 &  0.998 &  0.930 &  0.752 &  0.725 &  0.908 & -0.797\\\\\n",
       "\tHt & -0.090 &  0.829 &  0.998 &  1.000 &  0.928 &  0.752 &  0.735 &  0.910 & -0.799\\\\\n",
       "\tSeated & -0.170 &  0.776 &  0.930 &  0.928 &  1.000 &  0.625 &  0.607 &  0.812 & -0.731\\\\\n",
       "\tArm &  0.360 &  0.698 &  0.752 &  0.752 &  0.625 &  1.000 &  0.671 &  0.754 & -0.585\\\\\n",
       "\tThigh &  0.091 &  0.573 &  0.725 &  0.735 &  0.607 &  0.671 &  1.000 &  0.650 & -0.591\\\\\n",
       "\tLeg & -0.042 &  0.784 &  0.908 &  0.910 &  0.812 &  0.754 &  0.650 &  1.000 & -0.787\\\\\n",
       "\thipcenter &  0.205 & -0.640 & -0.797 & -0.799 & -0.731 & -0.585 & -0.591 & -0.787 &  1.000\\\\\n",
       "\\end{tabular}\n"
      ],
      "text/markdown": [
       "\n",
       "A matrix: 9 × 9 of type dbl\n",
       "\n",
       "| <!--/--> | Age | Weight | HtShoes | Ht | Seated | Arm | Thigh | Leg | hipcenter |\n",
       "|---|---|---|---|---|---|---|---|---|---|\n",
       "| Age |  1.000 |  0.081 | -0.079 | -0.090 | -0.170 |  0.360 |  0.091 | -0.042 |  0.205 |\n",
       "| Weight |  0.081 |  1.000 |  0.828 |  0.829 |  0.776 |  0.698 |  0.573 |  0.784 | -0.640 |\n",
       "| HtShoes | -0.079 |  0.828 |  1.000 |  0.998 |  0.930 |  0.752 |  0.725 |  0.908 | -0.797 |\n",
       "| Ht | -0.090 |  0.829 |  0.998 |  1.000 |  0.928 |  0.752 |  0.735 |  0.910 | -0.799 |\n",
       "| Seated | -0.170 |  0.776 |  0.930 |  0.928 |  1.000 |  0.625 |  0.607 |  0.812 | -0.731 |\n",
       "| Arm |  0.360 |  0.698 |  0.752 |  0.752 |  0.625 |  1.000 |  0.671 |  0.754 | -0.585 |\n",
       "| Thigh |  0.091 |  0.573 |  0.725 |  0.735 |  0.607 |  0.671 |  1.000 |  0.650 | -0.591 |\n",
       "| Leg | -0.042 |  0.784 |  0.908 |  0.910 |  0.812 |  0.754 |  0.650 |  1.000 | -0.787 |\n",
       "| hipcenter |  0.205 | -0.640 | -0.797 | -0.799 | -0.731 | -0.585 | -0.591 | -0.787 |  1.000 |\n",
       "\n"
      ],
      "text/plain": [
       "          Age    Weight HtShoes Ht     Seated Arm    Thigh  Leg    hipcenter\n",
       "Age        1.000  0.081 -0.079  -0.090 -0.170  0.360  0.091 -0.042  0.205   \n",
       "Weight     0.081  1.000  0.828   0.829  0.776  0.698  0.573  0.784 -0.640   \n",
       "HtShoes   -0.079  0.828  1.000   0.998  0.930  0.752  0.725  0.908 -0.797   \n",
       "Ht        -0.090  0.829  0.998   1.000  0.928  0.752  0.735  0.910 -0.799   \n",
       "Seated    -0.170  0.776  0.930   0.928  1.000  0.625  0.607  0.812 -0.731   \n",
       "Arm        0.360  0.698  0.752   0.752  0.625  1.000  0.671  0.754 -0.585   \n",
       "Thigh      0.091  0.573  0.725   0.735  0.607  0.671  1.000  0.650 -0.591   \n",
       "Leg       -0.042  0.784  0.908   0.910  0.812  0.754  0.650  1.000 -0.787   \n",
       "hipcenter  0.205 -0.640 -0.797  -0.799 -0.731 -0.585 -0.591 -0.787  1.000   "
      ]
     },
     "metadata": {},
     "output_type": "display_data"
    }
   ],
   "source": [
    "# Pairwise correlation\n",
    "round(cor(seatpos), 3)"
   ]
  },
  {
   "cell_type": "code",
   "execution_count": 8,
   "metadata": {},
   "outputs": [
    {
     "data": {
      "text/html": [
       "<style>\n",
       ".list-inline {list-style: none; margin:0; padding: 0}\n",
       ".list-inline>li {display: inline-block}\n",
       ".list-inline>li:not(:last-child)::after {content: \"\\00b7\"; padding: 0 .5ex}\n",
       "</style>\n",
       "<ol class=list-inline><li>3653671.363</li><li>21479.48</li><li>9043.225</li><li>298.953</li><li>148.395</li><li>81.174</li><li>53.362</li><li>7.298</li></ol>\n"
      ],
      "text/latex": [
       "\\begin{enumerate*}\n",
       "\\item 3653671.363\n",
       "\\item 21479.48\n",
       "\\item 9043.225\n",
       "\\item 298.953\n",
       "\\item 148.395\n",
       "\\item 81.174\n",
       "\\item 53.362\n",
       "\\item 7.298\n",
       "\\end{enumerate*}\n"
      ],
      "text/markdown": [
       "1. 3653671.363\n",
       "2. 21479.48\n",
       "3. 9043.225\n",
       "4. 298.953\n",
       "5. 148.395\n",
       "6. 81.174\n",
       "7. 53.362\n",
       "8. 7.298\n",
       "\n",
       "\n"
      ],
      "text/plain": [
       "[1] 3653671.363   21479.480    9043.225     298.953     148.395      81.174\n",
       "[7]      53.362       7.298"
      ]
     },
     "metadata": {},
     "output_type": "display_data"
    }
   ],
   "source": [
    "x = model.matrix(g)[,-1]\n",
    "# eigein vectors\n",
    "e = eigen(t(x) %*% x)\n",
    "round(e$val, 3)"
   ]
  },
  {
   "cell_type": "code",
   "execution_count": 10,
   "metadata": {},
   "outputs": [
    {
     "data": {
      "text/html": [
       "<style>\n",
       ".list-inline {list-style: none; margin:0; padding: 0}\n",
       ".list-inline>li {display: inline-block}\n",
       ".list-inline>li:not(:last-child)::after {content: \"\\00b7\"; padding: 0 .5ex}\n",
       "</style>\n",
       "<ol class=list-inline><li>1</li><li>13.042</li><li>20.1</li><li>110.551</li><li>156.912</li><li>212.156</li><li>261.667</li><li>707.549</li></ol>\n"
      ],
      "text/latex": [
       "\\begin{enumerate*}\n",
       "\\item 1\n",
       "\\item 13.042\n",
       "\\item 20.1\n",
       "\\item 110.551\n",
       "\\item 156.912\n",
       "\\item 212.156\n",
       "\\item 261.667\n",
       "\\item 707.549\n",
       "\\end{enumerate*}\n"
      ],
      "text/markdown": [
       "1. 1\n",
       "2. 13.042\n",
       "3. 20.1\n",
       "4. 110.551\n",
       "5. 156.912\n",
       "6. 212.156\n",
       "7. 261.667\n",
       "8. 707.549\n",
       "\n",
       "\n"
      ],
      "text/plain": [
       "[1]   1.000  13.042  20.100 110.551 156.912 212.156 261.667 707.549"
      ]
     },
     "metadata": {},
     "output_type": "display_data"
    }
   ],
   "source": [
    "# using the formula checking k >= 30\n",
    "round(sqrt(e$val[1]/e$val), 3)"
   ]
  },
  {
   "cell_type": "markdown",
   "metadata": {},
   "source": [
    "* There are several eigenvalues and several conditions numbers that are much larger than 30. That means that problems are being caused by more than just one linear combination\n",
    "* Let's now chec variance inflation factors(VIFs)"
   ]
  },
  {
   "cell_type": "code",
   "execution_count": 13,
   "metadata": {},
   "outputs": [
    {
     "data": {
      "text/html": [
       "0.499"
      ],
      "text/latex": [
       "0.499"
      ],
      "text/markdown": [
       "0.499"
      ],
      "text/plain": [
       "[1] 0.499"
      ]
     },
     "metadata": {},
     "output_type": "display_data"
    }
   ],
   "source": [
    "# for the first variable Age\n",
    "round(summary(lm(x[,1] ~ x[, -1]))$r.squared, 3)"
   ]
  },
  {
   "cell_type": "code",
   "execution_count": 16,
   "metadata": {},
   "outputs": [
    {
     "data": {
      "text/html": [
       "1.996"
      ],
      "text/latex": [
       "1.996"
      ],
      "text/markdown": [
       "1.996"
      ],
      "text/plain": [
       "[1] 1.996"
      ]
     },
     "metadata": {},
     "output_type": "display_data"
    }
   ],
   "source": [
    "# the VIF for orthogonal predictor is one and should be considered the baseline\n",
    "round(1/(1- 0.499), 3)"
   ]
  },
  {
   "cell_type": "code",
   "execution_count": 18,
   "metadata": {},
   "outputs": [
    {
     "data": {
      "text/html": [
       "<style>\n",
       ".dl-inline {width: auto; margin:0; padding: 0}\n",
       ".dl-inline>dt, .dl-inline>dd {float: none; width: auto; display: inline-block}\n",
       ".dl-inline>dt::after {content: \":\\0020\"; padding-right: .5ex}\n",
       ".dl-inline>dt:not(:first-of-type) {padding-left: .5ex}\n",
       "</style><dl class=dl-inline><dt>Age</dt><dd>1.998</dd><dt>Weight</dt><dd>3.647</dd><dt>HtShoes</dt><dd>307.429</dd><dt>Ht</dt><dd>333.138</dd><dt>Seated</dt><dd>8.951</dd><dt>Arm</dt><dd>4.496</dd><dt>Thigh</dt><dd>2.763</dd><dt>Leg</dt><dd>6.694</dd></dl>\n"
      ],
      "text/latex": [
       "\\begin{description*}\n",
       "\\item[Age] 1.998\n",
       "\\item[Weight] 3.647\n",
       "\\item[HtShoes] 307.429\n",
       "\\item[Ht] 333.138\n",
       "\\item[Seated] 8.951\n",
       "\\item[Arm] 4.496\n",
       "\\item[Thigh] 2.763\n",
       "\\item[Leg] 6.694\n",
       "\\end{description*}\n"
      ],
      "text/markdown": [
       "Age\n",
       ":   1.998Weight\n",
       ":   3.647HtShoes\n",
       ":   307.429Ht\n",
       ":   333.138Seated\n",
       ":   8.951Arm\n",
       ":   4.496Thigh\n",
       ":   2.763Leg\n",
       ":   6.694\n",
       "\n"
      ],
      "text/plain": [
       "    Age  Weight HtShoes      Ht  Seated     Arm   Thigh     Leg \n",
       "  1.998   3.647 307.429 333.138   8.951   4.496   2.763   6.694 "
      ]
     },
     "metadata": {},
     "output_type": "display_data"
    }
   ],
   "source": [
    "# Let's compute the VIF for all variable using a fuction\n",
    "round(vif(x), 3)"
   ]
  },
  {
   "cell_type": "markdown",
   "metadata": {},
   "source": [
    "* There is much variance inflation. One way to interpret this is $\\sqrt{307.4}= 17.5$ as telling us that the SE for the height with shoes is 17.5 times larger than it would have been without collinearity\n",
    "* The variance inflation will cause substantial instability for the estimates. \n",
    "\n",
    "### Solution\n",
    "* One solution for collinearity is removal. Too many variables are tyring to do the same job of explaining the response. \n",
    "* Height, Arm, Thigh and Leg as all highly correlated. We can use only height for simplicity. "
   ]
  },
  {
   "cell_type": "code",
   "execution_count": 19,
   "metadata": {},
   "outputs": [
    {
     "data": {
      "text/plain": [
       "\n",
       "Call:\n",
       "lm(formula = hipcenter ~ Age + Weight + Ht, data = seatpos)\n",
       "\n",
       "Residuals:\n",
       "    Min      1Q  Median      3Q     Max \n",
       "-91.526 -23.005   2.164  24.950  53.982 \n",
       "\n",
       "Coefficients:\n",
       "              Estimate Std. Error t value Pr(>|t|)    \n",
       "(Intercept) 528.297729 135.312947   3.904 0.000426 ***\n",
       "Age           0.519504   0.408039   1.273 0.211593    \n",
       "Weight        0.004271   0.311720   0.014 0.989149    \n",
       "Ht           -4.211905   0.999056  -4.216 0.000174 ***\n",
       "---\n",
       "Signif. codes:  0 ‘***’ 0.001 ‘**’ 0.01 ‘*’ 0.05 ‘.’ 0.1 ‘ ’ 1\n",
       "\n",
       "Residual standard error: 36.49 on 34 degrees of freedom\n",
       "Multiple R-squared:  0.6562,\tAdjusted R-squared:  0.6258 \n",
       "F-statistic: 21.63 on 3 and 34 DF,  p-value: 5.125e-08\n"
      ]
     },
     "metadata": {},
     "output_type": "display_data"
    }
   ],
   "source": [
    "g2 = lm(hipcenter ~ Age + Weight + Ht, data = seatpos)\n",
    "summary(g2)"
   ]
  },
  {
   "cell_type": "markdown",
   "metadata": {},
   "source": [
    "* The fit is very similar, but much less predictors were used."
   ]
  }
 ],
 "metadata": {
  "kernelspec": {
   "display_name": "R 4.0",
   "language": "R",
   "name": "ir40"
  },
  "language_info": {
   "codemirror_mode": "r",
   "file_extension": ".r",
   "mimetype": "text/x-r-source",
   "name": "R",
   "pygments_lexer": "r",
   "version": "4.0.3"
  }
 },
 "nbformat": 4,
 "nbformat_minor": 4
}
