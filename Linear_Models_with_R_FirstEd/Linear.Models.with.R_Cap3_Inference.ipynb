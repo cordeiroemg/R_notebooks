{
 "cells": [
  {
   "cell_type": "markdown",
   "metadata": {},
   "source": [
    "# Inference\n",
    "\n",
    "If we want to make a confidence interval or perform any hypothesis test, we will need to assume a distribution form for the error $\\epsilon$. The most common (and reasonable) assuption is that the errors are normally distributed. For standardized data, mean is 0 and variance is $\\sigma^2$.  so we have $ \\epsilon \\sim N(0, \\sigma^2 I)$. When considering $y=X\\beta+\\epsilon$, then the error distribution is $ y \\sim N(X\\beta, \\sigma^2 I)$. From this we find that linear combinations of normally distributed values are also normal\n",
    "\n",
    "<p>&nbsp;</p>\n",
    "\\begin{split}\n",
    "\\hat \\beta = (X^TX)^{-1} X^Ty  \\sim N(\\beta,(X^TX)^{-1} \\sigma^2) \n",
    "\\end{split}\n",
    "<p>&nbsp;</p>\n",
    "\n",
    "## Hypothesis Tests to Compare Models\n",
    "\n",
    "Given a larger model $\\Omega$ and a smaller subset $\\omega$. Do we really need $\\Omega$ if $\\omega$ do the job? \n",
    "* simpler explanation is often preferable\n",
    "* If the larger model has a better fit, we will prefer it\n",
    "\n",
    "$ RSS_{$\\omega$} - RSS_{$\\Omega$}$ is small, then we have an indication that the smaller model is better. If we scale by one of the measures, then we have:\n",
    "\n",
    "<p>&nbsp;</p>\n",
    "\\begin{split}\n",
    "\\frac{RSS_{\\omega} - RSS_{\\Omega}}{RSS_{\\Omega}}\n",
    "\\end{split}\n",
    "<p>&nbsp;</p>\n",
    "\n",
    "The same idea is applied in ML terms\n",
    "<p>&nbsp;</p>\n",
    "\\begin{split}\n",
    "\\frac{max_{\\beta, \\sigma, \\epsilon, \\Omega} L(\\beta, \\sigma y)}{max_{\\beta, \\sigma, \\epsilon, \\omega} L(\\beta, \\sigma y)}\n",
    "\\end{split}\n",
    "<p>&nbsp;</p>\n",
    "\n",
    "After some maniputalion, we get at:\n",
    "\n",
    "<p>&nbsp;</p>\n",
    "\\begin{split}\n",
    "\\frac{RSS_{\\omega} - RSS_{\\Omega}}{RSS_{\\Omega}} > a constant\n",
    "\\end{split}\n",
    "<p>&nbsp;</p>\n",
    "\n",
    "We still do not have the theoretical distribution of the constant. But suppose the number of parameters for $\\Omega$ is $p$ and for $\\omega$ is $q$, then \n",
    "\n",
    "\n",
    "<p>&nbsp;</p>\n",
    "\\begin{split}\n",
    "F = \\frac{\\frac{RSS_{\\omega} - RSS_{\\Omega}}{p-q}}{\\frac{RSS_{\\Omega}}{n-p}} \\sim F_{q-q, n-p}\n",
    "\\end{split}\n",
    "<p>&nbsp;</p>\n",
    "\n",
    "Now, we have our null hypothesis where $p$ and $q$ can be rewritten as function of d.f. of $\\Omega$ $(n- p)$ and $\\omega$ $(n- q)$\n",
    "\n",
    "### Testing Examples\n",
    "#### Test of all the predictors\n",
    "\n",
    "We compare the full model ($\\Omega$) that is $y=X\\beta$, where $X$ is a full-rank $nxp$ matrix againt the reduced model ($\\omega$) that is $y=\\mu\\epsilon$. $\\mu$ is estimated as $\\bar y$. The simple model can be read as the sum of squares corrected by the mean ($TSS$).\n",
    "\n",
    "<p>&nbsp;</p>\n",
    "$H_0: \\beta_0, \\beta_1, ..., \\beta_n = 0$\n",
    "<p>&nbsp;</p>\n",
    "\n",
    "\n",
    "Large values of $F$ suggest the rejection of the null hypothesis.  If $F$ in non-significant it can indicate:\n",
    "1. no association between $X$ and $Y$\n",
    "2. nonlinear relation (transformation is needed)\n",
    "3. Outliers\n",
    "4. Insuficient data\n",
    "\n",
    "#### Data example\n",
    "* dpi is the per capita disposable income \n",
    "* ddpi is the percentage rage of change in per capita disposable income\n",
    "* sr is aggregate personal saving divided by diposable income\n",
    "* pop15 is the percentage of the population under 15 years\n",
    "* pop75 is the percentage of the population over 75 years"
   ]
  },
  {
   "cell_type": "code",
   "execution_count": 39,
   "metadata": {},
   "outputs": [
    {
     "data": {
      "text/html": [
       "<table>\n",
       "<caption>A data.frame: 6 × 5</caption>\n",
       "<thead>\n",
       "\t<tr><th></th><th scope=col>sr</th><th scope=col>pop15</th><th scope=col>pop75</th><th scope=col>dpi</th><th scope=col>ddpi</th></tr>\n",
       "\t<tr><th></th><th scope=col>&lt;dbl&gt;</th><th scope=col>&lt;dbl&gt;</th><th scope=col>&lt;dbl&gt;</th><th scope=col>&lt;dbl&gt;</th><th scope=col>&lt;dbl&gt;</th></tr>\n",
       "</thead>\n",
       "<tbody>\n",
       "\t<tr><th scope=row>Australia</th><td>11.43</td><td>29.35</td><td>2.87</td><td>2329.68</td><td>2.87</td></tr>\n",
       "\t<tr><th scope=row>Austria</th><td>12.07</td><td>23.32</td><td>4.41</td><td>1507.99</td><td>3.93</td></tr>\n",
       "\t<tr><th scope=row>Belgium</th><td>13.17</td><td>23.80</td><td>4.43</td><td>2108.47</td><td>3.82</td></tr>\n",
       "\t<tr><th scope=row>Bolivia</th><td> 5.75</td><td>41.89</td><td>1.67</td><td> 189.13</td><td>0.22</td></tr>\n",
       "\t<tr><th scope=row>Brazil</th><td>12.88</td><td>42.19</td><td>0.83</td><td> 728.47</td><td>4.56</td></tr>\n",
       "\t<tr><th scope=row>Canada</th><td> 8.79</td><td>31.72</td><td>2.85</td><td>2982.88</td><td>2.43</td></tr>\n",
       "</tbody>\n",
       "</table>\n"
      ],
      "text/latex": [
       "A data.frame: 6 × 5\n",
       "\\begin{tabular}{r|lllll}\n",
       "  & sr & pop15 & pop75 & dpi & ddpi\\\\\n",
       "  & <dbl> & <dbl> & <dbl> & <dbl> & <dbl>\\\\\n",
       "\\hline\n",
       "\tAustralia & 11.43 & 29.35 & 2.87 & 2329.68 & 2.87\\\\\n",
       "\tAustria & 12.07 & 23.32 & 4.41 & 1507.99 & 3.93\\\\\n",
       "\tBelgium & 13.17 & 23.80 & 4.43 & 2108.47 & 3.82\\\\\n",
       "\tBolivia &  5.75 & 41.89 & 1.67 &  189.13 & 0.22\\\\\n",
       "\tBrazil & 12.88 & 42.19 & 0.83 &  728.47 & 4.56\\\\\n",
       "\tCanada &  8.79 & 31.72 & 2.85 & 2982.88 & 2.43\\\\\n",
       "\\end{tabular}\n"
      ],
      "text/markdown": [
       "\n",
       "A data.frame: 6 × 5\n",
       "\n",
       "| <!--/--> | sr &lt;dbl&gt; | pop15 &lt;dbl&gt; | pop75 &lt;dbl&gt; | dpi &lt;dbl&gt; | ddpi &lt;dbl&gt; |\n",
       "|---|---|---|---|---|---|\n",
       "| Australia | 11.43 | 29.35 | 2.87 | 2329.68 | 2.87 |\n",
       "| Austria | 12.07 | 23.32 | 4.41 | 1507.99 | 3.93 |\n",
       "| Belgium | 13.17 | 23.80 | 4.43 | 2108.47 | 3.82 |\n",
       "| Bolivia |  5.75 | 41.89 | 1.67 |  189.13 | 0.22 |\n",
       "| Brazil | 12.88 | 42.19 | 0.83 |  728.47 | 4.56 |\n",
       "| Canada |  8.79 | 31.72 | 2.85 | 2982.88 | 2.43 |\n",
       "\n"
      ],
      "text/plain": [
       "          sr    pop15 pop75 dpi     ddpi\n",
       "Australia 11.43 29.35 2.87  2329.68 2.87\n",
       "Austria   12.07 23.32 4.41  1507.99 3.93\n",
       "Belgium   13.17 23.80 4.43  2108.47 3.82\n",
       "Bolivia    5.75 41.89 1.67   189.13 0.22\n",
       "Brazil    12.88 42.19 0.83   728.47 4.56\n",
       "Canada     8.79 31.72 2.85  2982.88 2.43"
      ]
     },
     "metadata": {},
     "output_type": "display_data"
    }
   ],
   "source": [
    "library(faraway)\n",
    "data(savings)\n",
    "head(savings)\n",
    "options(digits=3)"
   ]
  },
  {
   "cell_type": "code",
   "execution_count": 40,
   "metadata": {},
   "outputs": [
    {
     "data": {
      "text/plain": [
       "\n",
       "Call:\n",
       "lm(formula = sr ~ pop15 + pop75 + dpi + ddpi, data = savings)\n",
       "\n",
       "Residuals:\n",
       "   Min     1Q Median     3Q    Max \n",
       "-8.242 -2.686 -0.249  2.428  9.751 \n",
       "\n",
       "Coefficients:\n",
       "             Estimate Std. Error t value Pr(>|t|)    \n",
       "(Intercept) 28.566087   7.354516    3.88  0.00033 ***\n",
       "pop15       -0.461193   0.144642   -3.19  0.00260 ** \n",
       "pop75       -1.691498   1.083599   -1.56  0.12553    \n",
       "dpi         -0.000337   0.000931   -0.36  0.71917    \n",
       "ddpi         0.409695   0.196197    2.09  0.04247 *  \n",
       "---\n",
       "Signif. codes:  0 ‘***’ 0.001 ‘**’ 0.01 ‘*’ 0.05 ‘.’ 0.1 ‘ ’ 1\n",
       "\n",
       "Residual standard error: 3.8 on 45 degrees of freedom\n",
       "Multiple R-squared:  0.338,\tAdjusted R-squared:  0.28 \n",
       "F-statistic: 5.76 on 4 and 45 DF,  p-value: 0.00079\n"
      ]
     },
     "metadata": {},
     "output_type": "display_data"
    }
   ],
   "source": [
    "# First model will consider \n",
    "g = lm(sr ~ pop15 + pop75 + dpi + ddpi, savings)\n",
    "summary(g)"
   ]
  },
  {
   "cell_type": "markdown",
   "metadata": {},
   "source": [
    "* Testing F manually"
   ]
  },
  {
   "cell_type": "code",
   "execution_count": 41,
   "metadata": {},
   "outputs": [
    {
     "data": {
      "text/html": [
       "983.62825"
      ],
      "text/latex": [
       "983.62825"
      ],
      "text/markdown": [
       "983.62825"
      ],
      "text/plain": [
       "[1] 984"
      ]
     },
     "metadata": {},
     "output_type": "display_data"
    }
   ],
   "source": [
    "# total sum of squares\n",
    "(tss = sum((savings$sr - mean(savings$sr))^2))"
   ]
  },
  {
   "cell_type": "code",
   "execution_count": 43,
   "metadata": {},
   "outputs": [
    {
     "data": {
      "text/html": [
       "650.712998167633"
      ],
      "text/latex": [
       "650.712998167633"
      ],
      "text/markdown": [
       "650.712998167633"
      ],
      "text/plain": [
       "[1] 651"
      ]
     },
     "metadata": {},
     "output_type": "display_data"
    }
   ],
   "source": [
    "# residual sum square\n",
    "(rss = deviance(g))"
   ]
  },
  {
   "cell_type": "code",
   "execution_count": 40,
   "metadata": {},
   "outputs": [
    {
     "data": {
      "text/html": [
       "45"
      ],
      "text/latex": [
       "45"
      ],
      "text/markdown": [
       "45"
      ],
      "text/plain": [
       "[1] 45"
      ]
     },
     "metadata": {},
     "output_type": "display_data"
    }
   ],
   "source": [
    "df.residual(g)"
   ]
  },
  {
   "cell_type": "code",
   "execution_count": 41,
   "metadata": {},
   "outputs": [
    {
     "data": {
      "text/html": [
       "5.7557"
      ],
      "text/latex": [
       "5.7557"
      ],
      "text/markdown": [
       "5.7557"
      ],
      "text/plain": [
       "[1] 5.7557"
      ]
     },
     "metadata": {},
     "output_type": "display_data"
    }
   ],
   "source": [
    "# Calculated F\n",
    "fstat = ((tss - rss)/4/(rss/df.residual(g)))\n",
    "round(fstat,4)"
   ]
  },
  {
   "cell_type": "code",
   "execution_count": 42,
   "metadata": {},
   "outputs": [
    {
     "data": {
      "text/html": [
       "0.00079"
      ],
      "text/latex": [
       "0.00079"
      ],
      "text/markdown": [
       "0.00079"
      ],
      "text/plain": [
       "[1] 0.00079"
      ]
     },
     "metadata": {},
     "output_type": "display_data"
    }
   ],
   "source": [
    "# p-value\n",
    "round(1- pf(fstat, 4, df.residual(g)), 5)"
   ]
  },
  {
   "cell_type": "markdown",
   "metadata": {},
   "source": [
    "#### Testing just one predictor\n",
    "\n",
    "Can one particular predictor be dropped from the model? \n",
    "\n",
    "<p>&nbsp;</p>\n",
    "$H_0: \\beta_j = 0$\n",
    "<p>&nbsp;</p>\n",
    "\n",
    "Now, let the $RSS_{\\Omega}$ be the model with all predictors and $RSS_{\\omega}$ the models with all the same predictors except $i$. In this case, we can test using a  *t-statistics*\n",
    "\n",
    "<p>&nbsp;</p>\n",
    "\\begin{split}\n",
    "t_i= \\frac{\\hat \\beta_i}{se(\\hat \\beta_i)}\n",
    "\\end{split}\n",
    "<p>&nbsp;</p>\n",
    "\n",
    "the significance checked using *t-distribution* with *n-p* degrees of freedom. $t_i^2$ is exactly the F-statistic.\n",
    "\n"
   ]
  },
  {
   "cell_type": "code",
   "execution_count": 43,
   "metadata": {},
   "outputs": [],
   "source": [
    "# all variables, except pop15\n",
    "g2 = lm(sr ~ pop75 + dpi + ddpi, data = savings)"
   ]
  },
  {
   "cell_type": "code",
   "execution_count": 44,
   "metadata": {},
   "outputs": [
    {
     "data": {
      "text/html": [
       "797.724892214538"
      ],
      "text/latex": [
       "797.724892214538"
      ],
      "text/markdown": [
       "797.724892214538"
      ],
      "text/plain": [
       "[1] 797.7249"
      ]
     },
     "metadata": {},
     "output_type": "display_data"
    }
   ],
   "source": [
    "(rss2 = deviance(g2))"
   ]
  },
  {
   "cell_type": "markdown",
   "metadata": {},
   "source": [
    "* F-statistic"
   ]
  },
  {
   "cell_type": "code",
   "execution_count": 45,
   "metadata": {},
   "outputs": [
    {
     "data": {
      "text/html": [
       "10.1665945674048"
      ],
      "text/latex": [
       "10.1665945674048"
      ],
      "text/markdown": [
       "10.1665945674048"
      ],
      "text/plain": [
       "[1] 10.16659"
      ]
     },
     "metadata": {},
     "output_type": "display_data"
    }
   ],
   "source": [
    "# F-statistics\n",
    "(fstat = (deviance(g2) - deviance(g))/ (deviance(g)/df.residual(g)))"
   ]
  },
  {
   "cell_type": "code",
   "execution_count": 46,
   "metadata": {},
   "outputs": [
    {
     "data": {
      "text/html": [
       "0.0026"
      ],
      "text/latex": [
       "0.0026"
      ],
      "text/markdown": [
       "0.0026"
      ],
      "text/plain": [
       "[1] 0.0026"
      ]
     },
     "metadata": {},
     "output_type": "display_data"
    }
   ],
   "source": [
    "# p-value\n",
    "round(1-pf(fstat,1, df.residual(g)), 4)"
   ]
  },
  {
   "cell_type": "markdown",
   "metadata": {},
   "source": [
    "* t-statistics "
   ]
  },
  {
   "cell_type": "code",
   "execution_count": 47,
   "metadata": {},
   "outputs": [
    {
     "data": {
      "text/html": [
       "3.1885"
      ],
      "text/latex": [
       "3.1885"
      ],
      "text/markdown": [
       "3.1885"
      ],
      "text/plain": [
       "[1] 3.1885"
      ]
     },
     "metadata": {},
     "output_type": "display_data"
    }
   ],
   "source": [
    "# equivalent t-stats\n",
    "round(sqrt(fstat), 4)"
   ]
  },
  {
   "cell_type": "code",
   "execution_count": 48,
   "metadata": {},
   "outputs": [
    {
     "data": {
      "text/html": [
       "-3.18850977219841"
      ],
      "text/latex": [
       "-3.18850977219841"
      ],
      "text/markdown": [
       "-3.18850977219841"
      ],
      "text/plain": [
       "[1] -3.18851"
      ]
     },
     "metadata": {},
     "output_type": "display_data"
    }
   ],
   "source": [
    "# comparing with the estimates from the summary\n",
    "(tstat = summary(g)$coef[2,3])"
   ]
  },
  {
   "cell_type": "code",
   "execution_count": 49,
   "metadata": {},
   "outputs": [
    {
     "data": {
      "text/html": [
       "0.0026"
      ],
      "text/latex": [
       "0.0026"
      ],
      "text/markdown": [
       "0.0026"
      ],
      "text/plain": [
       "[1] 0.0026"
      ]
     },
     "metadata": {},
     "output_type": "display_data"
    }
   ],
   "source": [
    "# p-value\n",
    "round(2*(1-pt(sqrt(fstat), 45)), 4)"
   ]
  },
  {
   "cell_type": "markdown",
   "metadata": {},
   "source": [
    "* A better way to compare two nested models "
   ]
  },
  {
   "cell_type": "code",
   "execution_count": 50,
   "metadata": {},
   "outputs": [
    {
     "data": {
      "text/html": [
       "<table>\n",
       "<caption>A anova: 2 × 6</caption>\n",
       "<thead>\n",
       "\t<tr><th></th><th scope=col>Res.Df</th><th scope=col>RSS</th><th scope=col>Df</th><th scope=col>Sum of Sq</th><th scope=col>F</th><th scope=col>Pr(&gt;F)</th></tr>\n",
       "\t<tr><th></th><th scope=col>&lt;dbl&gt;</th><th scope=col>&lt;dbl&gt;</th><th scope=col>&lt;dbl&gt;</th><th scope=col>&lt;dbl&gt;</th><th scope=col>&lt;dbl&gt;</th><th scope=col>&lt;dbl&gt;</th></tr>\n",
       "</thead>\n",
       "<tbody>\n",
       "\t<tr><th scope=row>1</th><td>46</td><td>797.7249</td><td>NA</td><td>      NA</td><td>      NA</td><td>         NA</td></tr>\n",
       "\t<tr><th scope=row>2</th><td>45</td><td>650.7130</td><td> 1</td><td>147.0119</td><td>10.16659</td><td>0.002603019</td></tr>\n",
       "</tbody>\n",
       "</table>\n"
      ],
      "text/latex": [
       "A anova: 2 × 6\n",
       "\\begin{tabular}{r|llllll}\n",
       "  & Res.Df & RSS & Df & Sum of Sq & F & Pr(>F)\\\\\n",
       "  & <dbl> & <dbl> & <dbl> & <dbl> & <dbl> & <dbl>\\\\\n",
       "\\hline\n",
       "\t1 & 46 & 797.7249 & NA &       NA &       NA &          NA\\\\\n",
       "\t2 & 45 & 650.7130 &  1 & 147.0119 & 10.16659 & 0.002603019\\\\\n",
       "\\end{tabular}\n"
      ],
      "text/markdown": [
       "\n",
       "A anova: 2 × 6\n",
       "\n",
       "| <!--/--> | Res.Df &lt;dbl&gt; | RSS &lt;dbl&gt; | Df &lt;dbl&gt; | Sum of Sq &lt;dbl&gt; | F &lt;dbl&gt; | Pr(&gt;F) &lt;dbl&gt; |\n",
       "|---|---|---|---|---|---|---|\n",
       "| 1 | 46 | 797.7249 | NA |       NA |       NA |          NA |\n",
       "| 2 | 45 | 650.7130 |  1 | 147.0119 | 10.16659 | 0.002603019 |\n",
       "\n"
      ],
      "text/plain": [
       "  Res.Df RSS      Df Sum of Sq F        Pr(>F)     \n",
       "1 46     797.7249 NA       NA        NA          NA\n",
       "2 45     650.7130  1 147.0119  10.16659 0.002603019"
      ]
     },
     "metadata": {},
     "output_type": "display_data"
    }
   ],
   "source": [
    "anova(g2, g)"
   ]
  },
  {
   "cell_type": "markdown",
   "metadata": {},
   "source": [
    "#### Testing a pair of predictors\n",
    "\n",
    "We can construct a table to compare $X$ variables. To test join significance of two variables in a regression model, we can build model with them both and without both testing with general F-test discussed before. \n",
    "\n",
    "* Let's test the hypothesis that both pop75 and ddpi may be excluded from the model"
   ]
  },
  {
   "cell_type": "code",
   "execution_count": 52,
   "metadata": {},
   "outputs": [
    {
     "data": {
      "text/html": [
       "<table>\n",
       "<caption>A anova: 2 × 6</caption>\n",
       "<thead>\n",
       "\t<tr><th></th><th scope=col>Res.Df</th><th scope=col>RSS</th><th scope=col>Df</th><th scope=col>Sum of Sq</th><th scope=col>F</th><th scope=col>Pr(&gt;F)</th></tr>\n",
       "\t<tr><th></th><th scope=col>&lt;dbl&gt;</th><th scope=col>&lt;dbl&gt;</th><th scope=col>&lt;dbl&gt;</th><th scope=col>&lt;dbl&gt;</th><th scope=col>&lt;dbl&gt;</th><th scope=col>&lt;dbl&gt;</th></tr>\n",
       "</thead>\n",
       "<tbody>\n",
       "\t<tr><th scope=row>1</th><td>47</td><td>744.1237</td><td>NA</td><td>     NA</td><td>      NA</td><td>        NA</td></tr>\n",
       "\t<tr><th scope=row>2</th><td>45</td><td>650.7130</td><td> 2</td><td>93.4107</td><td>3.229904</td><td>0.04889312</td></tr>\n",
       "</tbody>\n",
       "</table>\n"
      ],
      "text/latex": [
       "A anova: 2 × 6\n",
       "\\begin{tabular}{r|llllll}\n",
       "  & Res.Df & RSS & Df & Sum of Sq & F & Pr(>F)\\\\\n",
       "  & <dbl> & <dbl> & <dbl> & <dbl> & <dbl> & <dbl>\\\\\n",
       "\\hline\n",
       "\t1 & 47 & 744.1237 & NA &      NA &       NA &         NA\\\\\n",
       "\t2 & 45 & 650.7130 &  2 & 93.4107 & 3.229904 & 0.04889312\\\\\n",
       "\\end{tabular}\n"
      ],
      "text/markdown": [
       "\n",
       "A anova: 2 × 6\n",
       "\n",
       "| <!--/--> | Res.Df &lt;dbl&gt; | RSS &lt;dbl&gt; | Df &lt;dbl&gt; | Sum of Sq &lt;dbl&gt; | F &lt;dbl&gt; | Pr(&gt;F) &lt;dbl&gt; |\n",
       "|---|---|---|---|---|---|---|\n",
       "| 1 | 47 | 744.1237 | NA |      NA |       NA |         NA |\n",
       "| 2 | 45 | 650.7130 |  2 | 93.4107 | 3.229904 | 0.04889312 |\n",
       "\n"
      ],
      "text/plain": [
       "  Res.Df RSS      Df Sum of Sq F        Pr(>F)    \n",
       "1 47     744.1237 NA      NA         NA         NA\n",
       "2 45     650.7130  2 93.4107   3.229904 0.04889312"
      ]
     },
     "metadata": {},
     "output_type": "display_data"
    }
   ],
   "source": [
    "g3 = lm(sr ~ pop15 + dpi, data = savings)\n",
    "anova(g3, g)"
   ]
  },
  {
   "cell_type": "markdown",
   "metadata": {},
   "source": [
    "* The predictors barely passed the 5% level."
   ]
  },
  {
   "cell_type": "markdown",
   "metadata": {},
   "source": [
    "#### Testing a subspace\n",
    "\n",
    "Suppose that $y$ is the first year grade point average for a student, $X_j$ is the score on the quantitative part of the SAT and $X_k$ is the score on the verbal part. Should we keep the two predictors separated?\n",
    "\n",
    "<p>&nbsp;</p>\n",
    "\\begin{split}\n",
    "y= \\beta_0 + ... + \\beta_jX_j + \\beta_kX_k+ ...+\\epsilon \n",
    "\\end{split}\n",
    "<p>&nbsp;</p>\n",
    "\n",
    "Reduced to:\n",
    "\n",
    "<p>&nbsp;</p>\n",
    "\\begin{split}\n",
    "y= \\beta_0 + ... + \\beta_j(X_j + X_k)+ ...+\\epsilon \n",
    "\\end{split}\n",
    "<p>&nbsp;</p>\n",
    "\n",
    "For this reduction to be possible, we should test:\n",
    "\n",
    "<p>&nbsp;</p>\n",
    "\\begin{split}\n",
    "H_0 : \\beta_j = \\beta_k \n",
    "\\end{split}\n",
    "<p>&nbsp;</p>\n",
    "\n",
    "Let's test if the effect of young and old people on the savings rate was the same or in other words;\n",
    "\n",
    "<p>&nbsp;</p>\n",
    "\\begin{split}\n",
    "H_0 : \\beta_pop15 = \\beta_pop75 \n",
    "\\end{split}\n",
    "<p>&nbsp;</p>\n",
    "\n",
    "In this case, we should test if the null model is the same as the full model\n",
    "\n",
    "<p>&nbsp;</p>\n",
    "\\begin{split}\n",
    "y= \\beta_0 + \\beta_{dep}(pop15 + pop75) + \\beta_{dpi} dpi+ \\beta_{ddpi} ddpi +\\epsilon \n",
    "\\end{split}\n",
    "<p>&nbsp;</p>\n"
   ]
  },
  {
   "cell_type": "code",
   "execution_count": 55,
   "metadata": {},
   "outputs": [
    {
     "data": {
      "text/html": [
       "<table>\n",
       "<caption>A anova: 2 × 6</caption>\n",
       "<thead>\n",
       "\t<tr><th></th><th scope=col>Res.Df</th><th scope=col>RSS</th><th scope=col>Df</th><th scope=col>Sum of Sq</th><th scope=col>F</th><th scope=col>Pr(&gt;F)</th></tr>\n",
       "\t<tr><th></th><th scope=col>&lt;dbl&gt;</th><th scope=col>&lt;dbl&gt;</th><th scope=col>&lt;dbl&gt;</th><th scope=col>&lt;dbl&gt;</th><th scope=col>&lt;dbl&gt;</th><th scope=col>&lt;dbl&gt;</th></tr>\n",
       "</thead>\n",
       "<tbody>\n",
       "\t<tr><th scope=row>1</th><td>46</td><td>673.6275</td><td>NA</td><td>      NA</td><td>      NA</td><td>       NA</td></tr>\n",
       "\t<tr><th scope=row>2</th><td>45</td><td>650.7130</td><td> 1</td><td>22.91453</td><td>1.584652</td><td>0.2145833</td></tr>\n",
       "</tbody>\n",
       "</table>\n"
      ],
      "text/latex": [
       "A anova: 2 × 6\n",
       "\\begin{tabular}{r|llllll}\n",
       "  & Res.Df & RSS & Df & Sum of Sq & F & Pr(>F)\\\\\n",
       "  & <dbl> & <dbl> & <dbl> & <dbl> & <dbl> & <dbl>\\\\\n",
       "\\hline\n",
       "\t1 & 46 & 673.6275 & NA &       NA &       NA &        NA\\\\\n",
       "\t2 & 45 & 650.7130 &  1 & 22.91453 & 1.584652 & 0.2145833\\\\\n",
       "\\end{tabular}\n"
      ],
      "text/markdown": [
       "\n",
       "A anova: 2 × 6\n",
       "\n",
       "| <!--/--> | Res.Df &lt;dbl&gt; | RSS &lt;dbl&gt; | Df &lt;dbl&gt; | Sum of Sq &lt;dbl&gt; | F &lt;dbl&gt; | Pr(&gt;F) &lt;dbl&gt; |\n",
       "|---|---|---|---|---|---|---|\n",
       "| 1 | 46 | 673.6275 | NA |       NA |       NA |        NA |\n",
       "| 2 | 45 | 650.7130 |  1 | 22.91453 | 1.584652 | 0.2145833 |\n",
       "\n"
      ],
      "text/plain": [
       "  Res.Df RSS      Df Sum of Sq F        Pr(>F)   \n",
       "1 46     673.6275 NA       NA        NA        NA\n",
       "2 45     650.7130  1 22.91453  1.584652 0.2145833"
      ]
     },
     "metadata": {},
     "output_type": "display_data"
    }
   ],
   "source": [
    "# full model\n",
    "g = lm(sr ~ ., data = savings)\n",
    "\n",
    "# reduce model\n",
    "gr = lm(sr ~I(pop15 + pop75)+dpi + ddpi, data = savings)\n",
    "\n",
    "anova(gr, g)"
   ]
  },
  {
   "cell_type": "markdown",
   "metadata": {},
   "source": [
    "* p-value indicates that the null model cannot be rejected here. There is no evidence that young and old people need to be treated separately in the context of this particular model"
   ]
  },
  {
   "cell_type": "markdown",
   "metadata": {},
   "source": [
    "What is we want to test if a particular coefficient ca be set to a particular value.\n",
    "<p>&nbsp;</p>\n",
    "\\begin{split}\n",
    "H_0 : \\beta_{ddpi} = 0.5\n",
    "\\end{split}\n",
    "<p>&nbsp;</p>\n",
    "\n",
    "Here the null model:\n",
    "\n",
    "<p>&nbsp;</p>\n",
    "\\begin{split}\n",
    "y= \\beta_0 + \\beta_{pop15} pop15 + \\beta_{pop75} pop75 + \\beta_{dpi} dpi+ 0.5 ddpi +\\epsilon \n",
    "\\end{split}\n",
    "<p>&nbsp;</p>\n",
    "\n",
    "* The ddpi term is now a fixed term in the equation and can be called an *offset*"
   ]
  },
  {
   "cell_type": "code",
   "execution_count": 56,
   "metadata": {},
   "outputs": [
    {
     "data": {
      "text/html": [
       "<table>\n",
       "<caption>A anova: 2 × 6</caption>\n",
       "<thead>\n",
       "\t<tr><th></th><th scope=col>Res.Df</th><th scope=col>RSS</th><th scope=col>Df</th><th scope=col>Sum of Sq</th><th scope=col>F</th><th scope=col>Pr(&gt;F)</th></tr>\n",
       "\t<tr><th></th><th scope=col>&lt;dbl&gt;</th><th scope=col>&lt;dbl&gt;</th><th scope=col>&lt;dbl&gt;</th><th scope=col>&lt;dbl&gt;</th><th scope=col>&lt;dbl&gt;</th><th scope=col>&lt;dbl&gt;</th></tr>\n",
       "</thead>\n",
       "<tbody>\n",
       "\t<tr><th scope=row>1</th><td>46</td><td>653.7765</td><td>NA</td><td>      NA</td><td>       NA</td><td>       NA</td></tr>\n",
       "\t<tr><th scope=row>2</th><td>45</td><td>650.7130</td><td> 1</td><td>3.063486</td><td>0.2118551</td><td>0.6475337</td></tr>\n",
       "</tbody>\n",
       "</table>\n"
      ],
      "text/latex": [
       "A anova: 2 × 6\n",
       "\\begin{tabular}{r|llllll}\n",
       "  & Res.Df & RSS & Df & Sum of Sq & F & Pr(>F)\\\\\n",
       "  & <dbl> & <dbl> & <dbl> & <dbl> & <dbl> & <dbl>\\\\\n",
       "\\hline\n",
       "\t1 & 46 & 653.7765 & NA &       NA &        NA &        NA\\\\\n",
       "\t2 & 45 & 650.7130 &  1 & 3.063486 & 0.2118551 & 0.6475337\\\\\n",
       "\\end{tabular}\n"
      ],
      "text/markdown": [
       "\n",
       "A anova: 2 × 6\n",
       "\n",
       "| <!--/--> | Res.Df &lt;dbl&gt; | RSS &lt;dbl&gt; | Df &lt;dbl&gt; | Sum of Sq &lt;dbl&gt; | F &lt;dbl&gt; | Pr(&gt;F) &lt;dbl&gt; |\n",
       "|---|---|---|---|---|---|---|\n",
       "| 1 | 46 | 653.7765 | NA |       NA |        NA |        NA |\n",
       "| 2 | 45 | 650.7130 |  1 | 3.063486 | 0.2118551 | 0.6475337 |\n",
       "\n"
      ],
      "text/plain": [
       "  Res.Df RSS      Df Sum of Sq F         Pr(>F)   \n",
       "1 46     653.7765 NA       NA         NA        NA\n",
       "2 45     650.7130  1 3.063486  0.2118551 0.6475337"
      ]
     },
     "metadata": {},
     "output_type": "display_data"
    }
   ],
   "source": [
    "gr = lm(sr ~ pop15 + pop75 + dpi + offset(0.5*ddpi), data = savings)\n",
    "anova(gr, g)"
   ]
  },
  {
   "cell_type": "markdown",
   "metadata": {},
   "source": [
    "* Again, the null hypothesis is not rejected. If can test it manually with the t-test\n",
    "\n",
    "\n",
    "<p>&nbsp;</p>\n",
    "\\begin{split}\n",
    "t = \\frac{\\hat \\beta - c}{se(\\hat \\beta)}\n",
    "\\end{split}\n",
    "<p>&nbsp;</p>\n",
    "\n"
   ]
  },
  {
   "cell_type": "code",
   "execution_count": 57,
   "metadata": {},
   "outputs": [
    {
     "data": {
      "text/html": [
       "-0.460277170395062"
      ],
      "text/latex": [
       "-0.460277170395062"
      ],
      "text/markdown": [
       "-0.460277170395062"
      ],
      "text/plain": [
       "[1] -0.4602772"
      ]
     },
     "metadata": {},
     "output_type": "display_data"
    }
   ],
   "source": [
    "(tstat = (0.409695 -0.5)/0.196197)"
   ]
  },
  {
   "cell_type": "code",
   "execution_count": 58,
   "metadata": {},
   "outputs": [
    {
     "data": {
      "text/html": [
       "0.64753375520024"
      ],
      "text/latex": [
       "0.64753375520024"
      ],
      "text/markdown": [
       "0.64753375520024"
      ],
      "text/plain": [
       "[1] 0.6475338"
      ]
     },
     "metadata": {},
     "output_type": "display_data"
    }
   ],
   "source": [
    "2*pt(tstat,45)"
   ]
  },
  {
   "cell_type": "code",
   "execution_count": 60,
   "metadata": {},
   "outputs": [
    {
     "data": {
      "text/html": [
       "0.2119"
      ],
      "text/latex": [
       "0.2119"
      ],
      "text/markdown": [
       "0.2119"
      ],
      "text/plain": [
       "[1] 0.2119"
      ]
     },
     "metadata": {},
     "output_type": "display_data"
    }
   ],
   "source": [
    "# We got the same result as before\n",
    "round(tstat^2, 4)"
   ]
  },
  {
   "cell_type": "markdown",
   "metadata": {},
   "source": [
    "* The later approach is preferred in practice since we do not need to fit two models"
   ]
  },
  {
   "cell_type": "markdown",
   "metadata": {},
   "source": [
    "#### Permutation Tests\n",
    "\n",
    "* We can sample the data to test specific hypothesis of variable association of the lack of. For instance, would would be chance that the values of a variable is the result of a random distribution?  What would be the chance for we to observe higher values of F than the ones we calculated.\n",
    "\n",
    "* We can permuted the samples (n!, 30!) of the response variable and see what proportion of the exceed the observed F-statistic.\n",
    "\n",
    "* Let's computefor the model containing pop75 and dpi so as the p-value for F-statistics is not too small"
   ]
  },
  {
   "cell_type": "code",
   "execution_count": 62,
   "metadata": {},
   "outputs": [
    {
     "data": {
      "text/plain": [
       "\n",
       "Call:\n",
       "lm(formula = sr ~ pop75 + dpi, data = savings)\n",
       "\n",
       "Residuals:\n",
       "    Min      1Q  Median      3Q     Max \n",
       "-9.1571 -3.1835 -0.0844  2.2877 11.9802 \n",
       "\n",
       "Coefficients:\n",
       "              Estimate Std. Error t value Pr(>|t|)    \n",
       "(Intercept)  7.0566189  1.2904352   5.468  1.7e-06 ***\n",
       "pop75        1.3049653  0.7775328   1.678   0.0999 .  \n",
       "dpi         -0.0003415  0.0010129  -0.337   0.7375    \n",
       "---\n",
       "Signif. codes:  0 ‘***’ 0.001 ‘**’ 0.01 ‘*’ 0.05 ‘.’ 0.1 ‘ ’ 1\n",
       "\n",
       "Residual standard error: 4.334 on 47 degrees of freedom\n",
       "Multiple R-squared:  0.1024,\tAdjusted R-squared:  0.06416 \n",
       "F-statistic:  2.68 on 2 and 47 DF,  p-value: 0.07906\n"
      ]
     },
     "metadata": {},
     "output_type": "display_data"
    }
   ],
   "source": [
    "g = lm(sr ~ pop75 + dpi, data = savings)\n",
    "gs = summary(g)\n",
    "gs"
   ]
  },
  {
   "cell_type": "code",
   "execution_count": 67,
   "metadata": {},
   "outputs": [
    {
     "data": {
      "text/html": [
       "<style>\n",
       ".dl-inline {width: auto; margin:0; padding: 0}\n",
       ".dl-inline>dt, .dl-inline>dd {float: none; width: auto; display: inline-block}\n",
       ".dl-inline>dt::after {content: \":\\0020\"; padding-right: .5ex}\n",
       ".dl-inline>dt:not(:first-of-type) {padding-left: .5ex}\n",
       "</style><dl class=dl-inline><dt>value</dt><dd>2.67964729761007</dd><dt>numdf</dt><dd>2</dd><dt>dendf</dt><dd>47</dd></dl>\n"
      ],
      "text/latex": [
       "\\begin{description*}\n",
       "\\item[value] 2.67964729761007\n",
       "\\item[numdf] 2\n",
       "\\item[dendf] 47\n",
       "\\end{description*}\n"
      ],
      "text/markdown": [
       "value\n",
       ":   2.67964729761007numdf\n",
       ":   2dendf\n",
       ":   47\n",
       "\n"
      ],
      "text/plain": [
       "    value     numdf     dendf \n",
       " 2.679647  2.000000 47.000000 "
      ]
     },
     "metadata": {},
     "output_type": "display_data"
    }
   ],
   "source": [
    "gs$fstat"
   ]
  },
  {
   "cell_type": "code",
   "execution_count": 72,
   "metadata": {},
   "outputs": [],
   "source": [
    "# We can now compute F-statistic for 4000 randomly selected perm\n",
    "fstat = numeric(4000)\n",
    "for (i in 1:4000){\n",
    "    ge = lm(sample(sr) ~ pop75 + dpi, data=savings)\n",
    "    fstat[i] =  summary(ge)$fstat[1]\n",
    "}"
   ]
  },
  {
   "cell_type": "code",
   "execution_count": 74,
   "metadata": {},
   "outputs": [
    {
     "data": {
      "text/html": [
       "0.07475"
      ],
      "text/latex": [
       "0.07475"
      ],
      "text/markdown": [
       "0.07475"
      ],
      "text/plain": [
       "[1] 0.07475"
      ]
     },
     "metadata": {},
     "output_type": "display_data"
    }
   ],
   "source": [
    "# frequency of values above 2.67\n",
    "length(fstat[fstat > 2.6796]) / 4000"
   ]
  },
  {
   "cell_type": "markdown",
   "metadata": {},
   "source": [
    "* We can perform similar approach to test predictors rather than the response"
   ]
  },
  {
   "cell_type": "code",
   "execution_count": 76,
   "metadata": {},
   "outputs": [
    {
     "data": {
      "text/html": [
       "1.6783"
      ],
      "text/latex": [
       "1.6783"
      ],
      "text/markdown": [
       "1.6783"
      ],
      "text/plain": [
       "[1] 1.6783"
      ]
     },
     "metadata": {},
     "output_type": "display_data"
    }
   ],
   "source": [
    "# t-value for the pop75 variable\n",
    "round(summary(g)$coef[2,3], 4)"
   ]
  },
  {
   "cell_type": "code",
   "execution_count": 77,
   "metadata": {},
   "outputs": [],
   "source": [
    "# check what is the percentage of values that are above 1.67 in permutation  sampling\n",
    "tstat = numeric(4000)\n",
    "for (i in 1:4000){\n",
    "    ge = lm(sr ~ sample(pop75) + dpi, data = savings)\n",
    "    tstat[i] = summary(ge)$coef[2,3]     \n",
    "}"
   ]
  },
  {
   "cell_type": "code",
   "execution_count": 78,
   "metadata": {},
   "outputs": [
    {
     "data": {
      "text/html": [
       "0.099"
      ],
      "text/latex": [
       "0.099"
      ],
      "text/markdown": [
       "0.099"
      ],
      "text/plain": [
       "[1] 0.099"
      ]
     },
     "metadata": {},
     "output_type": "display_data"
    }
   ],
   "source": [
    "mean(abs(tstat) > 1.6783)"
   ]
  },
  {
   "cell_type": "markdown",
   "metadata": {},
   "source": [
    "#### Confidence Interval for $\\beta$\n",
    "\n",
    "Confidence Intervals (CIs) provide an alternative way of expressing the uncertainty in estimates.\n",
    "\n",
    "For a 95% CI, any point that lies within the region represents a null hypothesis that should not be rejected at 5%.\n",
    "\n",
    "\n",
    "<p>&nbsp;</p>\n",
    "\\begin{split}\n",
    "Estimate \\pm Critical\\: Value \\:*\\: SE\\: of\\: Estimate\n",
    "\\end{split}\n",
    "<p>&nbsp;</p>\n",
    "\n",
    "\n",
    "\n",
    "\n",
    "<p>&nbsp;</p>\n",
    "\\begin{split}\n",
    "\\hat \\beta_i \\pm t_{n-p}^{\\alpha/2} \\hat \\sigma \\sqrt{(X^TX)_{ii}^{-1}}\n",
    "\\end{split}\n",
    "<p>&nbsp;</p>\n"
   ]
  },
  {
   "cell_type": "code",
   "execution_count": 20,
   "metadata": {},
   "outputs": [
    {
     "data": {
      "text/html": [
       "2.01410338888085"
      ],
      "text/latex": [
       "2.01410338888085"
      ],
      "text/markdown": [
       "2.01410338888085"
      ],
      "text/plain": [
       "[1] 2.014103"
      ]
     },
     "metadata": {},
     "output_type": "display_data"
    },
    {
     "data": {
      "text/html": [
       "<style>\n",
       ".list-inline {list-style: none; margin:0; padding: 0}\n",
       ".list-inline>li {display: inline-block}\n",
       ".list-inline>li:not(:last-child)::after {content: \"\\00b7\"; padding: 0 .5ex}\n",
       "</style>\n",
       "<ol class=list-inline><li>-3.8608</li><li>0.4808</li></ol>\n"
      ],
      "text/latex": [
       "\\begin{enumerate*}\n",
       "\\item -3.8608\n",
       "\\item 0.4808\n",
       "\\end{enumerate*}\n"
      ],
      "text/markdown": [
       "1. -3.8608\n",
       "2. 0.4808\n",
       "\n",
       "\n"
      ],
      "text/plain": [
       "[1] -3.8608  0.4808"
      ]
     },
     "metadata": {},
     "output_type": "display_data"
    }
   ],
   "source": [
    "g = lm(sr ~ ., data = savings)\n",
    "#summary(g)\n",
    "# building CI\n",
    "# t-value(n-p)\n",
    "qt(0.975, 45)\n",
    "\n",
    "# Calculating the interval; beta - t-value(n-p)* SE\n",
    "c(-1.69 - 2.01 * 1.08, -1.69 + 2.01 * 1.08)"
   ]
  },
  {
   "cell_type": "markdown",
   "metadata": {},
   "source": [
    "* The interval contains zero, which indivates that the null hypothesis $H_0: \\beta_{pop75} = 0$ would not be rejected at 5% level"
   ]
  },
  {
   "cell_type": "code",
   "execution_count": 12,
   "metadata": {},
   "outputs": [
    {
     "data": {
      "text/html": [
       "<table>\n",
       "<caption>A matrix: 5 × 2 of type dbl</caption>\n",
       "<thead>\n",
       "\t<tr><th></th><th scope=col>2.5 %</th><th scope=col>97.5 %</th></tr>\n",
       "</thead>\n",
       "<tbody>\n",
       "\t<tr><th scope=row>(Intercept)</th><td>13.753330728</td><td>43.378842354</td></tr>\n",
       "\t<tr><th scope=row>pop15</th><td>-0.752517542</td><td>-0.169868752</td></tr>\n",
       "\t<tr><th scope=row>pop75</th><td>-3.873977955</td><td> 0.490982602</td></tr>\n",
       "\t<tr><th scope=row>dpi</th><td>-0.002212248</td><td> 0.001538444</td></tr>\n",
       "\t<tr><th scope=row>ddpi</th><td> 0.014533628</td><td> 0.804856227</td></tr>\n",
       "</tbody>\n",
       "</table>\n"
      ],
      "text/latex": [
       "A matrix: 5 × 2 of type dbl\n",
       "\\begin{tabular}{r|ll}\n",
       "  & 2.5 \\% & 97.5 \\%\\\\\n",
       "\\hline\n",
       "\t(Intercept) & 13.753330728 & 43.378842354\\\\\n",
       "\tpop15 & -0.752517542 & -0.169868752\\\\\n",
       "\tpop75 & -3.873977955 &  0.490982602\\\\\n",
       "\tdpi & -0.002212248 &  0.001538444\\\\\n",
       "\tddpi &  0.014533628 &  0.804856227\\\\\n",
       "\\end{tabular}\n"
      ],
      "text/markdown": [
       "\n",
       "A matrix: 5 × 2 of type dbl\n",
       "\n",
       "| <!--/--> | 2.5 % | 97.5 % |\n",
       "|---|---|---|\n",
       "| (Intercept) | 13.753330728 | 43.378842354 |\n",
       "| pop15 | -0.752517542 | -0.169868752 |\n",
       "| pop75 | -3.873977955 |  0.490982602 |\n",
       "| dpi | -0.002212248 |  0.001538444 |\n",
       "| ddpi |  0.014533628 |  0.804856227 |\n",
       "\n"
      ],
      "text/plain": [
       "            2.5 %        97.5 %      \n",
       "(Intercept) 13.753330728 43.378842354\n",
       "pop15       -0.752517542 -0.169868752\n",
       "pop75       -3.873977955  0.490982602\n",
       "dpi         -0.002212248  0.001538444\n",
       "ddpi         0.014533628  0.804856227"
      ]
     },
     "metadata": {},
     "output_type": "display_data"
    }
   ],
   "source": [
    "confint(g)"
   ]
  },
  {
   "cell_type": "markdown",
   "metadata": {},
   "source": [
    "* Let's calculate the joint 95% confidence region for $\\beta_{pop15}$ and $\\beta_{pop75}$"
   ]
  },
  {
   "cell_type": "code",
   "execution_count": 21,
   "metadata": {},
   "outputs": [
    {
     "data": {
      "text/html": [
       "<strong>pop15:</strong> -0.461193147122768"
      ],
      "text/latex": [
       "\\textbf{pop15:} -0.461193147122768"
      ],
      "text/markdown": [
       "**pop15:** -0.461193147122768"
      ],
      "text/plain": [
       "     pop15 \n",
       "-0.4611931 "
      ]
     },
     "metadata": {},
     "output_type": "display_data"
    },
    {
     "data": {
      "text/html": [
       "<strong>pop75:</strong> -1.69149767674954"
      ],
      "text/latex": [
       "\\textbf{pop75:} -1.69149767674954"
      ],
      "text/markdown": [
       "**pop75:** -1.69149767674954"
      ],
      "text/plain": [
       "    pop75 \n",
       "-1.691498 "
      ]
     },
     "metadata": {},
     "output_type": "display_data"
    },
    {
     "data": {
      "image/png": "[encoded data removed]",
      "text/plain": [
       "plot without title"
      ]
     },
     "metadata": {
      "image/png": {
       "height": 420,
       "width": 420
      }
     },
     "output_type": "display_data"
    }
   ],
   "source": [
    "library(ellipse)\n",
    "\n",
    "plot(ellipse(g,c(2,3)), type = 'l', xlim = c(-1, 0))\n",
    "points(0,0)\n",
    "points(coef(g)[2], coef(g)[3], pch = 18)\n",
    "abline(v = confint(g)[2,], lty = 2)\n",
    "abline(v = confint(g)[3,], lty = 2)\n",
    "\n",
    "# Coordinate of the joint; as it falls outside the ellipse\n",
    "coef(g)[2]\n",
    "coef(g)[3]"
   ]
  },
  {
   "cell_type": "markdown",
   "metadata": {},
   "source": [
    "* The ellipse is testing the hypothesis $\\beta_{pop15} = \\beta_{pop75} = 0$\n",
    "* The results show that the estimates values fall out of the ellipse, which led us to reject the null hypothesis"
   ]
  },
  {
   "cell_type": "code",
   "execution_count": 22,
   "metadata": {},
   "outputs": [
    {
     "data": {
      "text/html": [
       "-0.908478708206678"
      ],
      "text/latex": [
       "-0.908478708206678"
      ],
      "text/markdown": [
       "-0.908478708206678"
      ],
      "text/plain": [
       "[1] -0.9084787"
      ]
     },
     "metadata": {},
     "output_type": "display_data"
    }
   ],
   "source": [
    "# correlation between predictors\n",
    "cor(savings$pop15, savings$pop75)"
   ]
  },
  {
   "cell_type": "code",
   "execution_count": 24,
   "metadata": {},
   "outputs": [
    {
     "data": {
      "text/html": [
       "<table>\n",
       "<caption>A matrix: 5 × 5 of type dbl</caption>\n",
       "<thead>\n",
       "\t<tr><th></th><th scope=col>(Intercept)</th><th scope=col>pop15</th><th scope=col>pop75</th><th scope=col>dpi</th><th scope=col>ddpi</th></tr>\n",
       "</thead>\n",
       "<tbody>\n",
       "\t<tr><th scope=row>(Intercept)</th><td> 1.0000000</td><td>-0.9841640</td><td>-0.80911114</td><td>-0.1658813</td><td>-0.18826530</td></tr>\n",
       "\t<tr><th scope=row>pop15</th><td>-0.9841640</td><td> 1.0000000</td><td> 0.76535591</td><td> 0.1799079</td><td> 0.10246580</td></tr>\n",
       "\t<tr><th scope=row>pop75</th><td>-0.8091111</td><td> 0.7653559</td><td> 1.00000000</td><td>-0.3670459</td><td>-0.05472238</td></tr>\n",
       "\t<tr><th scope=row>dpi</th><td>-0.1658813</td><td> 0.1799079</td><td>-0.36704594</td><td> 1.0000000</td><td> 0.25548434</td></tr>\n",
       "\t<tr><th scope=row>ddpi</th><td>-0.1882653</td><td> 0.1024658</td><td>-0.05472238</td><td> 0.2554843</td><td> 1.00000000</td></tr>\n",
       "</tbody>\n",
       "</table>\n"
      ],
      "text/latex": [
       "A matrix: 5 × 5 of type dbl\n",
       "\\begin{tabular}{r|lllll}\n",
       "  & (Intercept) & pop15 & pop75 & dpi & ddpi\\\\\n",
       "\\hline\n",
       "\t(Intercept) &  1.0000000 & -0.9841640 & -0.80911114 & -0.1658813 & -0.18826530\\\\\n",
       "\tpop15 & -0.9841640 &  1.0000000 &  0.76535591 &  0.1799079 &  0.10246580\\\\\n",
       "\tpop75 & -0.8091111 &  0.7653559 &  1.00000000 & -0.3670459 & -0.05472238\\\\\n",
       "\tdpi & -0.1658813 &  0.1799079 & -0.36704594 &  1.0000000 &  0.25548434\\\\\n",
       "\tddpi & -0.1882653 &  0.1024658 & -0.05472238 &  0.2554843 &  1.00000000\\\\\n",
       "\\end{tabular}\n"
      ],
      "text/markdown": [
       "\n",
       "A matrix: 5 × 5 of type dbl\n",
       "\n",
       "| <!--/--> | (Intercept) | pop15 | pop75 | dpi | ddpi |\n",
       "|---|---|---|---|---|---|\n",
       "| (Intercept) |  1.0000000 | -0.9841640 | -0.80911114 | -0.1658813 | -0.18826530 |\n",
       "| pop15 | -0.9841640 |  1.0000000 |  0.76535591 |  0.1799079 |  0.10246580 |\n",
       "| pop75 | -0.8091111 |  0.7653559 |  1.00000000 | -0.3670459 | -0.05472238 |\n",
       "| dpi | -0.1658813 |  0.1799079 | -0.36704594 |  1.0000000 |  0.25548434 |\n",
       "| ddpi | -0.1882653 |  0.1024658 | -0.05472238 |  0.2554843 |  1.00000000 |\n",
       "\n"
      ],
      "text/plain": [
       "            (Intercept) pop15      pop75       dpi        ddpi       \n",
       "(Intercept)  1.0000000  -0.9841640 -0.80911114 -0.1658813 -0.18826530\n",
       "pop15       -0.9841640   1.0000000  0.76535591  0.1799079  0.10246580\n",
       "pop75       -0.8091111   0.7653559  1.00000000 -0.3670459 -0.05472238\n",
       "dpi         -0.1658813   0.1799079 -0.36704594  1.0000000  0.25548434\n",
       "ddpi        -0.1882653   0.1024658 -0.05472238  0.2554843  1.00000000"
      ]
     },
     "metadata": {},
     "output_type": "display_data"
    }
   ],
   "source": [
    "# correlation between coefficients\n",
    "summary(g, corr = TRUE)$corr"
   ]
  },
  {
   "cell_type": "markdown",
   "metadata": {},
   "source": [
    "#### Confidence Interval for Predictions\n",
    "\n",
    "* Decision makers need more than justa a point to make rational choices\n",
    "* Distinguish predictions for the future mean response and predictions of future observations.\n",
    "\n",
    "Consider  that we want to predict selling price of homes using as predictors the number of bedrooms and closeness to a major highway. Two kinds of predictions that can be made for a given $x_0$:\n",
    "\n",
    "1. What is the selling value for a house with a characteristic $x_0$? Variance of $\\epsilon$ needed\n",
    "2. What would a house with characteristics $x_0$ sell for on average? Variance of $\\hat \\beta$ needed\n",
    "\n",
    "The first case is a \"prediction of a future value\" while the second case is \"prediction of the mean response\". \n",
    "\n",
    "\n",
    "The variance of a future observation \n",
    "\n",
    "<p>&nbsp;</p>\n",
    "\\begin{split}\n",
    "(x_0^T \\hat\\beta) = x_0^T(X^TX)^{-1}x_0\\sigma^2\n",
    "\\end{split}\n",
    "<p>&nbsp;</p>\n",
    "\n",
    "is predicted to be \n",
    "\n",
    "<p>&nbsp;</p>\n",
    "\\begin{split}\n",
    "x_0^T\\hat\\beta + \\epsilon\n",
    "\\end{split}\n",
    "<p>&nbsp;</p>\n",
    "\n",
    "where the future $\\epsilon$ is unknown. \n",
    "\n",
    "* To calculate the CI of a single future response, we should  use the following formula\n",
    "\n",
    "<p>&nbsp;</p>\n",
    "\\begin{split}\n",
    "\\hat y_0 \\sim t_{n-p}^{(\\alpha/2}\\sigma \\sqrt{1+x_0^T(X^TX)^{-1}x_0}\n",
    "\\end{split}\n",
    "<p>&nbsp;</p>\n",
    "\n",
    "* To calculate the CI for the mean response for a given $x_0$, then\n",
    "\n",
    "<p>&nbsp;</p>\n",
    "\\begin{split}\n",
    "\\hat y_0 \\sim t_{n-p}^{(\\alpha/2)}\\sigma \\sqrt{x_0^T(X^TX)^{-1}x_0}\n",
    "\\end{split}\n",
    "<p>&nbsp;</p>\n"
   ]
  },
  {
   "cell_type": "markdown",
   "metadata": {},
   "source": [
    "* Area:  0.08 km2\n",
    "* Elevation: 93 m\n",
    "* Nearest: 6 km\n",
    "* Scruz: 12 km\n",
    "* Adjacent: 0.34 km2\n",
    "\n",
    "what is the predicted number of species under those conditions?"
   ]
  },
  {
   "cell_type": "code",
   "execution_count": 56,
   "metadata": {},
   "outputs": [
    {
     "data": {
      "text/html": [
       "33.9196677744002"
      ],
      "text/latex": [
       "33.9196677744002"
      ],
      "text/markdown": [
       "33.9196677744002"
      ],
      "text/plain": [
       "[1] 33.9"
      ]
     },
     "metadata": {},
     "output_type": "display_data"
    }
   ],
   "source": [
    "g = lm(Species ~ Area + Elevation + Nearest + Scruz + Adjacent, data = gala)\n",
    "\n",
    "# Suppose we want to predict the response for a specific combination of predictor values \n",
    "x0 = c(1, 0.08, 93, 6.0, 12.0, 0.34)\n",
    "(y0 = sum(x0*coef(g)))"
   ]
  },
  {
   "cell_type": "markdown",
   "metadata": {},
   "source": [
    "* The predicted number of species would be $\\sim$ 34 species.\n",
    "\n",
    "* Now we need to decide if we want the CI on one new island or the mean response for all islands with the same predictor $x_0$"
   ]
  },
  {
   "cell_type": "code",
   "execution_count": 30,
   "metadata": {},
   "outputs": [
    {
     "data": {
      "text/html": [
       "2.0639"
      ],
      "text/latex": [
       "2.0639"
      ],
      "text/markdown": [
       "2.0639"
      ],
      "text/plain": [
       "[1] 2.0639"
      ]
     },
     "metadata": {},
     "output_type": "display_data"
    }
   ],
   "source": [
    "round(qt(0.975, 24), 4)"
   ]
  },
  {
   "cell_type": "markdown",
   "metadata": {},
   "source": [
    "* $(X^TX)^{-1}$ matrix"
   ]
  },
  {
   "cell_type": "code",
   "execution_count": 34,
   "metadata": {},
   "outputs": [
    {
     "data": {
      "text/html": [
       "<table>\n",
       "<caption>A matrix: 6 × 6 of type dbl</caption>\n",
       "<thead>\n",
       "\t<tr><th></th><th scope=col>(Intercept)</th><th scope=col>Area</th><th scope=col>Elevation</th><th scope=col>Nearest</th><th scope=col>Scruz</th><th scope=col>Adjacent</th></tr>\n",
       "</thead>\n",
       "<tbody>\n",
       "\t<tr><th scope=row>Baltra</th><td>1</td><td>25.09</td><td>346</td><td>0.6</td><td> 0.6</td><td>  1.84</td></tr>\n",
       "\t<tr><th scope=row>Bartolome</th><td>1</td><td> 1.24</td><td>109</td><td>0.6</td><td>26.3</td><td>572.33</td></tr>\n",
       "\t<tr><th scope=row>Caldwell</th><td>1</td><td> 0.21</td><td>114</td><td>2.8</td><td>58.7</td><td>  0.78</td></tr>\n",
       "\t<tr><th scope=row>Champion</th><td>1</td><td> 0.10</td><td> 46</td><td>1.9</td><td>47.4</td><td>  0.18</td></tr>\n",
       "\t<tr><th scope=row>Coamano</th><td>1</td><td> 0.05</td><td> 77</td><td>1.9</td><td> 1.9</td><td>903.82</td></tr>\n",
       "\t<tr><th scope=row>Daphne.Major</th><td>1</td><td> 0.34</td><td>119</td><td>8.0</td><td> 8.0</td><td>  1.84</td></tr>\n",
       "</tbody>\n",
       "</table>\n"
      ],
      "text/latex": [
       "A matrix: 6 × 6 of type dbl\n",
       "\\begin{tabular}{r|llllll}\n",
       "  & (Intercept) & Area & Elevation & Nearest & Scruz & Adjacent\\\\\n",
       "\\hline\n",
       "\tBaltra & 1 & 25.09 & 346 & 0.6 &  0.6 &   1.84\\\\\n",
       "\tBartolome & 1 &  1.24 & 109 & 0.6 & 26.3 & 572.33\\\\\n",
       "\tCaldwell & 1 &  0.21 & 114 & 2.8 & 58.7 &   0.78\\\\\n",
       "\tChampion & 1 &  0.10 &  46 & 1.9 & 47.4 &   0.18\\\\\n",
       "\tCoamano & 1 &  0.05 &  77 & 1.9 &  1.9 & 903.82\\\\\n",
       "\tDaphne.Major & 1 &  0.34 & 119 & 8.0 &  8.0 &   1.84\\\\\n",
       "\\end{tabular}\n"
      ],
      "text/markdown": [
       "\n",
       "A matrix: 6 × 6 of type dbl\n",
       "\n",
       "| <!--/--> | (Intercept) | Area | Elevation | Nearest | Scruz | Adjacent |\n",
       "|---|---|---|---|---|---|---|\n",
       "| Baltra | 1 | 25.09 | 346 | 0.6 |  0.6 |   1.84 |\n",
       "| Bartolome | 1 |  1.24 | 109 | 0.6 | 26.3 | 572.33 |\n",
       "| Caldwell | 1 |  0.21 | 114 | 2.8 | 58.7 |   0.78 |\n",
       "| Champion | 1 |  0.10 |  46 | 1.9 | 47.4 |   0.18 |\n",
       "| Coamano | 1 |  0.05 |  77 | 1.9 |  1.9 | 903.82 |\n",
       "| Daphne.Major | 1 |  0.34 | 119 | 8.0 |  8.0 |   1.84 |\n",
       "\n"
      ],
      "text/plain": [
       "             (Intercept) Area  Elevation Nearest Scruz Adjacent\n",
       "Baltra       1           25.09 346       0.6      0.6    1.84  \n",
       "Bartolome    1            1.24 109       0.6     26.3  572.33  \n",
       "Caldwell     1            0.21 114       2.8     58.7    0.78  \n",
       "Champion     1            0.10  46       1.9     47.4    0.18  \n",
       "Coamano      1            0.05  77       1.9      1.9  903.82  \n",
       "Daphne.Major 1            0.34 119       8.0      8.0    1.84  "
      ]
     },
     "metadata": {},
     "output_type": "display_data"
    }
   ],
   "source": [
    "# convert x into a matrix\n",
    "head(x)\n",
    "x = model.matrix(g)\n",
    "xtxi = solve(t(x) %*% x)"
   ]
  },
  {
   "cell_type": "code",
   "execution_count": 37,
   "metadata": {},
   "outputs": [
    {
     "data": {
      "text/html": [
       "32.89"
      ],
      "text/latex": [
       "32.89"
      ],
      "text/markdown": [
       "32.89"
      ],
      "text/plain": [
       "[1] 32.89"
      ]
     },
     "metadata": {},
     "output_type": "display_data"
    }
   ],
   "source": [
    "# Width of the bands for mean respose CI \n",
    "round((bm = sqrt(x0 %*% xtxi %*% x0) * 2.064 * 60.98)[,1], 3)"
   ]
  },
  {
   "cell_type": "code",
   "execution_count": 46,
   "metadata": {},
   "outputs": [
    {
     "data": {
      "text/html": [
       "<style>\n",
       ".list-inline {list-style: none; margin:0; padding: 0}\n",
       ".list-inline>li {display: inline-block}\n",
       ".list-inline>li:not(:last-child)::after {content: \"\\00b7\"; padding: 0 .5ex}\n",
       "</style>\n",
       "<ol class=list-inline><li>1.0296</li><li>66.8097</li></ol>\n"
      ],
      "text/latex": [
       "\\begin{enumerate*}\n",
       "\\item 1.0296\n",
       "\\item 66.8097\n",
       "\\end{enumerate*}\n"
      ],
      "text/markdown": [
       "1. 1.0296\n",
       "2. 66.8097\n",
       "\n",
       "\n"
      ],
      "text/plain": [
       "[1]  1.03 66.81"
      ]
     },
     "metadata": {},
     "output_type": "display_data"
    }
   ],
   "source": [
    "# interval\n",
    "round(c(y0 - bm, y0 + bm), 4)"
   ]
  },
  {
   "cell_type": "code",
   "execution_count": 49,
   "metadata": {},
   "outputs": [
    {
     "data": {
      "text/html": [
       "<style>\n",
       ".list-inline {list-style: none; margin:0; padding: 0}\n",
       ".list-inline>li {display: inline-block}\n",
       ".list-inline>li:not(:last-child)::after {content: \"\\00b7\"; padding: 0 .5ex}\n",
       "</style>\n",
       "<ol class=list-inline><li>-96.169</li><li>164.009</li></ol>\n"
      ],
      "text/latex": [
       "\\begin{enumerate*}\n",
       "\\item -96.169\n",
       "\\item 164.009\n",
       "\\end{enumerate*}\n"
      ],
      "text/markdown": [
       "1. -96.169\n",
       "2. 164.009\n",
       "\n",
       "\n"
      ],
      "text/plain": [
       "[1] -96.2 164.0"
      ]
     },
     "metadata": {},
     "output_type": "display_data"
    }
   ],
   "source": [
    "# Prediction interval for the single future response\n",
    "bm = sqrt( 1 + x0 %*% xtxi %*% x0) * 2.064 * 60.98\n",
    "round(c(y0 - bm, y0 + bm), 3)"
   ]
  },
  {
   "cell_type": "markdown",
   "metadata": {},
   "source": [
    "* The number of species cannot be a negative number neither its confidence interval. To avoid that, we can transform the response (i.e., log), or use probability model more apppropriate to the response (i.e., Poisson distribution)\n",
    "* There is a more straightfoward way to calculate those intervals"
   ]
  },
  {
   "cell_type": "code",
   "execution_count": 61,
   "metadata": {},
   "outputs": [
    {
     "name": "stdout",
     "output_type": "stream",
     "text": [
      "List of 4\n",
      " $ fit           : Named num 33.9\n",
      "  ..- attr(*, \"names\")= chr \"1\"\n",
      " $ se.fit        : num 15.9\n",
      " $ df            : int 24\n",
      " $ residual.scale: num 61\n"
     ]
    }
   ],
   "source": [
    "x0 = data.frame(Area = 0.08, Elevation = 93, Nearest = 6.0, Scruz = 12, Adjacent = 0.34)\n",
    "str(predict(g, x0, se = TRUE))"
   ]
  },
  {
   "cell_type": "code",
   "execution_count": 62,
   "metadata": {},
   "outputs": [
    {
     "data": {
      "text/html": [
       "<table>\n",
       "<caption>A matrix: 1 × 3 of type dbl</caption>\n",
       "<thead>\n",
       "\t<tr><th></th><th scope=col>fit</th><th scope=col>lwr</th><th scope=col>upr</th></tr>\n",
       "</thead>\n",
       "<tbody>\n",
       "\t<tr><th scope=row>1</th><td>33.9</td><td>1.03</td><td>66.8</td></tr>\n",
       "</tbody>\n",
       "</table>\n"
      ],
      "text/latex": [
       "A matrix: 1 × 3 of type dbl\n",
       "\\begin{tabular}{r|lll}\n",
       "  & fit & lwr & upr\\\\\n",
       "\\hline\n",
       "\t1 & 33.9 & 1.03 & 66.8\\\\\n",
       "\\end{tabular}\n"
      ],
      "text/markdown": [
       "\n",
       "A matrix: 1 × 3 of type dbl\n",
       "\n",
       "| <!--/--> | fit | lwr | upr |\n",
       "|---|---|---|---|\n",
       "| 1 | 33.9 | 1.03 | 66.8 |\n",
       "\n"
      ],
      "text/plain": [
       "  fit  lwr  upr \n",
       "1 33.9 1.03 66.8"
      ]
     },
     "metadata": {},
     "output_type": "display_data"
    }
   ],
   "source": [
    "predict(g, x0, interval = \"confidence\")"
   ]
  },
  {
   "cell_type": "code",
   "execution_count": 63,
   "metadata": {},
   "outputs": [
    {
     "data": {
      "text/html": [
       "<table>\n",
       "<caption>A matrix: 1 × 3 of type dbl</caption>\n",
       "<thead>\n",
       "\t<tr><th></th><th scope=col>fit</th><th scope=col>lwr</th><th scope=col>upr</th></tr>\n",
       "</thead>\n",
       "<tbody>\n",
       "\t<tr><th scope=row>1</th><td>33.9</td><td>-96.2</td><td>164</td></tr>\n",
       "</tbody>\n",
       "</table>\n"
      ],
      "text/latex": [
       "A matrix: 1 × 3 of type dbl\n",
       "\\begin{tabular}{r|lll}\n",
       "  & fit & lwr & upr\\\\\n",
       "\\hline\n",
       "\t1 & 33.9 & -96.2 & 164\\\\\n",
       "\\end{tabular}\n"
      ],
      "text/markdown": [
       "\n",
       "A matrix: 1 × 3 of type dbl\n",
       "\n",
       "| <!--/--> | fit | lwr | upr |\n",
       "|---|---|---|---|\n",
       "| 1 | 33.9 | -96.2 | 164 |\n",
       "\n"
      ],
      "text/plain": [
       "  fit  lwr   upr\n",
       "1 33.9 -96.2 164"
      ]
     },
     "metadata": {},
     "output_type": "display_data"
    }
   ],
   "source": [
    "predict(g, x0, interval = \"prediction\")"
   ]
  },
  {
   "cell_type": "markdown",
   "metadata": {},
   "source": [
    "##### Extrapolation\n",
    "\n",
    "Happens when we try to predict the response for values of the predictor which lie outside the range of the original data. There are two types:\n",
    "1. **Quantitative extrapolation**: check if the new x0 is within the range of the original data. CIs get wider as we move away from the data. Also, it might assume non-linear behavior outside the estimate boundaries."
   ]
  },
  {
   "cell_type": "code",
   "execution_count": 67,
   "metadata": {},
   "outputs": [
    {
     "data": {
      "text/html": [],
      "text/latex": [],
      "text/markdown": [],
      "text/plain": [
       "logical(0)"
      ]
     },
     "metadata": {},
     "output_type": "display_data"
    },
    {
     "data": {
      "image/png": "[encoded data removed]",
      "text/plain": [
       "plot without title"
      ]
     },
     "metadata": {
      "image/png": {
       "height": 420,
       "width": 420
      }
     },
     "output_type": "display_data"
    }
   ],
   "source": [
    "grid = seq(0, 100, 1)\n",
    "p = predict (g, data.frame(Area = 0.08, Elevation = 93, Nearest = grid, Scruz = 12, Adjacent = 0.34), se = TRUE, interval = \"confidence\")\n",
    "\n",
    "matplot(grid, p$fit, lty = c(1,2,2), type = 'l', xlab = \"Nearest\", ylab = \"Species\") > rug(gala$Nearest)"
   ]
  },
  {
   "cell_type": "markdown",
   "metadata": {},
   "source": [
    "2. **Qualitative extrapolation**: Is the new x0 draom from the same population from which the original sample was drawn? We must evaluate carefully if the conclusions can be applied to the new data."
   ]
  },
  {
   "cell_type": "markdown",
   "metadata": {},
   "source": [
    "#### Designed Experiments\n",
    "\n",
    "In a designed experiment, the user has some control over $X$. Some predictors might be controled, some might not be but can be measured with precision.Some predictors might be set as constant (i.e., temperature).\n",
    "\n",
    "Two important design features are:\n",
    "* *orthogonality*\n",
    "* *randomization*\n",
    "\n",
    "###### Orthogonality\n",
    "\n",
    "It allow us to interpret the effect of one predictor without regard to another. Such as $[X_1 X_2]$ such as $X_1^TX_2 = 0$\n",
    "\n",
    "\n",
    "<p>&nbsp;</p>\n",
    "\\begin{split}\n",
    "y= X\\beta + \\epsilon = X_1 \\beta_1 + X_2 \\beta_2 +\\epsilon \n",
    "\\end{split}\n",
    "<p>&nbsp;</p>\n",
    "\n",
    "\n",
    "and\n",
    "\n",
    "<p>&nbsp;</p>\n",
    "\\begin{align*}\n",
    "\\left(\\begin{array}{cc} \n",
    "X^TX\n",
    "\\end{array}\\right)\n",
    "\\: = \\:\n",
    "\\left(\\begin{array}{c} \n",
    "X_1^TX_1 & X_1^TX_2\\\\ \n",
    "X_2^TX_1 & X_2^TX_2\n",
    "\\end{array}\\right)\n",
    "\\left(\\begin{array}{c} \n",
    "X_1^TX_1 & 0\\\\ \n",
    "0 & X_2^TX_2\n",
    "\\end{array}\\right)\n",
    "\\end{align*}\n",
    "<p>&nbsp;</p>\n",
    "\n",
    "which means that $\\hat \\beta_1$ is:\n",
    "\n",
    "\n",
    "<p>&nbsp;</p>\n",
    "\\begin{split}\n",
    "\\hat \\beta_1 = (X_1^T X_1)^{-1}X_1^Ty\n",
    "\\end{split}\n",
    "<p>&nbsp;</p>\n",
    "\n",
    "and $\\hat \\beta_2$ is:\n",
    "\n",
    "<p>&nbsp;</p>\n",
    "\\begin{split}\n",
    "\\hat \\beta_2 = (X_2^T X_2)^{-1}X_2^Ty\n",
    "\\end{split}\n",
    "<p>&nbsp;</p>\n",
    "\n",
    "Notice that $\\hat \\beta_1$ will be estimate the same regardless if $X_2$ is in the model or not, and vice versa. Not all estimations will be same regardless of $X_2$, such as:\n",
    "\n",
    "<p>&nbsp;</p>\n",
    "\\begin{split}\n",
    "\\frac{RSS}{df} = \\hat \\sigma^2\n",
    "\\end{split}\n",
    "<p>&nbsp;</p>\n",
    "\n",
    "Orthogonality is a desirable property, but will only occur when $X$ is chosen by the experimenter. It is a feature of a good design. \n",
    "\n",
    "##### Central composite design\n",
    "\n",
    "Determine the  effect of column temperature, gas/liquid ratio, and packing heigh in reducing unpleasant odor of a chemical product"
   ]
  },
  {
   "cell_type": "code",
   "execution_count": 68,
   "metadata": {},
   "outputs": [
    {
     "data": {
      "text/html": [
       "<table>\n",
       "<caption>A data.frame: 6 × 4</caption>\n",
       "<thead>\n",
       "\t<tr><th></th><th scope=col>odor</th><th scope=col>temp</th><th scope=col>gas</th><th scope=col>pack</th></tr>\n",
       "\t<tr><th></th><th scope=col>&lt;dbl&gt;</th><th scope=col>&lt;dbl&gt;</th><th scope=col>&lt;dbl&gt;</th><th scope=col>&lt;dbl&gt;</th></tr>\n",
       "</thead>\n",
       "<tbody>\n",
       "\t<tr><th scope=row>1</th><td>66</td><td>-1</td><td>-1</td><td> 0</td></tr>\n",
       "\t<tr><th scope=row>2</th><td>39</td><td> 1</td><td>-1</td><td> 0</td></tr>\n",
       "\t<tr><th scope=row>3</th><td>43</td><td>-1</td><td> 1</td><td> 0</td></tr>\n",
       "\t<tr><th scope=row>4</th><td>49</td><td> 1</td><td> 1</td><td> 0</td></tr>\n",
       "\t<tr><th scope=row>5</th><td>58</td><td>-1</td><td> 0</td><td>-1</td></tr>\n",
       "\t<tr><th scope=row>6</th><td>17</td><td> 1</td><td> 0</td><td>-1</td></tr>\n",
       "</tbody>\n",
       "</table>\n"
      ],
      "text/latex": [
       "A data.frame: 6 × 4\n",
       "\\begin{tabular}{r|llll}\n",
       "  & odor & temp & gas & pack\\\\\n",
       "  & <dbl> & <dbl> & <dbl> & <dbl>\\\\\n",
       "\\hline\n",
       "\t1 & 66 & -1 & -1 &  0\\\\\n",
       "\t2 & 39 &  1 & -1 &  0\\\\\n",
       "\t3 & 43 & -1 &  1 &  0\\\\\n",
       "\t4 & 49 &  1 &  1 &  0\\\\\n",
       "\t5 & 58 & -1 &  0 & -1\\\\\n",
       "\t6 & 17 &  1 &  0 & -1\\\\\n",
       "\\end{tabular}\n"
      ],
      "text/markdown": [
       "\n",
       "A data.frame: 6 × 4\n",
       "\n",
       "| <!--/--> | odor &lt;dbl&gt; | temp &lt;dbl&gt; | gas &lt;dbl&gt; | pack &lt;dbl&gt; |\n",
       "|---|---|---|---|---|\n",
       "| 1 | 66 | -1 | -1 |  0 |\n",
       "| 2 | 39 |  1 | -1 |  0 |\n",
       "| 3 | 43 | -1 |  1 |  0 |\n",
       "| 4 | 49 |  1 |  1 |  0 |\n",
       "| 5 | 58 | -1 |  0 | -1 |\n",
       "| 6 | 17 |  1 |  0 | -1 |\n",
       "\n"
      ],
      "text/plain": [
       "  odor temp gas pack\n",
       "1 66   -1   -1   0  \n",
       "2 39    1   -1   0  \n",
       "3 43   -1    1   0  \n",
       "4 49    1    1   0  \n",
       "5 58   -1    0  -1  \n",
       "6 17    1    0  -1  "
      ]
     },
     "metadata": {},
     "output_type": "display_data"
    }
   ],
   "source": [
    "data(odor)\n",
    "head(odor)"
   ]
  },
  {
   "cell_type": "code",
   "execution_count": 69,
   "metadata": {},
   "outputs": [],
   "source": [
    "# getting the predictors and adding the intercept\n",
    "x = as.matrix(cbind(1, odor[,-1]))"
   ]
  },
  {
   "cell_type": "markdown",
   "metadata": {},
   "source": [
    "* $X^TX$"
   ]
  },
  {
   "cell_type": "code",
   "execution_count": 72,
   "metadata": {},
   "outputs": [
    {
     "data": {
      "text/html": [
       "<table>\n",
       "<caption>A matrix: 4 × 4 of type dbl</caption>\n",
       "<thead>\n",
       "\t<tr><th></th><th scope=col>1</th><th scope=col>temp</th><th scope=col>gas</th><th scope=col>pack</th></tr>\n",
       "</thead>\n",
       "<tbody>\n",
       "\t<tr><th scope=row>1</th><td>15</td><td>0</td><td>0</td><td>0</td></tr>\n",
       "\t<tr><th scope=row>temp</th><td> 0</td><td>8</td><td>0</td><td>0</td></tr>\n",
       "\t<tr><th scope=row>gas</th><td> 0</td><td>0</td><td>8</td><td>0</td></tr>\n",
       "\t<tr><th scope=row>pack</th><td> 0</td><td>0</td><td>0</td><td>8</td></tr>\n",
       "</tbody>\n",
       "</table>\n"
      ],
      "text/latex": [
       "A matrix: 4 × 4 of type dbl\n",
       "\\begin{tabular}{r|llll}\n",
       "  & 1 & temp & gas & pack\\\\\n",
       "\\hline\n",
       "\t1 & 15 & 0 & 0 & 0\\\\\n",
       "\ttemp &  0 & 8 & 0 & 0\\\\\n",
       "\tgas &  0 & 0 & 8 & 0\\\\\n",
       "\tpack &  0 & 0 & 0 & 8\\\\\n",
       "\\end{tabular}\n"
      ],
      "text/markdown": [
       "\n",
       "A matrix: 4 × 4 of type dbl\n",
       "\n",
       "| <!--/--> | 1 | temp | gas | pack |\n",
       "|---|---|---|---|---|\n",
       "| 1 | 15 | 0 | 0 | 0 |\n",
       "| temp |  0 | 8 | 0 | 0 |\n",
       "| gas |  0 | 0 | 8 | 0 |\n",
       "| pack |  0 | 0 | 0 | 8 |\n",
       "\n"
      ],
      "text/plain": [
       "     1  temp gas pack\n",
       "1    15 0    0   0   \n",
       "temp  0 8    0   0   \n",
       "gas   0 0    8   0   \n",
       "pack  0 0    0   8   "
      ]
     },
     "metadata": {},
     "output_type": "display_data"
    }
   ],
   "source": [
    "# the diagonal matrix\n",
    "t(x) %*% x"
   ]
  },
  {
   "cell_type": "code",
   "execution_count": 73,
   "metadata": {},
   "outputs": [
    {
     "data": {
      "text/plain": [
       "\n",
       "Call:\n",
       "lm(formula = odor ~ temp + gas + pack, data = odor)\n",
       "\n",
       "Residuals:\n",
       "   Min     1Q Median     3Q    Max \n",
       "-50.20 -17.14   1.17  20.30  62.93 \n",
       "\n",
       "Coefficients:\n",
       "            Estimate Std. Error t value Pr(>|t|)\n",
       "(Intercept)     15.2        9.3    1.63     0.13\n",
       "temp           -12.1       12.7   -0.95     0.36\n",
       "gas            -17.0       12.7   -1.34     0.21\n",
       "pack           -21.4       12.7   -1.68     0.12\n",
       "\n",
       "Residual standard error: 36 on 11 degrees of freedom\n",
       "Multiple R-squared:  0.334,\tAdjusted R-squared:  0.152 \n",
       "F-statistic: 1.84 on 3 and 11 DF,  p-value: 0.199\n",
       "\n",
       "Correlation of Coefficients:\n",
       "     (Intercept) temp gas \n",
       "temp 0.00                 \n",
       "gas  0.00        0.00     \n",
       "pack 0.00        0.00 0.00\n"
      ]
     },
     "metadata": {},
     "output_type": "display_data"
    }
   ],
   "source": [
    "g =  lm(odor ~ temp + gas + pack, data = odor)\n",
    "summary(g, cor=TRUE)"
   ]
  },
  {
   "cell_type": "markdown",
   "metadata": {},
   "source": [
    "* All the pairwise coefficients are zero. SEs are all the same due to the balanced design "
   ]
  },
  {
   "cell_type": "code",
   "execution_count": 75,
   "metadata": {},
   "outputs": [
    {
     "data": {
      "text/plain": [
       "\n",
       "Call:\n",
       "lm(formula = odor ~ gas + pack, data = odor)\n",
       "\n",
       "Residuals:\n",
       "   Min     1Q Median     3Q    Max \n",
       "-50.20 -26.70   1.17  26.80  50.80 \n",
       "\n",
       "Coefficients:\n",
       "            Estimate Std. Error t value Pr(>|t|)\n",
       "(Intercept)    15.20       9.26    1.64     0.13\n",
       "gas           -17.00      12.68   -1.34     0.20\n",
       "pack          -21.37      12.68   -1.69     0.12\n",
       "\n",
       "Residual standard error: 35.9 on 12 degrees of freedom\n",
       "Multiple R-squared:  0.279,\tAdjusted R-squared:  0.159 \n",
       "F-statistic: 2.32 on 2 and 12 DF,  p-value: 0.141\n",
       "\n",
       "Correlation of Coefficients:\n",
       "     (Intercept) gas \n",
       "gas  0.00            \n",
       "pack 0.00        0.00\n"
      ]
     },
     "metadata": {},
     "output_type": "display_data"
    }
   ],
   "source": [
    "# Dropping one variable\n",
    "g = lm(odor ~ gas + pack, data = odor)\n",
    "summary(g, cor = TRUE)"
   ]
  },
  {
   "cell_type": "markdown",
   "metadata": {},
   "source": [
    "* residual SE changed slightly, causing changes in t-values, and p-values\n",
    "* It does not have a big impact though"
   ]
  },
  {
   "cell_type": "markdown",
   "metadata": {},
   "source": [
    "##### Comparing it to non-controled data (observational)"
   ]
  },
  {
   "cell_type": "code",
   "execution_count": 79,
   "metadata": {},
   "outputs": [
    {
     "data": {
      "text/plain": [
       "\n",
       "Call:\n",
       "lm(formula = sr ~ pop15 + pop75 + dpi + ddpi, data = savings)\n",
       "\n",
       "Residuals:\n",
       "   Min     1Q Median     3Q    Max \n",
       "-8.242 -2.686 -0.249  2.428  9.751 \n",
       "\n",
       "Coefficients:\n",
       "             Estimate Std. Error t value Pr(>|t|)    \n",
       "(Intercept) 28.566087   7.354516    3.88  0.00033 ***\n",
       "pop15       -0.461193   0.144642   -3.19  0.00260 ** \n",
       "pop75       -1.691498   1.083599   -1.56  0.12553    \n",
       "dpi         -0.000337   0.000931   -0.36  0.71917    \n",
       "ddpi         0.409695   0.196197    2.09  0.04247 *  \n",
       "---\n",
       "Signif. codes:  0 ‘***’ 0.001 ‘**’ 0.01 ‘*’ 0.05 ‘.’ 0.1 ‘ ’ 1\n",
       "\n",
       "Residual standard error: 3.8 on 45 degrees of freedom\n",
       "Multiple R-squared:  0.338,\tAdjusted R-squared:  0.28 \n",
       "F-statistic: 5.76 on 4 and 45 DF,  p-value: 0.00079\n",
       "\n",
       "Correlation of Coefficients:\n",
       "      (Intercept) pop15 pop75 dpi  \n",
       "pop15 -0.98                        \n",
       "pop75 -0.81        0.77            \n",
       "dpi   -0.17        0.18 -0.37      \n",
       "ddpi  -0.19        0.10 -0.05  0.26\n"
      ]
     },
     "metadata": {},
     "output_type": "display_data"
    }
   ],
   "source": [
    "g = lm(sr ~ pop15 + pop75 + dpi + ddpi, data = savings)\n",
    "summary(g, cor = TRUE)"
   ]
  },
  {
   "cell_type": "code",
   "execution_count": 78,
   "metadata": {},
   "outputs": [
    {
     "data": {
      "text/plain": [
       "\n",
       "Call:\n",
       "lm(formula = sr ~ pop75 + dpi + ddpi, data = savings)\n",
       "\n",
       "Residuals:\n",
       "   Min     1Q Median     3Q    Max \n",
       "-8.058 -3.214  0.169  2.426 10.076 \n",
       "\n",
       "Coefficients:\n",
       "            Estimate Std. Error t value Pr(>|t|)    \n",
       "(Intercept) 5.487494   1.427662    3.84  0.00037 ***\n",
       "pop75       0.952857   0.763746    1.25  0.21849    \n",
       "dpi         0.000197   0.001003    0.20  0.84499    \n",
       "ddpi        0.473795   0.213727    2.22  0.03162 *  \n",
       "---\n",
       "Signif. codes:  0 ‘***’ 0.001 ‘**’ 0.01 ‘*’ 0.05 ‘.’ 0.1 ‘ ’ 1\n",
       "\n",
       "Residual standard error: 4.16 on 46 degrees of freedom\n",
       "Multiple R-squared:  0.189,\tAdjusted R-squared:  0.136 \n",
       "F-statistic: 3.57 on 3 and 46 DF,  p-value: 0.0209\n"
      ]
     },
     "metadata": {},
     "output_type": "display_data"
    }
   ],
   "source": [
    "# now dropping one variable\n",
    "g = update(g, . ~ . - pop15)\n",
    "summary(g)"
   ]
  },
  {
   "cell_type": "markdown",
   "metadata": {},
   "source": [
    "#### Observational Data\n",
    "##### Sample survey \n",
    "\n",
    "* a Good survey design can allow stronger and wider conclusions, but the data will still be observational\n",
    "\n",
    "* Interpreting models built on observational data is problematic. Many opportunities for errors and unqualifiable conclusions. \n",
    "\n",
    "Suppose we collect data to fit the model \n",
    "\n",
    "<p>&nbsp;</p>\n",
    "\\begin{split}\n",
    "\\hat y = \\hat\\beta_0 + \\hat\\beta_1x_1 + ... + \\hat\\beta_p x_p \n",
    "\\end{split}\n",
    "<p>&nbsp;</p>\n",
    "\n",
    "what does $\\hat\\beta_1$ mean?\n",
    "* A unit in change in $x_1$ will produce a change of $\\hat\\beta_1$ in response.\n",
    "    - Some $Z$ might be behind the apparent association between $x_1$ and $y$, and once $Z$ accounted, no relationship will be seem.\n",
    "    - Collinearity\n",
    "*  $\\hat\\beta_1$ is the effect of $x_1$ when all the other (specified) predictors are held constant\n",
    "    - in practice, individual variables cannot be changed without changing other too.\n",
    "   \n",
    "#### Let's fit four different models considering the effect of pop75\n"
   ]
  },
  {
   "cell_type": "code",
   "execution_count": 80,
   "metadata": {},
   "outputs": [
    {
     "data": {
      "text/plain": [
       "\n",
       "Call:\n",
       "lm(formula = sr ~ pop15 + pop75 + dpi + ddpi, data = savings)\n",
       "\n",
       "Residuals:\n",
       "   Min     1Q Median     3Q    Max \n",
       "-8.242 -2.686 -0.249  2.428  9.751 \n",
       "\n",
       "Coefficients:\n",
       "             Estimate Std. Error t value Pr(>|t|)    \n",
       "(Intercept) 28.566087   7.354516    3.88  0.00033 ***\n",
       "pop15       -0.461193   0.144642   -3.19  0.00260 ** \n",
       "pop75       -1.691498   1.083599   -1.56  0.12553    \n",
       "dpi         -0.000337   0.000931   -0.36  0.71917    \n",
       "ddpi         0.409695   0.196197    2.09  0.04247 *  \n",
       "---\n",
       "Signif. codes:  0 ‘***’ 0.001 ‘**’ 0.01 ‘*’ 0.05 ‘.’ 0.1 ‘ ’ 1\n",
       "\n",
       "Residual standard error: 3.8 on 45 degrees of freedom\n",
       "Multiple R-squared:  0.338,\tAdjusted R-squared:  0.28 \n",
       "F-statistic: 5.76 on 4 and 45 DF,  p-value: 0.00079\n"
      ]
     },
     "metadata": {},
     "output_type": "display_data"
    }
   ],
   "source": [
    "g = lm(sr ~ pop15 + pop75 + dpi + ddpi , data = savings)\n",
    "summary(g)"
   ]
  },
  {
   "cell_type": "markdown",
   "metadata": {},
   "source": [
    "* Surprisingly pop75 is not significant, but is negativelly correlated with pop15. The two variables measure \"how\" old a given population is. When two variables measuring the same thing, it is not unusual that one or both appear insignificant  "
   ]
  },
  {
   "cell_type": "code",
   "execution_count": 82,
   "metadata": {},
   "outputs": [
    {
     "data": {
      "text/plain": [
       "\n",
       "Call:\n",
       "lm(formula = sr ~ pop75 + dpi + ddpi, data = savings)\n",
       "\n",
       "Residuals:\n",
       "   Min     1Q Median     3Q    Max \n",
       "-8.058 -3.214  0.169  2.426 10.076 \n",
       "\n",
       "Coefficients:\n",
       "            Estimate Std. Error t value Pr(>|t|)    \n",
       "(Intercept) 5.487494   1.427662    3.84  0.00037 ***\n",
       "pop75       0.952857   0.763746    1.25  0.21849    \n",
       "dpi         0.000197   0.001003    0.20  0.84499    \n",
       "ddpi        0.473795   0.213727    2.22  0.03162 *  \n",
       "---\n",
       "Signif. codes:  0 ‘***’ 0.001 ‘**’ 0.01 ‘*’ 0.05 ‘.’ 0.1 ‘ ’ 1\n",
       "\n",
       "Residual standard error: 4.16 on 46 degrees of freedom\n",
       "Multiple R-squared:  0.189,\tAdjusted R-squared:  0.136 \n",
       "F-statistic: 3.57 on 3 and 46 DF,  p-value: 0.0209\n"
      ]
     },
     "metadata": {},
     "output_type": "display_data"
    }
   ],
   "source": [
    "g2 = lm(sr ~ pop75 + dpi + ddpi, data = savings)\n",
    "summary(g2)"
   ]
  },
  {
   "cell_type": "markdown",
   "metadata": {},
   "source": [
    "* pop75 and dpi are still non-significant, even though we would expect that those variables would be associated with wealthier nations"
   ]
  },
  {
   "cell_type": "code",
   "execution_count": 83,
   "metadata": {},
   "outputs": [
    {
     "data": {
      "text/plain": [
       "\n",
       "Call:\n",
       "lm(formula = sr ~ pop75 + ddpi, data = savings)\n",
       "\n",
       "Residuals:\n",
       "   Min     1Q Median     3Q    Max \n",
       "-8.022 -3.295  0.089  2.457 10.107 \n",
       "\n",
       "Coefficients:\n",
       "            Estimate Std. Error t value Pr(>|t|)    \n",
       "(Intercept)    5.470      1.410    3.88  0.00033 ***\n",
       "pop75          1.073      0.456    2.35  0.02299 *  \n",
       "ddpi           0.464      0.205    2.26  0.02856 *  \n",
       "---\n",
       "Signif. codes:  0 ‘***’ 0.001 ‘**’ 0.01 ‘*’ 0.05 ‘.’ 0.1 ‘ ’ 1\n",
       "\n",
       "Residual standard error: 4.12 on 47 degrees of freedom\n",
       "Multiple R-squared:  0.188,\tAdjusted R-squared:  0.154 \n",
       "F-statistic: 5.45 on 2 and 47 DF,  p-value: 0.00742\n"
      ]
     },
     "metadata": {},
     "output_type": "display_data"
    }
   ],
   "source": [
    "g3 = lm(sr ~ pop75 + ddpi, data = savings)\n",
    "summary(g3)"
   ]
  },
  {
   "cell_type": "markdown",
   "metadata": {},
   "source": [
    "* now pop75 is significant with positive association with the response variable"
   ]
  },
  {
   "cell_type": "code",
   "execution_count": 84,
   "metadata": {},
   "outputs": [
    {
     "data": {
      "text/plain": [
       "\n",
       "Call:\n",
       "lm(formula = sr ~ pop75, data = savings)\n",
       "\n",
       "Residuals:\n",
       "   Min     1Q Median     3Q    Max \n",
       "-9.266 -3.229  0.054  2.334 11.850 \n",
       "\n",
       "Coefficients:\n",
       "            Estimate Std. Error t value Pr(>|t|)    \n",
       "(Intercept)    7.152      1.248    5.73  6.4e-07 ***\n",
       "pop75          1.099      0.475    2.31    0.025 *  \n",
       "---\n",
       "Signif. codes:  0 ‘***’ 0.001 ‘**’ 0.01 ‘*’ 0.05 ‘.’ 0.1 ‘ ’ 1\n",
       "\n",
       "Residual standard error: 4.29 on 48 degrees of freedom\n",
       "Multiple R-squared:   0.1,\tAdjusted R-squared:  0.0814 \n",
       "F-statistic: 5.34 on 1 and 48 DF,  p-value: 0.0251\n"
      ]
     },
     "metadata": {},
     "output_type": "display_data"
    }
   ],
   "source": [
    "g4 = lm(sr ~ pop75, data = savings)\n",
    "summary(g4)"
   ]
  },
  {
   "cell_type": "markdown",
   "metadata": {},
   "source": [
    "* The significance and the direction of the effect of pop75 changes according to if other variables were included in the model\n",
    "* We certainly should not make any strong causal conclusions\n",
    "\n",
    "In order to make stronger conclusions about causality:\n",
    "\n",
    "1. Try to include all relevant variables\n",
    "2. Use nonstatistical knowledge of the physical nature of the relationship\n",
    "3. Vary the models and see whether a similar effect is observed\n",
    "4. Multiple studies under different conditions\n",
    "\n",
    "The prediction, however, tend to be more stable than parameter estimations.\n"
   ]
  },
  {
   "cell_type": "code",
   "execution_count": 87,
   "metadata": {},
   "outputs": [
    {
     "data": {
      "text/html": [
       "<strong>1:</strong> 9.727"
      ],
      "text/latex": [
       "\\textbf{1:} 9.727"
      ],
      "text/markdown": [
       "**1:** 9.727"
      ],
      "text/plain": [
       "   1 \n",
       "9.73 "
      ]
     },
     "metadata": {},
     "output_type": "display_data"
    },
    {
     "data": {
      "text/html": [
       "<strong>1:</strong> 9.906"
      ],
      "text/latex": [
       "\\textbf{1:} 9.906"
      ],
      "text/markdown": [
       "**1:** 9.906"
      ],
      "text/plain": [
       "   1 \n",
       "9.91 "
      ]
     },
     "metadata": {},
     "output_type": "display_data"
    },
    {
     "data": {
      "text/html": [
       "<strong>1:</strong> 10.078"
      ],
      "text/latex": [
       "\\textbf{1:} 10.078"
      ],
      "text/markdown": [
       "**1:** 10.078"
      ],
      "text/plain": [
       "   1 \n",
       "10.1 "
      ]
     },
     "metadata": {},
     "output_type": "display_data"
    },
    {
     "data": {
      "text/html": [
       "<strong>1:</strong> 10.448"
      ],
      "text/latex": [
       "\\textbf{1:} 10.448"
      ],
      "text/markdown": [
       "**1:** 10.448"
      ],
      "text/plain": [
       "   1 \n",
       "10.4 "
      ]
     },
     "metadata": {},
     "output_type": "display_data"
    }
   ],
   "source": [
    "x0 = data.frame(pop15 = 32, pop75 = 3, dpi = 700, ddpi = 3)\n",
    "round(predict(g, x0), 3)\n",
    "round(predict(g2, x0), 3)\n",
    "round(predict(g3, x0), 3)\n",
    "round(predict(g4, x0), 3)"
   ]
  },
  {
   "cell_type": "markdown",
   "metadata": {},
   "source": [
    "### Practical Difficulties\n",
    "#### Nonrandom Samples\n",
    "\n",
    "* Population vs sample. Statistical inferences depends on the sample being random. \n",
    "* Sometimes, the sample is the complete populations. In this case, inference is not required given that population and sample are one and the same\n",
    "\n",
    "#### Choice and Range of Predictors\n",
    "\n",
    "* when important predictors are not observed, the predictions may be poor or we may misinterpret the relationship between the predictors and the reponse\n",
    "* Range and condition under which data is collected my limit effective predictions\n",
    "\n",
    "#### Model Misspecification\n",
    "\n",
    "* Make sure about the structural and random part of the model. We may assum the error $\\epsilon \\sim N(0, \\sigma^2I)$, when that is not the case. The structural part of linear $Ey = X\\beta$ when it is non-linear.\n",
    "\n",
    "Models come from:\n",
    "1. Physical theory\n",
    "2. Experience with past data\n",
    "3. Data exploration\n",
    "\n",
    "#### Practical and Statistical Significance\n",
    "\n",
    "* Statistical significance is not equivalent to practical significance. The larger the sample, the smaller the p-value will be\n",
    "* With larger dataset, it is very easy to get statistical significance, but the effect might be unimportant \n",
    "* CIs are best way to assess the size of an effect. They are important even than we do not reject $H_0$"
   ]
  },
  {
   "cell_type": "code",
   "execution_count": null,
   "metadata": {},
   "outputs": [],
   "source": []
  }
 ],
 "metadata": {
  "kernelspec": {
   "display_name": "R 4.0",
   "language": "R",
   "name": "ir40"
  },
  "language_info": {
   "codemirror_mode": "r",
   "file_extension": ".r",
   "mimetype": "text/x-r-source",
   "name": "R",
   "pygments_lexer": "r",
   "version": "4.0.2"
  }
 },
 "nbformat": 4,
 "nbformat_minor": 4
}
