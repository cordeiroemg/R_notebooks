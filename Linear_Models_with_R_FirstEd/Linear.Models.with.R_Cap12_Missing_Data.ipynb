{
 "cells": [
  {
   "cell_type": "markdown",
   "metadata": {},
   "source": [
    "# Missing Data\n",
    "\n",
    "It is not uncommon, but very time consuming to deal with missing data. Fixing problems caused by missing data sometimes takes longer than the analysis\n",
    "\n",
    "#### Fix-up methods when data are missing for noninformative reasons:\n",
    "1. Delete: it is ok if this only causes the loss of a relatively small numbe of cases (this is the simplest solution)\n",
    "2. Fill in or impute the missing values. Use the rest of the data to impute the missing value. \n",
    "    - Replacying the missing value with the average value is the simplest solution.\n",
    "    - Using regression on the other predictors is another possibility\n",
    "3. Consider just $(x_i, y_i)$ pairs with some observation missing. Mean and SDs of $x$ and $y$ can be used in the estimate even when a member of a pair is missing\n",
    "4. Maximum likelihood methods can be used assuming the multivariate normality of the data. The EM algorithm is often used here\n"
   ]
  },
  {
   "cell_type": "code",
   "execution_count": 4,
   "metadata": {},
   "outputs": [],
   "source": [
    "library(faraway)"
   ]
  },
  {
   "cell_type": "code",
   "execution_count": 6,
   "metadata": {},
   "outputs": [
    {
     "data": {
      "text/html": [
       "<table>\n",
       "<caption>A data.frame: 6 × 6</caption>\n",
       "<thead>\n",
       "\t<tr><th></th><th scope=col>race</th><th scope=col>fire</th><th scope=col>theft</th><th scope=col>age</th><th scope=col>involact</th><th scope=col>income</th></tr>\n",
       "\t<tr><th></th><th scope=col>&lt;dbl&gt;</th><th scope=col>&lt;dbl&gt;</th><th scope=col>&lt;dbl&gt;</th><th scope=col>&lt;dbl&gt;</th><th scope=col>&lt;dbl&gt;</th><th scope=col>&lt;dbl&gt;</th></tr>\n",
       "</thead>\n",
       "<tbody>\n",
       "\t<tr><th scope=row>60626</th><td>10.0</td><td> 6.2</td><td>29</td><td>60.4</td><td> NA</td><td>11.744</td></tr>\n",
       "\t<tr><th scope=row>60640</th><td>22.2</td><td> 9.5</td><td>44</td><td>76.5</td><td>0.1</td><td> 9.323</td></tr>\n",
       "\t<tr><th scope=row>60613</th><td>19.6</td><td>10.5</td><td>36</td><td>  NA</td><td>1.2</td><td> 9.948</td></tr>\n",
       "\t<tr><th scope=row>60657</th><td>17.3</td><td> 7.7</td><td>37</td><td>  NA</td><td>0.5</td><td>10.656</td></tr>\n",
       "\t<tr><th scope=row>60614</th><td>24.5</td><td> 8.6</td><td>53</td><td>81.4</td><td>0.7</td><td> 9.730</td></tr>\n",
       "\t<tr><th scope=row>60610</th><td>54.0</td><td>34.1</td><td>68</td><td>52.6</td><td>0.3</td><td> 8.231</td></tr>\n",
       "</tbody>\n",
       "</table>\n"
      ],
      "text/latex": [
       "A data.frame: 6 × 6\n",
       "\\begin{tabular}{r|llllll}\n",
       "  & race & fire & theft & age & involact & income\\\\\n",
       "  & <dbl> & <dbl> & <dbl> & <dbl> & <dbl> & <dbl>\\\\\n",
       "\\hline\n",
       "\t60626 & 10.0 &  6.2 & 29 & 60.4 &  NA & 11.744\\\\\n",
       "\t60640 & 22.2 &  9.5 & 44 & 76.5 & 0.1 &  9.323\\\\\n",
       "\t60613 & 19.6 & 10.5 & 36 &   NA & 1.2 &  9.948\\\\\n",
       "\t60657 & 17.3 &  7.7 & 37 &   NA & 0.5 & 10.656\\\\\n",
       "\t60614 & 24.5 &  8.6 & 53 & 81.4 & 0.7 &  9.730\\\\\n",
       "\t60610 & 54.0 & 34.1 & 68 & 52.6 & 0.3 &  8.231\\\\\n",
       "\\end{tabular}\n"
      ],
      "text/markdown": [
       "\n",
       "A data.frame: 6 × 6\n",
       "\n",
       "| <!--/--> | race &lt;dbl&gt; | fire &lt;dbl&gt; | theft &lt;dbl&gt; | age &lt;dbl&gt; | involact &lt;dbl&gt; | income &lt;dbl&gt; |\n",
       "|---|---|---|---|---|---|---|\n",
       "| 60626 | 10.0 |  6.2 | 29 | 60.4 |  NA | 11.744 |\n",
       "| 60640 | 22.2 |  9.5 | 44 | 76.5 | 0.1 |  9.323 |\n",
       "| 60613 | 19.6 | 10.5 | 36 |   NA | 1.2 |  9.948 |\n",
       "| 60657 | 17.3 |  7.7 | 37 |   NA | 0.5 | 10.656 |\n",
       "| 60614 | 24.5 |  8.6 | 53 | 81.4 | 0.7 |  9.730 |\n",
       "| 60610 | 54.0 | 34.1 | 68 | 52.6 | 0.3 |  8.231 |\n",
       "\n"
      ],
      "text/plain": [
       "      race fire theft age  involact income\n",
       "60626 10.0  6.2 29    60.4  NA      11.744\n",
       "60640 22.2  9.5 44    76.5 0.1       9.323\n",
       "60613 19.6 10.5 36      NA 1.2       9.948\n",
       "60657 17.3  7.7 37      NA 0.5      10.656\n",
       "60614 24.5  8.6 53    81.4 0.7       9.730\n",
       "60610 54.0 34.1 68    52.6 0.3       8.231"
      ]
     },
     "metadata": {},
     "output_type": "display_data"
    }
   ],
   "source": [
    "data(chmiss)\n",
    "head(chmiss)"
   ]
  },
  {
   "cell_type": "markdown",
   "metadata": {},
   "source": [
    "* There are 20 missing observations denoted by NA here"
   ]
  },
  {
   "cell_type": "code",
   "execution_count": 7,
   "metadata": {},
   "outputs": [
    {
     "data": {
      "text/plain": [
       "\n",
       "Call:\n",
       "lm(formula = involact ~ ., data = chmiss)\n",
       "\n",
       "Residuals:\n",
       "     Min       1Q   Median       3Q      Max \n",
       "-0.53370 -0.16325 -0.07015  0.12615  0.66316 \n",
       "\n",
       "Coefficients:\n",
       "             Estimate Std. Error t value Pr(>|t|)    \n",
       "(Intercept) -1.116483   0.605761  -1.843 0.079475 .  \n",
       "race         0.010487   0.003128   3.352 0.003018 ** \n",
       "fire         0.043876   0.010319   4.252 0.000356 ***\n",
       "theft       -0.017220   0.005900  -2.918 0.008215 ** \n",
       "age          0.009377   0.003494   2.684 0.013904 *  \n",
       "income       0.068701   0.042156   1.630 0.118077    \n",
       "---\n",
       "Signif. codes:  0 ‘***’ 0.001 ‘**’ 0.01 ‘*’ 0.05 ‘.’ 0.1 ‘ ’ 1\n",
       "\n",
       "Residual standard error: 0.3382 on 21 degrees of freedom\n",
       "  (20 observations deleted due to missingness)\n",
       "Multiple R-squared:  0.7911,\tAdjusted R-squared:  0.7414 \n",
       "F-statistic: 15.91 on 5 and 21 DF,  p-value: 1.594e-06\n"
      ]
     },
     "metadata": {},
     "output_type": "display_data"
    }
   ],
   "source": [
    "g = lm(involact ~ ., chmiss)\n",
    "summary(g)"
   ]
  },
  {
   "cell_type": "markdown",
   "metadata": {},
   "source": [
    "* Only 21 degrees of freedom, which means that almost half of the data is lost\n",
    "* Let's try some data imputation using the mean"
   ]
  },
  {
   "cell_type": "code",
   "execution_count": 11,
   "metadata": {},
   "outputs": [
    {
     "data": {
      "text/html": [
       "<style>\n",
       ".dl-inline {width: auto; margin:0; padding: 0}\n",
       ".dl-inline>dt, .dl-inline>dd {float: none; width: auto; display: inline-block}\n",
       ".dl-inline>dt::after {content: \":\\0020\"; padding-right: .5ex}\n",
       ".dl-inline>dt:not(:first-of-type) {padding-left: .5ex}\n",
       "</style><dl class=dl-inline><dt>race</dt><dd>35.609</dd><dt>fire</dt><dd>11.424</dd><dt>theft</dt><dd>32.651</dd><dt>age</dt><dd>59.969</dd><dt>involact</dt><dd>0.648</dd><dt>income</dt><dd>10.736</dd></dl>\n"
      ],
      "text/latex": [
       "\\begin{description*}\n",
       "\\item[race] 35.609\n",
       "\\item[fire] 11.424\n",
       "\\item[theft] 32.651\n",
       "\\item[age] 59.969\n",
       "\\item[involact] 0.648\n",
       "\\item[income] 10.736\n",
       "\\end{description*}\n"
      ],
      "text/markdown": [
       "race\n",
       ":   35.609fire\n",
       ":   11.424theft\n",
       ":   32.651age\n",
       ":   59.969involact\n",
       ":   0.648income\n",
       ":   10.736\n",
       "\n"
      ],
      "text/plain": [
       "    race     fire    theft      age involact   income \n",
       "  35.609   11.424   32.651   59.969    0.648   10.736 "
      ]
     },
     "metadata": {},
     "output_type": "display_data"
    }
   ],
   "source": [
    "# first calculate the means\n",
    "cmeans = apply(chmiss, 2, mean, na.rm=TRUE)\n",
    "round(cmeans, 3)\n",
    "\n",
    "# duplicate data to preserve the original set\n",
    "mchm = chmiss\n",
    "\n",
    "for (i in c(1,2,3,4,6)) mchm[is.na(chmiss[,i]), i] = cmeans[i]"
   ]
  },
  {
   "cell_type": "code",
   "execution_count": 12,
   "metadata": {},
   "outputs": [
    {
     "data": {
      "text/plain": [
       "\n",
       "Call:\n",
       "lm(formula = involact ~ ., data = mchm)\n",
       "\n",
       "Residuals:\n",
       "     Min       1Q   Median       3Q      Max \n",
       "-1.02401 -0.15681 -0.00333  0.22201  0.81174 \n",
       "\n",
       "Coefficients:\n",
       "             Estimate Std. Error t value Pr(>|t|)   \n",
       "(Intercept)  0.070802   0.509453   0.139  0.89020   \n",
       "race         0.007117   0.002706   2.631  0.01224 * \n",
       "fire         0.028742   0.009385   3.062  0.00402 **\n",
       "theft       -0.003059   0.002746  -1.114  0.27224   \n",
       "age          0.006080   0.003208   1.895  0.06570 . \n",
       "income      -0.027092   0.031678  -0.855  0.39779   \n",
       "---\n",
       "Signif. codes:  0 ‘***’ 0.001 ‘**’ 0.01 ‘*’ 0.05 ‘.’ 0.1 ‘ ’ 1\n",
       "\n",
       "Residual standard error: 0.3841 on 38 degrees of freedom\n",
       "  (3 observations deleted due to missingness)\n",
       "Multiple R-squared:  0.682,\tAdjusted R-squared:  0.6401 \n",
       "F-statistic:  16.3 on 5 and 38 DF,  p-value: 1.409e-08\n"
      ]
     },
     "metadata": {},
     "output_type": "display_data"
    }
   ],
   "source": [
    "g = lm(involact ~. , mchm)\n",
    "summary(g)"
   ]
  },
  {
   "cell_type": "markdown",
   "metadata": {},
   "source": [
    "* There are important differences between the two fits. For example, theft as age are significant in the first fit, but not in the second\n",
    "* The situation is analogous to the errors in variable case\n",
    "* The bias introduced can be substantial \n",
    "* Let's try a regression method"
   ]
  },
  {
   "cell_type": "code",
   "execution_count": 14,
   "metadata": {},
   "outputs": [
    {
     "data": {
      "text/html": [
       "<table>\n",
       "<caption>A data.frame: 4 × 6</caption>\n",
       "<thead>\n",
       "\t<tr><th></th><th scope=col>race</th><th scope=col>fire</th><th scope=col>theft</th><th scope=col>age</th><th scope=col>involact</th><th scope=col>income</th></tr>\n",
       "\t<tr><th></th><th scope=col>&lt;dbl&gt;</th><th scope=col>&lt;dbl&gt;</th><th scope=col>&lt;dbl&gt;</th><th scope=col>&lt;dbl&gt;</th><th scope=col>&lt;dbl&gt;</th><th scope=col>&lt;dbl&gt;</th></tr>\n",
       "</thead>\n",
       "<tbody>\n",
       "\t<tr><th scope=row>60646</th><td>NA</td><td> 5.7</td><td>11</td><td>27.9</td><td>0.0</td><td>16.250</td></tr>\n",
       "\t<tr><th scope=row>60651</th><td>NA</td><td>15.1</td><td>30</td><td>89.8</td><td>0.8</td><td>10.510</td></tr>\n",
       "\t<tr><th scope=row>60616</th><td>NA</td><td>12.2</td><td>46</td><td>48.0</td><td>0.6</td><td> 8.212</td></tr>\n",
       "\t<tr><th scope=row>60617</th><td>NA</td><td>10.8</td><td>34</td><td>58.0</td><td>0.9</td><td>11.156</td></tr>\n",
       "</tbody>\n",
       "</table>\n"
      ],
      "text/latex": [
       "A data.frame: 4 × 6\n",
       "\\begin{tabular}{r|llllll}\n",
       "  & race & fire & theft & age & involact & income\\\\\n",
       "  & <dbl> & <dbl> & <dbl> & <dbl> & <dbl> & <dbl>\\\\\n",
       "\\hline\n",
       "\t60646 & NA &  5.7 & 11 & 27.9 & 0.0 & 16.250\\\\\n",
       "\t60651 & NA & 15.1 & 30 & 89.8 & 0.8 & 10.510\\\\\n",
       "\t60616 & NA & 12.2 & 46 & 48.0 & 0.6 &  8.212\\\\\n",
       "\t60617 & NA & 10.8 & 34 & 58.0 & 0.9 & 11.156\\\\\n",
       "\\end{tabular}\n"
      ],
      "text/markdown": [
       "\n",
       "A data.frame: 4 × 6\n",
       "\n",
       "| <!--/--> | race &lt;dbl&gt; | fire &lt;dbl&gt; | theft &lt;dbl&gt; | age &lt;dbl&gt; | involact &lt;dbl&gt; | income &lt;dbl&gt; |\n",
       "|---|---|---|---|---|---|---|\n",
       "| 60646 | NA |  5.7 | 11 | 27.9 | 0.0 | 16.250 |\n",
       "| 60651 | NA | 15.1 | 30 | 89.8 | 0.8 | 10.510 |\n",
       "| 60616 | NA | 12.2 | 46 | 48.0 | 0.6 |  8.212 |\n",
       "| 60617 | NA | 10.8 | 34 | 58.0 | 0.9 | 11.156 |\n",
       "\n"
      ],
      "text/plain": [
       "      race fire theft age  involact income\n",
       "60646 NA    5.7 11    27.9 0.0      16.250\n",
       "60651 NA   15.1 30    89.8 0.8      10.510\n",
       "60616 NA   12.2 46    48.0 0.6       8.212\n",
       "60617 NA   10.8 34    58.0 0.9      11.156"
      ]
     },
     "metadata": {},
     "output_type": "display_data"
    }
   ],
   "source": [
    "gr = lm(race ~ fire + theft + age + income, chmiss)\n",
    "chmiss[is.na(chmiss$race), ]"
   ]
  },
  {
   "cell_type": "code",
   "execution_count": 16,
   "metadata": {},
   "outputs": [
    {
     "data": {
      "text/html": [
       "<style>\n",
       ".dl-inline {width: auto; margin:0; padding: 0}\n",
       ".dl-inline>dt, .dl-inline>dd {float: none; width: auto; display: inline-block}\n",
       ".dl-inline>dt::after {content: \":\\0020\"; padding-right: .5ex}\n",
       ".dl-inline>dt:not(:first-of-type) {padding-left: .5ex}\n",
       "</style><dl class=dl-inline><dt>60646</dt><dd>-17.847</dd><dt>60651</dt><dd>26.36</dd><dt>60616</dt><dd>70.394</dd><dt>60617</dt><dd>32.62</dd></dl>\n"
      ],
      "text/latex": [
       "\\begin{description*}\n",
       "\\item[60646] -17.847\n",
       "\\item[60651] 26.36\n",
       "\\item[60616] 70.394\n",
       "\\item[60617] 32.62\n",
       "\\end{description*}\n"
      ],
      "text/markdown": [
       "60646\n",
       ":   -17.84760651\n",
       ":   26.3660616\n",
       ":   70.39460617\n",
       ":   32.62\n",
       "\n"
      ],
      "text/plain": [
       "  60646   60651   60616   60617 \n",
       "-17.847  26.360  70.394  32.620 "
      ]
     },
     "metadata": {},
     "output_type": "display_data"
    }
   ],
   "source": [
    "round(predict(gr, chmiss[is.na(chmiss$race), ]), 3)"
   ]
  },
  {
   "cell_type": "markdown",
   "metadata": {},
   "source": [
    "* Notice that the first prediction is negative\n",
    "* One trick that can be applied when the response is bounded between zero and one is the logit transformation\n",
    "\n",
    "<p>&nbsp;</p>\n",
    "\\begin{split}\n",
    "y = log \\left( \\frac{y}{(l-y)} \\right)\n",
    "\\end{split}\n",
    "<p>&nbsp;</p>\n"
   ]
  },
  {
   "cell_type": "code",
   "execution_count": 19,
   "metadata": {},
   "outputs": [],
   "source": [
    "logit = function(x) log(x/ (1-x))\n",
    "ilogit = function(x) exp(x)/(1+exp(x))"
   ]
  },
  {
   "cell_type": "code",
   "execution_count": 20,
   "metadata": {},
   "outputs": [],
   "source": [
    "# transform the data using logit-transformed response\n",
    "gr = lm(logit(race/100) ~  fire + theft + age + income, chmiss)"
   ]
  },
  {
   "cell_type": "code",
   "execution_count": 22,
   "metadata": {},
   "outputs": [
    {
     "data": {
      "text/html": [
       "<style>\n",
       ".dl-inline {width: auto; margin:0; padding: 0}\n",
       ".dl-inline>dt, .dl-inline>dd {float: none; width: auto; display: inline-block}\n",
       ".dl-inline>dt::after {content: \":\\0020\"; padding-right: .5ex}\n",
       ".dl-inline>dt:not(:first-of-type) {padding-left: .5ex}\n",
       "</style><dl class=dl-inline><dt>60646</dt><dd>0.419</dd><dt>60651</dt><dd>14.732</dd><dt>60616</dt><dd>84.265</dd><dt>60617</dt><dd>21.312</dd></dl>\n"
      ],
      "text/latex": [
       "\\begin{description*}\n",
       "\\item[60646] 0.419\n",
       "\\item[60651] 14.732\n",
       "\\item[60616] 84.265\n",
       "\\item[60617] 21.312\n",
       "\\end{description*}\n"
      ],
      "text/markdown": [
       "60646\n",
       ":   0.41960651\n",
       ":   14.73260616\n",
       ":   84.26560617\n",
       ":   21.312\n",
       "\n"
      ],
      "text/plain": [
       " 60646  60651  60616  60617 \n",
       " 0.419 14.732 84.265 21.312 "
      ]
     },
     "metadata": {},
     "output_type": "display_data"
    }
   ],
   "source": [
    "round(ilogit(predict(gr, chmiss[is.na(chmiss$race), ]))*100, 3)"
   ]
  },
  {
   "cell_type": "markdown",
   "metadata": {},
   "source": [
    "* Let's now compare how the predicted values compare to the actual values"
   ]
  },
  {
   "cell_type": "code",
   "execution_count": 23,
   "metadata": {},
   "outputs": [
    {
     "data": {
      "text/html": [
       "<style>\n",
       ".list-inline {list-style: none; margin:0; padding: 0}\n",
       ".list-inline>li {display: inline-block}\n",
       ".list-inline>li:not(:last-child)::after {content: \"\\00b7\"; padding: 0 .5ex}\n",
       "</style>\n",
       "<ol class=list-inline><li>1</li><li>13.4</li><li>62.3</li><li>36.4</li></ol>\n"
      ],
      "text/latex": [
       "\\begin{enumerate*}\n",
       "\\item 1\n",
       "\\item 13.4\n",
       "\\item 62.3\n",
       "\\item 36.4\n",
       "\\end{enumerate*}\n"
      ],
      "text/markdown": [
       "1. 1\n",
       "2. 13.4\n",
       "3. 62.3\n",
       "4. 36.4\n",
       "\n",
       "\n"
      ],
      "text/plain": [
       "[1]  1.0 13.4 62.3 36.4"
      ]
     },
     "metadata": {},
     "output_type": "display_data"
    }
   ],
   "source": [
    "data(chredlin)\n",
    "chredlin$race[is.na(chmiss$race)]"
   ]
  },
  {
   "cell_type": "markdown",
   "metadata": {},
   "source": [
    "* The first two predictors are good, but the other two are somewhat wide of the markk\n",
    "* Like the fill-in method, the regression will also introduce a bias towards zero in the coefficcient while tending to reduce the variance\n",
    "* Success of the regression method depends somewhat on the collinearity of the predictors. \n",
    "* For data with substantial missing proportion, it is recommended to investigate more sophisticated methods like EM or multiple imputation"
   ]
  },
  {
   "cell_type": "code",
   "execution_count": null,
   "metadata": {},
   "outputs": [],
   "source": []
  }
 ],
 "metadata": {
  "kernelspec": {
   "display_name": "R 4.0",
   "language": "R",
   "name": "ir40"
  },
  "language_info": {
   "codemirror_mode": "r",
   "file_extension": ".r",
   "mimetype": "text/x-r-source",
   "name": "R",
   "pygments_lexer": "r",
   "version": "4.0.3"
  }
 },
 "nbformat": 4,
 "nbformat_minor": 4
}
