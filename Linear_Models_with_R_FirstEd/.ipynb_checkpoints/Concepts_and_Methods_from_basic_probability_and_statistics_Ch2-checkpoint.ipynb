{
 "cells": [
  {
   "cell_type": "markdown",
   "metadata": {},
   "source": [
    "# Concepts and methods from basic probability and statistics\n",
    "\n",
    "Simple methods from introductory statistics have three important roles in regression and multilevel modeling. \n",
    "   1) Probability distributions are building blocks for elaborate models\n",
    "   2) Multilevel models are generalizations of classical complete-pooling and no-pooling estimates\n",
    "   3)  It is useful to practice to construct quick confidence interval and hypothesis tests for small parts of a problem\n",
    "    \n",
    "## Probability distributions\n",
    "\n",
    "Areas of application:\n",
    "* Distributions of data\n",
    "* Distributions of parameter values\n",
    "* Distribution of errors\n",
    "\n",
    "A distribution is how we describe a set of objects that are not identified, or when the identification gives no information\n",
    "\n",
    "The basic way that distributions are used in statistical modeling is to start by fitting a distribution to data $y$ then get predictors $X$ and model $y$ given $X$ with error $\\epsilon$. \n",
    "More information about $X$ can change the distribution of the $\\epsilon$\n",
    "\n",
    "### Normal distribution; means and variances\n",
    "\n",
    "The sum of small independent random variables will be a random varaiable with an approximate normal distribution\n",
    "\n",
    "<p>&nbsp;</p>\n",
    "\\begin{split}\n",
    "z = \\sum_{i1}^n z_i\n",
    "\\end{split}\n",
    "<p>&nbsp;</p>\n",
    "\n",
    "with mean\n",
    "\n",
    "<p>&nbsp;</p>\n",
    "\\begin{split}\n",
    "\\mu_z = \\sum_{i1}^n \\mu z_i\n",
    "\\end{split}\n",
    "<p>&nbsp;</p>\n",
    "\n",
    "and variance\n",
    "\n",
    "\n",
    "<p>&nbsp;</p>\n",
    "\\begin{split}\n",
    "\\sigma_z = \\sqrt{\\sum_{i=1}^n \\sigma_{zi}^2}\n",
    "\\end{split}\n",
    "<p>&nbsp;</p>\n",
    "\n",
    "We can write all this as $z \\sim N(\\mu_z, \\sigma_z^2)$\n",
    "\n",
    "   * Central Limit theorm (women's height vs US's height). Many small factors vs a big factor (sex) taking up much of the variation\n",
    "   \n",
    "#### Linear transformations\n",
    "\n",
    "Linearly transformed distributions are still normal. Heights in inches transformed to centimeter will still be normally distributed. \n",
    "  * suppose se calculate the difference between the average height of the men and women. The difference between the heights will be normally distributed whereas teh mean is $69.1- 63.7 = 5.4$ and $ SD = \\sqrt{\\frac{2.9^2}{100}+\\frac{2.7^2}{100}=0.4}$\n",
    "  \n",
    "#### Means and variances of sums of correlated random variables\n",
    "\n",
    "If $x$ and $y$ are random variables with means $\\mu_x$ and $\\mu_y$, and standard deviations $\\sigma_x$ and $\\sigma_y$, and correlation $\\rho$, then $x-y$ has mean $\\mu_x - \\mu_y$ and standard deviation $\\sqrt{\\sigma_x^2 + \\sigma_y^2 - 2 \\rho \\sigma_x^2 \\sigma_x^y}$\n",
    "\n",
    "#### Multivariate normal distribution\n",
    "\n",
    "A random vector $z=(z_1, ..., z_K)$ with K-dimensional multivariate normal distribution with a vector mean $\\mu$ and covaraince matrix $\\Sigma$ can be written as $z \\sim N(\\mu, \\Sigma)$\n",
    "* The diagonal elements of $\\Sigma$ are the variances of the K individual random variables $z_k$. The off-diagnonal elements are the covarances between elements of $z$\n",
    "\n",
    "#### Approximate normal distribution of regression coefficients and other parameters estimates\n",
    "\n",
    "The least squares estimate of a vector of linear regression coefficients $\\beta$ is $\\hat\\beta=(X^tX)^{-1}X^ty$, which and view as a function of the data $y$, is a linear combination of the data.\n",
    "* The distribution of $\\hat \\beta$ is approximately multivariate normal \n",
    "\n",
    "#### Lognormal distribution \n",
    "\n",
    "Sometimes is helful to model all-positive random variables on the logarithmic scale. The exponential of the mean and standard deviation of the weights are called *geometric mean* and *geometric standard deviation* of the weights.\n",
    "\n",
    "When working with transformed numbers, we sometimes want to compute values on the original scale mean $exp(\\mu + \\frac{1}{2}\\sigma²)$ and SD $exp(\\mu + \\frac{1}{2}\\sigma²) \\sqrt{exp(\\sigma^2)-1}$ \n",
    "\n",
    "#### Binomial distribution\n",
    "\n",
    "* Binomial distribution* can be written as $y \\sim Binomial(n,p)$. Only an approximation with real data, but very useful starting point for some kind of models.\n",
    "\n",
    "#### Poisson distribution\n",
    "\n",
    "\n",
    "* Useful for count data such as the number of cases of cancer in a country, or the number of hits to a website during a particular hour\n",
    "\n",
    "#### Statistical inference\n",
    "#### Sampling and measurement error models\n",
    "\n",
    "Statistical inference is used to learn from incomplete or imperfect data\n",
    "* Sampling model: the interest is in the population, but we only  have access to the sample\n",
    "* Measurement error model:  we want to understand the true relationship between variables, but data is measured with error\n",
    "In practice, we combine the two ascepts to produce a model.\n",
    "\n",
    "#### Parameters and estimation\n",
    "The goal of statistical inference for the sorts of *parametric models* that we use is to estimate underlying parameters and summarize our uncertainly in these estimates.\n",
    "\n",
    "#### Standard errors\n",
    "Is the standard deviation of the parameter estimate and gives a sense of our uuncertainty about the parameter and can be used in constructing confidence intervals\n",
    "\n",
    "<p>&nbsp;</p>\n",
    "\\begin{split}\n",
    "SE = \\frac{\\sigma}{\\sqrt{n}}\n",
    "\\end{split}\n",
    "<p>&nbsp;</p>\n",
    "\n",
    "#### Standard errors for proportions\n",
    "\n",
    "Consider a survey of size $n$ with $y$ Yes responses and $n-y$ No responses. The estimated proportion of those who would answer Yes to this survey is \n",
    "\n",
    "<p>&nbsp;</p>\n",
    "\\begin{split}\n",
    "\\sqrt{\\frac{\\hat p(1- \\hat p)}{n}}\n",
    "\\end{split}\n",
    "<p>&nbsp;</p>\n",
    "\n",
    "This estimation is resonable unless $y=0$ or $n-y=0$\n",
    "\n",
    "### Classical confidence intervals\n",
    "\n",
    "#### Confidence intervals from the normal and t distributions\n",
    "\n",
    "* The usual 5% confidence interval for large samples based on the normal distribution is an estimates $\\pm  2 $ standard errors \n",
    "\n",
    "* The 50% interval is particularly easy to interpret since the true value should be as likely to be insede as outside the interval. 95% interval is about three times as wide as a 50% interval\n",
    "\n",
    "##### Continous data\n",
    "* confidence interval"
   ]
  },
  {
   "cell_type": "code",
   "execution_count": 1,
   "metadata": {},
   "outputs": [],
   "source": [
    "y = c(35, 34, 38, 35, 37)"
   ]
  },
  {
   "cell_type": "code",
   "execution_count": 4,
   "metadata": {},
   "outputs": [
    {
     "data": {
      "text/html": [
       "<style>\n",
       ".list-inline {list-style: none; margin:0; padding: 0}\n",
       ".list-inline>li {display: inline-block}\n",
       ".list-inline>li:not(:last-child)::after {content: \"\\00b7\"; padding: 0 .5ex}\n",
       "</style>\n",
       "<ol class=list-inline><li>35.256</li><li>36.344</li></ol>\n"
      ],
      "text/latex": [
       "\\begin{enumerate*}\n",
       "\\item 35.256\n",
       "\\item 36.344\n",
       "\\end{enumerate*}\n"
      ],
      "text/markdown": [
       "1. 35.256\n",
       "2. 36.344\n",
       "\n",
       "\n"
      ],
      "text/plain": [
       "[1] 35.256 36.344"
      ]
     },
     "metadata": {},
     "output_type": "display_data"
    },
    {
     "data": {
      "text/html": [
       "<style>\n",
       ".list-inline {list-style: none; margin:0; padding: 0}\n",
       ".list-inline>li {display: inline-block}\n",
       ".list-inline>li:not(:last-child)::after {content: \"\\00b7\"; padding: 0 .5ex}\n",
       "</style>\n",
       "<ol class=list-inline><li>33.76</li><li>34.493</li></ol>\n"
      ],
      "text/latex": [
       "\\begin{enumerate*}\n",
       "\\item 33.76\n",
       "\\item 34.493\n",
       "\\end{enumerate*}\n"
      ],
      "text/markdown": [
       "1. 33.76\n",
       "2. 34.493\n",
       "\n",
       "\n"
      ],
      "text/plain": [
       "[1] 33.760 34.493"
      ]
     },
     "metadata": {},
     "output_type": "display_data"
    }
   ],
   "source": [
    "n = length(y)\n",
    "estimate = mean(y)\n",
    "se = sd(y)/sqrt(n)\n",
    "int.50 = estimate + qt(c(0.25, 0.75), n-1)*se\n",
    "int.95 = estimate + qt(c(0.025, 0.075), n-1)*se\n",
    "\n",
    "round(int.50, 3)\n",
    "round(int.95, 3)"
   ]
  },
  {
   "cell_type": "markdown",
   "metadata": {},
   "source": [
    "##### Proportions\n",
    "* confidence interval "
   ]
  },
  {
   "cell_type": "code",
   "execution_count": 8,
   "metadata": {},
   "outputs": [
    {
     "data": {
      "text/html": [
       "<style>\n",
       ".list-inline {list-style: none; margin:0; padding: 0}\n",
       ".list-inline>li {display: inline-block}\n",
       ".list-inline>li:not(:last-child)::after {content: \"\\00b7\"; padding: 0 .5ex}\n",
       "</style>\n",
       "<ol class=list-inline><li>0.672</li><li>0.728</li></ol>\n"
      ],
      "text/latex": [
       "\\begin{enumerate*}\n",
       "\\item 0.672\n",
       "\\item 0.728\n",
       "\\end{enumerate*}\n"
      ],
      "text/markdown": [
       "1. 0.672\n",
       "2. 0.728\n",
       "\n",
       "\n"
      ],
      "text/plain": [
       "[1] 0.672 0.728"
      ]
     },
     "metadata": {},
     "output_type": "display_data"
    }
   ],
   "source": [
    "# in favor of the death penalty\n",
    "y = 700\n",
    "n = 1000\n",
    "estimate = y/n\n",
    "se = sqrt(estimate*(1-estimate)/n)\n",
    "int.95 = estimate + qnorm(c(0.025, 0.975))*se\n",
    "\n",
    "round(int.95, 3)"
   ]
  },
  {
   "cell_type": "markdown",
   "metadata": {},
   "source": [
    "##### Discrete data\n",
    "* For nonbinary discrete data, we can simply use the continous formula for the standard error.\n",
    "Imagine the following survey:\n",
    "    - n= 1000\n",
    "    - 600 = no dog\n",
    "    - 300 = 1 dog\n",
    "    - 50 = 2 dogs\n",
    "    - 30 = 3 dogs\n",
    "    - 20 = 4 dogs\n",
    "\n",
    "what is the 95% CI for the average number of dogs in the population?"
   ]
  },
  {
   "cell_type": "code",
   "execution_count": 11,
   "metadata": {
    "collapsed": true
   },
   "outputs": [
    {
     "data": {
      "text/html": [
       "0.57"
      ],
      "text/latex": [
       "0.57"
      ],
      "text/markdown": [
       "0.57"
      ],
      "text/plain": [
       "[1] 0.57"
      ]
     },
     "metadata": {},
     "output_type": "display_data"
    },
    {
     "data": {
      "text/html": [
       "<style>\n",
       ".list-inline {list-style: none; margin:0; padding: 0}\n",
       ".list-inline>li {display: inline-block}\n",
       ".list-inline>li:not(:last-child)::after {content: \"\\00b7\"; padding: 0 .5ex}\n",
       "</style>\n",
       "<ol class=list-inline><li>0.551</li><li>0.589</li></ol>\n"
      ],
      "text/latex": [
       "\\begin{enumerate*}\n",
       "\\item 0.551\n",
       "\\item 0.589\n",
       "\\end{enumerate*}\n"
      ],
      "text/markdown": [
       "1. 0.551\n",
       "2. 0.589\n",
       "\n",
       "\n"
      ],
      "text/plain": [
       "[1] 0.551 0.589"
      ]
     },
     "metadata": {},
     "output_type": "display_data"
    },
    {
     "data": {
      "text/html": [
       "<style>\n",
       ".list-inline {list-style: none; margin:0; padding: 0}\n",
       ".list-inline>li {display: inline-block}\n",
       ".list-inline>li:not(:last-child)::after {content: \"\\00b7\"; padding: 0 .5ex}\n",
       "</style>\n",
       "<ol class=list-inline><li>0.516</li><li>0.53</li></ol>\n"
      ],
      "text/latex": [
       "\\begin{enumerate*}\n",
       "\\item 0.516\n",
       "\\item 0.53\n",
       "\\end{enumerate*}\n"
      ],
      "text/markdown": [
       "1. 0.516\n",
       "2. 0.53\n",
       "\n",
       "\n"
      ],
      "text/plain": [
       "[1] 0.516 0.530"
      ]
     },
     "metadata": {},
     "output_type": "display_data"
    }
   ],
   "source": [
    "y = rep(c(0,1,2,3,4), c(600, 300, 50, 30, 20))\n",
    "\n",
    "n = length(y)\n",
    "estimate = mean(y)\n",
    "estimate\n",
    "se = sd(y)/sqrt(n)\n",
    "int.50 = estimate + qt(c(0.25, 0.75), n-1)*se\n",
    "int.95 = estimate + qt(c(0.025, 0.075), n-1)*se\n",
    "\n",
    "round(int.50, 3)\n",
    "round(int.95, 3)"
   ]
  },
  {
   "cell_type": "markdown",
   "metadata": {},
   "source": [
    "##### Comparisons, visual and numerical\n",
    "\n",
    "Confidence interval can often be compared visually, which displays 68% confidence intervals for the proportion of American adults supporting the death penalty\n",
    "\n",
    "##### Linear transformations\n",
    "\n",
    "To get confidence intervals for a linear transformed parameter, simply transform the intervals\n",
    "\n",
    "##### Weighted averages\n",
    "\n",
    "Confidence intervals for other derived quantities can be determined by appropriately combining the separate means and variances\n",
    "\n",
    "##### Using simulation to compute confidence intervals for ratios, logarithms, odds ratios, and other functions of estimated paramters\n",
    "\n",
    "For more complicated than linear transformations, sums, and averages, we can be compute SE and approximate confidence intervals using simulation\n",
    "\n",
    "Consider a survey\n",
    "* n=1100\n",
    "* 700 = support the death penalty\n",
    "* 300 = oppose\n",
    "* 100 = express no opinion\n"
   ]
  },
  {
   "cell_type": "code",
   "execution_count": 14,
   "metadata": {},
   "outputs": [
    {
     "data": {
      "text/html": [
       "<style>\n",
       ".list-inline {list-style: none; margin:0; padding: 0}\n",
       ".list-inline>li {display: inline-block}\n",
       ".list-inline>li:not(:last-child)::after {content: \"\\00b7\"; padding: 0 .5ex}\n",
       "</style>\n",
       "<ol class=list-inline><li>0.672</li><li>0.728</li></ol>\n"
      ],
      "text/latex": [
       "\\begin{enumerate*}\n",
       "\\item 0.672\n",
       "\\item 0.728\n",
       "\\end{enumerate*}\n"
      ],
      "text/markdown": [
       "1. 0.672\n",
       "2. 0.728\n",
       "\n",
       "\n"
      ],
      "text/plain": [
       "[1] 0.672 0.728"
      ]
     },
     "metadata": {},
     "output_type": "display_data"
    }
   ],
   "source": [
    "y = 700\n",
    "n = 1100 - 100\n",
    "estimate = y/n\n",
    "\n",
    "\n",
    "se = sqrt(estimate*(1-estimate)/n)\n",
    "int.95 = estimate + qnorm(c(0.025, 0.975))*se\n",
    "\n",
    "round(int.95, 3)"
   ]
  },
  {
   "cell_type": "markdown",
   "metadata": {},
   "source": [
    "* Now suppose these 1000 respondents include 500 men and 500 women, supposed that 75% of the mean support death penalty in constrasted to 65% among women\n",
    "\n",
    "* The ration of support for the death penalty $0.75/0.65=1.15$, men  support it 15% more than woman, but computate the standard error is more challenging\n"
   ]
  },
  {
   "cell_type": "code",
   "execution_count": 17,
   "metadata": {},
   "outputs": [
    {
     "data": {
      "text/html": [
       "<style>\n",
       ".dl-inline {width: auto; margin:0; padding: 0}\n",
       ".dl-inline>dt, .dl-inline>dd {float: none; width: auto; display: inline-block}\n",
       ".dl-inline>dt::after {content: \":\\0020\"; padding-right: .5ex}\n",
       ".dl-inline>dt:not(:first-of-type) {padding-left: .5ex}\n",
       "</style><dl class=dl-inline><dt>2.5%</dt><dd>1.064</dd><dt>97.5%</dt><dd>1.254</dd></dl>\n"
      ],
      "text/latex": [
       "\\begin{description*}\n",
       "\\item[2.5\\textbackslash{}\\%] 1.064\n",
       "\\item[97.5\\textbackslash{}\\%] 1.254\n",
       "\\end{description*}\n"
      ],
      "text/markdown": [
       "2.5%\n",
       ":   1.06497.5%\n",
       ":   1.254\n",
       "\n"
      ],
      "text/plain": [
       " 2.5% 97.5% \n",
       "1.064 1.254 "
      ]
     },
     "metadata": {},
     "output_type": "display_data"
    }
   ],
   "source": [
    "n.men = 500\n",
    "p.hat.men = 0.75\n",
    "se.men = sqrt(p.hat.men*(1 - p.hat.men)/n.men)\n",
    "\n",
    "n.women = 500\n",
    "p.hat.women = 0.65\n",
    "se.women = sqrt(p.hat.women*(1 - p.hat.women)/n.women)\n",
    "\n",
    "n.sims = 10000\n",
    "p.men = rnorm(n.sims, p.hat.men, se.men)\n",
    "p.women = rnorm(n.sims, p.hat.women, se.women)\n",
    "\n",
    "ratio = p.men/p.women\n",
    "int.95 = quantile(ratio, c(0.025, 0.975))\n",
    "\n",
    "round(int.95, 3)"
   ]
  },
  {
   "cell_type": "markdown",
   "metadata": {},
   "source": [
    "### Classical hypothesis testing\n",
    "\n",
    "The possible outcomes of a hypothesis test are \"reject\" or \"not reject\". It is never possible to \"accept\" a statistical hypothesis, only to find that the data are not sufficient to reject it\n",
    "\n",
    "\n",
    "#### Comparisons of paramters to fixed values and each other: interpreting confidence intervals as hypothesis tests\n",
    "\n",
    "* The hypothesis that a parameter equals zero is directly tested by fitting the model and includes the parameter and check it zero in within the interval\n",
    "* Testing whether two parameters are equal is equivalent to testing whether their difference equals zero\n",
    "* The hypothesis of whether a parameter is positive is directly assessed via its confidence interval\n",
    "\n",
    "#### Testing for the existence of a variance component \n",
    "\n",
    "* Ilustrate of overdispersion in the binomial or Poisson model.\n",
    "* Overdispersion = variation is greater than would be expected by chance\n",
    "* The ratio of variance/mean is thus a measure of dispersion, with var/mean=1 indicating that the Poisson model is appropriate and var/mean > 1 indicating overdispersion. \n",
    "\n",
    "#### Underdispersion\n",
    "\n",
    "Count data with variance less than the mean would indicate *underdispersion*\n",
    "\n",
    "#### Multiple hypothesis testing and why we do not worry about it\n",
    "\n",
    "A  concern  is sometimes  expressed that if you test a large number of hypotheses, then you're bound to reject some\n",
    "\n",
    "### Problems with statistical significance\n",
    "\n",
    "A common statistical error is to summarize comparisons by statistical significance and to draw a sharp distinction between significant and nonsignificant results.\n",
    "   * Statistical significance does not equal practical significance\n",
    "   *  Changes in statistical significance are not themselves significant; only a small change is required to move a 5.1% significance to 4.9%, which means that large changes in significance might correspond to small, nonsignificant changes in the underlying variables.\n",
    "    \n",
    "Consider two independent studies with estimates and standard errors of 25 $\\pm$ 10 and 10 $\\pm$ 10. The estimated difference is $\\sqrt{10^2+ 10^2}=14$"
   ]
  },
  {
   "cell_type": "markdown",
   "metadata": {},
   "source": [
    "## Exercises"
   ]
  },
  {
   "cell_type": "markdown",
   "metadata": {},
   "source": [
    " 1. A test is graded from 0 to 50, with an average score of 35 and a standard deviation of 10. For comparison to other tests, it would be convenient to rescale to a mean of 100 and standard deviation of 15."
   ]
  },
  {
   "cell_type": "markdown",
   "metadata": {},
   "source": [
    "(a) How can the scores be linearly transformed to have this new mean and standard deviation?\n",
    "\n",
    "* considered that the new mean will be : \n",
    "\n",
    "<p>&nbsp;</p>\n",
    "\\begin{split}\n",
    "Y = \\beta_1 X + \\beta_0\n",
    "\\end{split}\n",
    "<p>&nbsp;</p>\n",
    "\n",
    "and  the variance is:\n",
    "\n",
    "<p>&nbsp;</p>\n",
    "\\begin{split}\n",
    "\\sigma_y^2 = \\beta_1^ 2 \\sigma_x^2\n",
    "\\end{split}\n",
    "<p>&nbsp;</p>\n",
    "\n",
    "Now we can rescale mean and SD with the following system of equations: \n",
    "\n",
    "<p>&nbsp;</p>\n",
    "\\begin{split}\n",
    "Y = \\beta_1 X + \\beta_0   \\\\\n",
    "100 = \\beta_1 *35 + \\beta_0  \\\\\n",
    "\\beta_0 = 47.5\n",
    "\\end{split}\n",
    "<p>&nbsp;</p>\n",
    "\n",
    "\n",
    "\n",
    "\n",
    "<p>&nbsp;</p>\n",
    "\\begin{split}\n",
    "\\sigma_y^2 = \\beta_1^ 2 \\sigma_x^2 \\\\\n",
    "(15^2) = a^2 * (10^2)  \\\\\n",
    "\\beta_1 = \\pm 1.5 \n",
    "\\end{split}\n",
    "<p>&nbsp;</p>\n",
    "\n",
    "\n",
    "Thus, the full model for the transformation is\n",
    "\n",
    "<p>&nbsp;</p>\n",
    "\\begin{split}\n",
    "Y = 1.5 X + 47.5\n",
    "\\end{split}\n",
    "<p>&nbsp;</p>\n"
   ]
  },
  {
   "cell_type": "code",
   "execution_count": 37,
   "metadata": {},
   "outputs": [
    {
     "data": {
      "image/png": "[encoded data removed]",
      "text/plain": [
       "Plot with title “Histogram of transformed.data”"
      ]
     },
     "metadata": {
      "image/png": {
       "height": 420,
       "width": 420
      }
     },
     "output_type": "display_data"
    }
   ],
   "source": [
    "set.seed(1)\n",
    "sim.data = rnorm(25, mean = 35, sd = 15)\n",
    "transformed.data = 1.5*sim.data[] + 47.5\n",
    "\n",
    "\n",
    "par(mfrow=c(1,2))\n",
    "hist(sim.data)\n",
    "hist(transformed.data)"
   ]
  },
  {
   "cell_type": "markdown",
   "metadata": {},
   "source": [
    "2. The following are the proportions of girl births in Vienna for each month in 1908 and 1909 (out of an average of 3900 births per month):"
   ]
  },
  {
   "cell_type": "markdown",
   "metadata": {},
   "source": [
    "(a) Compute the standard deviation of these proportions and compare to the standard deviation that would be expected if the sexes of babies were independently decided with a constant probability over the 24-month period."
   ]
  },
  {
   "cell_type": "code",
   "execution_count": 53,
   "metadata": {},
   "outputs": [
    {
     "data": {
      "text/html": [
       "0.486"
      ],
      "text/latex": [
       "0.486"
      ],
      "text/markdown": [
       "0.486"
      ],
      "text/plain": [
       "[1] 0.486"
      ]
     },
     "metadata": {},
     "output_type": "display_data"
    },
    {
     "data": {
      "text/html": [
       "0.006"
      ],
      "text/latex": [
       "0.006"
      ],
      "text/markdown": [
       "0.006"
      ],
      "text/plain": [
       "[1] 0.006"
      ]
     },
     "metadata": {},
     "output_type": "display_data"
    },
    {
     "data": {
      "text/html": [
       "0.008"
      ],
      "text/latex": [
       "0.008"
      ],
      "text/markdown": [
       "0.008"
      ],
      "text/plain": [
       "[1] 0.008"
      ]
     },
     "metadata": {},
     "output_type": "display_data"
    }
   ],
   "source": [
    "girls.1908 = c(.4777, .4875, .4859, .4754, .4874, .4864, .4813, .4787, .4895, .4797, .4876, .4859)\n",
    "girls.1909 = c(.4857, .4907, .5010, .4903, .4860, .4911, .4871, .4725, .4822, .4870, .4823, .4973)\n",
    "\n",
    "n = 3900\n",
    "girls = c(girls.1908, girls.1909)\n",
    "\n",
    "#Observerd\n",
    "girls.mean = mean(girls)\n",
    "round(girls.mean, 3)\n",
    "girls.sd = sd(girls)\n",
    "round(girls.sd, 3)\n",
    "\n",
    "#Expected\n",
    "expect.sd = sqrt(girls.mean*(1-girls.mean)/n)\n",
    "round(expect.sd, 3)\n"
   ]
  },
  {
   "cell_type": "markdown",
   "metadata": {},
   "source": [
    "(b) The actual and theoretical standard deviations from (a) differ, of course. Is this difference statistically significant? (Hint: under the randomness model, the actual variance should have a distribution with expected value equal to the theoretical variance, and proportional to a $χ^2$ with 23 degrees of freedom.)"
   ]
  },
  {
   "cell_type": "code",
   "execution_count": null,
   "metadata": {},
   "outputs": [],
   "source": []
  }
 ],
 "metadata": {
  "kernelspec": {
   "display_name": "R 4.0",
   "language": "R",
   "name": "ir40"
  },
  "language_info": {
   "codemirror_mode": "r",
   "file_extension": ".r",
   "mimetype": "text/x-r-source",
   "name": "R",
   "pygments_lexer": "r",
   "version": "4.0.3"
  }
 },
 "nbformat": 4,
 "nbformat_minor": 4
}
