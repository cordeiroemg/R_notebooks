{
 "cells": [
  {
   "cell_type": "markdown",
   "metadata": {},
   "source": [
    "# One-Way Analysis of Variance\n",
    "\n",
    "In an analysis of variance (ANOVA), the ideia is to partition the overall variance in the reponse into that due to each of the factors and the error\n",
    "\n",
    "Terminology of ANOVA-type problems is different. Predictors are now all qualitative and are now typically factors with varies *levels*. The regression parameters are now called *effects*\n",
    "\n",
    "We only consider cases where the paramters are fixed, but unknown (*fixed-effects* models)\n",
    "\n",
    "## The model\n",
    "\n",
    "Suppose we have a factor $\\alpha$ occuring at $i=1,..., I$ levels, with $j=1,..., J_i$ observation per level\n",
    "\n",
    "\n",
    "<p>&nbsp;</p>\n",
    "\\begin{split}\n",
    "y_{ij}=\\mu, \\alpha_i + \\epsilon_{ij}\n",
    "\\end{split}\n",
    "<p>&nbsp;</p>\n",
    "\n",
    "There are some options to set the analyis\n",
    "1) $\\mu = 0$ then ise $I$ different dummy variables to estimate $\\alpha_i$for $i=1,..., I$\n",
    "2) set $\\alpha_1=0$ then $\\mu$ represents the expected mean response for the first level of $\\alpha_i$. The level one is then called *reference level* or *baseline level*\n",
    "3) Set $\\sum \\alpha_i=0$ now $\\mu$ reoresents the mean response over all levels of $\\alpha_i$\n",
    "\n",
    "Some preliminary graphical analysis is appropriate before fitting; we look for:\n",
    "* equality of variance\n",
    "* The need for transformation of the response \n",
    "* And outliers\n",
    "\n",
    "Once the effects are estimates (parameters), we test for difference in the levels of the factor\n",
    "\n",
    "<p>&nbsp;</p>\n",
    "\\begin{split}\n",
    "H_0: y_{ij}= \\mu + \\epsilon_{ij}  \\\\\n",
    "H_1: y_{ij}= \\mu + \\alpha_i + \\epsilon_{ij}\n",
    "\\end{split}\n",
    "<p>&nbsp;</p>\n",
    "\n",
    "## An Example\n",
    "\n",
    "Study related to blood coagulation time,\n",
    "*  n=24 animals were randoml assigned to 4 treatments\n",
    "* Treatments= 4 diets"
   ]
  },
  {
   "cell_type": "code",
   "execution_count": 2,
   "metadata": {},
   "outputs": [],
   "source": [
    "library(faraway)"
   ]
  },
  {
   "cell_type": "code",
   "execution_count": 3,
   "metadata": {},
   "outputs": [
    {
     "data": {
      "text/html": [
       "<table>\n",
       "<caption>A data.frame: 6 × 2</caption>\n",
       "<thead>\n",
       "\t<tr><th></th><th scope=col>coag</th><th scope=col>diet</th></tr>\n",
       "\t<tr><th></th><th scope=col>&lt;dbl&gt;</th><th scope=col>&lt;fct&gt;</th></tr>\n",
       "</thead>\n",
       "<tbody>\n",
       "\t<tr><th scope=row>1</th><td>62</td><td>A</td></tr>\n",
       "\t<tr><th scope=row>2</th><td>60</td><td>A</td></tr>\n",
       "\t<tr><th scope=row>3</th><td>63</td><td>A</td></tr>\n",
       "\t<tr><th scope=row>4</th><td>59</td><td>A</td></tr>\n",
       "\t<tr><th scope=row>5</th><td>63</td><td>B</td></tr>\n",
       "\t<tr><th scope=row>6</th><td>67</td><td>B</td></tr>\n",
       "</tbody>\n",
       "</table>\n"
      ],
      "text/latex": [
       "A data.frame: 6 × 2\n",
       "\\begin{tabular}{r|ll}\n",
       "  & coag & diet\\\\\n",
       "  & <dbl> & <fct>\\\\\n",
       "\\hline\n",
       "\t1 & 62 & A\\\\\n",
       "\t2 & 60 & A\\\\\n",
       "\t3 & 63 & A\\\\\n",
       "\t4 & 59 & A\\\\\n",
       "\t5 & 63 & B\\\\\n",
       "\t6 & 67 & B\\\\\n",
       "\\end{tabular}\n"
      ],
      "text/markdown": [
       "\n",
       "A data.frame: 6 × 2\n",
       "\n",
       "| <!--/--> | coag &lt;dbl&gt; | diet &lt;fct&gt; |\n",
       "|---|---|---|\n",
       "| 1 | 62 | A |\n",
       "| 2 | 60 | A |\n",
       "| 3 | 63 | A |\n",
       "| 4 | 59 | A |\n",
       "| 5 | 63 | B |\n",
       "| 6 | 67 | B |\n",
       "\n"
      ],
      "text/plain": [
       "  coag diet\n",
       "1 62   A   \n",
       "2 60   A   \n",
       "3 63   A   \n",
       "4 59   A   \n",
       "5 63   B   \n",
       "6 67   B   "
      ]
     },
     "metadata": {},
     "output_type": "display_data"
    }
   ],
   "source": [
    "data(coagulation)\n",
    "head(coagulation)"
   ]
  },
  {
   "cell_type": "code",
   "execution_count": 5,
   "metadata": {},
   "outputs": [
    {
     "data": {
      "image/png": "[encoded data removed]",
      "text/plain": [
       "plot without title"
      ]
     },
     "metadata": {
      "image/png": {
       "height": 420,
       "width": 420
      }
     },
     "output_type": "display_data"
    },
    {
     "data": {
      "image/png": "[encoded data removed]",
      "text/plain": [
       "plot without title"
      ]
     },
     "metadata": {
      "image/png": {
       "height": 420,
       "width": 420
      }
     },
     "output_type": "display_data"
    }
   ],
   "source": [
    "# lets plot the data first\n",
    "plot(coag ~ diet, coagulation, ylab=\"coagulation time\")\n",
    "with(coagulation, stripchart(coag ~ diet, vertical = TRUE, method=\"stack\", xlab=\"diet\", ylab=\"coagulation time\"))"
   ]
  },
  {
   "cell_type": "markdown",
   "metadata": {},
   "source": [
    "* The stip plot is preferred here because of boxplot displays pooly when there are few datapoints.  For larger datasets, boxplots are better\n",
    "* No outliers, skewness, or unequal variance"
   ]
  },
  {
   "cell_type": "code",
   "execution_count": 7,
   "metadata": {},
   "outputs": [
    {
     "data": {
      "text/plain": [
       "\n",
       "Call:\n",
       "lm(formula = coag ~ diet, data = coagulation)\n",
       "\n",
       "Residuals:\n",
       "   Min     1Q Median     3Q    Max \n",
       " -5.00  -1.25   0.00   1.25   5.00 \n",
       "\n",
       "Coefficients:\n",
       "             Estimate Std. Error t value Pr(>|t|)    \n",
       "(Intercept) 6.100e+01  1.183e+00  51.554  < 2e-16 ***\n",
       "dietB       5.000e+00  1.528e+00   3.273 0.003803 ** \n",
       "dietC       7.000e+00  1.528e+00   4.583 0.000181 ***\n",
       "dietD       1.288e-15  1.449e+00   0.000 1.000000    \n",
       "---\n",
       "Signif. codes:  0 ‘***’ 0.001 ‘**’ 0.01 ‘*’ 0.05 ‘.’ 0.1 ‘ ’ 1\n",
       "\n",
       "Residual standard error: 2.366 on 20 degrees of freedom\n",
       "Multiple R-squared:  0.6706,\tAdjusted R-squared:  0.6212 \n",
       "F-statistic: 13.57 on 3 and 20 DF,  p-value: 4.658e-05\n"
      ]
     },
     "metadata": {},
     "output_type": "display_data"
    }
   ],
   "source": [
    "g = lm(coag ~ diet, coagulation)\n",
    "summary(g)"
   ]
  },
  {
   "cell_type": "markdown",
   "metadata": {},
   "source": [
    "* The p-value of the F-statistic suggest that there are significant differences between groups"
   ]
  },
  {
   "cell_type": "code",
   "execution_count": 39,
   "metadata": {},
   "outputs": [
    {
     "data": {
      "text/html": [
       "<table>\n",
       "<caption>A matrix: 6 × 4 of type dbl</caption>\n",
       "<thead>\n",
       "\t<tr><th></th><th scope=col>(Intercept)</th><th scope=col>dietB</th><th scope=col>dietC</th><th scope=col>dietD</th></tr>\n",
       "</thead>\n",
       "<tbody>\n",
       "\t<tr><th scope=row>1</th><td>1</td><td>0</td><td>0</td><td>0</td></tr>\n",
       "\t<tr><th scope=row>2</th><td>1</td><td>0</td><td>0</td><td>0</td></tr>\n",
       "\t<tr><th scope=row>3</th><td>1</td><td>0</td><td>0</td><td>0</td></tr>\n",
       "\t<tr><th scope=row>4</th><td>1</td><td>0</td><td>0</td><td>0</td></tr>\n",
       "\t<tr><th scope=row>5</th><td>1</td><td>1</td><td>0</td><td>0</td></tr>\n",
       "\t<tr><th scope=row>6</th><td>1</td><td>1</td><td>0</td><td>0</td></tr>\n",
       "</tbody>\n",
       "</table>\n"
      ],
      "text/latex": [
       "A matrix: 6 × 4 of type dbl\n",
       "\\begin{tabular}{r|llll}\n",
       "  & (Intercept) & dietB & dietC & dietD\\\\\n",
       "\\hline\n",
       "\t1 & 1 & 0 & 0 & 0\\\\\n",
       "\t2 & 1 & 0 & 0 & 0\\\\\n",
       "\t3 & 1 & 0 & 0 & 0\\\\\n",
       "\t4 & 1 & 0 & 0 & 0\\\\\n",
       "\t5 & 1 & 1 & 0 & 0\\\\\n",
       "\t6 & 1 & 1 & 0 & 0\\\\\n",
       "\\end{tabular}\n"
      ],
      "text/markdown": [
       "\n",
       "A matrix: 6 × 4 of type dbl\n",
       "\n",
       "| <!--/--> | (Intercept) | dietB | dietC | dietD |\n",
       "|---|---|---|---|---|\n",
       "| 1 | 1 | 0 | 0 | 0 |\n",
       "| 2 | 1 | 0 | 0 | 0 |\n",
       "| 3 | 1 | 0 | 0 | 0 |\n",
       "| 4 | 1 | 0 | 0 | 0 |\n",
       "| 5 | 1 | 1 | 0 | 0 |\n",
       "| 6 | 1 | 1 | 0 | 0 |\n",
       "\n"
      ],
      "text/plain": [
       "  (Intercept) dietB dietC dietD\n",
       "1 1           0     0     0    \n",
       "2 1           0     0     0    \n",
       "3 1           0     0     0    \n",
       "4 1           0     0     0    \n",
       "5 1           1     0     0    \n",
       "6 1           1     0     0    "
      ]
     },
     "metadata": {},
     "output_type": "display_data"
    }
   ],
   "source": [
    "head(model.matrix(g))"
   ]
  },
  {
   "cell_type": "code",
   "execution_count": 9,
   "metadata": {},
   "outputs": [
    {
     "data": {
      "text/plain": [
       "\n",
       "Call:\n",
       "lm(formula = coag ~ diet - 1, data = coagulation)\n",
       "\n",
       "Residuals:\n",
       "   Min     1Q Median     3Q    Max \n",
       " -5.00  -1.25   0.00   1.25   5.00 \n",
       "\n",
       "Coefficients:\n",
       "      Estimate Std. Error t value Pr(>|t|)    \n",
       "dietA  61.0000     1.1832   51.55   <2e-16 ***\n",
       "dietB  66.0000     0.9661   68.32   <2e-16 ***\n",
       "dietC  68.0000     0.9661   70.39   <2e-16 ***\n",
       "dietD  61.0000     0.8367   72.91   <2e-16 ***\n",
       "---\n",
       "Signif. codes:  0 ‘***’ 0.001 ‘**’ 0.01 ‘*’ 0.05 ‘.’ 0.1 ‘ ’ 1\n",
       "\n",
       "Residual standard error: 2.366 on 20 degrees of freedom\n",
       "Multiple R-squared:  0.9989,\tAdjusted R-squared:  0.9986 \n",
       "F-statistic:  4399 on 4 and 20 DF,  p-value: < 2.2e-16\n"
      ]
     },
     "metadata": {},
     "output_type": "display_data"
    }
   ],
   "source": [
    "# We can fit the model without the intercept\n",
    "gi = lm(coag ~ diet -1, coagulation)\n",
    "summary(gi)"
   ]
  },
  {
   "cell_type": "markdown",
   "metadata": {},
   "source": [
    "* Now we can directly read the level means. $R^2$ is not calculated because of the absence of an intercept\n",
    "* F-statistic correspond to the hypothesis that the expected mean reponse is zero. Not very interesting\n",
    "* To produce the right comparision in this case, we would need to fit a null model and compare with the full model"
   ]
  },
  {
   "cell_type": "code",
   "execution_count": 12,
   "metadata": {},
   "outputs": [
    {
     "data": {
      "text/plain": [
       "\n",
       "Call:\n",
       "lm(formula = coag ~ 1, data = coagulation)\n",
       "\n",
       "Residuals:\n",
       "   Min     1Q Median     3Q    Max \n",
       " -8.00  -2.25  -0.50   3.00   7.00 \n",
       "\n",
       "Coefficients:\n",
       "            Estimate Std. Error t value Pr(>|t|)    \n",
       "(Intercept)  64.0000     0.7848   81.55   <2e-16 ***\n",
       "---\n",
       "Signif. codes:  0 ‘***’ 0.001 ‘**’ 0.01 ‘*’ 0.05 ‘.’ 0.1 ‘ ’ 1\n",
       "\n",
       "Residual standard error: 3.845 on 23 degrees of freedom\n"
      ]
     },
     "metadata": {},
     "output_type": "display_data"
    }
   ],
   "source": [
    "gnull = lm(coag ~ 1, coagulation)\n",
    "summary(gnull)"
   ]
  },
  {
   "cell_type": "code",
   "execution_count": 13,
   "metadata": {},
   "outputs": [
    {
     "data": {
      "text/html": [
       "<table>\n",
       "<caption>A anova: 2 × 6</caption>\n",
       "<thead>\n",
       "\t<tr><th></th><th scope=col>Res.Df</th><th scope=col>RSS</th><th scope=col>Df</th><th scope=col>Sum of Sq</th><th scope=col>F</th><th scope=col>Pr(&gt;F)</th></tr>\n",
       "\t<tr><th></th><th scope=col>&lt;dbl&gt;</th><th scope=col>&lt;dbl&gt;</th><th scope=col>&lt;dbl&gt;</th><th scope=col>&lt;dbl&gt;</th><th scope=col>&lt;dbl&gt;</th><th scope=col>&lt;dbl&gt;</th></tr>\n",
       "</thead>\n",
       "<tbody>\n",
       "\t<tr><th scope=row>1</th><td>23</td><td>340</td><td>NA</td><td> NA</td><td>      NA</td><td>          NA</td></tr>\n",
       "\t<tr><th scope=row>2</th><td>20</td><td>112</td><td> 3</td><td>228</td><td>13.57143</td><td>4.658471e-05</td></tr>\n",
       "</tbody>\n",
       "</table>\n"
      ],
      "text/latex": [
       "A anova: 2 × 6\n",
       "\\begin{tabular}{r|llllll}\n",
       "  & Res.Df & RSS & Df & Sum of Sq & F & Pr(>F)\\\\\n",
       "  & <dbl> & <dbl> & <dbl> & <dbl> & <dbl> & <dbl>\\\\\n",
       "\\hline\n",
       "\t1 & 23 & 340 & NA &  NA &       NA &           NA\\\\\n",
       "\t2 & 20 & 112 &  3 & 228 & 13.57143 & 4.658471e-05\\\\\n",
       "\\end{tabular}\n"
      ],
      "text/markdown": [
       "\n",
       "A anova: 2 × 6\n",
       "\n",
       "| <!--/--> | Res.Df &lt;dbl&gt; | RSS &lt;dbl&gt; | Df &lt;dbl&gt; | Sum of Sq &lt;dbl&gt; | F &lt;dbl&gt; | Pr(&gt;F) &lt;dbl&gt; |\n",
       "|---|---|---|---|---|---|---|\n",
       "| 1 | 23 | 340 | NA |  NA |       NA |           NA |\n",
       "| 2 | 20 | 112 |  3 | 228 | 13.57143 | 4.658471e-05 |\n",
       "\n"
      ],
      "text/plain": [
       "  Res.Df RSS Df Sum of Sq F        Pr(>F)      \n",
       "1 23     340 NA  NA             NA           NA\n",
       "2 20     112  3 228       13.57143 4.658471e-05"
      ]
     },
     "metadata": {},
     "output_type": "display_data"
    }
   ],
   "source": [
    "anova(gnull, gi)"
   ]
  },
  {
   "cell_type": "markdown",
   "metadata": {},
   "source": [
    "*  Exactly the same values as the first way\n",
    "* Sum code"
   ]
  },
  {
   "cell_type": "code",
   "execution_count": 18,
   "metadata": {},
   "outputs": [
    {
     "data": {
      "text/plain": [
       "\n",
       "Call:\n",
       "lm(formula = coag ~ diet, data = coagulation)\n",
       "\n",
       "Residuals:\n",
       "   Min     1Q Median     3Q    Max \n",
       " -5.00  -1.25   0.00   1.25   5.00 \n",
       "\n",
       "Coefficients:\n",
       "            Estimate Std. Error t value Pr(>|t|)    \n",
       "(Intercept)  64.0000     0.4979 128.537  < 2e-16 ***\n",
       "diet1        -3.0000     0.9736  -3.081 0.005889 ** \n",
       "diet2         2.0000     0.8453   2.366 0.028195 *  \n",
       "diet3         4.0000     0.8453   4.732 0.000128 ***\n",
       "---\n",
       "Signif. codes:  0 ‘***’ 0.001 ‘**’ 0.01 ‘*’ 0.05 ‘.’ 0.1 ‘ ’ 1\n",
       "\n",
       "Residual standard error: 2.366 on 20 degrees of freedom\n",
       "Multiple R-squared:  0.6706,\tAdjusted R-squared:  0.6212 \n",
       "F-statistic: 13.57 on 3 and 20 DF,  p-value: 4.658e-05\n"
      ]
     },
     "metadata": {},
     "output_type": "display_data"
    }
   ],
   "source": [
    "options(contrasts= c(\"contr.sum\", \"contr.poly\"))\n",
    "gs = lm(coag ~ diet, coagulation)\n",
    "summary(gs)"
   ]
  },
  {
   "cell_type": "markdown",
   "metadata": {},
   "source": [
    "*  The overall mean is 64 while the estimated response for A is 3 less than the overall mean (61)\n",
    "* Given that we  are using sum of contrasts $\\hat \\alpha_D= -(-3+2+4) = -3$ so the mean for D is $64-3=61$\n",
    "* We can use any of these three methods. The constant $\\mu=0$ is less convenient given the extra step to generate F-test. \n",
    "* The treatment coding is most appropriate when the reference level is set to a possible control group\n",
    "\n",
    "## Diagnostics\n",
    "\n",
    "There are fewer diagnostics to do for ANOVA: residuals and fitted values and qq-plot\n",
    "* It makes  no sense to trasform the predictor, but it is reasonable to consider transforming the response"
   ]
  },
  {
   "cell_type": "code",
   "execution_count": 19,
   "metadata": {},
   "outputs": [
    {
     "data": {
      "image/png": "[encoded data removed]",
      "text/plain": [
       "Plot with title “Normal Q-Q Plot”"
      ]
     },
     "metadata": {
      "image/png": {
       "height": 420,
       "width": 420
      }
     },
     "output_type": "display_data"
    }
   ],
   "source": [
    "qqnorm(residuals(g))"
   ]
  },
  {
   "cell_type": "code",
   "execution_count": 20,
   "metadata": {},
   "outputs": [
    {
     "data": {
      "image/png": "[encoded data removed]",
      "text/plain": [
       "plot without title"
      ]
     },
     "metadata": {
      "image/png": {
       "height": 420,
       "width": 420
      }
     },
     "output_type": "display_data"
    }
   ],
   "source": [
    "plot(jitter(fitted(g)), residuals(g), xlab=\"Fitted\", ylab=\"Residuals\")"
   ]
  },
  {
   "cell_type": "markdown",
   "metadata": {},
   "source": [
    "*  We can examine the homogeneity of the error variance using Levene's  test. \n",
    "1) First compute the absolute values of the residuals\n",
    "2) Use it as reponse in a new one-way ANOVA\n",
    "3) to reduce the influence of outliers, we use median rather than the mean"
   ]
  },
  {
   "cell_type": "code",
   "execution_count": 38,
   "metadata": {},
   "outputs": [
    {
     "data": {
      "text/html": [
       "<style>\n",
       ".dl-inline {width: auto; margin:0; padding: 0}\n",
       ".dl-inline>dt, .dl-inline>dd {float: none; width: auto; display: inline-block}\n",
       ".dl-inline>dt::after {content: \":\\0020\"; padding-right: .5ex}\n",
       ".dl-inline>dt:not(:first-of-type) {padding-left: .5ex}\n",
       "</style><dl class=dl-inline><dt>A</dt><dd>61</dd><dt>B</dt><dd>65.5</dd><dt>C</dt><dd>68</dd><dt>D</dt><dd>61.5</dd></dl>\n"
      ],
      "text/latex": [
       "\\begin{description*}\n",
       "\\item[A] 61\n",
       "\\item[B] 65.5\n",
       "\\item[C] 68\n",
       "\\item[D] 61.5\n",
       "\\end{description*}\n"
      ],
      "text/markdown": [
       "A\n",
       ":   61B\n",
       ":   65.5C\n",
       ":   68D\n",
       ":   61.5\n",
       "\n"
      ],
      "text/plain": [
       "   A    B    C    D \n",
       "61.0 65.5 68.0 61.5 "
      ]
     },
     "metadata": {},
     "output_type": "display_data"
    },
    {
     "ename": "ERROR",
     "evalue": "Error in abs(coag ~ med[diet]): non-numeric argument to mathematical function\n",
     "output_type": "error",
     "traceback": [
      "Error in abs(coag ~ med[diet]): non-numeric argument to mathematical function\nTraceback:\n",
      "1. with(coagulation, abs(coag ~ med[diet]))",
      "2. with.default(coagulation, abs(coag ~ med[diet]))",
      "3. eval(substitute(expr), data, enclos = parent.frame())",
      "4. eval(substitute(expr), data, enclos = parent.frame())"
     ]
    }
   ],
   "source": [
    "med = with(coagulation, tapply(coag, diet, median))\n",
    "med\n",
    "ar  = with(coagulation, abs(coag ~med[diet]))\n",
    "ar\n",
    "#anova(lm(ar ~ diet, coagulation))"
   ]
  },
  {
   "cell_type": "markdown",
   "metadata": {},
   "source": [
    "## Pairwise Comparisons\n",
    "\n",
    "After detecting some differences in the levels of the factors, interest centers on which levels or combinations of levels are different \n",
    "\n",
    "<p>&nbsp;</p>\n",
    "\\begin{split}\n",
    "\\hat \\alpha_i - \\hat \\alpha_j \\pm t_{df}^{\\alpha/2}se(\\hat \\alpha_i - \\hat \\alpha_j)\n",
    "\\end{split}\n",
    "<p>&nbsp;</p>\n",
    "\n",
    "whereas\n",
    "\n",
    "<p>&nbsp;</p>\n",
    "\\begin{split}\n",
    "se(\\hat \\alpha_i - \\hat \\alpha_j) = \\hat \\sigma \\sqrt{\\frac{1}{j_i} + \\frac{1}{j_j}} \n",
    "\\end{split}\n",
    "<p>&nbsp;</p>\n"
   ]
  },
  {
   "cell_type": "code",
   "execution_count": 41,
   "metadata": {},
   "outputs": [
    {
     "data": {
      "text/html": [
       "2.086"
      ],
      "text/latex": [
       "2.086"
      ],
      "text/markdown": [
       "2.086"
      ],
      "text/plain": [
       "[1] 2.086"
      ]
     },
     "metadata": {},
     "output_type": "display_data"
    }
   ],
   "source": [
    "round(qt(0.975, 20), 3)"
   ]
  },
  {
   "cell_type": "code",
   "execution_count": 42,
   "metadata": {},
   "outputs": [
    {
     "data": {
      "text/html": [
       "<style>\n",
       ".list-inline {list-style: none; margin:0; padding: 0}\n",
       ".list-inline>li {display: inline-block}\n",
       ".list-inline>li:not(:last-child)::after {content: \"\\00b7\"; padding: 0 .5ex}\n",
       "</style>\n",
       "<ol class=list-inline><li>1.80842</li><li>8.19158</li></ol>\n"
      ],
      "text/latex": [
       "\\begin{enumerate*}\n",
       "\\item 1.80842\n",
       "\\item 8.19158\n",
       "\\end{enumerate*}\n"
      ],
      "text/markdown": [
       "1. 1.80842\n",
       "2. 8.19158\n",
       "\n",
       "\n"
      ],
      "text/plain": [
       "[1] 1.80842 8.19158"
      ]
     },
     "metadata": {},
     "output_type": "display_data"
    }
   ],
   "source": [
    "c(5 - 2.086 * 1.53, 5 + 2.086 * 1.53)"
   ]
  },
  {
   "cell_type": "markdown",
   "metadata": {},
   "source": [
    "* Zero is not in the interval, thus the difference is significant\n",
    "* This approach is fine for one test, but we are likely interested in multiple comparisons\n",
    "\n",
    "For experiments with more levels, the true type I error gets even higher.\n",
    "Using the t-based CIs for multiple comparison is called the least significant difference (LSD) method, but it is not recommended\n",
    "\n",
    "* If we only do a few selected comparision, then the bonferroni correction could be implemented\n",
    "\n",
    "##### The solution can be testing multiple comparisons using *Tukey's honest significant difference (HSD)* \n",
    "* It depends on the studentized range distribution \n",
    "* $X_1,..., X_n$ be i.i.d. $N(\\mu, \\sigma^2)$ and $R=max_i X_i - min_i X_i$ be the range: $\\frac{R}{\\hat \\sigma}$\n",
    "\n",
    "\n",
    "<p>&nbsp;</p>\n",
    "\\begin{split}\n",
    "\\hat \\alpha_i - \\hat \\alpha_j \\pm \\frac{q_{1,df}}{\\sqrt{2}} se(\\hat \\alpha_i - \\hat \\alpha_j)  \n",
    "\\end{split}\n",
    "<p>&nbsp;</p>\n",
    "\n",
    "* When the sample sizes are very unequal, Tukey's HSD becomes too conservative\n"
   ]
  },
  {
   "cell_type": "code",
   "execution_count": 44,
   "metadata": {},
   "outputs": [
    {
     "data": {
      "text/html": [
       "2.799"
      ],
      "text/latex": [
       "2.799"
      ],
      "text/markdown": [
       "2.799"
      ],
      "text/plain": [
       "[1] 2.799"
      ]
     },
     "metadata": {},
     "output_type": "display_data"
    }
   ],
   "source": [
    "round(qtukey(0.95, 4, 20)/sqrt(2), 3)"
   ]
  },
  {
   "cell_type": "code",
   "execution_count": 45,
   "metadata": {},
   "outputs": [
    {
     "data": {
      "text/html": [
       "<style>\n",
       ".list-inline {list-style: none; margin:0; padding: 0}\n",
       ".list-inline>li {display: inline-block}\n",
       ".list-inline>li:not(:last-child)::after {content: \"\\00b7\"; padding: 0 .5ex}\n",
       "</style>\n",
       "<ol class=list-inline><li>0.716</li><li>9.284</li></ol>\n"
      ],
      "text/latex": [
       "\\begin{enumerate*}\n",
       "\\item 0.716\n",
       "\\item 9.284\n",
       "\\end{enumerate*}\n"
      ],
      "text/markdown": [
       "1. 0.716\n",
       "2. 9.284\n",
       "\n",
       "\n"
      ],
      "text/plain": [
       "[1] 0.716 9.284"
      ]
     },
     "metadata": {},
     "output_type": "display_data"
    }
   ],
   "source": [
    "c(5 - 2.8* 1.53, 5 + 2.8 * 1.53)"
   ]
  },
  {
   "cell_type": "markdown",
   "metadata": {},
   "source": [
    "* More conveniently "
   ]
  },
  {
   "cell_type": "code",
   "execution_count": 46,
   "metadata": {},
   "outputs": [
    {
     "data": {
      "text/plain": [
       "  Tukey multiple comparisons of means\n",
       "    95% family-wise confidence level\n",
       "\n",
       "Fit: aov(formula = coag ~ diet, data = coagulation)\n",
       "\n",
       "$diet\n",
       "    diff         lwr       upr     p adj\n",
       "B-A    5   0.7245544  9.275446 0.0183283\n",
       "C-A    7   2.7245544 11.275446 0.0009577\n",
       "D-A    0  -4.0560438  4.056044 1.0000000\n",
       "C-B    2  -1.8240748  5.824075 0.4766005\n",
       "D-B   -5  -8.5770944 -1.422906 0.0044114\n",
       "D-C   -7 -10.5770944 -3.422906 0.0001268\n"
      ]
     },
     "metadata": {},
     "output_type": "display_data"
    }
   ],
   "source": [
    "TukeyHSD(aov(coag ~ diet, coagulation))"
   ]
  },
  {
   "cell_type": "code",
   "execution_count": null,
   "metadata": {},
   "outputs": [],
   "source": []
  }
 ],
 "metadata": {
  "kernelspec": {
   "display_name": "R 4.0",
   "language": "R",
   "name": "ir40"
  },
  "language_info": {
   "codemirror_mode": "r",
   "file_extension": ".r",
   "mimetype": "text/x-r-source",
   "name": "R",
   "pygments_lexer": "r",
   "version": "4.0.3"
  }
 },
 "nbformat": 4,
 "nbformat_minor": 4
}
