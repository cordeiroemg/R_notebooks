{
 "cells": [
  {
   "cell_type": "markdown",
   "metadata": {},
   "source": [
    "# Statistical Strategy and Model Uncertainty\n",
    "\n",
    "## Strategy\n",
    "\n",
    "* **Diagnostics**: checking of assumptions-constant variance, linearity, normality, outlier,  influential points, serial correlation, and collinearity\n",
    "* **Transformation**: transforming the response-Box-Cox, tranforming the predictors-spline and polynomial regression\n",
    "* **Variable selection**: testing and criterion-based methods\n",
    "\n",
    "Fitting data well is no guarantee of good predictive performance or that the model is a good representation of the underlying population:\n",
    "1) Avoid complex model for small datasets\n",
    "2) Try to obtain new data to validate you proposed model (or set aside some of the data)\n",
    "3) Use past experience with similar data to guide the choice of model\n",
    "\n",
    "* A second independent look at the data may result in quite different conclusions. That problem is called *model multiplicity*\n",
    "\n",
    "### An experiment in Model Building\n",
    "\n",
    "<p>&nbsp;</p>\n",
    "\\begin{split}\n",
    "\\frac{1}{y}= x_1 + 0.57x_1^2 + 4x_1 x_2 + 2.1exp(x_4) + \\epsilon\n",
    "\\end{split}\n",
    "<p>&nbsp;</p>\n",
    "\n",
    "whereas\n",
    "\n",
    "<p>&nbsp;</p>\n",
    "\\begin{split}\n",
    "x_1 \\sim U(0,1) \\\\\n",
    "x_2 \\sim U(0,1)  \\\\\n",
    "1/x_3 \\sim U(0,1) \\\\\n",
    "x_4 \\sim N(1,1)    \\\\\n",
    "x_5 \\sim U(1,3)     \\\\\n",
    "\\epsilon \\sim N(0,1)\n",
    "\\end{split}\n",
    "<p>&nbsp;</p>\n",
    "\n",
    "Predict the mean response and standard error at ten given values?\n",
    "\n",
    "To test the accuracy of the prediction:\n",
    "\n",
    "<p>&nbsp;</p>\n",
    "\\begin{split}\n",
    "\\sum_{i=1}^{10} \\left(  \\frac{p_i - t_i}{t_i}   \\right)^2\n",
    "\\end{split}\n",
    "<p>&nbsp;</p>\n",
    "\n",
    "$p_i$ was the predicted response and $t_i$ was the true value; the honesty of the errors were given by\n",
    "\n",
    "<p>&nbsp;</p>\n",
    "\\begin{split}\n",
    "\\frac{1}{10} \\sum_{i=1}^{10} \\left| \\frac{p_i - t_i}{s_i} \\right|\n",
    "\\end{split} \n",
    "<p>&nbsp;</p>\n",
    "\n",
    "$s_i$ was the estimated standard error. \n"
   ]
  },
  {
   "cell_type": "code",
   "execution_count": null,
   "metadata": {},
   "outputs": [],
   "source": []
  }
 ],
 "metadata": {
  "kernelspec": {
   "display_name": "R 4.0",
   "language": "R",
   "name": "ir40"
  },
  "language_info": {
   "codemirror_mode": "r",
   "file_extension": ".r",
   "mimetype": "text/x-r-source",
   "name": "R",
   "pygments_lexer": "r",
   "version": "4.0.3"
  }
 },
 "nbformat": 4,
 "nbformat_minor": 4
}
