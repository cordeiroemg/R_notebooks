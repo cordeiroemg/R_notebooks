{
 "cells": [
  {
   "cell_type": "markdown",
   "metadata": {},
   "source": [
    "# Variable Selection\n",
    "\n",
    "The purpose is to select the \"best\" subset of predictors.\n",
    "\n",
    "1) We want to explain the data in the simplest way removing reduntant predictors. \n",
    "2) Unnecessary predictors will add noise to the estimation of other quantities that interested us. Degree of freedom will be wasted\n",
    "3) Collinearity is caused by having too many variables trying to do the same ob\n",
    "4) If model will be used for prediction, we can save time and money by not measuring redundant predictors\n",
    "\n",
    "* Outliers and transformation can have important consequences on the model selected. Iteration and experimentation is necessary to find better models\n",
    "\n",
    "There are two main types of variable selection\n",
    "\n",
    "\\begin{split}\n",
    "Types \\:of\\: selection\n",
    "\\begin{cases}\n",
    " \\text{ Stepwise approach} \\\\      \n",
    "  \\text{ Criterion approach}\n",
    "\\end{cases}\n",
    "\\end{split}\n",
    "\n",
    "## Hierarchical Models\n",
    "\n",
    "* Some models have an natural hierarchy. For instance, $x^2$ is a higher order term than $x$. When selecting terms, lower term should not be removed before higher order terms\n",
    "* We should not remove interaction terms $x_1x_2$ before removing $x_1$ and $x_2$ simultaneously. By removing $x_1x_2$ and the single terms $x_1$ and $x_2$, we would be back to the linear base model \n",
    "\n",
    "\n",
    "## Testing-Based Procedures\n",
    "### Backward Elimination\n",
    "* This is the simplest way of all variable selection procedures\n",
    "* Situations where there is a complex hierarchy, backward elimination can be run manually \n",
    "* We start will all predictors in the model and then remove the predictor with highest p-values greater than $\\alpha_{crit}$. Refit the model and remove the next highest. The procedure will be repeated until no sinignificant predictor will be removed\n",
    "* $\\alpha_{crit}$ is called \"p-to-remove\". If the prediction performance is the goal, then a 15 to 20% cutoff may work best\n",
    "\n",
    "### Forward Selection\n",
    "\n",
    "* It is just the reverse of the backward method. We start with no variables in the model and then for all predictors not in the model we check their p-value they are added to the model\n",
    "\n",
    "### Stepwise Regression\n",
    "\n",
    "* Combination of backward elimination and forward selection\n",
    "* allow variables to be brought back to model for new combinations\n",
    "\n",
    "### Verdict on Testing-Base Methods\n",
    "\n",
    "Some drawbacks:\n",
    "\n",
    "1) \"one-at-a-time\" adding/dropping variables can possible miss the optimal model\n",
    "\n",
    "2) p-values used should not be treated too literally. Too much multiple testing occuring \n",
    "\n",
    "3) Not direct linked to the final goal of the model (prediction or explanation). Dropped variables can still explain the phenomenon and the ones that stay have lower p-values\n",
    "\n",
    "4) Stepwise variable selection tends to pick models that are smaller than desirable for prediction purposes\n",
    "\n",
    "   - The interpretation should be: the dropped variables do not provide any additional information beyond the variables that stayed in the model\n",
    "\n",
    "\n"
   ]
  },
  {
   "cell_type": "code",
   "execution_count": 1,
   "metadata": {},
   "outputs": [],
   "source": [
    "library(faraway)"
   ]
  },
  {
   "cell_type": "code",
   "execution_count": 3,
   "metadata": {},
   "outputs": [
    {
     "data": {
      "text/plain": [
       "\n",
       "Call:\n",
       "lm(formula = Life.Exp ~ ., data = statedata)\n",
       "\n",
       "Residuals:\n",
       "     Min       1Q   Median       3Q      Max \n",
       "-1.48895 -0.51232 -0.02747  0.57002  1.49447 \n",
       "\n",
       "Coefficients:\n",
       "              Estimate Std. Error t value Pr(>|t|)    \n",
       "(Intercept)  7.094e+01  1.748e+00  40.586  < 2e-16 ***\n",
       "Population   5.180e-05  2.919e-05   1.775   0.0832 .  \n",
       "Income      -2.180e-05  2.444e-04  -0.089   0.9293    \n",
       "Illiteracy   3.382e-02  3.663e-01   0.092   0.9269    \n",
       "Murder      -3.011e-01  4.662e-02  -6.459 8.68e-08 ***\n",
       "HS.Grad      4.893e-02  2.332e-02   2.098   0.0420 *  \n",
       "Frost       -5.735e-03  3.143e-03  -1.825   0.0752 .  \n",
       "Area        -7.383e-08  1.668e-06  -0.044   0.9649    \n",
       "---\n",
       "Signif. codes:  0 ‘***’ 0.001 ‘**’ 0.01 ‘*’ 0.05 ‘.’ 0.1 ‘ ’ 1\n",
       "\n",
       "Residual standard error: 0.7448 on 42 degrees of freedom\n",
       "Multiple R-squared:  0.7362,\tAdjusted R-squared:  0.6922 \n",
       "F-statistic: 16.74 on 7 and 42 DF,  p-value: 2.534e-10\n"
      ]
     },
     "metadata": {},
     "output_type": "display_data"
    }
   ],
   "source": [
    "data(state)\n",
    "statedata = data.frame(state.x77, row.names=state.abb)\n",
    "g = lm(Life.Exp ~., data = statedata)\n",
    "summary(g)"
   ]
  },
  {
   "cell_type": "markdown",
   "metadata": {},
   "source": [
    "* Backward dropping manually"
   ]
  },
  {
   "cell_type": "code",
   "execution_count": 3,
   "metadata": {},
   "outputs": [
    {
     "data": {
      "text/plain": [
       "\n",
       "Call:\n",
       "lm(formula = Life.Exp ~ Population + Income + Illiteracy + Murder + \n",
       "    HS.Grad + Frost, data = statedata)\n",
       "\n",
       "Residuals:\n",
       "     Min       1Q   Median       3Q      Max \n",
       "-1.49047 -0.52533 -0.02546  0.57160  1.50374 \n",
       "\n",
       "Coefficients:\n",
       "              Estimate Std. Error t value Pr(>|t|)    \n",
       "(Intercept)  7.099e+01  1.387e+00  51.165  < 2e-16 ***\n",
       "Population   5.188e-05  2.879e-05   1.802   0.0785 .  \n",
       "Income      -2.444e-05  2.343e-04  -0.104   0.9174    \n",
       "Illiteracy   2.846e-02  3.416e-01   0.083   0.9340    \n",
       "Murder      -3.018e-01  4.334e-02  -6.963 1.45e-08 ***\n",
       "HS.Grad      4.847e-02  2.067e-02   2.345   0.0237 *  \n",
       "Frost       -5.776e-03  2.970e-03  -1.945   0.0584 .  \n",
       "---\n",
       "Signif. codes:  0 ‘***’ 0.001 ‘**’ 0.01 ‘*’ 0.05 ‘.’ 0.1 ‘ ’ 1\n",
       "\n",
       "Residual standard error: 0.7361 on 43 degrees of freedom\n",
       "Multiple R-squared:  0.7361,\tAdjusted R-squared:  0.6993 \n",
       "F-statistic: 19.99 on 6 and 43 DF,  p-value: 5.362e-11\n"
      ]
     },
     "metadata": {},
     "output_type": "display_data"
    }
   ],
   "source": [
    "g = update(g, . ~ . - Area)\n",
    "summary(g)"
   ]
  },
  {
   "cell_type": "code",
   "execution_count": 4,
   "metadata": {},
   "outputs": [
    {
     "data": {
      "text/plain": [
       "\n",
       "Call:\n",
       "lm(formula = Life.Exp ~ Income + Illiteracy + Murder + HS.Grad + \n",
       "    Frost, data = statedata)\n",
       "\n",
       "Residuals:\n",
       "     Min       1Q   Median       3Q      Max \n",
       "-1.40424 -0.53182  0.07773  0.53496  1.30297 \n",
       "\n",
       "Coefficients:\n",
       "              Estimate Std. Error t value Pr(>|t|)    \n",
       "(Intercept) 71.2850674  1.4124737  50.468  < 2e-16 ***\n",
       "Income       0.0001133  0.0002271   0.499   0.6204    \n",
       "Illiteracy  -0.1600309  0.3334357  -0.480   0.6336    \n",
       "Murder      -0.2765157  0.0420412  -6.577 4.77e-08 ***\n",
       "HS.Grad      0.0398761  0.0206167   1.934   0.0595 .  \n",
       "Frost       -0.0076509  0.0028522  -2.682   0.0103 *  \n",
       "---\n",
       "Signif. codes:  0 ‘***’ 0.001 ‘**’ 0.01 ‘*’ 0.05 ‘.’ 0.1 ‘ ’ 1\n",
       "\n",
       "Residual standard error: 0.7547 on 44 degrees of freedom\n",
       "Multiple R-squared:  0.7162,\tAdjusted R-squared:  0.684 \n",
       "F-statistic: 22.21 on 5 and 44 DF,  p-value: 4.847e-11\n"
      ]
     },
     "metadata": {},
     "output_type": "display_data"
    }
   ],
   "source": [
    "g = update(g, . ~ . - Population)\n",
    "summary(g)"
   ]
  },
  {
   "cell_type": "code",
   "execution_count": 5,
   "metadata": {},
   "outputs": [
    {
     "data": {
      "text/plain": [
       "\n",
       "Call:\n",
       "lm(formula = Life.Exp ~ Illiteracy + Murder + Frost, data = statedata)\n",
       "\n",
       "Residuals:\n",
       "     Min       1Q   Median       3Q      Max \n",
       "-1.59010 -0.46961  0.00394  0.57060  1.92292 \n",
       "\n",
       "Coefficients:\n",
       "             Estimate Std. Error t value Pr(>|t|)    \n",
       "(Intercept) 74.556717   0.584251 127.611  < 2e-16 ***\n",
       "Illiteracy  -0.601761   0.298927  -2.013  0.04998 *  \n",
       "Murder      -0.280047   0.043394  -6.454 6.03e-08 ***\n",
       "Frost       -0.008691   0.002959  -2.937  0.00517 ** \n",
       "---\n",
       "Signif. codes:  0 ‘***’ 0.001 ‘**’ 0.01 ‘*’ 0.05 ‘.’ 0.1 ‘ ’ 1\n",
       "\n",
       "Residual standard error: 0.7911 on 46 degrees of freedom\n",
       "Multiple R-squared:  0.6739,\tAdjusted R-squared:  0.6527 \n",
       "F-statistic: 31.69 on 3 and 46 DF,  p-value: 2.915e-11\n"
      ]
     },
     "metadata": {},
     "output_type": "display_data"
    }
   ],
   "source": [
    "summary(lm(Life.Exp ~ Illiteracy + Murder + Frost, statedata ))\n"
   ]
  },
  {
   "cell_type": "markdown",
   "metadata": {},
   "source": [
    "## Criterion-Based Procedures\n",
    "\n",
    "* If we have some idea about the purpose for which a model is intended, we might propose some measure of how well a given model meets that purpose\n",
    "\n",
    "* We could choose that model among those possible that optimizes that criterion\n",
    "\n",
    "* Sometimes we might have too many $q$ predictors and $2^q$ possible models\n",
    "\n",
    "We can use:\n",
    "* Akaike Information Criterion (AIC): -2 max log-likelihood + 2p\n",
    "* Bayes Information Criterion (BIC): -2 max log-likelihood + plog n\n",
    "\n",
    "The goal is to minimize AIC and BIC. Large model will fit better and so have smaller residuals sum of squares (RSS), but use more parameters\n",
    "\n",
    "#### Best model balances *fit* and *size*\n",
    "\n",
    "* We can select based on AIC or BIC values"
   ]
  },
  {
   "cell_type": "code",
   "execution_count": 4,
   "metadata": {},
   "outputs": [
    {
     "name": "stdout",
     "output_type": "stream",
     "text": [
      "Start:  AIC=-22.18\n",
      "Life.Exp ~ Population + Income + Illiteracy + Murder + HS.Grad + \n",
      "    Frost + Area\n",
      "\n",
      "             Df Sum of Sq    RSS     AIC\n",
      "- Area        1    0.0011 23.298 -24.182\n",
      "- Income      1    0.0044 23.302 -24.175\n",
      "- Illiteracy  1    0.0047 23.302 -24.174\n",
      "<none>                    23.297 -22.185\n",
      "- Population  1    1.7472 25.044 -20.569\n",
      "- Frost       1    1.8466 25.144 -20.371\n",
      "- HS.Grad     1    2.4413 25.738 -19.202\n",
      "- Murder      1   23.1411 46.438  10.305\n",
      "\n",
      "Step:  AIC=-24.18\n",
      "Life.Exp ~ Population + Income + Illiteracy + Murder + HS.Grad + \n",
      "    Frost\n",
      "\n",
      "             Df Sum of Sq    RSS     AIC\n",
      "- Illiteracy  1    0.0038 23.302 -26.174\n",
      "- Income      1    0.0059 23.304 -26.170\n",
      "<none>                    23.298 -24.182\n",
      "- Population  1    1.7599 25.058 -22.541\n",
      "- Frost       1    2.0488 25.347 -21.968\n",
      "- HS.Grad     1    2.9804 26.279 -20.163\n",
      "- Murder      1   26.2721 49.570  11.569\n",
      "\n",
      "Step:  AIC=-26.17\n",
      "Life.Exp ~ Population + Income + Murder + HS.Grad + Frost\n",
      "\n",
      "             Df Sum of Sq    RSS     AIC\n",
      "- Income      1     0.006 23.308 -28.161\n",
      "<none>                    23.302 -26.174\n",
      "- Population  1     1.887 25.189 -24.280\n",
      "- Frost       1     3.037 26.339 -22.048\n",
      "- HS.Grad     1     3.495 26.797 -21.187\n",
      "- Murder      1    34.739 58.041  17.456\n",
      "\n",
      "Step:  AIC=-28.16\n",
      "Life.Exp ~ Population + Murder + HS.Grad + Frost\n",
      "\n",
      "             Df Sum of Sq    RSS     AIC\n",
      "<none>                    23.308 -28.161\n",
      "- Population  1     2.064 25.372 -25.920\n",
      "- Frost       1     3.122 26.430 -23.877\n",
      "- HS.Grad     1     5.112 28.420 -20.246\n",
      "- Murder      1    34.816 58.124  15.528\n"
     ]
    },
    {
     "data": {
      "text/plain": [
       "\n",
       "Call:\n",
       "lm(formula = Life.Exp ~ Population + Murder + HS.Grad + Frost, \n",
       "    data = statedata)\n",
       "\n",
       "Coefficients:\n",
       "(Intercept)   Population       Murder      HS.Grad        Frost  \n",
       "  7.103e+01    5.014e-05   -3.001e-01    4.658e-02   -5.943e-03  \n"
      ]
     },
     "metadata": {},
     "output_type": "display_data"
    }
   ],
   "source": [
    "g = lm(Life.Exp ~ ., data = statedata)\n",
    "step(g)"
   ]
  },
  {
   "cell_type": "markdown",
   "metadata": {},
   "source": [
    "*  The sequence of variable discarted is the same as in backward elimination\n",
    "* The difference if that population variable was retained"
   ]
  },
  {
   "cell_type": "markdown",
   "metadata": {},
   "source": [
    "##### Mallow's $C_p$ statistic\n",
    "\n",
    "This criterion uses the average mean square error of prediction \n",
    "\n",
    "<p>&nbsp;</p>\n",
    "\\begin{split}\n",
    "\\frac{1}{\\sigma^2} = \\frac{RRS_p}{\\hat \\sigma^ 2} + 2p - n\n",
    "\\end{split}\n",
    "<p>&nbsp;</p>\n",
    "\n",
    "A model with a bad fit will have $C_p$ much bigger than $p$. The full model $C_p=p$ exactly"
   ]
  },
  {
   "cell_type": "code",
   "execution_count": 5,
   "metadata": {},
   "outputs": [
    {
     "data": {
      "text/plain": [
       "Subset selection object\n",
       "Call: regsubsets.formula(Life.Exp ~ ., data = statedata)\n",
       "7 Variables  (and intercept)\n",
       "           Forced in Forced out\n",
       "Population     FALSE      FALSE\n",
       "Income         FALSE      FALSE\n",
       "Illiteracy     FALSE      FALSE\n",
       "Murder         FALSE      FALSE\n",
       "HS.Grad        FALSE      FALSE\n",
       "Frost          FALSE      FALSE\n",
       "Area           FALSE      FALSE\n",
       "1 subsets of each size up to 7\n",
       "Selection Algorithm: exhaustive\n",
       "         Population Income Illiteracy Murder HS.Grad Frost Area\n",
       "1  ( 1 ) \" \"        \" \"    \" \"        \"*\"    \" \"     \" \"   \" \" \n",
       "2  ( 1 ) \" \"        \" \"    \" \"        \"*\"    \"*\"     \" \"   \" \" \n",
       "3  ( 1 ) \" \"        \" \"    \" \"        \"*\"    \"*\"     \"*\"   \" \" \n",
       "4  ( 1 ) \"*\"        \" \"    \" \"        \"*\"    \"*\"     \"*\"   \" \" \n",
       "5  ( 1 ) \"*\"        \"*\"    \" \"        \"*\"    \"*\"     \"*\"   \" \" \n",
       "6  ( 1 ) \"*\"        \"*\"    \"*\"        \"*\"    \"*\"     \"*\"   \" \" \n",
       "7  ( 1 ) \"*\"        \"*\"    \"*\"        \"*\"    \"*\"     \"*\"   \"*\" "
      ]
     },
     "metadata": {},
     "output_type": "display_data"
    }
   ],
   "source": [
    "library(leaps)\n",
    "b = regsubsets(Life.Exp ~ ., data = statedata)\n",
    "(rs = summary(b))"
   ]
  },
  {
   "cell_type": "code",
   "execution_count": 6,
   "metadata": {},
   "outputs": [
    {
     "data": {
      "image/png": "[encoded data removed]",
      "text/plain": [
       "plot without title"
      ]
     },
     "metadata": {
      "image/png": {
       "height": 420,
       "width": 420
      }
     },
     "output_type": "display_data"
    }
   ],
   "source": [
    "plot(2:8, rs$cp, xlab = \"Number of Parameters\", ylab = \"Cp Statistic\")\n",
    "abline(0,1)"
   ]
  },
  {
   "cell_type": "markdown",
   "metadata": {},
   "source": [
    "* The competition is between:\n",
    "HS graduation + Murder\n",
    "Hs graduation + Murder + Population\n",
    "\n",
    "Both models are on below the $C_p=p$ line indicating good fits\n",
    "\n"
   ]
  },
  {
   "cell_type": "markdown",
   "metadata": {},
   "source": [
    "##### R-adjusted\n",
    "\n",
    "Another commonly used criterion is the adjusted $R_a^2$. Recal that:\n",
    "\n",
    "<p>&nbsp;</p>\n",
    "\\begin{split}\n",
    "R^2 = 1 - \\frac{RSS}{TSS}\n",
    "\\end{split}\n",
    "<p>&nbsp;</p>\n",
    "\n",
    "Thus, adding a new variable to the model can only decrease RSS and consequently increases $R^2$. An alternative is to use $R_a^2$\n",
    "\n",
    "<p>&nbsp;</p>\n",
    "\\begin{split}\n",
    "R_a^2 = 1 - \\frac{RSS/(n-p)}{TSS/(n-1)}= 1 - \\left( \\frac{n-1}{n-p} \\right) (1 - R^2)= 1 - \\frac{\\sigma_{model}^2}{\\sigma_{null}^2}\n",
    "\\end{split}\n",
    "<p>&nbsp;</p>"
   ]
  },
  {
   "cell_type": "code",
   "execution_count": 13,
   "metadata": {},
   "outputs": [
    {
     "data": {
      "image/png": "[encoded data removed]",
      "text/plain": [
       "plot without title"
      ]
     },
     "metadata": {
      "image/png": {
       "height": 420,
       "width": 420
      }
     },
     "output_type": "display_data"
    }
   ],
   "source": [
    "plot(2:8, rs$adjr2, xlab = \"Number of Parameters\", ylab = \"Adjusted R-square\")"
   ]
  },
  {
   "cell_type": "code",
   "execution_count": 14,
   "metadata": {},
   "outputs": [
    {
     "data": {
      "text/html": [
       "<style>\n",
       ".dl-inline {width: auto; margin:0; padding: 0}\n",
       ".dl-inline>dt, .dl-inline>dd {float: none; width: auto; display: inline-block}\n",
       ".dl-inline>dt::after {content: \":\\0020\"; padding-right: .5ex}\n",
       ".dl-inline>dt:not(:first-of-type) {padding-left: .5ex}\n",
       "</style><dl class=dl-inline><dt>AK</dt><dd>0.81</dd><dt>CA</dt><dd>0.409</dd><dt>HI</dt><dd>0.379</dd><dt>NV</dt><dd>0.365</dd><dt>NM</dt><dd>0.325</dd><dt>TX</dt><dd>0.284</dd><dt>NY</dt><dd>0.257</dd><dt>WA</dt><dd>0.223</dd><dt>OR</dt><dd>0.222</dd><dt>ND</dt><dd>0.22</dd><dt>LA</dt><dd>0.195</dd><dt>CT</dt><dd>0.194</dd><dt>UT</dt><dd>0.191</dd><dt>RI</dt><dd>0.171</dd><dt>MD</dt><dd>0.164</dd><dt>AL</dt><dd>0.161</dd><dt>AZ</dt><dd>0.159</dd><dt>MS</dt><dd>0.156</dd><dt>FL</dt><dd>0.149</dd><dt>IL</dt><dd>0.137</dd><dt>PA</dt><dd>0.132</dd><dt>NJ</dt><dd>0.13</dd><dt>SD</dt><dd>0.125</dd><dt>ME</dt><dd>0.122</dd><dt>SC</dt><dd>0.118</dd><dt>MI</dt><dd>0.117</dd><dt>WY</dt><dd>0.116</dd><dt>VT</dt><dd>0.115</dd><dt>MA</dt><dd>0.113</dd><dt>GA</dt><dd>0.11</dd><dt>MO</dt><dd>0.11</dd><dt>KY</dt><dd>0.109</dd><dt>AR</dt><dd>0.104</dd><dt>CO</dt><dd>0.103</dd><dt>WV</dt><dd>0.1</dd><dt>NC</dt><dd>0.094</dd><dt>DE</dt><dd>0.093</dd><dt>NH</dt><dd>0.09</dd><dt>ID</dt><dd>0.088</dd><dt>OH</dt><dd>0.088</dd><dt>MT</dt><dd>0.086</dd><dt>MN</dt><dd>0.076</dd><dt>TN</dt><dd>0.07</dd><dt>WI</dt><dd>0.068</dd><dt>VA</dt><dd>0.064</dd><dt>OK</dt><dd>0.063</dd><dt>IA</dt><dd>0.062</dd><dt>NE</dt><dd>0.057</dd><dt>KS</dt><dd>0.055</dd><dt>IN</dt><dd>0.052</dd></dl>\n"
      ],
      "text/latex": [
       "\\begin{description*}\n",
       "\\item[AK] 0.81\n",
       "\\item[CA] 0.409\n",
       "\\item[HI] 0.379\n",
       "\\item[NV] 0.365\n",
       "\\item[NM] 0.325\n",
       "\\item[TX] 0.284\n",
       "\\item[NY] 0.257\n",
       "\\item[WA] 0.223\n",
       "\\item[OR] 0.222\n",
       "\\item[ND] 0.22\n",
       "\\item[LA] 0.195\n",
       "\\item[CT] 0.194\n",
       "\\item[UT] 0.191\n",
       "\\item[RI] 0.171\n",
       "\\item[MD] 0.164\n",
       "\\item[AL] 0.161\n",
       "\\item[AZ] 0.159\n",
       "\\item[MS] 0.156\n",
       "\\item[FL] 0.149\n",
       "\\item[IL] 0.137\n",
       "\\item[PA] 0.132\n",
       "\\item[NJ] 0.13\n",
       "\\item[SD] 0.125\n",
       "\\item[ME] 0.122\n",
       "\\item[SC] 0.118\n",
       "\\item[MI] 0.117\n",
       "\\item[WY] 0.116\n",
       "\\item[VT] 0.115\n",
       "\\item[MA] 0.113\n",
       "\\item[GA] 0.11\n",
       "\\item[MO] 0.11\n",
       "\\item[KY] 0.109\n",
       "\\item[AR] 0.104\n",
       "\\item[CO] 0.103\n",
       "\\item[WV] 0.1\n",
       "\\item[NC] 0.094\n",
       "\\item[DE] 0.093\n",
       "\\item[NH] 0.09\n",
       "\\item[ID] 0.088\n",
       "\\item[OH] 0.088\n",
       "\\item[MT] 0.086\n",
       "\\item[MN] 0.076\n",
       "\\item[TN] 0.07\n",
       "\\item[WI] 0.068\n",
       "\\item[VA] 0.064\n",
       "\\item[OK] 0.063\n",
       "\\item[IA] 0.062\n",
       "\\item[NE] 0.057\n",
       "\\item[KS] 0.055\n",
       "\\item[IN] 0.052\n",
       "\\end{description*}\n"
      ],
      "text/markdown": [
       "AK\n",
       ":   0.81CA\n",
       ":   0.409HI\n",
       ":   0.379NV\n",
       ":   0.365NM\n",
       ":   0.325TX\n",
       ":   0.284NY\n",
       ":   0.257WA\n",
       ":   0.223OR\n",
       ":   0.222ND\n",
       ":   0.22LA\n",
       ":   0.195CT\n",
       ":   0.194UT\n",
       ":   0.191RI\n",
       ":   0.171MD\n",
       ":   0.164AL\n",
       ":   0.161AZ\n",
       ":   0.159MS\n",
       ":   0.156FL\n",
       ":   0.149IL\n",
       ":   0.137PA\n",
       ":   0.132NJ\n",
       ":   0.13SD\n",
       ":   0.125ME\n",
       ":   0.122SC\n",
       ":   0.118MI\n",
       ":   0.117WY\n",
       ":   0.116VT\n",
       ":   0.115MA\n",
       ":   0.113GA\n",
       ":   0.11MO\n",
       ":   0.11KY\n",
       ":   0.109AR\n",
       ":   0.104CO\n",
       ":   0.103WV\n",
       ":   0.1NC\n",
       ":   0.094DE\n",
       ":   0.093NH\n",
       ":   0.09ID\n",
       ":   0.088OH\n",
       ":   0.088MT\n",
       ":   0.086MN\n",
       ":   0.076TN\n",
       ":   0.07WI\n",
       ":   0.068VA\n",
       ":   0.064OK\n",
       ":   0.063IA\n",
       ":   0.062NE\n",
       ":   0.057KS\n",
       ":   0.055IN\n",
       ":   0.052\n",
       "\n"
      ],
      "text/plain": [
       "   AK    CA    HI    NV    NM    TX    NY    WA    OR    ND    LA    CT    UT \n",
       "0.810 0.409 0.379 0.365 0.325 0.284 0.257 0.223 0.222 0.220 0.195 0.194 0.191 \n",
       "   RI    MD    AL    AZ    MS    FL    IL    PA    NJ    SD    ME    SC    MI \n",
       "0.171 0.164 0.161 0.159 0.156 0.149 0.137 0.132 0.130 0.125 0.122 0.118 0.117 \n",
       "   WY    VT    MA    GA    MO    KY    AR    CO    WV    NC    DE    NH    ID \n",
       "0.116 0.115 0.113 0.110 0.110 0.109 0.104 0.103 0.100 0.094 0.093 0.090 0.088 \n",
       "   OH    MT    MN    TN    WI    VA    OK    IA    NE    KS    IN \n",
       "0.088 0.086 0.076 0.070 0.068 0.064 0.063 0.062 0.057 0.055 0.052 "
      ]
     },
     "metadata": {},
     "output_type": "display_data"
    }
   ],
   "source": [
    "h = lm.influence(g)$hat\n",
    "names(h) = state.abb\n",
    "round(rev(sort(h)),3)"
   ]
  },
  {
   "cell_type": "code",
   "execution_count": 17,
   "metadata": {},
   "outputs": [
    {
     "data": {
      "text/html": [
       "<style>\n",
       ".dl-inline {width: auto; margin:0; padding: 0}\n",
       ".dl-inline>dt, .dl-inline>dd {float: none; width: auto; display: inline-block}\n",
       ".dl-inline>dt::after {content: \":\\0020\"; padding-right: .5ex}\n",
       ".dl-inline>dt:not(:first-of-type) {padding-left: .5ex}\n",
       "</style><dl class=dl-inline><dt>(Intercept)</dt><dd>TRUE</dd><dt>Population</dt><dd>TRUE</dd><dt>Income</dt><dd>FALSE</dd><dt>Illiteracy</dt><dd>FALSE</dd><dt>Murder</dt><dd>TRUE</dd><dt>HS.Grad</dt><dd>TRUE</dd><dt>Frost</dt><dd>TRUE</dd><dt>Area</dt><dd>TRUE</dd></dl>\n"
      ],
      "text/latex": [
       "\\begin{description*}\n",
       "\\item[(Intercept)] TRUE\n",
       "\\item[Population] TRUE\n",
       "\\item[Income] FALSE\n",
       "\\item[Illiteracy] FALSE\n",
       "\\item[Murder] TRUE\n",
       "\\item[HS.Grad] TRUE\n",
       "\\item[Frost] TRUE\n",
       "\\item[Area] TRUE\n",
       "\\end{description*}\n"
      ],
      "text/markdown": [
       "(Intercept)\n",
       ":   TRUEPopulation\n",
       ":   TRUEIncome\n",
       ":   FALSEIlliteracy\n",
       ":   FALSEMurder\n",
       ":   TRUEHS.Grad\n",
       ":   TRUEFrost\n",
       ":   TRUEArea\n",
       ":   TRUE\n",
       "\n"
      ],
      "text/plain": [
       "(Intercept)  Population      Income  Illiteracy      Murder     HS.Grad \n",
       "       TRUE        TRUE       FALSE       FALSE        TRUE        TRUE \n",
       "      Frost        Area \n",
       "       TRUE        TRUE "
      ]
     },
     "metadata": {},
     "output_type": "display_data"
    }
   ],
   "source": [
    "# Alaska had very strong leverage\n",
    "b = regsubsets(Life.Exp ~ ., data = statedata, subset = (state.abb !='AK'))\n",
    "rs = summary(b)\n",
    "rs$which[which.max(rs$adjr),]"
   ]
  },
  {
   "cell_type": "markdown",
   "metadata": {},
   "source": [
    "*  Area was not included in the model"
   ]
  },
  {
   "cell_type": "code",
   "execution_count": 18,
   "metadata": {},
   "outputs": [
    {
     "data": {
      "image/png": "[encoded data removed]",
      "text/plain": [
       "plot without title"
      ]
     },
     "metadata": {
      "image/png": {
       "height": 420,
       "width": 420
      }
     },
     "output_type": "display_data"
    }
   ],
   "source": [
    "# Population and area are skewed, maybe we should transform them\n",
    "stripchart(data.frame(scale(statedata)), vertical= TRUE, method='jitter')"
   ]
  },
  {
   "cell_type": "code",
   "execution_count": 19,
   "metadata": {},
   "outputs": [
    {
     "data": {
      "text/html": [
       "<style>\n",
       ".dl-inline {width: auto; margin:0; padding: 0}\n",
       ".dl-inline>dt, .dl-inline>dd {float: none; width: auto; display: inline-block}\n",
       ".dl-inline>dt::after {content: \":\\0020\"; padding-right: .5ex}\n",
       ".dl-inline>dt:not(:first-of-type) {padding-left: .5ex}\n",
       "</style><dl class=dl-inline><dt>(Intercept)</dt><dd>TRUE</dd><dt>Population</dt><dd>TRUE</dd><dt>Income</dt><dd>FALSE</dd><dt>Illiteracy</dt><dd>FALSE</dd><dt>Murder</dt><dd>TRUE</dd><dt>HS.Grad</dt><dd>TRUE</dd><dt>Frost</dt><dd>TRUE</dd><dt>Area</dt><dd>TRUE</dd></dl>\n"
      ],
      "text/latex": [
       "\\begin{description*}\n",
       "\\item[(Intercept)] TRUE\n",
       "\\item[Population] TRUE\n",
       "\\item[Income] FALSE\n",
       "\\item[Illiteracy] FALSE\n",
       "\\item[Murder] TRUE\n",
       "\\item[HS.Grad] TRUE\n",
       "\\item[Frost] TRUE\n",
       "\\item[Area] TRUE\n",
       "\\end{description*}\n"
      ],
      "text/markdown": [
       "(Intercept)\n",
       ":   TRUEPopulation\n",
       ":   TRUEIncome\n",
       ":   FALSEIlliteracy\n",
       ":   FALSEMurder\n",
       ":   TRUEHS.Grad\n",
       ":   TRUEFrost\n",
       ":   TRUEArea\n",
       ":   TRUE\n",
       "\n"
      ],
      "text/plain": [
       "(Intercept)  Population      Income  Illiteracy      Murder     HS.Grad \n",
       "       TRUE        TRUE       FALSE       FALSE        TRUE        TRUE \n",
       "      Frost        Area \n",
       "       TRUE        TRUE "
      ]
     },
     "metadata": {},
     "output_type": "display_data"
    }
   ],
   "source": [
    "rs = summary(b)\n",
    "rs$which[which.max(rs$adjr), ]"
   ]
  },
  {
   "cell_type": "markdown",
   "metadata": {},
   "source": [
    "#### Summary\n",
    "\n",
    "Criterion-based methods typically involve a wider search and compare models in a preferable manner\n",
    "\n",
    "* How to choose between several similar models\n",
    "1. Qualitative consequences\n",
    "2. Predition\n",
    "3. Cost of predictors\n",
    "4. Diagnostics"
   ]
  },
  {
   "cell_type": "code",
   "execution_count": null,
   "metadata": {},
   "outputs": [],
   "source": []
  }
 ],
 "metadata": {
  "kernelspec": {
   "display_name": "R 4.0",
   "language": "R",
   "name": "ir40"
  },
  "language_info": {
   "codemirror_mode": "r",
   "file_extension": ".r",
   "mimetype": "text/x-r-source",
   "name": "R",
   "pygments_lexer": "r",
   "version": "4.0.3"
  }
 },
 "nbformat": 4,
 "nbformat_minor": 4
}
