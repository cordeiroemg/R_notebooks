{
 "cells": [
  {
   "cell_type": "code",
   "execution_count": 1,
   "metadata": {},
   "outputs": [],
   "source": [
    "# mk for yellow data\n",
    "y.mk.x1 <- rnorm(n = 10, mean= 0, sd = 1)\n",
    "y.mk.x2 <- rnorm(n = 10, mean= 1, sd = 1)\n",
    "\n",
    "# mk for blue data\n",
    "b.mk.x1 <- rnorm(n = 10, mean= 1, sd = 1)\n",
    "b.mk.x2 <- rnorm(n = 10, mean= 0, sd = 1)"
   ]
  },
  {
   "cell_type": "code",
   "execution_count": null,
   "metadata": {},
   "outputs": [],
   "source": [
    "N = 100\n",
    "set.seed(1987)\n",
    "\n",
    "\n",
    "# Sampling for yellow data\n",
    "yellow.x1 <- rnorm(n = N, mean= sample(y.mk.x1, replace = TRUE), sd = 1)\n",
    "yellow.x2 <- rnorm(n = N, mean= sample(y.mk.x2, replace = TRUE), sd = 1)\n",
    "y.label <- rep(\"yellow\", N)\n",
    "\n",
    "# Sampling for blue data\n",
    "blue.x1 <- rnorm(n = N, mean= sample(b.mk.x1, replace = TRUE), sd = 1)\n",
    "blue.x2 <- rnorm(n = N, mean= sample(b.mk.x2, replace = TRUE), sd = 1)\n",
    "b.label <- rep(\"blue\", N)\n",
    "\n",
    "\n",
    "# Converting it to data dataframe\n",
    "x <- append(yellow.x1, blue.x1)\n",
    "y <-  append(yellow.x2, blue.x2)\n",
    "labels <- append(y.label, b.label)\n",
    "dataset <- cbind.data.frame(x, y, labels)\n",
    "\n",
    "head(dataset)"
   ]
  },
  {
   "cell_type": "code",
   "execution_count": 5,
   "metadata": {},
   "outputs": [
    {
     "data": {
      "text/html": [
       "<table>\n",
       "<caption>A matrix: 6 × 2 of type dbl</caption>\n",
       "<thead>\n",
       "\t<tr><th scope=col>intercept</th><th scope=col>x</th></tr>\n",
       "</thead>\n",
       "<tbody>\n",
       "\t<tr><td>1</td><td>16.90565</td></tr>\n",
       "\t<tr><td>1</td><td>17.49848</td></tr>\n",
       "\t<tr><td>1</td><td>19.38486</td></tr>\n",
       "\t<tr><td>1</td><td>12.22308</td></tr>\n",
       "\t<tr><td>1</td><td>19.59132</td></tr>\n",
       "\t<tr><td>1</td><td>16.12635</td></tr>\n",
       "</tbody>\n",
       "</table>\n"
      ],
      "text/latex": [
       "A matrix: 6 × 2 of type dbl\n",
       "\\begin{tabular}{ll}\n",
       " intercept & x\\\\\n",
       "\\hline\n",
       "\t 1 & 16.90565\\\\\n",
       "\t 1 & 17.49848\\\\\n",
       "\t 1 & 19.38486\\\\\n",
       "\t 1 & 12.22308\\\\\n",
       "\t 1 & 19.59132\\\\\n",
       "\t 1 & 16.12635\\\\\n",
       "\\end{tabular}\n"
      ],
      "text/markdown": [
       "\n",
       "A matrix: 6 × 2 of type dbl\n",
       "\n",
       "| intercept | x |\n",
       "|---|---|\n",
       "| 1 | 16.90565 |\n",
       "| 1 | 17.49848 |\n",
       "| 1 | 19.38486 |\n",
       "| 1 | 12.22308 |\n",
       "| 1 | 19.59132 |\n",
       "| 1 | 16.12635 |\n",
       "\n"
      ],
      "text/plain": [
       "     intercept x       \n",
       "[1,] 1         16.90565\n",
       "[2,] 1         17.49848\n",
       "[3,] 1         19.38486\n",
       "[4,] 1         12.22308\n",
       "[5,] 1         19.59132\n",
       "[6,] 1         16.12635"
      ]
     },
     "metadata": {},
     "output_type": "display_data"
    }
   ],
   "source": [
    "set.seed(16)\n",
    "x = rnorm(n = 500, mean = c(15,18), sd = 4)\n",
    "y = rnorm(n = 500, mean = c(55,65), sd = 2)\n",
    "\n",
    "\n",
    "X <- cbind(1,x)\n",
    "colnames(X)[1] <- \"intercept\"\n",
    "head(X)\n",
    "\n",
    "#dataset <- as.data.frame(cbind(1,x, y))\n",
    "\n",
    "#ggplot(data = dataset) +\n",
    "#    geom_point(mapping = aes(x = x, y = y)) +\n",
    "#    setting"
   ]
  },
  {
   "cell_type": "markdown",
   "metadata": {},
   "source": [
    "\\textcolor{red}{red}"
   ]
  },
  {
   "cell_type": "code",
   "execution_count": null,
   "metadata": {},
   "outputs": [],
   "source": [
    "ggplot(data = dataset) +\n",
    "        geom_histogram(mapping = aes(y, fill = y < 60), binwidth= 0.6, show.legend = FALSE) +\n",
    "        setting + \n",
    "        scale_fill_jco()"
   ]
  },
  {
   "cell_type": "code",
   "execution_count": null,
   "metadata": {},
   "outputs": [],
   "source": [
    "k <- 5\n",
    "\n",
    "x = rnorm(n = 50, mean = c(15,18), sd = 4)\n",
    "y = rnorm(n = 50, mean = c(55,65), sd = 2)\n",
    "y.hat = NULL\n",
    "\n",
    "dataset <- data.frame(cbind(x, y, y.hat))\n",
    "n <- nrow(dataset)\n",
    "x.nnei <- data.frame()\n",
    "y.mean <- data.frame()\n",
    "\n",
    "for (i in 1:n){\n",
    "    for (j in 1:n){\n",
    "       #x.nei <- sqrt((dataset[i,1] - dataset[j,1])^2 + (dataset[i,2] - dataset[j,2])^2)\n",
    "       x.nei <- (dataset[i,1] - dataset[j,1])^2 \n",
    "       x.nnei[j,1] <- x.nei\n",
    "       x.nnei[j,2] <- dataset[j,2]\n",
    "    }    \n",
    "  temp = x.nnei[order(x.nnei$V1),]\n",
    "  temp2 = sum(temp[1:k,2])\n",
    "  dataset[i,3] <- temp2/k \n",
    "}\n",
    "colnames(dataset)[3] <- \"y.hat\""
   ]
  },
  {
   "cell_type": "code",
   "execution_count": null,
   "metadata": {},
   "outputs": [],
   "source": [
    "ggplot(data = dataset) +\n",
    "        geom_point(mapping = aes(x = x, y = y, color =  y < 60), show.legend = FALSE) +\n",
    "        geom_line(mapping = aes(x = x, y = y.hat))+\n",
    "        setting +\n",
    "        scale_color_jco()"
   ]
  },
  {
   "cell_type": "code",
   "execution_count": null,
   "metadata": {},
   "outputs": [],
   "source": [
    "require(class)\n",
    "\n",
    "train <- data.frame(dataset[1:250, ])\n",
    "test <- data.frame(dataset[251:500, ])\n",
    "\n",
    "\n",
    "train$cl <- ifelse(train$y > 60, \"1\",\"2\")\n",
    "cl <- train[,4]\n",
    "\n",
    "mod <- knn(train, test, cl, k = 15, prob=FALSE)\n",
    "\n",
    "\n",
    "load(url(\"http://statweb.stanford.edu/~tibs/ElemStatLearn/datasets/ESL.mixture.rda\"))\n",
    "dat <- ESL.mixture\n",
    "\n",
    "\n",
    "\n",
    "require(class)\n",
    "x <- dat$x\n",
    "g <- dat$y\n",
    "xnew <- dat$xnew\n",
    "mod15 <- knn(x, xnew, g, k=15, prob=TRUE)\n",
    "prob <- attr(mod15, \"prob\")\n",
    "prob <- ifelse(mod15==\"1\", prob, 1-prob)\n",
    "px1 <- dat$px1\n",
    "px2 <- dat$px2\n",
    "prob15 <- matrix(prob, length(px1), length(px2))\n",
    "par(mar=rep(2,4))\n",
    "contour(px1, px2, prob15, levels=0.5, labels=\"\", xlab=\"\", ylab=\"\", main=\n",
    "        \"15-nearest neighbour\", axes=FALSE)\n",
    "points(x, col=ifelse(g==1, \"coral\", \"cornflowerblue\"))\n",
    "gd <- expand.grid(x=px1, y=px2)\n",
    "points(gd, pch=\".\", cex=1.2, col=ifelse(prob15 > 0.5, \"coral\", \"cornflowerblue\"))\n",
    "box()\n"
   ]
  },
  {
   "cell_type": "code",
   "execution_count": null,
   "metadata": {},
   "outputs": [],
   "source": [
    "library(ElemStatLearn)\n",
    "require(class)\n",
    "x <- mixture.example$x\n",
    "g <- mixture.example$y\n",
    "xnew <- mixture.example$xnew\n",
    "mod15 <- knn(x, xnew, g, k=15, prob=TRUE)\n",
    "prob <- attr(mod15, \"prob\")\n",
    "prob <- ifelse(mod15==\"1\", prob, 1-prob)\n",
    "px1 <- mixture.example$px1\n",
    "px2 <- mixture.example$px2\n",
    "prob15 <- matrix(prob, length(px1), length(px2))\n",
    "par(mar=rep(2,4))\n",
    "contour(px1, px2, prob15, levels=0.5, labels=\"\", xlab=\"\", ylab=\"\", main=\n",
    "        \"15-nearest neighbour\", axes=FALSE)\n",
    "points(x, col=ifelse(g==1, \"coral\", \"cornflowerblue\"))\n",
    "gd <- expand.grid(x=px1, y=px2)\n",
    "points(gd, pch=\".\", cex=1.2, col=ifelse(prob15>0.5, \"coral\", \"cornflowerblue\"))\n",
    "box()\n",
    "\n"
   ]
  },
  {
   "cell_type": "code",
   "execution_count": null,
   "metadata": {},
   "outputs": [],
   "source": [
    "load(url(\"http://statweb.stanford.edu/~tibs/ElemStatLearn/datasets/ESL.mixture.rda\"))\n",
    "dat <- ESL.mixture\n",
    "\n",
    "#library(ElemStatLearn)\n",
    "require(class)\n",
    "\n",
    "x <- dat$x\n",
    "g <- dat$y\n",
    "xnew <- dat$xnew\n",
    "\n",
    "mod15 <- knn(x, xnew, g, k=15, prob=TRUE)\n",
    "prob <- attr(mod15, \"prob\")\n",
    "prob <- ifelse(mod15==\"1\", prob, 1-prob)\n",
    "px1 <- dat$px1\n",
    "px2 <- dat$px2\n",
    "prob15 <- matrix(prob, length(px1), length(px2))\n",
    "par(mar=rep(2,4))\n",
    "contour(px1, px2, prob15, levels=0.5, labels=\"\", xlab=\"\", ylab=\"\", main=\n",
    "        \"15-nearest neighbour\", axes=FALSE)\n",
    "points(x, col=ifelse(g==1, \"coral\", \"cornflowerblue\"))\n",
    "gd <- expand.grid(x=px1, y=px2)\n",
    "points(gd, pch=\".\", cex=1.2, col=ifelse(prob15>0.5, \"coral\", \"cornflowerblue\"))\n",
    "box()\n",
    "\n"
   ]
  },
  {
   "cell_type": "code",
   "execution_count": null,
   "metadata": {},
   "outputs": [],
   "source": []
  }
 ],
 "metadata": {
  "kernelspec": {
   "display_name": "R 4.0",
   "language": "R",
   "name": "ir40"
  },
  "language_info": {
   "codemirror_mode": "r",
   "file_extension": ".r",
   "mimetype": "text/x-r-source",
   "name": "R",
   "pygments_lexer": "r",
   "version": "4.0.2"
  }
 },
 "nbformat": 4,
 "nbformat_minor": 4
}
