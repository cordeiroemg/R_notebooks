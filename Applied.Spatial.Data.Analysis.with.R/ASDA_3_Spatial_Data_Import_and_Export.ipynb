{
 "cells": [
  {
   "cell_type": "markdown",
   "metadata": {},
   "source": [
    "# Spatial Data Import and Export \n",
    "\n",
    "## Introduction\n",
    "\n",
    "How to move objects between **sp** and external formats, including formats typically used by GIS.  \n",
    "\n",
    "Important Open Source projects:\n",
    "\n",
    "   * Open Source Geospatial Foundation\n",
    "   * Geospatial Data Abstraction Library (GDAL)\n",
    "   * PROJ.4 Cartographic Projections library\n",
    "   \n",
    "## Coordinate Reference Systems\n",
    "\n",
    "   Idealized concepts of an ideal ellipsoid, coordinate system origin, and Earth orientation.\n",
    "    Coordinate reference systems (CRS) are at the heart of geodetics and cartography. CRS can be expressed in degrees and associated with an ellipse (model of the shape of the earth), a prime meridian defining the origin in longitude, and a datum. \n",
    "    The concept of datum is arbitrary and anchors a specific geographical CRS to an origin point in three dimensions.\n",
    "    In contrast, projected CRS are expressed by a specific geometric model projecting to the plane and measures of length. Most countries have multiple CRS, often for very good reasons. Local datum and a local triangulation network is frequently used. \n",
    "    \n",
    "\n",
    "   In summary:\n",
    "     * The Earth is 'squashed' on the poles being represented by an ellipsoid model of representation (oblate spheroid)\n",
    "     * The Earth is also 'lumpy' that must be account by an geoid model  \n",
    "     A good representation takes into account spheroid form and its lumpyness.\n",
    "     \n",
    "### What is a Geodetic Datum?\n",
    "  A set of constants specifying the coodinate systems used for geodetic control, i.e., calculating coordinated and elevation of points on the Earth (e.g., North American Datum of 1983, NAD83). There are hundreds of Data, and some country have more than one Datum. \n",
    "  \n",
    "  #### Reference Frame\n",
    "   realization of the Reference System through observation (GNSS, VLBI, SLR, DORES, Leveling). In practice the Reference Frame can be considered the same as a datum.\n",
    "    \n",
    "  #### Ellipsoid model: different parts of the world gives us different estimations of the ellipsoid measuments of (a-b/a)\n",
    "  Eg: BESSEL 1841, CLARKE 1866, GEODETIC REFERENCE SYSTEM 1980 (GRS80), WORLD GEODETIC SYSTEM 1984 (WGS84) defined by the US Defense Mapping Agency (DMA) for GPS.\n",
    "  \n",
    "  #### Geoid model\n",
    "  \n",
    "  A model of global mean sea level that is used to measure precise surface elevations\n",
    "  \n",
    "### Using the EPSG List\n",
    "\n",
    "We can use rgdal package to access EPSG list.It allow transformation as well as projections. Datum transformation is based on transformation to the World Geodetic System of 1984 (WGS84), or inverse tranformation from it to an alternative specified datum. WGS84 was introduced after measurements of earch from space had become very accurate and forms a framework into which local and national system may be fitted."
   ]
  },
  {
   "cell_type": "code",
   "execution_count": 20,
   "metadata": {},
   "outputs": [],
   "source": [
    "library(rgdal)\n",
    "library(maptools)\n",
    "setwd(\"/home/erick/spatial-data-with-r\")"
   ]
  },
  {
   "cell_type": "code",
   "execution_count": 3,
   "metadata": {},
   "outputs": [
    {
     "data": {
      "text/html": [
       "<table>\n",
       "<caption>A data.frame: 1 × 3</caption>\n",
       "<thead>\n",
       "\t<tr><th></th><th scope=col>code</th><th scope=col>note</th><th scope=col>prj4</th></tr>\n",
       "\t<tr><th></th><th scope=col>&lt;I&lt;int&gt;&gt;</th><th scope=col>&lt;I&lt;chr&gt;&gt;</th><th scope=col>&lt;I&lt;chr&gt;&gt;</th></tr>\n",
       "</thead>\n",
       "<tbody>\n",
       "\t<tr><th scope=row>159</th><td>4230</td><td># ED50</td><td>+proj=longlat +ellps=intl +towgs84=-87,-98,-121,0,0,0,0 +no_defs</td></tr>\n",
       "</tbody>\n",
       "</table>\n"
      ],
      "text/latex": [
       "A data.frame: 1 × 3\n",
       "\\begin{tabular}{r|lll}\n",
       "  & code & note & prj4\\\\\n",
       "  & <I<int>> & <I<chr>> & <I<chr>>\\\\\n",
       "\\hline\n",
       "\t159 & 4230 & \\# ED50 & +proj=longlat +ellps=intl +towgs84=-87,-98,-121,0,0,0,0 +no\\_defs\\\\\n",
       "\\end{tabular}\n"
      ],
      "text/markdown": [
       "\n",
       "A data.frame: 1 × 3\n",
       "\n",
       "| <!--/--> | code &lt;I&lt;int&gt;&gt; | note &lt;I&lt;chr&gt;&gt; | prj4 &lt;I&lt;chr&gt;&gt; |\n",
       "|---|---|---|---|\n",
       "| 159 | 4230 | # ED50 | +proj=longlat +ellps=intl +towgs84=-87,-98,-121,0,0,0,0 +no_defs |\n",
       "\n"
      ],
      "text/plain": [
       "    code note  \n",
       "159 4230 # ED50\n",
       "    prj4                                                            \n",
       "159 +proj=longlat +ellps=intl +towgs84=-87,-98,-121,0,0,0,0 +no_defs"
      ]
     },
     "metadata": {},
     "output_type": "display_data"
    },
    {
     "data": {
      "text/html": [
       "<table>\n",
       "<caption>A data.frame: 2 × 3</caption>\n",
       "<thead>\n",
       "\t<tr><th></th><th scope=col>code</th><th scope=col>note</th><th scope=col>prj4</th></tr>\n",
       "\t<tr><th></th><th scope=col>&lt;I&lt;int&gt;&gt;</th><th scope=col>&lt;I&lt;chr&gt;&gt;</th><th scope=col>&lt;I&lt;chr&gt;&gt;</th></tr>\n",
       "</thead>\n",
       "<tbody>\n",
       "\t<tr><th scope=row>321</th><td>4674</td><td># SIRGAS 2000</td><td>+proj=longlat +ellps=GRS80 +towgs84=0,0,0,0,0,0,0 +no_defs</td></tr>\n",
       "\t<tr><th scope=row>5316</th><td>4988</td><td># SIRGAS 2000</td><td>+proj=geocent +ellps=GRS80 +units=m +no_defs              </td></tr>\n",
       "</tbody>\n",
       "</table>\n"
      ],
      "text/latex": [
       "A data.frame: 2 × 3\n",
       "\\begin{tabular}{r|lll}\n",
       "  & code & note & prj4\\\\\n",
       "  & <I<int>> & <I<chr>> & <I<chr>>\\\\\n",
       "\\hline\n",
       "\t321 & 4674 & \\# SIRGAS 2000 & +proj=longlat +ellps=GRS80 +towgs84=0,0,0,0,0,0,0 +no\\_defs\\\\\n",
       "\t5316 & 4988 & \\# SIRGAS 2000 & +proj=geocent +ellps=GRS80 +units=m +no\\_defs              \\\\\n",
       "\\end{tabular}\n"
      ],
      "text/markdown": [
       "\n",
       "A data.frame: 2 × 3\n",
       "\n",
       "| <!--/--> | code &lt;I&lt;int&gt;&gt; | note &lt;I&lt;chr&gt;&gt; | prj4 &lt;I&lt;chr&gt;&gt; |\n",
       "|---|---|---|---|\n",
       "| 321 | 4674 | # SIRGAS 2000 | +proj=longlat +ellps=GRS80 +towgs84=0,0,0,0,0,0,0 +no_defs |\n",
       "| 5316 | 4988 | # SIRGAS 2000 | +proj=geocent +ellps=GRS80 +units=m +no_defs               |\n",
       "\n"
      ],
      "text/plain": [
       "     code note         \n",
       "321  4674 # SIRGAS 2000\n",
       "5316 4988 # SIRGAS 2000\n",
       "     prj4                                                      \n",
       "321  +proj=longlat +ellps=GRS80 +towgs84=0,0,0,0,0,0,0 +no_defs\n",
       "5316 +proj=geocent +ellps=GRS80 +units=m +no_defs              "
      ]
     },
     "metadata": {},
     "output_type": "display_data"
    }
   ],
   "source": [
    "# ED50 is the European Datum 1950\n",
    "EPSG <- make_EPSG()\n",
    "EPSG[grep(\"^# ED50$\", EPSG$note), ]\n",
    "\n",
    "# SIRGAS is the official Datum of Brazil\n",
    "EPSG <- make_EPSG()\n",
    "EPSG[grep(\"^# SIRGAS 2000$\", EPSG$note), ]"
   ]
  },
  {
   "cell_type": "code",
   "execution_count": 4,
   "metadata": {},
   "outputs": [
    {
     "data": {
      "text/html": [
       "<table>\n",
       "<caption>A data.frame: 3 × 2</caption>\n",
       "<thead>\n",
       "\t<tr><th></th><th scope=col>code</th><th scope=col>note</th></tr>\n",
       "\t<tr><th></th><th scope=col>&lt;I&lt;int&gt;&gt;</th><th scope=col>&lt;I&lt;chr&gt;&gt;</th></tr>\n",
       "</thead>\n",
       "<tbody>\n",
       "\t<tr><th scope=row>662</th><td>2163</td><td># US National Atlas Equal Area      </td></tr>\n",
       "\t<tr><th scope=row>2364</th><td>3978</td><td># NAD83 / Canada Atlas Lambert      </td></tr>\n",
       "\t<tr><th scope=row>2365</th><td>3979</td><td># NAD83(CSRS) / Canada Atlas Lambert</td></tr>\n",
       "</tbody>\n",
       "</table>\n"
      ],
      "text/latex": [
       "A data.frame: 3 × 2\n",
       "\\begin{tabular}{r|ll}\n",
       "  & code & note\\\\\n",
       "  & <I<int>> & <I<chr>>\\\\\n",
       "\\hline\n",
       "\t662 & 2163 & \\# US National Atlas Equal Area      \\\\\n",
       "\t2364 & 3978 & \\# NAD83 / Canada Atlas Lambert      \\\\\n",
       "\t2365 & 3979 & \\# NAD83(CSRS) / Canada Atlas Lambert\\\\\n",
       "\\end{tabular}\n"
      ],
      "text/markdown": [
       "\n",
       "A data.frame: 3 × 2\n",
       "\n",
       "| <!--/--> | code &lt;I&lt;int&gt;&gt; | note &lt;I&lt;chr&gt;&gt; |\n",
       "|---|---|---|\n",
       "| 662 | 2163 | # US National Atlas Equal Area       |\n",
       "| 2364 | 3978 | # NAD83 / Canada Atlas Lambert       |\n",
       "| 2365 | 3979 | # NAD83(CSRS) / Canada Atlas Lambert |\n",
       "\n"
      ],
      "text/plain": [
       "     code note                                \n",
       "662  2163 # US National Atlas Equal Area      \n",
       "2364 3978 # NAD83 / Canada Atlas Lambert      \n",
       "2365 3979 # NAD83(CSRS) / Canada Atlas Lambert"
      ]
     },
     "metadata": {},
     "output_type": "display_data"
    }
   ],
   "source": [
    "EPSG[grep(\"Atlas\", EPSG$note), 1:2]"
   ]
  },
  {
   "cell_type": "code",
   "execution_count": 5,
   "metadata": {},
   "outputs": [
    {
     "data": {
      "text/plain": [
       "CRS arguments:\n",
       " +init=epsg:2163 +proj=laea +lat_0=45 +lon_0=-100 +x_0=0 +y_0=0\n",
       "+a=6370997 +b=6370997 +units=m +no_defs "
      ]
     },
     "metadata": {},
     "output_type": "display_data"
    }
   ],
   "source": [
    "CRS(\"+init=epsg:2163\")"
   ]
  },
  {
   "cell_type": "markdown",
   "metadata": {},
   "source": [
    "### PROJ.4 CRS Specification\n",
    "\n",
    "CRS can assume two values: NA or a string conteining CRS information. It uses a 'tag=value' representation of coodinate reference systems. with tag and value paired in a single string.The different tags always begin with **+**, and are separated from the values by **=**.\n",
    "    In the following example, **+proj** projection takes **longlat** for geographical coodinates and **+ellps** for the ellipsoid, with value intl for the Internation Elllipsoid of 1909. The last tag **towgs84** indicating the WGS84 transformation."
   ]
  },
  {
   "cell_type": "code",
   "execution_count": 6,
   "metadata": {},
   "outputs": [
    {
     "data": {
      "text/plain": [
       "CRS arguments:\n",
       " +init=epsg:4230 +proj=longlat +ellps=intl +towgs84=-87,-98,-121,0,0,0,0\n",
       "+no_defs "
      ]
     },
     "metadata": {},
     "output_type": "display_data"
    }
   ],
   "source": [
    "CRS(\"+init=epsg:4230\")"
   ]
  },
  {
   "cell_type": "markdown",
   "metadata": {},
   "source": [
    "## Degrees, Minutes, and Seconds\n",
    "\n",
    "Values are often recorded not as decimal degrees, but as degrees, minutes and decimal seconds, or some truncation of this. For pratical pursposes, geographical coordinates should be converted to decimal degree form."
   ]
  },
  {
   "cell_type": "code",
   "execution_count": 7,
   "metadata": {},
   "outputs": [],
   "source": [
    "# Netherlands point\n",
    "IJ.dms.E <- \"4d31'00\\\"E\"\n",
    "IJ.dms.N <- \"52d28'00\\\"N\""
   ]
  },
  {
   "cell_type": "code",
   "execution_count": 8,
   "metadata": {},
   "outputs": [
    {
     "data": {
      "text/plain": [
       "[1] 4d31'E"
      ]
     },
     "metadata": {},
     "output_type": "display_data"
    },
    {
     "data": {
      "text/plain": [
       "[1] 52d28'N"
      ]
     },
     "metadata": {},
     "output_type": "display_data"
    },
    {
     "data": {
      "text/html": [
       "<style>\n",
       ".dl-inline {width: auto; margin:0; padding: 0}\n",
       ".dl-inline>dt, .dl-inline>dd {float: none; width: auto; display: inline-block}\n",
       ".dl-inline>dt::after {content: \":\\0020\"; padding-right: .5ex}\n",
       ".dl-inline>dt:not(:first-of-type) {padding-left: .5ex}\n",
       "</style><dl class=dl-inline><dt>WS</dt><dd>'logical'</dd><dt>deg</dt><dd>'numeric'</dd><dt>min</dt><dd>'numeric'</dd><dt>sec</dt><dd>'numeric'</dd><dt>NS</dt><dd>'logical'</dd></dl>\n"
      ],
      "text/latex": [
       "\\begin{description*}\n",
       "\\item[WS] 'logical'\n",
       "\\item[deg] 'numeric'\n",
       "\\item[min] 'numeric'\n",
       "\\item[sec] 'numeric'\n",
       "\\item[NS] 'logical'\n",
       "\\end{description*}\n"
      ],
      "text/markdown": [
       "WS\n",
       ":   'logical'deg\n",
       ":   'numeric'min\n",
       ":   'numeric'sec\n",
       ":   'numeric'NS\n",
       ":   'logical'\n",
       "\n"
      ],
      "text/plain": [
       "       WS       deg       min       sec        NS \n",
       "\"logical\" \"numeric\" \"numeric\" \"numeric\" \"logical\" "
      ]
     },
     "metadata": {},
     "output_type": "display_data"
    }
   ],
   "source": [
    "# to convert to DMS class\n",
    "IJ_east <- char2dms(IJ.dms.E)\n",
    "IJ_east\n",
    "IJ_north <- char2dms(IJ.dms.N)\n",
    "IJ_north\n",
    "\n",
    "getSlots(\"DMS\")"
   ]
  },
  {
   "cell_type": "code",
   "execution_count": 9,
   "metadata": {},
   "outputs": [
    {
     "data": {
      "text/html": [
       "<style>\n",
       ".list-inline {list-style: none; margin:0; padding: 0}\n",
       ".list-inline>li {display: inline-block}\n",
       ".list-inline>li:not(:last-child)::after {content: \"\\00b7\"; padding: 0 .5ex}\n",
       "</style>\n",
       "<ol class=list-inline><li>4.51666666666667</li><li>52.4666666666667</li></ol>\n"
      ],
      "text/latex": [
       "\\begin{enumerate*}\n",
       "\\item 4.51666666666667\n",
       "\\item 52.4666666666667\n",
       "\\end{enumerate*}\n"
      ],
      "text/markdown": [
       "1. 4.51666666666667\n",
       "2. 52.4666666666667\n",
       "\n",
       "\n"
      ],
      "text/plain": [
       "[1]  4.516667 52.466667"
      ]
     },
     "metadata": {},
     "output_type": "display_data"
    }
   ],
   "source": [
    "# by coercing DMS to 'numeric', we get the decimal equivalent\n",
    "c(as(IJ_east, \"numeric\"), as(IJ_north, \"numeric\"))"
   ]
  },
  {
   "cell_type": "markdown",
   "metadata": {},
   "source": [
    "## Vector File Format\n",
    "\n",
    "GIS vector data can be either topological or simple. Vector classes in **sp** are simple, meaning that for each polygon all coordinates are stored withou checking that boundaries have correspoing point.\n",
    "    A format that is commonly used for exchanging vector data is the shapefile. This file format has been specified by ESRI. This format uses at least three files to represent the data, a file of geometries with .shp extension, an index file to the geometries .shx, and a legacy .dbf file for storing attribute data. If there is an .prj file, it will contain an ESRI text CRS specification. \n",
    "    \n",
    "## Raster Files Format\n",
    "\n",
    "There are many raster and image formas such as the ones that allow on band of data, others assume Red-Green-Blue (RGB).\n",
    "\n",
    "## Using GDAL Drivers in rgdal"
   ]
  },
  {
   "cell_type": "code",
   "execution_count": 10,
   "metadata": {},
   "outputs": [
    {
     "name": "stdout",
     "output_type": "stream",
     "text": [
      "70042108.tif has GDAL driver GTiff \n",
      "and has 1200 rows and 1320 columns\n"
     ]
    },
    {
     "data": {
      "text/plain": [
       "Object of class SpatialGridDataFrame\n",
       "Coordinates:\n",
       "    min   max\n",
       "x 174.2 175.3\n",
       "y -37.5 -36.5\n",
       "Is projected: FALSE \n",
       "proj4string :\n",
       "[+proj=longlat +datum=WGS84 +no_defs +ellps=WGS84 +towgs84=0,0,0]\n",
       "Grid attributes:\n",
       "  cellcentre.offset     cellsize cells.dim\n",
       "x         174.20042 0.0008333333      1320\n",
       "y         -37.49958 0.0008333333      1200\n",
       "Data attributes:\n",
       "     band1           \n",
       " Min.   :-3.403e+38  \n",
       " 1st Qu.: 0.000e+00  \n",
       " Median : 1.000e+00  \n",
       " Mean   :-1.869e+34  \n",
       " 3rd Qu.: 5.300e+01  \n",
       " Max.   : 6.860e+02  "
      ]
     },
     "metadata": {},
     "output_type": "display_data"
    }
   ],
   "source": [
    "auck_el1 <- readGDAL(\"70042108.tif\")\n",
    "summary(auck_el1)\n",
    "is.na(auck_el1$band1) <- auck_el1$band1 <= 0 | auck_el1$band1 > 10000"
   ]
  },
  {
   "cell_type": "markdown",
   "metadata": {},
   "source": [
    "##  Creatin GDAL file\n",
    "\n",
    "* Let's create a simple output inverse distance weighted interpolated values of Mause Bank logarithms of zinc ppm as a GeoTiff file"
   ]
  },
  {
   "cell_type": "code",
   "execution_count": 14,
   "metadata": {},
   "outputs": [
    {
     "data": {
      "text/html": [
       "'data.frame'"
      ],
      "text/latex": [
       "'data.frame'"
      ],
      "text/markdown": [
       "'data.frame'"
      ],
      "text/plain": [
       "[1] \"data.frame\""
      ]
     },
     "metadata": {},
     "output_type": "display_data"
    },
    {
     "data": {
      "text/html": [
       "'data.frame'"
      ],
      "text/latex": [
       "'data.frame'"
      ],
      "text/markdown": [
       "'data.frame'"
      ],
      "text/plain": [
       "[1] \"data.frame\""
      ]
     },
     "metadata": {},
     "output_type": "display_data"
    },
    {
     "name": "stdout",
     "output_type": "stream",
     "text": [
      "[inverse distance weighted interpolation]\n"
     ]
    }
   ],
   "source": [
    "data(meuse) \n",
    "class(meuse)\n",
    "library(gstat)\n",
    "\n",
    "# promotes to SpatialPointsDataFrame\n",
    "coordinates(meuse) = c(\"x\", \"y\") \n",
    "\n",
    "# data frame\n",
    "data(meuse.grid) \n",
    "class(meuse.grid)\n",
    "#gridded(meuse.grid) = TRUE\n",
    "\n",
    "# promotes to SpatialPointsDataFrame and then to SpatialPixelsDataFrame\n",
    "coordinates(meuse.grid) = c(\"x\", \"y\") \n",
    "# kriggging\n",
    "log_zinc <- krige(log(zinc)~1,meuse,meuse.grid)[\"var1.pred\"]"
   ]
  },
  {
   "cell_type": "code",
   "execution_count": 15,
   "metadata": {},
   "outputs": [
    {
     "data": {
      "text/plain": [
       "Object of class SpatialPointsDataFrame\n",
       "Coordinates:\n",
       "     min    max\n",
       "x 178460 181540\n",
       "y 329620 333740\n",
       "Is projected: NA \n",
       "proj4string : [NA]\n",
       "Number of points: 3103\n",
       "Data attributes:\n",
       "     part.a           part.b            dist        soil     ffreq   \n",
       " Min.   :0.0000   Min.   :0.0000   Min.   :0.0000   1:1665   1: 779  \n",
       " 1st Qu.:0.0000   1st Qu.:0.0000   1st Qu.:0.1193   2:1084   2:1335  \n",
       " Median :0.0000   Median :1.0000   Median :0.2715   3: 354   3: 989  \n",
       " Mean   :0.3986   Mean   :0.6014   Mean   :0.2971                    \n",
       " 3rd Qu.:1.0000   3rd Qu.:1.0000   3rd Qu.:0.4402                    \n",
       " Max.   :1.0000   Max.   :1.0000   Max.   :0.9926                    "
      ]
     },
     "metadata": {},
     "output_type": "display_data"
    }
   ],
   "source": [
    "summary(meuse.grid)"
   ]
  },
  {
   "cell_type": "code",
   "execution_count": 16,
   "metadata": {},
   "outputs": [
    {
     "data": {
      "text/plain": [
       "Object of class SpatialPointsDataFrame\n",
       "Coordinates:\n",
       "     min    max\n",
       "x 178460 181540\n",
       "y 329620 333740\n",
       "Is projected: NA \n",
       "proj4string : [NA]\n",
       "Number of points: 3103\n",
       "Data attributes:\n",
       "   var1.pred    \n",
       " Min.   :4.791  \n",
       " 1st Qu.:5.484  \n",
       " Median :5.694  \n",
       " Mean   :5.777  \n",
       " 3rd Qu.:6.041  \n",
       " Max.   :7.482  "
      ]
     },
     "metadata": {},
     "output_type": "display_data"
    }
   ],
   "source": [
    "proj4string(log_zinc) <- CRS(proj4string(meuse))\n",
    "summary(log_zinc)\n",
    "\n",
    "gridded(log_zinc) = TRUE\n"
   ]
  },
  {
   "cell_type": "code",
   "execution_count": 17,
   "metadata": {},
   "outputs": [
    {
     "name": "stderr",
     "output_type": "stream",
     "text": [
      "Warning message in GDALinfo(\"log_zinc.tif\"):\n",
      "“statistics not supported by this driver”\n"
     ]
    },
    {
     "data": {
      "text/plain": [
       "rows        104 \n",
       "columns     78 \n",
       "bands       1 \n",
       "lower left origin.x        178440 \n",
       "lower left origin.y        329600 \n",
       "res.x       40 \n",
       "res.y       40 \n",
       "ysign       -1 \n",
       "oblique.x   0 \n",
       "oblique.y   0 \n",
       "driver      GTiff \n",
       "projection  NA \n",
       "file        log_zinc.tif \n",
       "apparent band summary:\n",
       "   GDType hasNoDataValue NoDataValue blockSize1 blockSize2\n",
       "1 Float32          FALSE           0         26         78\n",
       "apparent band statistics:\n",
       "         Bmin       Bmax Bmean Bsd\n",
       "1 -4294967295 4294967295    NA  NA"
      ]
     },
     "metadata": {},
     "output_type": "display_data"
    }
   ],
   "source": [
    "writeGDAL(log_zinc, fname = \"log_zinc.tif\", driver = \"GTiff\", type = \"Float32\", options = \"INTERLEAVE=PIXEL\")\n",
    "GDALinfo(\"log_zinc.tif\")"
   ]
  },
  {
   "cell_type": "markdown",
   "metadata": {},
   "source": [
    "## Overlay"
   ]
  },
  {
   "cell_type": "code",
   "execution_count": 57,
   "metadata": {},
   "outputs": [
    {
     "data": {
      "text/html": [
       "'SpatialPixels'"
      ],
      "text/latex": [
       "'SpatialPixels'"
      ],
      "text/markdown": [
       "'SpatialPixels'"
      ],
      "text/plain": [
       "[1] \"SpatialPixels\"\n",
       "attr(,\"package\")\n",
       "[1] \"sp\""
      ]
     },
     "metadata": {},
     "output_type": "display_data"
    },
    {
     "data": {
      "text/html": [
       "'SpatialPoints'"
      ],
      "text/latex": [
       "'SpatialPoints'"
      ],
      "text/markdown": [
       "'SpatialPoints'"
      ],
      "text/plain": [
       "[1] \"SpatialPoints\"\n",
       "attr(,\"package\")\n",
       "[1] \"sp\""
      ]
     },
     "metadata": {},
     "output_type": "display_data"
    }
   ],
   "source": [
    "library(sf)\n",
    "library(raster)\n",
    "\n",
    "\n",
    "gridded(auck_el1) <- TRUE\n",
    "class(auck_el1)\n",
    "auck_el1 <- SpatialPoints(auck_el1, proj4string=CRS(\"+proj=longlat +ellps=WGS84\"))\n",
    "class(auck_el1)\n",
    "\n",
    "transect_el1 <- over(auck_el1, transect_sp)"
   ]
  },
  {
   "cell_type": "code",
   "execution_count": null,
   "metadata": {},
   "outputs": [],
   "source": []
  },
  {
   "cell_type": "code",
   "execution_count": 105,
   "metadata": {},
   "outputs": [
    {
     "ename": "ERROR",
     "evalue": "Error in `[.data.frame`(x@data, , i, drop = FALSE): undefined columns selected\n",
     "output_type": "error",
     "traceback": [
      "Error in `[.data.frame`(x@data, , i, drop = FALSE): undefined columns selected\nTraceback:\n",
      "1. image(auck_el1, \"band1\", col = grys)",
      "2. image(auck_el1, \"band1\", col = grys)",
      "3. image.SpatialPixels(auck_el1, \"band1\", col = grys)",
      "4. image(x, ...)",
      "5. image.SpatialPixelsDataFrame(x, ...)",
      "6. image(as(x, \"SpatialGridDataFrame\"), ...)",
      "7. image.SpatialGridDataFrame(as(x, \"SpatialGridDataFrame\"), ...)",
      "8. scl(t(matrix(x[attr][[1]], x@grid@cells.dim[1], x@grid@cells.dim[2])), \n .     zlim)",
      "9. matrix(as.numeric(xx), nrow(xx), ncol(xx))",
      "10. t(matrix(x[attr][[1]], x@grid@cells.dim[1], x@grid@cells.dim[2]))",
      "11. matrix(x[attr][[1]], x@grid@cells.dim[1], x@grid@cells.dim[2])",
      "12. x[attr]",
      "13. x[attr]",
      "14. x@data[, i, drop = FALSE]",
      "15. `[.data.frame`(x@data, , i, drop = FALSE)",
      "16. stop(\"undefined columns selected\")"
     ]
    },
    {
     "data": {
      "image/png": "[encoded data removed]",
      "text/plain": [
       "plot without title"
      ]
     },
     "metadata": {
      "image/png": {
       "height": 420,
       "width": 420
      }
     },
     "output_type": "display_data"
    }
   ],
   "source": [
    "oopar <- par(mar=c(1,1,1,1)+0.1)\n",
    "grys <- grey.colors(8, 0.55, 0.95, 2.2)\n",
    "\n",
    "auck_el1 <- as(auck_el1, \"SpatialPixels\")\n",
    "image(auck_el1, \"band1\", col=grys)\n",
    "plot(auck_gshhs, add=TRUE, pbg=\"white\")\n",
    "\n",
    "\n",
    "transect_sp <- SpatialPoints(coords=cbind(seq(174.458,175.3,0.000833333), c(-37.03625)), proj4string=CRS(\"+proj=longlat +ellps=WGS84\"))\n",
    "plot(transect_sp, add=TRUE, pch=\"-\", cex=2)\n",
    "#legend_image(c(174.2,174.25), c(-37.5,-37.2), auck_el1$band1, vertical=TRUE, offset.leg=0.8, col=grys)\n",
    "par(oopar)"
   ]
  },
  {
   "cell_type": "code",
   "execution_count": 112,
   "metadata": {},
   "outputs": [
    {
     "ename": "ERROR",
     "evalue": "Error in as(auck_el1, \"SpatialPixels\"): no method or default for coercing “logical” to “SpatialPixels”\n",
     "output_type": "error",
     "traceback": [
      "Error in as(auck_el1, \"SpatialPixels\"): no method or default for coercing “logical” to “SpatialPixels”\nTraceback:\n",
      "1. as(auck_el1, \"SpatialPixels\")",
      "2. stop(gettextf(\"no method or default for coercing %s to %s\", dQuote(thisClass), \n .     dQuote(Class)), domain = NA)"
     ]
    }
   ],
   "source": [
    "load(\"auck_gshhs.RData\")\n",
    "grys <- grey.colors(8, 0.55, 0.95, 2.2)\n",
    "\n",
    "\n",
    "auck_el1 <- as(auck_el1, \"SpatialPixels\")\n",
    "image(auck_el1,col=grys)\n",
    "auck_gshhs <- SpatialPoints(auck_gshhs, proj4string=CRS(\"+proj=longlat +ellps=WGS84\"))\n",
    "\n",
    "plot(auck_gshhs, add=TRUE)\n",
    "transect_sp <- SpatialPoints(coords=cbind(seq(174.458,175.3,0.000833333),                                           c(-37.03625)), proj4string=CRS(\"+proj=longlat +ellps=WGS84\"))\n",
    "plot(transect_sp, add=TRUE, pch=\"-\", cex=2)"
   ]
  },
  {
   "cell_type": "markdown",
   "metadata": {},
   "source": [
    "## Spatial Sampling\n",
    "\n",
    "\n",
    "   Research setting like the one described might be to sample points from the total study area, to be able to examine whether the  observed phenomena seem to be associated with particular ranges of values of the supposed environmental 'drivers'.\n",
    "\n",
    "   Schemes for spatial sampling have been given in the literature, for example Ripley (1981 pp 19-27), and they are available in **sp** using generic method **spsample**. Five sampling schemes are available:\n",
    "   \n",
    "   * *random*: places points at random within the sampling area\n",
    "   * *regular*: a grid offset can be set\n",
    "   * *stratified*: samples one point at random in each cell\n",
    "   * *nonaligned*: systematic masked scheme using combinations of random x and y to yield a single coordinate in each cell.\n",
    "   \n",
    "   "
   ]
  },
  {
   "cell_type": "code",
   "execution_count": 141,
   "metadata": {},
   "outputs": [
    {
     "data": {
      "text/html": [
       "'SpatialPoints'"
      ],
      "text/latex": [
       "'SpatialPoints'"
      ],
      "text/markdown": [
       "'SpatialPoints'"
      ],
      "text/plain": [
       "[1] \"SpatialPoints\"\n",
       "attr(,\"package\")\n",
       "[1] \"sp\""
      ]
     },
     "metadata": {},
     "output_type": "display_data"
    },
    {
     "name": "stdout",
     "output_type": "stream",
     "text": [
      "./70042108.tif has GDAL driver GTiff \n",
      "and has 1200 rows and 1320 columns\n"
     ]
    },
    {
     "data": {
      "image/png": "[encoded data removed]",
      "text/plain": [
       "plot without title"
      ]
     },
     "metadata": {
      "image/png": {
       "height": 420,
       "width": 420
      }
     },
     "output_type": "display_data"
    }
   ],
   "source": [
    "library(raster)\n",
    "set.seed(9876)\n",
    "load(\"auck_gshhs.RData\")\n",
    "plot(auck_gshhs, col = \"grey\")\n",
    "\n",
    "\n",
    "load(\"auck_el1.RData\")\n",
    "\n",
    "## Preparing the files\n",
    "#class(auck_gshhs)\n",
    "#auck_gshhs <- SpatialPoints(auck_gshhs, proj4string=CRS(\"+proj=longlat +ellps=WGS84\"))\n",
    "#class(auck_el1)\n",
    "#auck_el1 <- SpatialPoints(auck_el1, proj4string=CRS(\"+proj=longlat +ellps=WGS84\"))\n",
    "\n",
    "\n",
    "\n",
    "polygon_random <- spsample(auck_gshhs, 1000, type = \"random\")\n",
    "plot(polygon_random, add= TRUE, col = \"black\", pch = 20)\n",
    "class(polygon_random)\n",
    "#polygon_random_el1 <- over(auck_el1, polygon_random)\n",
    "\n",
    "\n",
    "\n",
    "\n",
    "auck_el1 <- readGDAL(\"./70042108.tif\")\n",
    "auck_el2 <- as(auck_el1, \"SpatialPixelsDataFrame\")\n",
    "grid_random <- spsample(auck_el2, 1000, type = \"random\")\n",
    "grid_random_el1 <- over(auck_el1, grid_random)\n",
    "#plot(grid_random)\n",
    "\n",
    "\n",
    "\n",
    "\n",
    "#grid_regular <- spsample(auck_el2, 1000, type = \"regular\")\n",
    "#grid_regular_el1 <- over(auck_el1, grid_regular)\n",
    "\n",
    "#plot(polygon_random, col = \"grey\")\n",
    "#class(polygon_random )"
   ]
  }
 ],
 "metadata": {
  "kernelspec": {
   "display_name": "R 3.3",
   "language": "R",
   "name": "ir33"
  },
  "language_info": {
   "codemirror_mode": "r",
   "file_extension": ".r",
   "mimetype": "text/x-r-source",
   "name": "R",
   "pygments_lexer": "r",
   "version": "4.0.2"
  }
 },
 "nbformat": 4,
 "nbformat_minor": 4
}
