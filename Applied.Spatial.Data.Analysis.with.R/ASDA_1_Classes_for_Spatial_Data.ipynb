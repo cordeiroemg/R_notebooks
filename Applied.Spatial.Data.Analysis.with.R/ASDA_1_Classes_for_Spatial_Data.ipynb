{
 "cells": [
  {
   "cell_type": "markdown",
   "metadata": {},
   "source": [
    "# Applied Spatial Data Analysis\n",
    "\n",
    "   #### Basic Workflow\n",
    "   * Getting spatial data\n",
    "   * data preparation\n",
    "   *  explortion\n",
    "   *  visualization\n",
    "\n",
    "ASDA is concerned with questions not directly answered by looking at the data themselves. Possible question may arise:\n",
    "\n",
    "   * Are the incidence of a paticular disease clustered? Is there any underlaying factors such as age, poverty, or pollution?\n",
    "   * Given the number of observed samples, which part of the study area is polluted?\n",
    "   * Given the scattered air quality measurements, how many people are exposed to high levels of black smoke and where do they live?\n",
    "   * Do governments tend to compare their policies with those of their neighbours, or do they behave independently?\n",
    "    \n",
    "  Spatial statistics have three main areas:\n",
    "  \n",
    "  * Point processes\n",
    "  * Geostatistics\n",
    "  * Areal data\n",
    "    \n",
    " ### Most important R packages\n",
    " \n",
    " Packages are necessary to deal with different data structures (classes) and provide methods necessary for spatial data analysis.\n",
    " \n",
    " **Classes:** specify a structure and define how spatial data are organized and stored.\n",
    " **Methods:** are instances of functions specialized for a particular data class\n",
    " \n",
    " * sp package with classes and methods for spatial data such as points, lines, polygons, and grid.\n",
    " \n",
    " * ctv package\n",
    " \n",
    " ### GIS\n",
    " \n",
    " \n",
    "Storage and analysis is traditionally done in Geographical Information Systems (GIS).\n",
    "    **GIS:** \"a tool for collecting, storing, retrieving, transforming, and displaying spatial data form the real world for a particular set of purposes\"\n",
    "    \n",
    "### Types of spatial data\n",
    "\n",
    " Spatial data have spatial referece: coordinate values and a system of reference for these coordinates. The most common is to refer to the prime meridian at Greenwich and zero latitude at the equator (The World Geodetic System, WGS84).\n",
    " \n",
    " 1. Point: a single point location, such as GPS geocode (**vector**)\n",
    "     * 2 or 3 dimensions\n",
    "     * single coordinate\n",
    "     * Present in SpatialPoints object\n",
    "     * SpatialPoints + row attibutes = SpatialPointsDataFrame\n",
    "     * Coordinate and attribute may be key for each other\n",
    "     * Spatial obejecs are rarely created from scratch. More often they are promoted.\n",
    " 2. Line: se of ordered points, connected by straight line segments (**vector**)\n",
    "     * Line object is a collection of 2D coordinates (contours)\n",
    "     * Lines object is a list of Line object\n",
    "     * SpatialLines object are made from lists of Lines\n",
    "     * SpatialLinsDataFrame extends SpatialLines and contain objects and data frames\n",
    "     * require ID field value to match data fram row names\n",
    " 3. Polygon: an area, marked by on or more encluosin`g lines, possible containing holes. (**vector**)\n",
    "     * Line object with equal first and last coordinates\n",
    "     * SpatialPolygon are made from list of Polygon objects\n",
    "     * SpatialPolygonsDataFrame expands SpatialPolygons classes\n",
    "     * require ID field value to match data fram row names\n",
    " 4. Grid: a collection of points or rectangular cells, organized in a regular lattice. (**raster**)\n",
    " \n",
    " Collected points carries implicit and explicit attributes (features of the data). \n",
    " \n",
    " Spation data answer the questions:\n",
    "     ##### where is it?\n",
    "     ##### what is where?\n",
    "     \n",
    "## Classes for Spatial Data in R\n",
    "\n",
    "\n",
    "### Packages\n",
    "\n",
    "* sp - classes and methods for spatial data\n",
    "* rgdal - Importa and exporting geospatial data formats\n",
    "* raster - To work with raster data\n",
    "* tmap - thematic map\n",
    "* ggplot2 - Data visualization\n",
    "* ggmap - maps from Google Maps, Open Street Maps\n",
    "* leaflet - Interactive maps within R\n",
    "* spatstat - Spatial point pattern analysis\n",
    "* gstat - Geostatistical modeling\n",
    "\n",
    "### Introduction\n",
    "\n",
    "Most sources of spatial data involve points, ususally two real numbers representing position in a known coordinate reference system that can be combined to form a line of segments. The lines can also be combined to for networks or polygons, regular grids.\n",
    "    Grids are regular polygon, usually a rectangle, with a given resolution-the size of the grid cells. Choices involve trade-offs between accuracy, feasibility, and cost.\n",
    "    It is unsual for spatial data to be defined in three dimentions, because of the close links between cartography and data models for spatial data. GIS-based data models do not fit time series data well either, even though some environmental monitoring data series are obserd in three dimensions and time.\n",
    "    \n",
    "## Spatial *Objects*\n",
    "\n",
    "The foundation in the *Spatial* Object are two basic classes: \n",
    "\n",
    "1. The first is a bounding box, a **matrix** of numerical coodinates with column names c('min', 'max'), and at least two rows, with the first row easting (x-axis) and the second northing (y-axis). Most often the bounding box is generated automatically from the data in subclasses of **Spatial**.\n",
    "2. The second is a **CRS** Class object defining the coordinate reference system, and my be set to 'missing', represented by NA in R.\n",
    "\n",
    "The command getClass the be used to return the complete definition of a class, including its slot names and types of their contents"
   ]
  },
  {
   "cell_type": "code",
   "execution_count": 1,
   "metadata": {},
   "outputs": [],
   "source": [
    "library(sp)"
   ]
  },
  {
   "cell_type": "code",
   "execution_count": 77,
   "metadata": {},
   "outputs": [],
   "source": [
    "setwd(\"/home/erick/spatial-data-with-r\")\n",
    "#Sys.setlocale(locale=\"C\")"
   ]
  },
  {
   "cell_type": "code",
   "execution_count": 3,
   "metadata": {},
   "outputs": [
    {
     "data": {
      "text/plain": [
       "Class \"Spatial\" [package \"sp\"]\n",
       "\n",
       "Slots:\n",
       "                              \n",
       "Name:         bbox proj4string\n",
       "Class:      matrix         CRS\n",
       "\n",
       "Known Subclasses: \n",
       "Class \"SpatialPoints\", directly\n",
       "Class \"SpatialMultiPoints\", directly\n",
       "Class \"SpatialGrid\", directly\n",
       "Class \"SpatialLines\", directly\n",
       "Class \"SpatialPolygons\", directly\n",
       "Class \"SpatialPointsDataFrame\", by class \"SpatialPoints\", distance 2\n",
       "Class \"SpatialPixels\", by class \"SpatialPoints\", distance 2\n",
       "Class \"SpatialMultiPointsDataFrame\", by class \"SpatialMultiPoints\", distance 2\n",
       "Class \"SpatialGridDataFrame\", by class \"SpatialGrid\", distance 2\n",
       "Class \"SpatialLinesDataFrame\", by class \"SpatialLines\", distance 2\n",
       "Class \"SpatialPixelsDataFrame\", by class \"SpatialPoints\", distance 3\n",
       "Class \"SpatialPolygonsDataFrame\", by class \"SpatialPolygons\", distance 2"
      ]
     },
     "metadata": {},
     "output_type": "display_data"
    }
   ],
   "source": [
    "getClass(\"Spatial\")"
   ]
  },
  {
   "cell_type": "code",
   "execution_count": 4,
   "metadata": {},
   "outputs": [
    {
     "data": {
      "text/plain": [
       "Class \"CRS\" [package \"sp\"]\n",
       "\n",
       "Slots:\n",
       "                \n",
       "Name:   projargs\n",
       "Class: character"
      ]
     },
     "metadata": {},
     "output_type": "display_data"
    }
   ],
   "source": [
    "getClass(\"CRS\")"
   ]
  },
  {
   "cell_type": "markdown",
   "metadata": {},
   "source": [
    "\"CRS\" has a charater string as its only slot value, which may be a missin value. If it is not missing it should be a PROJ.4-format string describing the projection. For geographical coordinates, the simlpest such string is \"+proj=longlat\" using \"longlat\".\n",
    "\n",
    "Let's built a simples **Spatial** Object from a bounding box matrix, and a missing coodinate reference system:"
   ]
  },
  {
   "cell_type": "code",
   "execution_count": 5,
   "metadata": {},
   "outputs": [
    {
     "data": {
      "text/html": [
       "<table>\n",
       "<caption>A matrix: 2 × 2 of type dbl</caption>\n",
       "<thead>\n",
       "\t<tr><th scope=col>min</th><th scope=col>max</th></tr>\n",
       "</thead>\n",
       "<tbody>\n",
       "\t<tr><td>0</td><td>1</td></tr>\n",
       "\t<tr><td>0</td><td>1</td></tr>\n",
       "</tbody>\n",
       "</table>\n"
      ],
      "text/latex": [
       "A matrix: 2 × 2 of type dbl\n",
       "\\begin{tabular}{ll}\n",
       " min & max\\\\\n",
       "\\hline\n",
       "\t 0 & 1\\\\\n",
       "\t 0 & 1\\\\\n",
       "\\end{tabular}\n"
      ],
      "text/markdown": [
       "\n",
       "A matrix: 2 × 2 of type dbl\n",
       "\n",
       "| min | max |\n",
       "|---|---|\n",
       "| 0 | 1 |\n",
       "| 0 | 1 |\n",
       "\n"
      ],
      "text/plain": [
       "     min max\n",
       "[1,] 0   1  \n",
       "[2,] 0   1  "
      ]
     },
     "metadata": {},
     "output_type": "display_data"
    }
   ],
   "source": [
    "# Creating a matrix\n",
    "m <- matrix(c(0, 0, 1, 1), ncol = 2, \n",
    "            dimnames = list(NULL, c(\"min\", \"max\")))\n",
    "m"
   ]
  },
  {
   "cell_type": "code",
   "execution_count": 6,
   "metadata": {},
   "outputs": [
    {
     "data": {
      "text/plain": [
       "CRS arguments: NA "
      ]
     },
     "metadata": {},
     "output_type": "display_data"
    }
   ],
   "source": [
    "#creating a empty CRS \n",
    "crs <- CRS(projargs = as.character(NA))\n",
    "crs"
   ]
  },
  {
   "cell_type": "code",
   "execution_count": 7,
   "metadata": {},
   "outputs": [
    {
     "data": {
      "text/plain": [
       "An object of class \"Spatial\"\n",
       "Slot \"bbox\":\n",
       "     min max\n",
       "[1,]   0   1\n",
       "[2,]   0   1\n",
       "\n",
       "Slot \"proj4string\":\n",
       "CRS arguments: NA \n"
      ]
     },
     "metadata": {},
     "output_type": "display_data"
    }
   ],
   "source": [
    "# Creating an Object of the class \"Spatial\" with two attritutes\n",
    "S <- Spatial(bbox = m, proj4string = crs)\n",
    "S"
   ]
  },
  {
   "cell_type": "code",
   "execution_count": 8,
   "metadata": {},
   "outputs": [
    {
     "data": {
      "text/plain": [
       "An object of class \"Spatial\"\n",
       "Slot \"bbox\":\n",
       "     min max\n",
       "[1,] 350 370\n",
       "[2,]  85  95\n",
       "\n",
       "Slot \"proj4string\":\n",
       "CRS arguments: +longlat \n"
      ]
     },
     "metadata": {},
     "output_type": "display_data"
    }
   ],
   "source": [
    "Spatial(matrix(c(350, 85, 370, 95), ncol = 2, \n",
    "               dimnames = list(NULL, c(\"min\", \"max\"))),\n",
    "               proj4string = CRS(\"+longlat\"))\n"
   ]
  },
  {
   "cell_type": "markdown",
   "metadata": {},
   "source": [
    "# SpatialPoints\n",
    "\n",
    "<img src=\"./Applied_Spatial_Analysis_with_R/SpatialPointsDiagram.png\">\n",
    "\n",
    "\n",
    "\n",
    "The **SpatialPoints** class is the first subclass of **Spatial**, and a very important one. \n",
    "\n",
    "A two-dimensional point can be described by a pair of numbers (*x*,*y*), defined over a known region. the maximum possible range is the whole earth with the pair of numbers measured in degrees are a geographical coodinate showing where the point is located on the globe.\n",
    "    The pair of number define the location on the sphere exactly, but if we represent the globe more accurately by an ellipsoid model, such as the World Geodetic System 1984. That corrects our undestanding of the shape of the earth.\n",
    "    Geograpical coordinates can extend from latitude 90◦ to -90◦ in north-south direction and longitude 0◦ to 360◦ (-180◦ to 180◦) in east-west direction.\n",
    "    Using read.table function, we read in a data file with the positions of CRAN mirros across the world. we extract the two columns with the longitude and latitude values into a matrix, and use **str** to view:"
   ]
  },
  {
   "cell_type": "markdown",
   "metadata": {},
   "source": [
    "#### Input table as **dataframe**"
   ]
  },
  {
   "cell_type": "code",
   "execution_count": 40,
   "metadata": {},
   "outputs": [
    {
     "data": {
      "text/html": [
       "<table>\n",
       "<caption>A data.frame: 6 × 6</caption>\n",
       "<thead>\n",
       "\t<tr><th></th><th scope=col>place</th><th scope=col>north</th><th scope=col>east</th><th scope=col>loc</th><th scope=col>long</th><th scope=col>lat</th></tr>\n",
       "\t<tr><th></th><th scope=col>&lt;chr&gt;</th><th scope=col>&lt;chr&gt;</th><th scope=col>&lt;chr&gt;</th><th scope=col>&lt;chr&gt;</th><th scope=col>&lt;dbl&gt;</th><th scope=col>&lt;dbl&gt;</th></tr>\n",
       "</thead>\n",
       "<tbody>\n",
       "\t<tr><th scope=row>1</th><td>Brisbane      </td><td>27d28'S</td><td>153d02'E</td><td>Australia</td><td>153.03333</td><td>-27.46667</td></tr>\n",
       "\t<tr><th scope=row>2</th><td>Melbourne     </td><td>37d49'S</td><td>144d58'E</td><td>Australia</td><td>144.96667</td><td>-37.81667</td></tr>\n",
       "\t<tr><th scope=row>3</th><td>Wien          </td><td>48d13'N</td><td>16d20'E </td><td>Austria  </td><td> 16.33333</td><td> 48.21667</td></tr>\n",
       "\t<tr><th scope=row>4</th><td>Curitiba      </td><td>25d25'S</td><td>49d16'W </td><td>Brazil   </td><td>-49.26667</td><td>-25.41667</td></tr>\n",
       "\t<tr><th scope=row>5</th><td>Vi<e7>oza     </td><td>20d45'S</td><td>42d52'W </td><td>Brazil   </td><td>-42.86667</td><td>-20.75000</td></tr>\n",
       "\t<tr><th scope=row>6</th><td>Rio de Janeiro</td><td>22d54'S</td><td>43d12'W </td><td>Brazil   </td><td>-43.20000</td><td>-22.90000</td></tr>\n",
       "</tbody>\n",
       "</table>\n"
      ],
      "text/latex": [
       "A data.frame: 6 × 6\n",
       "\\begin{tabular}{r|llllll}\n",
       "  & place & north & east & loc & long & lat\\\\\n",
       "  & <chr> & <chr> & <chr> & <chr> & <dbl> & <dbl>\\\\\n",
       "\\hline\n",
       "\t1 & Brisbane       & 27d28'S & 153d02'E & Australia & 153.03333 & -27.46667\\\\\n",
       "\t2 & Melbourne      & 37d49'S & 144d58'E & Australia & 144.96667 & -37.81667\\\\\n",
       "\t3 & Wien           & 48d13'N & 16d20'E  & Austria   &  16.33333 &  48.21667\\\\\n",
       "\t4 & Curitiba       & 25d25'S & 49d16'W  & Brazil    & -49.26667 & -25.41667\\\\\n",
       "\t5 & Vi<e7>oza      & 20d45'S & 42d52'W  & Brazil    & -42.86667 & -20.75000\\\\\n",
       "\t6 & Rio de Janeiro & 22d54'S & 43d12'W  & Brazil    & -43.20000 & -22.90000\\\\\n",
       "\\end{tabular}\n"
      ],
      "text/markdown": [
       "\n",
       "A data.frame: 6 × 6\n",
       "\n",
       "| <!--/--> | place &lt;chr&gt; | north &lt;chr&gt; | east &lt;chr&gt; | loc &lt;chr&gt; | long &lt;dbl&gt; | lat &lt;dbl&gt; |\n",
       "|---|---|---|---|---|---|---|\n",
       "| 1 | Brisbane       | 27d28'S | 153d02'E | Australia | 153.03333 | -27.46667 |\n",
       "| 2 | Melbourne      | 37d49'S | 144d58'E | Australia | 144.96667 | -37.81667 |\n",
       "| 3 | Wien           | 48d13'N | 16d20'E  | Austria   |  16.33333 |  48.21667 |\n",
       "| 4 | Curitiba       | 25d25'S | 49d16'W  | Brazil    | -49.26667 | -25.41667 |\n",
       "| 5 | Vi<e7>oza      | 20d45'S | 42d52'W  | Brazil    | -42.86667 | -20.75000 |\n",
       "| 6 | Rio de Janeiro | 22d54'S | 43d12'W  | Brazil    | -43.20000 | -22.90000 |\n",
       "\n"
      ],
      "text/plain": [
       "  place          north   east     loc       long      lat      \n",
       "1 Brisbane       27d28'S 153d02'E Australia 153.03333 -27.46667\n",
       "2 Melbourne      37d49'S 144d58'E Australia 144.96667 -37.81667\n",
       "3 Wien           48d13'N 16d20'E  Austria    16.33333  48.21667\n",
       "4 Curitiba       25d25'S 49d16'W  Brazil    -49.26667 -25.41667\n",
       "5 Vi\\347oza      20d45'S 42d52'W  Brazil    -42.86667 -20.75000\n",
       "6 Rio de Janeiro 22d54'S 43d12'W  Brazil    -43.20000 -22.90000"
      ]
     },
     "metadata": {},
     "output_type": "display_data"
    }
   ],
   "source": [
    "CRAN_df <- read.table(\"CRAN051001a.txt\", header = TRUE)\n",
    "head(CRAN_df)"
   ]
  },
  {
   "cell_type": "markdown",
   "metadata": {},
   "source": [
    "#### Extract the long and lat columns to create the matrix"
   ]
  },
  {
   "cell_type": "code",
   "execution_count": 10,
   "metadata": {},
   "outputs": [
    {
     "data": {
      "text/html": [
       "<table>\n",
       "<caption>A matrix: 6 × 2 of type dbl</caption>\n",
       "<tbody>\n",
       "\t<tr><th scope=row>1</th><td>153.03333</td><td>-27.46667</td></tr>\n",
       "\t<tr><th scope=row>2</th><td>144.96667</td><td>-37.81667</td></tr>\n",
       "\t<tr><th scope=row>3</th><td> 16.33333</td><td> 48.21667</td></tr>\n",
       "\t<tr><th scope=row>4</th><td>-49.26667</td><td>-25.41667</td></tr>\n",
       "\t<tr><th scope=row>5</th><td>-42.86667</td><td>-20.75000</td></tr>\n",
       "\t<tr><th scope=row>6</th><td>-43.20000</td><td>-22.90000</td></tr>\n",
       "</tbody>\n",
       "</table>\n"
      ],
      "text/latex": [
       "A matrix: 6 × 2 of type dbl\n",
       "\\begin{tabular}{r|ll}\n",
       "\t1 & 153.03333 & -27.46667\\\\\n",
       "\t2 & 144.96667 & -37.81667\\\\\n",
       "\t3 &  16.33333 &  48.21667\\\\\n",
       "\t4 & -49.26667 & -25.41667\\\\\n",
       "\t5 & -42.86667 & -20.75000\\\\\n",
       "\t6 & -43.20000 & -22.90000\\\\\n",
       "\\end{tabular}\n"
      ],
      "text/markdown": [
       "\n",
       "A matrix: 6 × 2 of type dbl\n",
       "\n",
       "| 1 | 153.03333 | -27.46667 |\n",
       "| 2 | 144.96667 | -37.81667 |\n",
       "| 3 |  16.33333 |  48.21667 |\n",
       "| 4 | -49.26667 | -25.41667 |\n",
       "| 5 | -42.86667 | -20.75000 |\n",
       "| 6 | -43.20000 | -22.90000 |\n",
       "\n"
      ],
      "text/plain": [
       "  [,1]      [,2]     \n",
       "1 153.03333 -27.46667\n",
       "2 144.96667 -37.81667\n",
       "3  16.33333  48.21667\n",
       "4 -49.26667 -25.41667\n",
       "5 -42.86667 -20.75000\n",
       "6 -43.20000 -22.90000"
      ]
     },
     "metadata": {},
     "output_type": "display_data"
    },
    {
     "name": "stdout",
     "output_type": "stream",
     "text": [
      " num [1:54, 1:2] 153 145 16.3 -49.3 -42.9 ...\n",
      " - attr(*, \"dimnames\")=List of 2\n",
      "  ..$ : chr [1:54] \"1\" \"2\" \"3\" \"4\" ...\n",
      "  ..$ : NULL\n"
     ]
    }
   ],
   "source": [
    "CRAN_mat <- cbind(CRAN_df$long, CRAN_df$lat)\n",
    "# include row names to CRAN_mat\n",
    "row.names(CRAN_mat) <- 1:nrow(CRAN_mat)\n",
    "\n",
    "# Check the structure of CRAN_mat\n",
    "head(CRAN_mat)\n",
    "str(CRAN_mat)"
   ]
  },
  {
   "cell_type": "markdown",
   "metadata": {},
   "source": [
    "* The **SpatialPoints** class extends the **Spatial** class by adding a coords slot into which a matric of point coodinates can be inseted"
   ]
  },
  {
   "cell_type": "code",
   "execution_count": 11,
   "metadata": {},
   "outputs": [
    {
     "data": {
      "text/plain": [
       "Class \"SpatialPoints\" [package \"sp\"]\n",
       "\n",
       "Slots:\n",
       "                                          \n",
       "Name:       coords        bbox proj4string\n",
       "Class:      matrix      matrix         CRS\n",
       "\n",
       "Extends: \"Spatial\"\n",
       "\n",
       "Known Subclasses: \n",
       "Class \"SpatialPointsDataFrame\", directly\n",
       "Class \"SpatialPixels\", directly\n",
       "Class \"SpatialPixelsDataFrame\", by class \"SpatialPixels\", distance 2"
      ]
     },
     "metadata": {},
     "output_type": "display_data"
    }
   ],
   "source": [
    "getClass(\"SpatialPoints\")"
   ]
  },
  {
   "cell_type": "code",
   "execution_count": 12,
   "metadata": {},
   "outputs": [
    {
     "data": {
      "text/plain": [
       "Object of class SpatialPoints\n",
       "Coordinates:\n",
       "                 min      max\n",
       "coords.x1 -122.95000 153.0333\n",
       "coords.x2  -37.81667  57.0500\n",
       "Is projected: FALSE \n",
       "proj4string : [+proj=longlat +ellps=WGS84]\n",
       "Number of points: 54"
      ]
     },
     "metadata": {},
     "output_type": "display_data"
    }
   ],
   "source": [
    "# Establing the type of projection, in this case WGS84\n",
    "llCRS <- CRS(\"+proj=longlat +ellps=WGS84\")\n",
    "\n",
    "# Create an SpatialPoints object with CRAN_mat on llCRS coordinate reference system\n",
    "CRAN_sp <- SpatialPoints(CRAN_mat, proj4string = llCRS)\n",
    "summary(CRAN_sp)\n",
    "\n",
    "# the projection is FALSE because we are using longlat in the projection description"
   ]
  },
  {
   "cell_type": "markdown",
   "metadata": {},
   "source": [
    "## Methods\n",
    "\n",
    "Methods are available to access the values of the slots of **Spatial** Objects. \n",
    "   * bbox method returns the bounding box of the object and is used to plot the object and to handling data objects\n",
    "   * project4string method reports the projection string contained as a CRS object"
   ]
  },
  {
   "cell_type": "code",
   "execution_count": 13,
   "metadata": {},
   "outputs": [
    {
     "data": {
      "text/html": [
       "<table>\n",
       "<caption>A matrix: 2 × 2 of type dbl</caption>\n",
       "<thead>\n",
       "\t<tr><th></th><th scope=col>min</th><th scope=col>max</th></tr>\n",
       "</thead>\n",
       "<tbody>\n",
       "\t<tr><th scope=row>coords.x1</th><td>-122.95000</td><td>153.0333</td></tr>\n",
       "\t<tr><th scope=row>coords.x2</th><td> -37.81667</td><td> 57.0500</td></tr>\n",
       "</tbody>\n",
       "</table>\n"
      ],
      "text/latex": [
       "A matrix: 2 × 2 of type dbl\n",
       "\\begin{tabular}{r|ll}\n",
       "  & min & max\\\\\n",
       "\\hline\n",
       "\tcoords.x1 & -122.95000 & 153.0333\\\\\n",
       "\tcoords.x2 &  -37.81667 &  57.0500\\\\\n",
       "\\end{tabular}\n"
      ],
      "text/markdown": [
       "\n",
       "A matrix: 2 × 2 of type dbl\n",
       "\n",
       "| <!--/--> | min | max |\n",
       "|---|---|---|\n",
       "| coords.x1 | -122.95000 | 153.0333 |\n",
       "| coords.x2 |  -37.81667 |  57.0500 |\n",
       "\n"
      ],
      "text/plain": [
       "          min        max     \n",
       "coords.x1 -122.95000 153.0333\n",
       "coords.x2  -37.81667  57.0500"
      ]
     },
     "metadata": {},
     "output_type": "display_data"
    }
   ],
   "source": [
    "# bbox method\n",
    "bbox(CRAN_sp)"
   ]
  },
  {
   "cell_type": "code",
   "execution_count": 14,
   "metadata": {},
   "outputs": [
    {
     "data": {
      "text/html": [
       "'+proj=longlat +ellps=WGS84'"
      ],
      "text/latex": [
       "'+proj=longlat +ellps=WGS84'"
      ],
      "text/markdown": [
       "'+proj=longlat +ellps=WGS84'"
      ],
      "text/plain": [
       "[1] \"+proj=longlat +ellps=WGS84\""
      ]
     },
     "metadata": {},
     "output_type": "display_data"
    },
    {
     "data": {
      "text/html": [
       "NA"
      ],
      "text/latex": [
       "NA"
      ],
      "text/markdown": [
       "NA"
      ],
      "text/plain": [
       "[1] NA"
      ]
     },
     "metadata": {},
     "output_type": "display_data"
    },
    {
     "data": {
      "text/html": [
       "'+proj=longlat +ellps=WGS84'"
      ],
      "text/latex": [
       "'+proj=longlat +ellps=WGS84'"
      ],
      "text/markdown": [
       "'+proj=longlat +ellps=WGS84'"
      ],
      "text/plain": [
       "[1] \"+proj=longlat +ellps=WGS84\""
      ]
     },
     "metadata": {},
     "output_type": "display_data"
    }
   ],
   "source": [
    "# We can alter the projection to a CRS object containing a charater NA value\n",
    "proj4string(CRAN_sp)\n",
    "\n",
    "# reseting to NA\n",
    "proj4string(CRAN_sp) <- CRS(as.character(NA))\n",
    "proj4string(CRAN_sp)\n",
    "\n",
    "# restating the WGS84 projection\n",
    "proj4string(CRAN_sp) <- llCRS\n",
    "proj4string(CRAN_sp)"
   ]
  },
  {
   "cell_type": "markdown",
   "metadata": {},
   "source": [
    "   * Extracting the coodinates from a **SpatialPoints** Object as a numberic matrix is as simple as using the **coodinates** method. \n"
   ]
  },
  {
   "cell_type": "code",
   "execution_count": 15,
   "metadata": {},
   "outputs": [
    {
     "data": {
      "text/html": [
       "<style>\n",
       ".list-inline {list-style: none; margin:0; padding: 0}\n",
       ".list-inline>li {display: inline-block}\n",
       ".list-inline>li:not(:last-child)::after {content: \"\\00b7\"; padding: 0 .5ex}\n",
       "</style>\n",
       "<ol class=list-inline><li>4</li><li>5</li><li>6</li><li>7</li><li>8</li></ol>\n"
      ],
      "text/latex": [
       "\\begin{enumerate*}\n",
       "\\item 4\n",
       "\\item 5\n",
       "\\item 6\n",
       "\\item 7\n",
       "\\item 8\n",
       "\\end{enumerate*}\n"
      ],
      "text/markdown": [
       "1. 4\n",
       "2. 5\n",
       "3. 6\n",
       "4. 7\n",
       "5. 8\n",
       "\n",
       "\n"
      ],
      "text/plain": [
       "[1] 4 5 6 7 8"
      ]
     },
     "metadata": {},
     "output_type": "display_data"
    },
    {
     "data": {
      "text/html": [
       "<table>\n",
       "<caption>A matrix: 5 × 2 of type dbl</caption>\n",
       "<thead>\n",
       "\t<tr><th></th><th scope=col>coords.x1</th><th scope=col>coords.x2</th></tr>\n",
       "</thead>\n",
       "<tbody>\n",
       "\t<tr><th scope=row>4</th><td>-49.26667</td><td>-25.41667</td></tr>\n",
       "\t<tr><th scope=row>5</th><td>-42.86667</td><td>-20.75000</td></tr>\n",
       "\t<tr><th scope=row>6</th><td>-43.20000</td><td>-22.90000</td></tr>\n",
       "\t<tr><th scope=row>7</th><td>-47.63333</td><td>-22.71667</td></tr>\n",
       "\t<tr><th scope=row>8</th><td>-46.63333</td><td>-23.53333</td></tr>\n",
       "</tbody>\n",
       "</table>\n"
      ],
      "text/latex": [
       "A matrix: 5 × 2 of type dbl\n",
       "\\begin{tabular}{r|ll}\n",
       "  & coords.x1 & coords.x2\\\\\n",
       "\\hline\n",
       "\t4 & -49.26667 & -25.41667\\\\\n",
       "\t5 & -42.86667 & -20.75000\\\\\n",
       "\t6 & -43.20000 & -22.90000\\\\\n",
       "\t7 & -47.63333 & -22.71667\\\\\n",
       "\t8 & -46.63333 & -23.53333\\\\\n",
       "\\end{tabular}\n"
      ],
      "text/markdown": [
       "\n",
       "A matrix: 5 × 2 of type dbl\n",
       "\n",
       "| <!--/--> | coords.x1 | coords.x2 |\n",
       "|---|---|---|\n",
       "| 4 | -49.26667 | -25.41667 |\n",
       "| 5 | -42.86667 | -20.75000 |\n",
       "| 6 | -43.20000 | -22.90000 |\n",
       "| 7 | -47.63333 | -22.71667 |\n",
       "| 8 | -46.63333 | -23.53333 |\n",
       "\n"
      ],
      "text/plain": [
       "  coords.x1 coords.x2\n",
       "4 -49.26667 -25.41667\n",
       "5 -42.86667 -20.75000\n",
       "6 -43.20000 -22.90000\n",
       "7 -47.63333 -22.71667\n",
       "8 -46.63333 -23.53333"
      ]
     },
     "metadata": {},
     "output_type": "display_data"
    }
   ],
   "source": [
    "brazil <- which(CRAN_df$loc == \"Brazil\")\n",
    "brazil\n",
    "\n",
    "# Unsing the coordinate method\n",
    "coordinates(CRAN_sp)[brazil, ]"
   ]
  },
  {
   "cell_type": "markdown",
   "metadata": {},
   "source": [
    "**SpatialPoints** has summary and print methods.\n",
    "   * Summary provides a number of information such as spatial entities, projection information, and bounding box.\n",
    "   * Print gives a view of the data in the object\n",
    "   \n",
    "### Data frames for Spatial Point Data\n",
    "\n",
    "**SpatialPoints** Object can behave like a data.frame. Often data comes from different sources and need to be merged. \n",
    "\n",
    "The **SpatialPoints-DataFrame** class is the container for this kind of spatial point information. It can be construct in different ways such as if the row names and the match.ID argument is set to its default value of TRUE, then the matrix row name are checked agains the row names of the data frame. \n",
    "   * if in different order, data frame will be reordered\n",
    "   * if does match, no **SpatialPoints-DataFrame** Object will be created.\n",
    "    "
   ]
  },
  {
   "cell_type": "code",
   "execution_count": 16,
   "metadata": {},
   "outputs": [
    {
     "name": "stdout",
     "output_type": "stream",
     "text": [
      " chr [1:54] \"1\" \"2\" \"3\" \"4\" \"5\" \"6\" \"7\" \"8\" \"9\" \"10\" \"11\" \"12\" \"13\" \"14\" ...\n"
     ]
    }
   ],
   "source": [
    "str(row.names(CRAN_df))"
   ]
  },
  {
   "cell_type": "code",
   "execution_count": 18,
   "metadata": {},
   "outputs": [
    {
     "data": {
      "application/geo+json": {
       "features": [
        {
         "geometry": {
          "coordinates": [
           153.0333,
           -27.4667
          ],
          "type": "Point"
         },
         "properties": {
          "east": "153d02'E",
          "lat": -27.4667,
          "loc": "Australia",
          "long": 153.0333,
          "north": "27d28'S",
          "place": "Brisbane"
         },
         "type": "Feature"
        },
        {
         "geometry": {
          "coordinates": [
           144.9667,
           -37.8167
          ],
          "type": "Point"
         },
         "properties": {
          "east": "144d58'E",
          "lat": -37.8167,
          "loc": "Australia",
          "long": 144.9667,
          "north": "37d49'S",
          "place": "Melbourne"
         },
         "type": "Feature"
        },
        {
         "geometry": {
          "coordinates": [
           16.3333,
           48.2167
          ],
          "type": "Point"
         },
         "properties": {
          "east": "16d20'E",
          "lat": 48.2167,
          "loc": "Austria",
          "long": 16.3333,
          "north": "48d13'N",
          "place": "Wien"
         },
         "type": "Feature"
        },
        {
         "geometry": {
          "coordinates": [
           -49.2667,
           -25.4167
          ],
          "type": "Point"
         },
         "properties": {
          "east": "49d16'W",
          "lat": -25.4167,
          "loc": "Brazil",
          "long": -49.2667,
          "north": "25d25'S",
          "place": "Curitiba"
         },
         "type": "Feature"
        },
        {
         "geometry": {
          "coordinates": [
           -42.8667,
           -20.75
          ],
          "type": "Point"
         },
         "properties": {
          "east": "42d52'W",
          "lat": -20.75,
          "loc": "Brazil",
          "long": -42.8667,
          "north": "20d45'S",
          "place": "Vi<e7>oza"
         },
         "type": "Feature"
        },
        {
         "geometry": {
          "coordinates": [
           -43.2,
           -22.9
          ],
          "type": "Point"
         },
         "properties": {
          "east": "43d12'W",
          "lat": -22.9,
          "loc": "Brazil",
          "long": -43.2,
          "north": "22d54'S",
          "place": "Rio de Janeiro"
         },
         "type": "Feature"
        }
       ],
       "name": "file63864477acdc",
       "type": "FeatureCollection"
      },
      "text/plain": [
       "             coordinates          place   north     east       loc      long\n",
       "1  (153.0333, -27.46667)       Brisbane 27d28'S 153d02'E Australia 153.03333\n",
       "2  (144.9667, -37.81667)      Melbourne 37d49'S 144d58'E Australia 144.96667\n",
       "3   (16.33333, 48.21667)           Wien 48d13'N  16d20'E   Austria  16.33333\n",
       "4 (-49.26667, -25.41667)       Curitiba 25d25'S  49d16'W    Brazil -49.26667\n",
       "5    (-42.86667, -20.75)      Vi\\xe7oza 20d45'S  42d52'W    Brazil -42.86667\n",
       "6         (-43.2, -22.9) Rio de Janeiro 22d54'S  43d12'W    Brazil -43.20000\n",
       "        lat\n",
       "1 -27.46667\n",
       "2 -37.81667\n",
       "3  48.21667\n",
       "4 -25.41667\n",
       "5 -20.75000\n",
       "6 -22.90000"
      ]
     },
     "metadata": {},
     "output_type": "display_data"
    }
   ],
   "source": [
    "CRAN_spdf1 <- SpatialPointsDataFrame(CRAN_mat, CRAN_df,\n",
    "                                     proj4string = llCRS, \n",
    "                                     match.ID = TRUE)\n",
    "head(CRAN_spdf1)"
   ]
  },
  {
   "cell_type": "code",
   "execution_count": 19,
   "metadata": {},
   "outputs": [
    {
     "name": "stdout",
     "output_type": "stream",
     "text": [
      " chr [1:54] \"Australia\" \"Australia\" \"Austria\" \"Brazil\" \"Brazil\" \"Brazil\" ...\n",
      " chr [1:54] \"Australia\" \"Australia\" \"Austria\" \"Brazil\" \"Brazil\" \"Brazil\" ...\n"
     ]
    }
   ],
   "source": [
    "str(CRAN_spdf1$loc)\n",
    "str(CRAN_spdf1[[\"loc\"]])"
   ]
  },
  {
   "cell_type": "code",
   "execution_count": 20,
   "metadata": {},
   "outputs": [
    {
     "data": {
      "text/html": [
       "TRUE"
      ],
      "text/latex": [
       "TRUE"
      ],
      "text/markdown": [
       "TRUE"
      ],
      "text/plain": [
       "[1] TRUE"
      ]
     },
     "metadata": {},
     "output_type": "display_data"
    },
    {
     "data": {
      "application/geo+json": {
       "features": [
        {
         "geometry": {
          "coordinates": [
           -49.2667,
           -25.4167
          ],
          "type": "Point"
         },
         "properties": {
          "east": "49d16'W",
          "lat": -25.4167,
          "loc": "Brazil",
          "long": -49.2667,
          "north": "25d25'S",
          "place": "Curitiba"
         },
         "type": "Feature"
        }
       ],
       "name": "file63863b5ce07f",
       "type": "FeatureCollection"
      },
      "text/plain": [
       "             coordinates    place   north    east    loc      long       lat\n",
       "4 (-49.26667, -25.41667) Curitiba 25d25'S 49d16'W Brazil -49.26667 -25.41667"
      ]
     },
     "metadata": {},
     "output_type": "display_data"
    }
   ],
   "source": [
    "# If we want to reorder using s to match the row names of the points\n",
    "s <- sample(nrow(CRAN_df))\n",
    "CRAN_spdf2 <- SpatialPointsDataFrame(CRAN_mat, CRAN_df[s,],\n",
    "                                    proj4string = llCRS, match.ID = TRUE)\n",
    "\n",
    "all.equal(CRAN_spdf2, CRAN_spdf1)\n",
    "CRAN_spdf2[4,]"
   ]
  },
  {
   "cell_type": "markdown",
   "metadata": {},
   "source": [
    "* Now let's examine the contents of objects of the **SpatialPointsDataFrame** class. Because the extends **SpatialPoints**, it also inherits the informaiton contained in the **Spatial** class object. \n",
    "\n",
    "\n",
    "**Spatial\\*DataFrame** classes have been designed to behave as far as possible like data frames."
   ]
  },
  {
   "cell_type": "code",
   "execution_count": 21,
   "metadata": {},
   "outputs": [
    {
     "data": {
      "text/plain": [
       "Class \"SpatialPointsDataFrame\" [package \"sp\"]\n",
       "\n",
       "Slots:\n",
       "                                                                  \n",
       "Name:         data  coords.nrs      coords        bbox proj4string\n",
       "Class:  data.frame     numeric      matrix      matrix         CRS\n",
       "\n",
       "Extends: \n",
       "Class \"SpatialPoints\", directly\n",
       "Class \"Spatial\", by class \"SpatialPoints\", distance 2\n",
       "Class \"SpatialPointsNULL\", by class \"SpatialPoints\", distance 2\n",
       "\n",
       "Known Subclasses: \n",
       "Class \"SpatialPixelsDataFrame\", directly, with explicit coerce"
      ]
     },
     "metadata": {},
     "output_type": "display_data"
    }
   ],
   "source": [
    "getClass(\"SpatialPointsDataFrame\")"
   ]
  },
  {
   "cell_type": "markdown",
   "metadata": {},
   "source": [
    "* We can construct the object by giving the **SpatialPointsDataFrame** function a **SpatialPoints** object as its first argument:\n"
   ]
  },
  {
   "cell_type": "code",
   "execution_count": 22,
   "metadata": {},
   "outputs": [
    {
     "data": {
      "text/html": [
       "TRUE"
      ],
      "text/latex": [
       "TRUE"
      ],
      "text/markdown": [
       "TRUE"
      ],
      "text/plain": [
       "[1] TRUE"
      ]
     },
     "metadata": {},
     "output_type": "display_data"
    }
   ],
   "source": [
    "CRAN_spdf4 <- SpatialPointsDataFrame(CRAN_sp, CRAN_df)\n",
    "all.equal(CRAN_spdf4, CRAN_spdf2)"
   ]
  },
  {
   "cell_type": "markdown",
   "metadata": {},
   "source": [
    "* Transect and tracking data may also be represented as points, because the observation at each point contributes information that is associated with point itself."
   ]
  },
  {
   "cell_type": "code",
   "execution_count": 23,
   "metadata": {},
   "outputs": [
    {
     "data": {
      "text/plain": [
       "       id              lat             lon            obs_date        \n",
       " Min.   :  1.00   Min.   :21.57   Min.   :-179.88   Length:394        \n",
       " 1st Qu.: 99.25   1st Qu.:24.36   1st Qu.:-147.38   Class :character  \n",
       " Median :197.50   Median :25.64   Median :-119.64   Mode  :character  \n",
       " Mean   :197.50   Mean   :27.21   Mean   : -21.52                     \n",
       " 3rd Qu.:295.75   3rd Qu.:27.41   3rd Qu.: 153.66                     \n",
       " Max.   :394.00   Max.   :39.84   Max.   : 179.93                     "
      ]
     },
     "metadata": {},
     "output_type": "display_data"
    },
    {
     "data": {
      "text/html": [
       "'data.frame'"
      ],
      "text/latex": [
       "'data.frame'"
      ],
      "text/markdown": [
       "'data.frame'"
      ],
      "text/plain": [
       "[1] \"data.frame\""
      ]
     },
     "metadata": {},
     "output_type": "display_data"
    },
    {
     "data": {
      "text/html": [
       "<table>\n",
       "<caption>A data.frame: 6 × 4</caption>\n",
       "<thead>\n",
       "\t<tr><th></th><th scope=col>id</th><th scope=col>lat</th><th scope=col>lon</th><th scope=col>obs_date</th></tr>\n",
       "\t<tr><th></th><th scope=col>&lt;int&gt;</th><th scope=col>&lt;dbl&gt;</th><th scope=col>&lt;dbl&gt;</th><th scope=col>&lt;chr&gt;</th></tr>\n",
       "</thead>\n",
       "<tbody>\n",
       "\t<tr><th scope=row>1</th><td>388</td><td>37.941</td><td>140.946</td><td>08/13/1997 05:37:29</td></tr>\n",
       "\t<tr><th scope=row>2</th><td>389</td><td>37.914</td><td>140.944</td><td>08/13/1997 06:23:41</td></tr>\n",
       "\t<tr><th scope=row>3</th><td>390</td><td>37.929</td><td>140.923</td><td>08/13/1997 08:02:24</td></tr>\n",
       "\t<tr><th scope=row>4</th><td>391</td><td>37.902</td><td>140.933</td><td>08/13/1997 16:19:49</td></tr>\n",
       "\t<tr><th scope=row>5</th><td>392</td><td>37.904</td><td>140.925</td><td>08/13/1997 17:58:32</td></tr>\n",
       "\t<tr><th scope=row>6</th><td>393</td><td>37.922</td><td>140.938</td><td>08/13/1997 19:39:51</td></tr>\n",
       "</tbody>\n",
       "</table>\n"
      ],
      "text/latex": [
       "A data.frame: 6 × 4\n",
       "\\begin{tabular}{r|llll}\n",
       "  & id & lat & lon & obs\\_date\\\\\n",
       "  & <int> & <dbl> & <dbl> & <chr>\\\\\n",
       "\\hline\n",
       "\t1 & 388 & 37.941 & 140.946 & 08/13/1997 05:37:29\\\\\n",
       "\t2 & 389 & 37.914 & 140.944 & 08/13/1997 06:23:41\\\\\n",
       "\t3 & 390 & 37.929 & 140.923 & 08/13/1997 08:02:24\\\\\n",
       "\t4 & 391 & 37.902 & 140.933 & 08/13/1997 16:19:49\\\\\n",
       "\t5 & 392 & 37.904 & 140.925 & 08/13/1997 17:58:32\\\\\n",
       "\t6 & 393 & 37.922 & 140.938 & 08/13/1997 19:39:51\\\\\n",
       "\\end{tabular}\n"
      ],
      "text/markdown": [
       "\n",
       "A data.frame: 6 × 4\n",
       "\n",
       "| <!--/--> | id &lt;int&gt; | lat &lt;dbl&gt; | lon &lt;dbl&gt; | obs_date &lt;chr&gt; |\n",
       "|---|---|---|---|---|\n",
       "| 1 | 388 | 37.941 | 140.946 | 08/13/1997 05:37:29 |\n",
       "| 2 | 389 | 37.914 | 140.944 | 08/13/1997 06:23:41 |\n",
       "| 3 | 390 | 37.929 | 140.923 | 08/13/1997 08:02:24 |\n",
       "| 4 | 391 | 37.902 | 140.933 | 08/13/1997 16:19:49 |\n",
       "| 5 | 392 | 37.904 | 140.925 | 08/13/1997 17:58:32 |\n",
       "| 6 | 393 | 37.922 | 140.938 | 08/13/1997 19:39:51 |\n",
       "\n"
      ],
      "text/plain": [
       "  id  lat    lon     obs_date           \n",
       "1 388 37.941 140.946 08/13/1997 05:37:29\n",
       "2 389 37.914 140.944 08/13/1997 06:23:41\n",
       "3 390 37.929 140.923 08/13/1997 08:02:24\n",
       "4 391 37.902 140.933 08/13/1997 16:19:49\n",
       "5 392 37.904 140.925 08/13/1997 17:58:32\n",
       "6 393 37.922 140.938 08/13/1997 19:39:51"
      ]
     },
     "metadata": {},
     "output_type": "display_data"
    }
   ],
   "source": [
    "turtle_df <- read.csv(\"seamap105_mod.csv\")\n",
    "summary(turtle_df)\n",
    "class(turtle_df)\n",
    "head(turtle_df)"
   ]
  },
  {
   "cell_type": "markdown",
   "metadata": {},
   "source": [
    "* before convert it to **SpatialPointsDataFrame**, we will timestamp the observations, and re-order the input data frame "
   ]
  },
  {
   "cell_type": "code",
   "execution_count": 24,
   "metadata": {},
   "outputs": [
    {
     "data": {
      "text/html": [
       "<table>\n",
       "<caption>A data.frame: 6 × 5</caption>\n",
       "<thead>\n",
       "\t<tr><th></th><th scope=col>id</th><th scope=col>lat</th><th scope=col>lon</th><th scope=col>obs_date</th><th scope=col>timestamp</th></tr>\n",
       "\t<tr><th></th><th scope=col>&lt;int&gt;</th><th scope=col>&lt;dbl&gt;</th><th scope=col>&lt;dbl&gt;</th><th scope=col>&lt;chr&gt;</th><th scope=col>&lt;dttm&gt;</th></tr>\n",
       "</thead>\n",
       "<tbody>\n",
       "\t<tr><th scope=row>1</th><td>388</td><td>37.941</td><td>140.946</td><td>08/13/1997 05:37:29</td><td>1997-08-13 05:37:29</td></tr>\n",
       "\t<tr><th scope=row>2</th><td>389</td><td>37.914</td><td>140.944</td><td>08/13/1997 06:23:41</td><td>1997-08-13 06:23:41</td></tr>\n",
       "\t<tr><th scope=row>3</th><td>390</td><td>37.929</td><td>140.923</td><td>08/13/1997 08:02:24</td><td>1997-08-13 08:02:24</td></tr>\n",
       "\t<tr><th scope=row>4</th><td>391</td><td>37.902</td><td>140.933</td><td>08/13/1997 16:19:49</td><td>1997-08-13 16:19:49</td></tr>\n",
       "\t<tr><th scope=row>5</th><td>392</td><td>37.904</td><td>140.925</td><td>08/13/1997 17:58:32</td><td>1997-08-13 17:58:32</td></tr>\n",
       "\t<tr><th scope=row>6</th><td>393</td><td>37.922</td><td>140.938</td><td>08/13/1997 19:39:51</td><td>1997-08-13 19:39:51</td></tr>\n",
       "</tbody>\n",
       "</table>\n"
      ],
      "text/latex": [
       "A data.frame: 6 × 5\n",
       "\\begin{tabular}{r|lllll}\n",
       "  & id & lat & lon & obs\\_date & timestamp\\\\\n",
       "  & <int> & <dbl> & <dbl> & <chr> & <dttm>\\\\\n",
       "\\hline\n",
       "\t1 & 388 & 37.941 & 140.946 & 08/13/1997 05:37:29 & 1997-08-13 05:37:29\\\\\n",
       "\t2 & 389 & 37.914 & 140.944 & 08/13/1997 06:23:41 & 1997-08-13 06:23:41\\\\\n",
       "\t3 & 390 & 37.929 & 140.923 & 08/13/1997 08:02:24 & 1997-08-13 08:02:24\\\\\n",
       "\t4 & 391 & 37.902 & 140.933 & 08/13/1997 16:19:49 & 1997-08-13 16:19:49\\\\\n",
       "\t5 & 392 & 37.904 & 140.925 & 08/13/1997 17:58:32 & 1997-08-13 17:58:32\\\\\n",
       "\t6 & 393 & 37.922 & 140.938 & 08/13/1997 19:39:51 & 1997-08-13 19:39:51\\\\\n",
       "\\end{tabular}\n"
      ],
      "text/markdown": [
       "\n",
       "A data.frame: 6 × 5\n",
       "\n",
       "| <!--/--> | id &lt;int&gt; | lat &lt;dbl&gt; | lon &lt;dbl&gt; | obs_date &lt;chr&gt; | timestamp &lt;dttm&gt; |\n",
       "|---|---|---|---|---|---|\n",
       "| 1 | 388 | 37.941 | 140.946 | 08/13/1997 05:37:29 | 1997-08-13 05:37:29 |\n",
       "| 2 | 389 | 37.914 | 140.944 | 08/13/1997 06:23:41 | 1997-08-13 06:23:41 |\n",
       "| 3 | 390 | 37.929 | 140.923 | 08/13/1997 08:02:24 | 1997-08-13 08:02:24 |\n",
       "| 4 | 391 | 37.902 | 140.933 | 08/13/1997 16:19:49 | 1997-08-13 16:19:49 |\n",
       "| 5 | 392 | 37.904 | 140.925 | 08/13/1997 17:58:32 | 1997-08-13 17:58:32 |\n",
       "| 6 | 393 | 37.922 | 140.938 | 08/13/1997 19:39:51 | 1997-08-13 19:39:51 |\n",
       "\n"
      ],
      "text/plain": [
       "  id  lat    lon     obs_date            timestamp          \n",
       "1 388 37.941 140.946 08/13/1997 05:37:29 1997-08-13 05:37:29\n",
       "2 389 37.914 140.944 08/13/1997 06:23:41 1997-08-13 06:23:41\n",
       "3 390 37.929 140.923 08/13/1997 08:02:24 1997-08-13 08:02:24\n",
       "4 391 37.902 140.933 08/13/1997 16:19:49 1997-08-13 16:19:49\n",
       "5 392 37.904 140.925 08/13/1997 17:58:32 1997-08-13 17:58:32\n",
       "6 393 37.922 140.938 08/13/1997 19:39:51 1997-08-13 19:39:51"
      ]
     },
     "metadata": {},
     "output_type": "display_data"
    }
   ],
   "source": [
    "#POSIXlt class stores them as a list with elements for second, minute, hour, day, month, and year\n",
    "timestamp <- as.POSIXlt(strptime(as.character(turtle_df$obs_date),\n",
    "                                 \"%m/%d/%Y %H:%M:%S\"), \"GMT\")\n",
    "\n",
    "turtle_df1 <- data.frame(turtle_df, timestamp = timestamp)\n",
    "head(turtle_df1)\n",
    "# Longitude is ranging from -180 to +180. By adding 360, we limit the range to 180\n",
    "turtle_df1$lon <- ifelse(turtle_df1$lon < 0, turtle_df1$lon + 360, turtle_df1$lon)\n",
    "# Reorder by timesstamp\n",
    "turtle_sp <- turtle_df1[order(turtle_df1$timestamp),]\n",
    "\n",
    "# Now adding coodinates\n",
    "coordinates(turtle_sp) <- c(\"lon\", \"lat\")\n",
    "# And CRS \n",
    "proj4string(turtle_sp) <- CRS(\"+proj=longlat +ellps=WGS84\")"
   ]
  },
  {
   "cell_type": "markdown",
   "metadata": {},
   "source": [
    "# SpatialLines and SpatialPolygons\n",
    "\n",
    "\n",
    "<img src=\"./Applied_Spatial_Analysis_with_R/SpatialPolygonsClassesDiagram.png\">\n",
    "\n",
    "\n",
    "Lines have been represented in **S** in a simple form as a sequence of points. A list of **Line** objects forms the **Lines** slot of a **Lines** object. Idenfitying a character tag is also required, and will be used for constructing **SpatialLines** objects using the same approach as was used above for matching ID values for spatial points.\n",
    "\n",
    "Neither **Line** nor **Lines** objects inherit from the **Spatial** Class. It is the **SpatialLines** object that contains the bounding box and projection informaiton for the list of lines."
   ]
  },
  {
   "cell_type": "code",
   "execution_count": 25,
   "metadata": {},
   "outputs": [
    {
     "data": {
      "text/plain": [
       "Class \"Line\" [package \"sp\"]\n",
       "\n",
       "Slots:\n",
       "             \n",
       "Name:  coords\n",
       "Class: matrix\n",
       "\n",
       "Known Subclasses: \"Polygon\""
      ]
     },
     "metadata": {},
     "output_type": "display_data"
    }
   ],
   "source": [
    "getClass(\"Line\")"
   ]
  },
  {
   "cell_type": "code",
   "execution_count": 26,
   "metadata": {},
   "outputs": [
    {
     "data": {
      "text/plain": [
       "Class \"Lines\" [package \"sp\"]\n",
       "\n",
       "Slots:\n",
       "                          \n",
       "Name:      Lines        ID\n",
       "Class:      list character"
      ]
     },
     "metadata": {},
     "output_type": "display_data"
    }
   ],
   "source": [
    "getClass(\"Lines\")"
   ]
  },
  {
   "cell_type": "code",
   "execution_count": 85,
   "metadata": {},
   "outputs": [
    {
     "data": {
      "text/plain": [
       "Class \"SpatialLines\" [package \"sp\"]\n",
       "\n",
       "Slots:\n",
       "                                          \n",
       "Name:        lines        bbox proj4string\n",
       "Class:        list      matrix         CRS\n",
       "\n",
       "Extends: \"Spatial\", \"SpatialLinesNULL\"\n",
       "\n",
       "Known Subclasses: \"SpatialLinesDataFrame\""
      ]
     },
     "metadata": {},
     "output_type": "display_data"
    }
   ],
   "source": [
    "getClass(\"SpatialLines\")"
   ]
  },
  {
   "cell_type": "markdown",
   "metadata": {},
   "source": [
    "* Let's create **SpatialLines** object from lines retrieved from **maps** and converted with the **map2SpatialLines** function in **maptools**."
   ]
  },
  {
   "cell_type": "code",
   "execution_count": 28,
   "metadata": {},
   "outputs": [
    {
     "name": "stderr",
     "output_type": "stream",
     "text": [
      "Checking rgeos availability: TRUE\n",
      "\n"
     ]
    }
   ],
   "source": [
    "library(maps)\n",
    "library(maptools)"
   ]
  },
  {
   "cell_type": "code",
   "execution_count": 29,
   "metadata": {},
   "outputs": [
    {
     "name": "stdout",
     "output_type": "stream",
     "text": [
      "Formal class 'SpatialLines' [package \"sp\"] with 3 slots\n",
      "  ..@ lines      :List of 34\n",
      "  ..@ bbox       : num [1:2, 1:2] 123.7 24.3 145.8 45.5\n",
      "  .. ..- attr(*, \"dimnames\")=List of 2\n",
      "  ..@ proj4string:Formal class 'CRS' [package \"sp\"] with 1 slot\n"
     ]
    }
   ],
   "source": [
    "japan <- map(\"world\", \"japan\", plot = FALSE)\n",
    "p4s <- CRS(\"+proj=longlat +ellps=WGS84\")\n",
    "SLjapan <- map2SpatialLines(japan, proj4string = p4s)\n",
    "str(SLjapan, max.level = 2)"
   ]
  },
  {
   "cell_type": "markdown",
   "metadata": {},
   "source": [
    "## SpatialPolygonsDataFrame Objects\n",
    "\n",
    "As with other spatial data objects, **SpatialPolygonsDataFrame** objects bring together the spatial representatioins of the polygons with data. "
   ]
  },
  {
   "cell_type": "code",
   "execution_count": 30,
   "metadata": {},
   "outputs": [
    {
     "data": {
      "text/html": [
       "<style>\n",
       ".list-inline {list-style: none; margin:0; padding: 0}\n",
       ".list-inline>li {display: inline-block}\n",
       ".list-inline>li:not(:last-child)::after {content: \"\\00b7\"; padding: 0 .5ex}\n",
       "</style>\n",
       "<ol class=list-inline><li>'alabama'</li><li>'arizona'</li><li>'arkansas'</li><li>'california'</li><li>'colorado'</li><li>'connecticut'</li></ol>\n"
      ],
      "text/latex": [
       "\\begin{enumerate*}\n",
       "\\item 'alabama'\n",
       "\\item 'arizona'\n",
       "\\item 'arkansas'\n",
       "\\item 'california'\n",
       "\\item 'colorado'\n",
       "\\item 'connecticut'\n",
       "\\end{enumerate*}\n"
      ],
      "text/markdown": [
       "1. 'alabama'\n",
       "2. 'arizona'\n",
       "3. 'arkansas'\n",
       "4. 'california'\n",
       "5. 'colorado'\n",
       "6. 'connecticut'\n",
       "\n",
       "\n"
      ],
      "text/plain": [
       "[1] \"alabama\"     \"arizona\"     \"arkansas\"    \"california\"  \"colorado\"   \n",
       "[6] \"connecticut\""
      ]
     },
     "metadata": {},
     "output_type": "display_data"
    }
   ],
   "source": [
    "state.map <- map(\"state\", plot = FALSE, fill = TRUE)\n",
    "\n",
    "IDs <- sapply(strsplit(state.map$names, \":\"), function(x) x[1])\n",
    "head(IDs)\n",
    "              \n",
    "state.sp <- map2SpatialPolygons(state.map, IDs = IDs, \n",
    "                                proj4string = CRS(\"+proj=longlat +ellps=WGS84\"))\n"
   ]
  },
  {
   "cell_type": "markdown",
   "metadata": {},
   "source": [
    "## SpatialGrid and SpatialPixel Objects \n",
    "\n",
    "Grids are regular objects requiring much less information to define their structure. Once the single point of origin is known, the extent of the grid can be given by the cell resolution and the number of rows and columns present in the full grid.\n",
    "\n",
    "Often used for:\n",
    "   * remote sensing and raster GIS\n",
    "   * Digital elevation models\n",
    "   * Stellite imagery\n",
    "   * Interpolated data from point measurements"
   ]
  },
  {
   "cell_type": "code",
   "execution_count": 31,
   "metadata": {},
   "outputs": [
    {
     "data": {
      "text/plain": [
       "Class \"GridTopology\" [package \"sp\"]\n",
       "\n",
       "Slots:\n",
       "                                                            \n",
       "Name:  cellcentre.offset          cellsize         cells.dim\n",
       "Class:           numeric           numeric           integer"
      ]
     },
     "metadata": {},
     "output_type": "display_data"
    }
   ],
   "source": [
    "getClass(\"GridTopology\")"
   ]
  },
  {
   "cell_type": "markdown",
   "metadata": {},
   "source": [
    "* Let's make a **GidTopology** object from the bounding box of the Manitoulin Island vector data set. Cell size of 0.01◦ in each direction"
   ]
  },
  {
   "cell_type": "code",
   "execution_count": 32,
   "metadata": {},
   "outputs": [
    {
     "data": {
      "text/html": [
       "<table>\n",
       "<caption>A matrix: 2 × 2 of type dbl</caption>\n",
       "<thead>\n",
       "\t<tr><th></th><th scope=col>min</th><th scope=col>max</th></tr>\n",
       "</thead>\n",
       "<tbody>\n",
       "\t<tr><th scope=row>x</th><td>277.0</td><td>278.0</td></tr>\n",
       "\t<tr><th scope=row>y</th><td> 45.7</td><td> 46.2</td></tr>\n",
       "</tbody>\n",
       "</table>\n"
      ],
      "text/latex": [
       "A matrix: 2 × 2 of type dbl\n",
       "\\begin{tabular}{r|ll}\n",
       "  & min & max\\\\\n",
       "\\hline\n",
       "\tx & 277.0 & 278.0\\\\\n",
       "\ty &  45.7 &  46.2\\\\\n",
       "\\end{tabular}\n"
      ],
      "text/markdown": [
       "\n",
       "A matrix: 2 × 2 of type dbl\n",
       "\n",
       "| <!--/--> | min | max |\n",
       "|---|---|---|\n",
       "| x | 277.0 | 278.0 |\n",
       "| y |  45.7 |  46.2 |\n",
       "\n"
      ],
      "text/plain": [
       "  min   max  \n",
       "x 277.0 278.0\n",
       "y  45.7  46.2"
      ]
     },
     "metadata": {},
     "output_type": "display_data"
    }
   ],
   "source": [
    "load(\"high.RData\")\n",
    "manitoulin_sp <-high$SP\n",
    "\n",
    "bb <- bbox(manitoulin_sp)\n",
    "bb\n"
   ]
  },
  {
   "cell_type": "code",
   "execution_count": 33,
   "metadata": {},
   "outputs": [
    {
     "data": {
      "text/plain": [
       "                        x      y\n",
       "cellcentre.offset 277.005 45.705\n",
       "cellsize            0.010  0.010\n",
       "cells.dim         100.000 50.000"
      ]
     },
     "metadata": {},
     "output_type": "display_data"
    }
   ],
   "source": [
    "#Cell size of 0.01 in each direction\n",
    "cs <- c(0.01, 0.01)\n",
    "# Cell center\n",
    "cc <- bb[, 1] + (cs/2)\n",
    "\n",
    "# Cell dimension\n",
    "cd <- ceiling(diff(t(bb))/cs)\n",
    "\n",
    "\n",
    "#Creating GridTopology object\n",
    "manitoulin_grd <- GridTopology(cellcentre.offset = cc, cellsize = cs, cells.dim = cd)\n",
    "manitoulin_grd"
   ]
  },
  {
   "cell_type": "code",
   "execution_count": 34,
   "metadata": {},
   "outputs": [
    {
     "data": {
      "text/plain": [
       "Object of class SpatialGrid\n",
       "Coordinates:\n",
       "    min   max\n",
       "x 277.0 278.0\n",
       "y  45.7  46.2\n",
       "Is projected: FALSE \n",
       "proj4string : [+proj=longlat +datum=WGS84]\n",
       "Grid attributes:\n",
       "  cellcentre.offset cellsize cells.dim\n",
       "x           277.005     0.01       100\n",
       "y            45.705     0.01        50"
      ]
     },
     "metadata": {},
     "output_type": "display_data"
    }
   ],
   "source": [
    "# Passing through the coordinate reference systems and the bouding box create automatically from the summary\n",
    "p4s <- CRS(proj4string(manitoulin_sp))\n",
    "manitoulin_SG <- SpatialGrid(manitoulin_grd, proj4string = p4s)\n",
    "\n",
    "summary(manitoulin_SG)"
   ]
  },
  {
   "cell_type": "markdown",
   "metadata": {},
   "source": [
    "## SpatialGrid and SpatialPixel Objects\n",
    "\n",
    "<img src=\"/home/erick/Applied_Spatial_Analysis_with_R/SpatialGrid_and_SpatialPixel.png\">"
   ]
  },
  {
   "cell_type": "markdown",
   "metadata": {},
   "source": [
    "## Holes and Ring Direction"
   ]
  },
  {
   "cell_type": "code",
   "execution_count": 42,
   "metadata": {},
   "outputs": [
    {
     "data": {
      "text/html": [
       "1"
      ],
      "text/latex": [
       "1"
      ],
      "text/markdown": [
       "1"
      ],
      "text/plain": [
       "[1] 1"
      ]
     },
     "metadata": {},
     "output_type": "display_data"
    },
    {
     "data": {
      "text/html": [
       "<style>\n",
       ".list-inline {list-style: none; margin:0; padding: 0}\n",
       ".list-inline>li {display: inline-block}\n",
       ".list-inline>li:not(:last-child)::after {content: \"\\00b7\"; padding: 0 .5ex}\n",
       "</style>\n",
       "<ol class=list-inline><li>FALSE</li><li>TRUE</li><li>FALSE</li><li>FALSE</li><li>FALSE</li><li>FALSE</li><li>FALSE</li><li>FALSE</li><li>FALSE</li><li>FALSE</li><li>FALSE</li><li>FALSE</li><li>FALSE</li><li>FALSE</li><li>FALSE</li><li>FALSE</li><li>TRUE</li><li>TRUE</li><li>TRUE</li></ol>\n"
      ],
      "text/latex": [
       "\\begin{enumerate*}\n",
       "\\item FALSE\n",
       "\\item TRUE\n",
       "\\item FALSE\n",
       "\\item FALSE\n",
       "\\item FALSE\n",
       "\\item FALSE\n",
       "\\item FALSE\n",
       "\\item FALSE\n",
       "\\item FALSE\n",
       "\\item FALSE\n",
       "\\item FALSE\n",
       "\\item FALSE\n",
       "\\item FALSE\n",
       "\\item FALSE\n",
       "\\item FALSE\n",
       "\\item FALSE\n",
       "\\item TRUE\n",
       "\\item TRUE\n",
       "\\item TRUE\n",
       "\\end{enumerate*}\n"
      ],
      "text/markdown": [
       "1. FALSE\n",
       "2. TRUE\n",
       "3. FALSE\n",
       "4. FALSE\n",
       "5. FALSE\n",
       "6. FALSE\n",
       "7. FALSE\n",
       "8. FALSE\n",
       "9. FALSE\n",
       "10. FALSE\n",
       "11. FALSE\n",
       "12. FALSE\n",
       "13. FALSE\n",
       "14. FALSE\n",
       "15. FALSE\n",
       "16. FALSE\n",
       "17. TRUE\n",
       "18. TRUE\n",
       "19. TRUE\n",
       "\n",
       "\n"
      ],
      "text/plain": [
       " [1] FALSE  TRUE FALSE FALSE FALSE FALSE FALSE FALSE FALSE FALSE FALSE FALSE\n",
       "[13] FALSE FALSE FALSE FALSE  TRUE  TRUE  TRUE"
      ]
     },
     "metadata": {},
     "output_type": "display_data"
    },
    {
     "data": {
      "text/html": [
       "<style>\n",
       ".list-inline {list-style: none; margin:0; padding: 0}\n",
       ".list-inline>li {display: inline-block}\n",
       ".list-inline>li:not(:last-child)::after {content: \"\\00b7\"; padding: 0 .5ex}\n",
       "</style>\n",
       "<ol class=list-inline><li>1</li><li>-1</li><li>1</li><li>1</li><li>1</li><li>1</li><li>1</li><li>1</li><li>1</li><li>1</li><li>1</li><li>1</li><li>1</li><li>1</li><li>1</li><li>1</li><li>-1</li><li>-1</li><li>-1</li></ol>\n"
      ],
      "text/latex": [
       "\\begin{enumerate*}\n",
       "\\item 1\n",
       "\\item -1\n",
       "\\item 1\n",
       "\\item 1\n",
       "\\item 1\n",
       "\\item 1\n",
       "\\item 1\n",
       "\\item 1\n",
       "\\item 1\n",
       "\\item 1\n",
       "\\item 1\n",
       "\\item 1\n",
       "\\item 1\n",
       "\\item 1\n",
       "\\item 1\n",
       "\\item 1\n",
       "\\item -1\n",
       "\\item -1\n",
       "\\item -1\n",
       "\\end{enumerate*}\n"
      ],
      "text/markdown": [
       "1. 1\n",
       "2. -1\n",
       "3. 1\n",
       "4. 1\n",
       "5. 1\n",
       "6. 1\n",
       "7. 1\n",
       "8. 1\n",
       "9. 1\n",
       "10. 1\n",
       "11. 1\n",
       "12. 1\n",
       "13. 1\n",
       "14. 1\n",
       "15. 1\n",
       "16. 1\n",
       "17. -1\n",
       "18. -1\n",
       "19. -1\n",
       "\n",
       "\n"
      ],
      "text/plain": [
       " [1]  1 -1  1  1  1  1  1  1  1  1  1  1  1  1  1  1 -1 -1 -1"
      ]
     },
     "metadata": {},
     "output_type": "display_data"
    },
    {
     "data": {
      "text/html": [
       "<table>\n",
       "<caption>A matrix: 2 × 2 of type dbl</caption>\n",
       "<thead>\n",
       "\t<tr><th></th><th scope=col>min</th><th scope=col>max</th></tr>\n",
       "</thead>\n",
       "<tbody>\n",
       "\t<tr><th scope=row>x</th><td>277.0</td><td>278.0</td></tr>\n",
       "\t<tr><th scope=row>y</th><td> 45.7</td><td> 46.2</td></tr>\n",
       "</tbody>\n",
       "</table>\n"
      ],
      "text/latex": [
       "A matrix: 2 × 2 of type dbl\n",
       "\\begin{tabular}{r|ll}\n",
       "  & min & max\\\\\n",
       "\\hline\n",
       "\tx & 277.0 & 278.0\\\\\n",
       "\ty &  45.7 &  46.2\\\\\n",
       "\\end{tabular}\n"
      ],
      "text/markdown": [
       "\n",
       "A matrix: 2 × 2 of type dbl\n",
       "\n",
       "| <!--/--> | min | max |\n",
       "|---|---|---|\n",
       "| x | 277.0 | 278.0 |\n",
       "| y |  45.7 |  46.2 |\n",
       "\n"
      ],
      "text/plain": [
       "  min   max  \n",
       "x 277.0 278.0\n",
       "y  45.7  46.2"
      ]
     },
     "metadata": {},
     "output_type": "display_data"
    },
    {
     "data": {
      "text/plain": [
       "                        x      y\n",
       "cellcentre.offset 277.005 45.705\n",
       "cellsize            0.010  0.010\n",
       "cells.dim         100.000 50.000"
      ]
     },
     "metadata": {},
     "output_type": "display_data"
    },
    {
     "data": {
      "text/plain": [
       "Object of class SpatialGrid\n",
       "Coordinates:\n",
       "    min   max\n",
       "x 277.0 278.0\n",
       "y  45.7  46.2\n",
       "Is projected: FALSE \n",
       "proj4string :\n",
       "[+proj=longlat +datum=WGS84 +ellps=WGS84 +towgs84=0,0,0]\n",
       "Grid attributes:\n",
       "  cellcentre.offset cellsize cells.dim\n",
       "x           277.005     0.01       100\n",
       "y            45.705     0.01        50"
      ]
     },
     "metadata": {},
     "output_type": "display_data"
    },
    {
     "data": {
      "image/png": "[encoded data removed]",
      "text/plain": [
       "plot without title"
      ]
     },
     "metadata": {
      "image/png": {
       "height": 420,
       "width": 420
      }
     },
     "output_type": "display_data"
    }
   ],
   "source": [
    "load(\"high.RData\")\n",
    "manitoulin_sp <- high$SP\n",
    "\n",
    "oopar <- par(mar=c(1,1,1,1)+0.1)\n",
    "plot(manitoulin_sp, pbg=\"grey75\", col=\"grey95\")\n",
    "text(t(sapply(slot(slot(manitoulin_sp, \"polygons\")[[1]], \"Polygons\"),\n",
    " function(x) slot(x, \"labpt\")))[-c(1,2),], label=high$polydata$level[-c(1,2)],\n",
    " col=\"black\", font=2)\n",
    "par(oopar)\n",
    "       \n",
    "       \n",
    "       \n",
    "length(slot(manitoulin_sp, \"polygons\"))\n",
    "sapply(slot(slot(manitoulin_sp, \"polygons\")[[1]], \"Polygons\"),\n",
    " function(x) slot(x, \"hole\"))\n",
    "sapply(slot(slot(manitoulin_sp, \"polygons\")[[1]], \"Polygons\"),\n",
    " function(x) slot(x, \"ringDir\"))\n",
    "       \n",
    "       \n",
    "bb <- bbox(manitoulin_sp)\n",
    "bb\n",
    "cs <- c(0.01, 0.01)\n",
    "cc <- bb[,1]+(cs/2)\n",
    "cd <- ceiling(diff(t(bb))/cs)\n",
    "manitoulin_grd <- GridTopology(cellcentre.offset=cc, cellsize=cs, cells.dim=cd)\n",
    "manitoulin_grd\n",
    "       \n",
    "       \n",
    "p4s <- CRS(proj4string(manitoulin_sp))\n",
    "manitoulin_SG <- SpatialGrid(manitoulin_grd, proj4string=p4s)\n",
    "summary(manitoulin_SG)"
   ]
  },
  {
   "cell_type": "code",
   "execution_count": 45,
   "metadata": {},
   "outputs": [
    {
     "data": {
      "text/plain": [
       "                             x             y\n",
       "cellcentre.offset 1.742004e+02 -3.749958e+01\n",
       "cellsize          8.333333e-04  8.333333e-04\n",
       "cells.dim         1.320000e+03  1.200000e+03"
      ]
     },
     "metadata": {},
     "output_type": "display_data"
    },
    {
     "data": {
      "text/html": [],
      "text/latex": [],
      "text/markdown": [],
      "text/plain": [
       "integer(0)"
      ]
     },
     "metadata": {},
     "output_type": "display_data"
    },
    {
     "data": {
      "text/html": [
       "<table>\n",
       "<caption>A matrix: 2 × 2 of type dbl</caption>\n",
       "<thead>\n",
       "\t<tr><th scope=col>x</th><th scope=col>y</th></tr>\n",
       "</thead>\n",
       "<tbody>\n",
       "\t<tr><td>174.2004</td><td>-37.49958</td></tr>\n",
       "\t<tr><td>175.2996</td><td>-36.50042</td></tr>\n",
       "</tbody>\n",
       "</table>\n"
      ],
      "text/latex": [
       "A matrix: 2 × 2 of type dbl\n",
       "\\begin{tabular}{ll}\n",
       " x & y\\\\\n",
       "\\hline\n",
       "\t 174.2004 & -37.49958\\\\\n",
       "\t 175.2996 & -36.50042\\\\\n",
       "\\end{tabular}\n"
      ],
      "text/markdown": [
       "\n",
       "A matrix: 2 × 2 of type dbl\n",
       "\n",
       "| x | y |\n",
       "|---|---|\n",
       "| 174.2004 | -37.49958 |\n",
       "| 175.2996 | -36.50042 |\n",
       "\n"
      ],
      "text/plain": [
       "     x        y        \n",
       "[1,] 174.2004 -37.49958\n",
       "[2,] 175.2996 -36.50042"
      ]
     },
     "metadata": {},
     "output_type": "display_data"
    }
   ],
   "source": [
    "load(\"auck_el1.RData\")\n",
    "slot(auck_el1, \"grid\")\n",
    "slot(auck_el1, \"grid.index\")\n",
    "slot(auck_el1, \"coords\")"
   ]
  },
  {
   "cell_type": "code",
   "execution_count": 50,
   "metadata": {},
   "outputs": [
    {
     "data": {
      "text/html": [
       "<table>\n",
       "<caption>A matrix: 2 × 2 of type dbl</caption>\n",
       "<thead>\n",
       "\t<tr><th></th><th scope=col>min</th><th scope=col>max</th></tr>\n",
       "</thead>\n",
       "<tbody>\n",
       "\t<tr><th scope=row>x</th><td>174.2</td><td>175.3</td></tr>\n",
       "\t<tr><th scope=row>y</th><td>-37.5</td><td>-36.5</td></tr>\n",
       "</tbody>\n",
       "</table>\n"
      ],
      "text/latex": [
       "A matrix: 2 × 2 of type dbl\n",
       "\\begin{tabular}{r|ll}\n",
       "  & min & max\\\\\n",
       "\\hline\n",
       "\tx & 174.2 & 175.3\\\\\n",
       "\ty & -37.5 & -36.5\\\\\n",
       "\\end{tabular}\n"
      ],
      "text/markdown": [
       "\n",
       "A matrix: 2 × 2 of type dbl\n",
       "\n",
       "| <!--/--> | min | max |\n",
       "|---|---|---|\n",
       "| x | 174.2 | 175.3 |\n",
       "| y | -37.5 | -36.5 |\n",
       "\n"
      ],
      "text/plain": [
       "  min   max  \n",
       "x 174.2 175.3\n",
       "y -37.5 -36.5"
      ]
     },
     "metadata": {},
     "output_type": "display_data"
    },
    {
     "data": {
      "text/plain": [
       "12677520 bytes"
      ]
     },
     "metadata": {},
     "output_type": "display_data"
    },
    {
     "data": {
      "text/plain": [
       "12672728 bytes"
      ]
     },
     "metadata": {},
     "output_type": "display_data"
    },
    {
     "data": {
      "text/plain": [
       "   Min. 1st Qu.  Median    Mean 3rd Qu.    Max.    NA's \n",
       "    1.0    23.0    53.0    78.1   106.0   686.0  791938 "
      ]
     },
     "metadata": {},
     "output_type": "display_data"
    }
   ],
   "source": [
    "slot(auck_el1, \"bbox\")\n",
    "object.size(auck_el1)\n",
    "object.size(slot(auck_el1, \"data\"))\n",
    "is.na(auck_el1$band1) <- auck_el1$band1 <= 0 | auck_el1$band1 > 10000\n",
    "summary(auck_el1$band1)"
   ]
  },
  {
   "cell_type": "code",
   "execution_count": 88,
   "metadata": {},
   "outputs": [
    {
     "data": {
      "text/plain": [
       "Object of class SpatialGridDataFrame\n",
       "Coordinates:\n",
       "    min   max\n",
       "x 174.2 175.3\n",
       "y -37.5 -36.5\n",
       "Is projected: FALSE \n",
       "proj4string :\n",
       "[+proj=longlat +datum=WGS84 +no_defs +ellps=WGS84 +towgs84=0,0,0]\n",
       "Grid attributes:\n",
       "  cellcentre.offset     cellsize cells.dim\n",
       "x         174.20042 0.0008333333      1320\n",
       "y         -37.49958 0.0008333333      1200\n",
       "Data attributes:\n",
       "     band1           \n",
       " Min.   :-3.403e+38  \n",
       " 1st Qu.: 0.000e+00  \n",
       " Median : 1.000e+00  \n",
       " Mean   :-1.869e+34  \n",
       " 3rd Qu.: 5.300e+01  \n",
       " Max.   : 6.860e+02  "
      ]
     },
     "metadata": {},
     "output_type": "display_data"
    },
    {
     "data": {
      "text/html": [
       "'+proj=longlat +datum=WGS84 +no_defs +ellps=WGS84 +towgs84=0,0,0'"
      ],
      "text/latex": [
       "'+proj=longlat +datum=WGS84 +no\\_defs +ellps=WGS84 +towgs84=0,0,0'"
      ],
      "text/markdown": [
       "'+proj=longlat +datum=WGS84 +no_defs +ellps=WGS84 +towgs84=0,0,0'"
      ],
      "text/plain": [
       "[1] \"+proj=longlat +datum=WGS84 +no_defs +ellps=WGS84 +towgs84=0,0,0\""
      ]
     },
     "metadata": {},
     "output_type": "display_data"
    }
   ],
   "source": [
    "library(sf)\n",
    "library(raster)\n",
    "\n",
    "load(\"auck_el1.RData\")\n",
    "summary(auck_el1)\n",
    "projection(auck_el1)"
   ]
  },
  {
   "cell_type": "code",
   "execution_count": 90,
   "metadata": {},
   "outputs": [
    {
     "data": {
      "text/html": [
       "'SpatialPoints'"
      ],
      "text/latex": [
       "'SpatialPoints'"
      ],
      "text/markdown": [
       "'SpatialPoints'"
      ],
      "text/plain": [
       "[1] \"SpatialPoints\"\n",
       "attr(,\"package\")\n",
       "[1] \"sp\""
      ]
     },
     "metadata": {},
     "output_type": "display_data"
    },
    {
     "data": {
      "text/plain": [
       "Object of class SpatialPoints\n",
       "Coordinates:\n",
       "                min       max\n",
       "coords.x1 174.45800 175.29967\n",
       "coords.x2 -37.03625 -37.03625\n",
       "Is projected: FALSE \n",
       "proj4string :\n",
       "[+proj=longlat +datum=WGS84 +no_defs +ellps=WGS84 +towgs84=0,0,0]\n",
       "Number of points: 1011"
      ]
     },
     "metadata": {},
     "output_type": "display_data"
    },
    {
     "data": {
      "text/html": [
       "'+proj=longlat +datum=WGS84 +no_defs +ellps=WGS84 +towgs84=0,0,0'"
      ],
      "text/latex": [
       "'+proj=longlat +datum=WGS84 +no\\_defs +ellps=WGS84 +towgs84=0,0,0'"
      ],
      "text/markdown": [
       "'+proj=longlat +datum=WGS84 +no_defs +ellps=WGS84 +towgs84=0,0,0'"
      ],
      "text/plain": [
       "[1] \"+proj=longlat +datum=WGS84 +no_defs +ellps=WGS84 +towgs84=0,0,0\""
      ]
     },
     "metadata": {},
     "output_type": "display_data"
    }
   ],
   "source": [
    "transect_sp <- SpatialPoints(coords=cbind(seq(174.458,175.3,0.000833333), c(-37.03625)), proj4string=CRS(\"+proj=longlat +datum=WGS84 +no_defs +ellps=WGS84 +towgs84=0,0,0\"))\n",
    "class(transect_sp)\n",
    "summary(transect_sp)\n",
    "projection(transect_sp)"
   ]
  },
  {
   "cell_type": "code",
   "execution_count": 91,
   "metadata": {},
   "outputs": [],
   "source": [
    "transect_el1 <- over(auck_el1, transect_sp)\n",
    "#summary(transect_el1)"
   ]
  }
 ],
 "metadata": {
  "kernelspec": {
   "display_name": "R 4.0",
   "language": "R",
   "name": "ir40"
  },
  "language_info": {
   "codemirror_mode": "r",
   "file_extension": ".r",
   "mimetype": "text/x-r-source",
   "name": "R",
   "pygments_lexer": "r",
   "version": "4.0.2"
  }
 },
 "nbformat": 4,
 "nbformat_minor": 4
}
